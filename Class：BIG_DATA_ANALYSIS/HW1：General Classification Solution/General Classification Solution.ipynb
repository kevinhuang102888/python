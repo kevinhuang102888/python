{
 "cells": [
  {
   "cell_type": "code",
   "execution_count": 1,
   "id": "52ba4605",
   "metadata": {},
   "outputs": [],
   "source": [
    "import matplotlib.pyplot as plt\n",
    "import numpy as np\n",
    "import pandas as pd"
   ]
  },
  {
   "cell_type": "code",
   "execution_count": 2,
   "id": "0cedcad0",
   "metadata": {},
   "outputs": [],
   "source": [
    "#切資料/評估工具\n",
    "from sklearn.model_selection import train_test_split\n",
    "from sklearn.preprocessing import LabelEncoder\n",
    "from sklearn.metrics import roc_curve, auc\n",
    "from sklearn.model_selection import GridSearchCV\n",
    "from sklearn import metrics"
   ]
  },
  {
   "cell_type": "code",
   "execution_count": 3,
   "id": "83c29267",
   "metadata": {},
   "outputs": [],
   "source": [
    "#方法集\n",
    "from sklearn.neighbors import KNeighborsClassifier\n",
    "from sklearn.linear_model import LogisticRegression\n",
    "from sklearn.ensemble import RandomForestClassifier\n",
    "from sklearn.neural_network import MLPClassifier\n",
    "from sklearn import svm\n",
    "from xgboost.sklearn import XGBClassifier\n",
    "from catboost import CatBoostClassifier\n",
    "import lightgbm as lgb"
   ]
  },
  {
   "cell_type": "code",
   "execution_count": 111,
   "id": "dc88ac76",
   "metadata": {},
   "outputs": [],
   "source": [
    "data1=pd.read_csv(\".\\\\data\\\\income_evaluation.csv\")\n",
    "data2_train=pd.read_csv(\".\\\\data\\\\arcene_train.data\",sep=\" \",header=None)\n",
    "data2_valid=pd.read_csv(\".\\\\data\\\\arcene_valid.data\",sep=\" \",header=None)\n",
    "data2_train_label=pd.read_csv(\".\\\\data\\\\arcene_train.labels\",sep=\" \",header=None)\n",
    "data2_valid_label=pd.read_csv(\".\\\\data\\\\arcene_valid.labels\",sep=\" \",header=None)\n",
    "data2_label=data2_train_label.append(data2_valid_label)\n",
    "data2_all=data2_train.append(data2_valid).dropna(axis='columns')\n",
    "data2=pd.concat([data2_all,data2_label],axis=1)\n",
    "data2.columns=[x for x in range(0,10001)]\n",
    "data3=pd.read_csv(\".\\\\data\\\\bank_all.csv\")\n",
    "data4=pd.read_csv(\".\\\\data\\\\Telco-Customer-Churn.csv\")\n",
    "data5=pd.read_csv(\".\\\\data\\\\online_shoppers_intention.csv\")\n",
    "data6=pd.read_csv(\".\\\\data\\\\Churn_Modelling.csv\")"
   ]
  },
  {
   "cell_type": "markdown",
   "id": "1fcac11e",
   "metadata": {},
   "source": [
    "# 資料1：Income"
   ]
  },
  {
   "cell_type": "code",
   "execution_count": 143,
   "id": "8f4e53de",
   "metadata": {
    "scrolled": false
   },
   "outputs": [
    {
     "name": "stdout",
     "output_type": "stream",
     "text": [
      "<class 'pandas.core.frame.DataFrame'>\n",
      "RangeIndex: 32561 entries, 0 to 32560\n",
      "Data columns (total 15 columns):\n",
      " #   Column           Non-Null Count  Dtype\n",
      "---  ------           --------------  -----\n",
      " 0   age              32561 non-null  int64\n",
      " 1    workclass       32561 non-null  int32\n",
      " 2    fnlwgt          32561 non-null  int64\n",
      " 3    education       32561 non-null  int32\n",
      " 4    education-num   32561 non-null  int64\n",
      " 5    marital-status  32561 non-null  int32\n",
      " 6    occupation      32561 non-null  int32\n",
      " 7    relationship    32561 non-null  int32\n",
      " 8    race            32561 non-null  int32\n",
      " 9    sex             32561 non-null  int32\n",
      " 10   capital-gain    32561 non-null  int64\n",
      " 11   capital-loss    32561 non-null  int64\n",
      " 12   hours-per-week  32561 non-null  int64\n",
      " 13   native-country  32561 non-null  int32\n",
      " 14   income          32561 non-null  int32\n",
      "dtypes: int32(9), int64(6)\n",
      "memory usage: 2.6 MB\n"
     ]
    }
   ],
   "source": [
    "data1.info()"
   ]
  },
  {
   "cell_type": "code",
   "execution_count": 144,
   "id": "bbccb32b",
   "metadata": {},
   "outputs": [
    {
     "data": {
      "text/plain": [
       "Index(['age', ' workclass', ' fnlwgt', ' education', ' education-num',\n",
       "       ' marital-status', ' occupation', ' relationship', ' race', ' sex',\n",
       "       ' capital-gain', ' capital-loss', ' hours-per-week', ' native-country',\n",
       "       ' income'],\n",
       "      dtype='object')"
      ]
     },
     "execution_count": 144,
     "metadata": {},
     "output_type": "execute_result"
    }
   ],
   "source": [
    "data1.columns"
   ]
  },
  {
   "cell_type": "code",
   "execution_count": 145,
   "id": "be02cd4c",
   "metadata": {
    "scrolled": false
   },
   "outputs": [
    {
     "data": {
      "text/plain": [
       "0    24720\n",
       "1     7841\n",
       "Name:  income, dtype: int64"
      ]
     },
     "execution_count": 145,
     "metadata": {},
     "output_type": "execute_result"
    }
   ],
   "source": [
    "data1[\" income\"].value_counts()"
   ]
  },
  {
   "cell_type": "code",
   "execution_count": 146,
   "id": "2cad15a9",
   "metadata": {},
   "outputs": [
    {
     "data": {
      "image/png": "[encoded data removed]",
      "text/plain": [
       "<Figure size 432x288 with 1 Axes>"
      ]
     },
     "metadata": {},
     "output_type": "display_data"
    }
   ],
   "source": [
    "plt.pie(data1[\" income\"].value_counts(), textprops = {\"fontsize\" : 10},autopct = \"%1.1f%%\")  \n",
    "plt.legend(bbox_to_anchor=(1, 1), loc='upper left',labels =data1[\" income\"].value_counts().index) \n",
    "plt.title('Dataset1 : Income', {\"fontsize\" : 18})\n",
    "plt.text(-1.2, -1.2, \"total:32561\",{\"fontsize\" : 12 })\n",
    "plt.show()"
   ]
  },
  {
   "cell_type": "code",
   "execution_count": 147,
   "id": "57a10465",
   "metadata": {},
   "outputs": [
    {
     "data": {
      "text/html": [
       "<div>\n",
       "<style scoped>\n",
       "    .dataframe tbody tr th:only-of-type {\n",
       "        vertical-align: middle;\n",
       "    }\n",
       "\n",
       "    .dataframe tbody tr th {\n",
       "        vertical-align: top;\n",
       "    }\n",
       "\n",
       "    .dataframe thead th {\n",
       "        text-align: right;\n",
       "    }\n",
       "</style>\n",
       "<table border=\"1\" class=\"dataframe\">\n",
       "  <thead>\n",
       "    <tr style=\"text-align: right;\">\n",
       "      <th></th>\n",
       "      <th>age</th>\n",
       "      <th>workclass</th>\n",
       "      <th>fnlwgt</th>\n",
       "      <th>education</th>\n",
       "      <th>education-num</th>\n",
       "      <th>marital-status</th>\n",
       "      <th>occupation</th>\n",
       "      <th>relationship</th>\n",
       "      <th>race</th>\n",
       "      <th>sex</th>\n",
       "      <th>capital-gain</th>\n",
       "      <th>capital-loss</th>\n",
       "      <th>hours-per-week</th>\n",
       "      <th>native-country</th>\n",
       "      <th>income</th>\n",
       "    </tr>\n",
       "  </thead>\n",
       "  <tbody>\n",
       "    <tr>\n",
       "      <th>0</th>\n",
       "      <td>39</td>\n",
       "      <td>7</td>\n",
       "      <td>77516</td>\n",
       "      <td>9</td>\n",
       "      <td>13</td>\n",
       "      <td>4</td>\n",
       "      <td>1</td>\n",
       "      <td>1</td>\n",
       "      <td>4</td>\n",
       "      <td>1</td>\n",
       "      <td>2174</td>\n",
       "      <td>0</td>\n",
       "      <td>40</td>\n",
       "      <td>39</td>\n",
       "      <td>0</td>\n",
       "    </tr>\n",
       "    <tr>\n",
       "      <th>1</th>\n",
       "      <td>50</td>\n",
       "      <td>6</td>\n",
       "      <td>83311</td>\n",
       "      <td>9</td>\n",
       "      <td>13</td>\n",
       "      <td>2</td>\n",
       "      <td>4</td>\n",
       "      <td>0</td>\n",
       "      <td>4</td>\n",
       "      <td>1</td>\n",
       "      <td>0</td>\n",
       "      <td>0</td>\n",
       "      <td>13</td>\n",
       "      <td>39</td>\n",
       "      <td>0</td>\n",
       "    </tr>\n",
       "    <tr>\n",
       "      <th>2</th>\n",
       "      <td>38</td>\n",
       "      <td>4</td>\n",
       "      <td>215646</td>\n",
       "      <td>11</td>\n",
       "      <td>9</td>\n",
       "      <td>0</td>\n",
       "      <td>6</td>\n",
       "      <td>1</td>\n",
       "      <td>4</td>\n",
       "      <td>1</td>\n",
       "      <td>0</td>\n",
       "      <td>0</td>\n",
       "      <td>40</td>\n",
       "      <td>39</td>\n",
       "      <td>0</td>\n",
       "    </tr>\n",
       "    <tr>\n",
       "      <th>3</th>\n",
       "      <td>53</td>\n",
       "      <td>4</td>\n",
       "      <td>234721</td>\n",
       "      <td>1</td>\n",
       "      <td>7</td>\n",
       "      <td>2</td>\n",
       "      <td>6</td>\n",
       "      <td>0</td>\n",
       "      <td>2</td>\n",
       "      <td>1</td>\n",
       "      <td>0</td>\n",
       "      <td>0</td>\n",
       "      <td>40</td>\n",
       "      <td>39</td>\n",
       "      <td>0</td>\n",
       "    </tr>\n",
       "    <tr>\n",
       "      <th>4</th>\n",
       "      <td>28</td>\n",
       "      <td>4</td>\n",
       "      <td>338409</td>\n",
       "      <td>9</td>\n",
       "      <td>13</td>\n",
       "      <td>2</td>\n",
       "      <td>10</td>\n",
       "      <td>5</td>\n",
       "      <td>2</td>\n",
       "      <td>0</td>\n",
       "      <td>0</td>\n",
       "      <td>0</td>\n",
       "      <td>40</td>\n",
       "      <td>5</td>\n",
       "      <td>0</td>\n",
       "    </tr>\n",
       "  </tbody>\n",
       "</table>\n",
       "</div>"
      ],
      "text/plain": [
       "   age   workclass   fnlwgt   education   education-num   marital-status  \\\n",
       "0   39           7    77516           9              13                4   \n",
       "1   50           6    83311           9              13                2   \n",
       "2   38           4   215646          11               9                0   \n",
       "3   53           4   234721           1               7                2   \n",
       "4   28           4   338409           9              13                2   \n",
       "\n",
       "    occupation   relationship   race   sex   capital-gain   capital-loss  \\\n",
       "0            1              1      4     1           2174              0   \n",
       "1            4              0      4     1              0              0   \n",
       "2            6              1      4     1              0              0   \n",
       "3            6              0      2     1              0              0   \n",
       "4           10              5      2     0              0              0   \n",
       "\n",
       "    hours-per-week   native-country   income  \n",
       "0               40               39        0  \n",
       "1               13               39        0  \n",
       "2               40               39        0  \n",
       "3               40               39        0  \n",
       "4               40                5        0  "
      ]
     },
     "execution_count": 147,
     "metadata": {},
     "output_type": "execute_result"
    }
   ],
   "source": [
    "data1.head()"
   ]
  },
  {
   "cell_type": "code",
   "execution_count": 148,
   "id": "65bd1217",
   "metadata": {},
   "outputs": [],
   "source": [
    "from sklearn.preprocessing import LabelEncoder\n",
    "labelencoder = LabelEncoder()\n",
    "data1[\" workclass\"]=labelencoder.fit_transform(data1[\" workclass\"])\n",
    "data1[\" education\"]=labelencoder.fit_transform(data1[\" education\"])\n",
    "data1[\" marital-status\"]=labelencoder.fit_transform(data1[\" marital-status\"])\n",
    "data1[\" occupation\"]=labelencoder.fit_transform(data1[\" occupation\"])\n",
    "data1[\" relationship\"]=labelencoder.fit_transform(data1[\" relationship\"])\n",
    "data1[\" race\"]=labelencoder.fit_transform(data1[\" race\"])\n",
    "data1[\" sex\"]=labelencoder.fit_transform(data1[\" sex\"])\n",
    "data1[\" native-country\"]=labelencoder.fit_transform(data1[\" native-country\"])\n",
    "data1[\" income\"]=labelencoder.fit_transform(data1[\" income\"])"
   ]
  },
  {
   "cell_type": "code",
   "execution_count": 149,
   "id": "d3da839d",
   "metadata": {
    "scrolled": true
   },
   "outputs": [
    {
     "name": "stdout",
     "output_type": "stream",
     "text": [
      "<class 'pandas.core.frame.DataFrame'>\n",
      "RangeIndex: 32561 entries, 0 to 32560\n",
      "Data columns (total 15 columns):\n",
      " #   Column           Non-Null Count  Dtype\n",
      "---  ------           --------------  -----\n",
      " 0   age              32561 non-null  int64\n",
      " 1    workclass       32561 non-null  int64\n",
      " 2    fnlwgt          32561 non-null  int64\n",
      " 3    education       32561 non-null  int64\n",
      " 4    education-num   32561 non-null  int64\n",
      " 5    marital-status  32561 non-null  int64\n",
      " 6    occupation      32561 non-null  int64\n",
      " 7    relationship    32561 non-null  int64\n",
      " 8    race            32561 non-null  int64\n",
      " 9    sex             32561 non-null  int64\n",
      " 10   capital-gain    32561 non-null  int64\n",
      " 11   capital-loss    32561 non-null  int64\n",
      " 12   hours-per-week  32561 non-null  int64\n",
      " 13   native-country  32561 non-null  int64\n",
      " 14   income          32561 non-null  int64\n",
      "dtypes: int64(15)\n",
      "memory usage: 3.7 MB\n"
     ]
    }
   ],
   "source": [
    "data1.info()"
   ]
  },
  {
   "cell_type": "code",
   "execution_count": 150,
   "id": "0df8f217",
   "metadata": {},
   "outputs": [
    {
     "data": {
      "text/html": [
       "<div>\n",
       "<style scoped>\n",
       "    .dataframe tbody tr th:only-of-type {\n",
       "        vertical-align: middle;\n",
       "    }\n",
       "\n",
       "    .dataframe tbody tr th {\n",
       "        vertical-align: top;\n",
       "    }\n",
       "\n",
       "    .dataframe thead th {\n",
       "        text-align: right;\n",
       "    }\n",
       "</style>\n",
       "<table border=\"1\" class=\"dataframe\">\n",
       "  <thead>\n",
       "    <tr style=\"text-align: right;\">\n",
       "      <th></th>\n",
       "      <th>age</th>\n",
       "      <th>workclass</th>\n",
       "      <th>fnlwgt</th>\n",
       "      <th>education</th>\n",
       "      <th>education-num</th>\n",
       "      <th>marital-status</th>\n",
       "      <th>occupation</th>\n",
       "      <th>relationship</th>\n",
       "      <th>race</th>\n",
       "      <th>sex</th>\n",
       "      <th>capital-gain</th>\n",
       "      <th>capital-loss</th>\n",
       "      <th>hours-per-week</th>\n",
       "      <th>native-country</th>\n",
       "      <th>income</th>\n",
       "    </tr>\n",
       "  </thead>\n",
       "  <tbody>\n",
       "    <tr>\n",
       "      <th>0</th>\n",
       "      <td>39</td>\n",
       "      <td>7</td>\n",
       "      <td>77516</td>\n",
       "      <td>9</td>\n",
       "      <td>13</td>\n",
       "      <td>4</td>\n",
       "      <td>1</td>\n",
       "      <td>1</td>\n",
       "      <td>4</td>\n",
       "      <td>1</td>\n",
       "      <td>2174</td>\n",
       "      <td>0</td>\n",
       "      <td>40</td>\n",
       "      <td>39</td>\n",
       "      <td>0</td>\n",
       "    </tr>\n",
       "    <tr>\n",
       "      <th>1</th>\n",
       "      <td>50</td>\n",
       "      <td>6</td>\n",
       "      <td>83311</td>\n",
       "      <td>9</td>\n",
       "      <td>13</td>\n",
       "      <td>2</td>\n",
       "      <td>4</td>\n",
       "      <td>0</td>\n",
       "      <td>4</td>\n",
       "      <td>1</td>\n",
       "      <td>0</td>\n",
       "      <td>0</td>\n",
       "      <td>13</td>\n",
       "      <td>39</td>\n",
       "      <td>0</td>\n",
       "    </tr>\n",
       "    <tr>\n",
       "      <th>2</th>\n",
       "      <td>38</td>\n",
       "      <td>4</td>\n",
       "      <td>215646</td>\n",
       "      <td>11</td>\n",
       "      <td>9</td>\n",
       "      <td>0</td>\n",
       "      <td>6</td>\n",
       "      <td>1</td>\n",
       "      <td>4</td>\n",
       "      <td>1</td>\n",
       "      <td>0</td>\n",
       "      <td>0</td>\n",
       "      <td>40</td>\n",
       "      <td>39</td>\n",
       "      <td>0</td>\n",
       "    </tr>\n",
       "    <tr>\n",
       "      <th>3</th>\n",
       "      <td>53</td>\n",
       "      <td>4</td>\n",
       "      <td>234721</td>\n",
       "      <td>1</td>\n",
       "      <td>7</td>\n",
       "      <td>2</td>\n",
       "      <td>6</td>\n",
       "      <td>0</td>\n",
       "      <td>2</td>\n",
       "      <td>1</td>\n",
       "      <td>0</td>\n",
       "      <td>0</td>\n",
       "      <td>40</td>\n",
       "      <td>39</td>\n",
       "      <td>0</td>\n",
       "    </tr>\n",
       "    <tr>\n",
       "      <th>4</th>\n",
       "      <td>28</td>\n",
       "      <td>4</td>\n",
       "      <td>338409</td>\n",
       "      <td>9</td>\n",
       "      <td>13</td>\n",
       "      <td>2</td>\n",
       "      <td>10</td>\n",
       "      <td>5</td>\n",
       "      <td>2</td>\n",
       "      <td>0</td>\n",
       "      <td>0</td>\n",
       "      <td>0</td>\n",
       "      <td>40</td>\n",
       "      <td>5</td>\n",
       "      <td>0</td>\n",
       "    </tr>\n",
       "  </tbody>\n",
       "</table>\n",
       "</div>"
      ],
      "text/plain": [
       "   age   workclass   fnlwgt   education   education-num   marital-status  \\\n",
       "0   39           7    77516           9              13                4   \n",
       "1   50           6    83311           9              13                2   \n",
       "2   38           4   215646          11               9                0   \n",
       "3   53           4   234721           1               7                2   \n",
       "4   28           4   338409           9              13                2   \n",
       "\n",
       "    occupation   relationship   race   sex   capital-gain   capital-loss  \\\n",
       "0            1              1      4     1           2174              0   \n",
       "1            4              0      4     1              0              0   \n",
       "2            6              1      4     1              0              0   \n",
       "3            6              0      2     1              0              0   \n",
       "4           10              5      2     0              0              0   \n",
       "\n",
       "    hours-per-week   native-country   income  \n",
       "0               40               39        0  \n",
       "1               13               39        0  \n",
       "2               40               39        0  \n",
       "3               40               39        0  \n",
       "4               40                5        0  "
      ]
     },
     "execution_count": 150,
     "metadata": {},
     "output_type": "execute_result"
    }
   ],
   "source": [
    "data1.head()"
   ]
  },
  {
   "cell_type": "code",
   "execution_count": 185,
   "id": "ffbd246b",
   "metadata": {},
   "outputs": [
    {
     "name": "stdout",
     "output_type": "stream",
     "text": [
      "Size of training dataset: (24420, 15)\n",
      "Size of testing dataset: (8141, 15)\n"
     ]
    }
   ],
   "source": [
    "#切割資料，train:test=0.75:0.25\n",
    "train_data,test_data,train_labels,test_labels=train_test_split(data1,data1[\" income\"],test_size=0.25)\n",
    "print('Size of training dataset:', train_data.shape)\n",
    "print('Size of testing dataset:', test_data.shape)"
   ]
  },
  {
   "cell_type": "code",
   "execution_count": 186,
   "id": "6d17ba72",
   "metadata": {},
   "outputs": [
    {
     "name": "stdout",
     "output_type": "stream",
     "text": [
      "Accuracy of testing dataset:  0.7792654465053434\n"
     ]
    }
   ],
   "source": [
    "from sklearn.neighbors import KNeighborsClassifier\n",
    "# Create the model\n",
    "knn = KNeighborsClassifier(n_neighbors=5)\n",
    "\n",
    "# Learn on the train subset\n",
    "knn.fit(train_data, train_labels)\n",
    "\n",
    "# Predict on the testing subset\n",
    "predicted = knn.predict(test_data)\n",
    "\n",
    "# Calculate accuracy\n",
    "accuracy = knn.score(test_data,test_labels)\n",
    "print('Accuracy of testing dataset: ', accuracy)"
   ]
  },
  {
   "cell_type": "code",
   "execution_count": 187,
   "id": "25d34549",
   "metadata": {},
   "outputs": [],
   "source": [
    "predicted_knn=np.append (predicted,accuracy)\n",
    "predicted_knn=pd.DataFrame(predicted_knn)\n",
    "predicted_knn.to_csv('.\\\\predict data\\\\predicted_knn_1_3.csv')"
   ]
  },
  {
   "cell_type": "code",
   "execution_count": 188,
   "id": "4c209ca6",
   "metadata": {
    "scrolled": false
   },
   "outputs": [
    {
     "name": "stdout",
     "output_type": "stream",
     "text": [
      "Accuracy of testing dataset:  0.789952094337305\n"
     ]
    }
   ],
   "source": [
    "from sklearn.linear_model import LogisticRegression\n",
    "# Create the model\n",
    "lm = LogisticRegression(solver=\"lbfgs\")\n",
    "\n",
    "# Learn on the train subset\n",
    "lm.fit(train_data, train_labels)\n",
    "\n",
    "# Predict on the testing subset\n",
    "predicted =lm.predict(test_data)\n",
    "\n",
    "# Calculate accuracy\n",
    "accuracy = lm.score(test_data,test_labels)\n",
    "print('Accuracy of testing dataset: ', accuracy)"
   ]
  },
  {
   "cell_type": "code",
   "execution_count": 189,
   "id": "4edfb39b",
   "metadata": {},
   "outputs": [],
   "source": [
    "predicted_LM=np.append (predicted,accuracy)\n",
    "predicted_LM=pd.DataFrame(predicted_LM)\n",
    "predicted_LM.to_csv('.\\\\predict data\\\\predicted_LM_1_3.csv')"
   ]
  },
  {
   "cell_type": "code",
   "execution_count": 190,
   "id": "82d9a307",
   "metadata": {},
   "outputs": [
    {
     "name": "stdout",
     "output_type": "stream",
     "text": [
      "Accuracy of testing dataset:  1.0\n"
     ]
    }
   ],
   "source": [
    "from sklearn.ensemble import RandomForestClassifier\n",
    "# Create the model\n",
    "RF = RandomForestClassifier()\n",
    "\n",
    "# Learn on the train subset\n",
    "RF.fit(train_data, train_labels)\n",
    "\n",
    "# Predict on the testing subset\n",
    "predicted =RF.predict(test_data)\n",
    "\n",
    "# Calculate accuracy\n",
    "accuracy = RF.score(test_data,test_labels)\n",
    "print('Accuracy of testing dataset: ', accuracy)"
   ]
  },
  {
   "cell_type": "code",
   "execution_count": 191,
   "id": "e80ef3d5",
   "metadata": {},
   "outputs": [],
   "source": [
    "predicted_RF=np.append (predicted,accuracy)\n",
    "predicted_RF=pd.DataFrame(predicted_RF)\n",
    "predicted_RF.to_csv('.\\\\predict data\\\\predicted_RF_1_3.csv')"
   ]
  },
  {
   "cell_type": "code",
   "execution_count": 192,
   "id": "8820fa61",
   "metadata": {},
   "outputs": [
    {
     "name": "stdout",
     "output_type": "stream",
     "text": [
      "Accuracy of testing dataset:  0.7936371453138436\n"
     ]
    }
   ],
   "source": [
    "from sklearn.neural_network import MLPClassifier\n",
    "# Create the model\n",
    "MLP = MLPClassifier()\n",
    "\n",
    "# Learn the digits on the train subset\n",
    "MLP.fit(train_data, train_labels)\n",
    "\n",
    "# Predict the value of the digit on the testing subset\n",
    "predicted_MLP = MLP.predict(test_data)\n",
    "\n",
    "# Calculate accuracy\n",
    "accuracy =  MLP.score(test_data,test_labels)\n",
    "print('Accuracy of testing dataset: ', accuracy)"
   ]
  },
  {
   "cell_type": "code",
   "execution_count": 193,
   "id": "c735790e",
   "metadata": {},
   "outputs": [],
   "source": [
    "predicted_MLP=np.append (predicted,accuracy)\n",
    "predicted_MLP=pd.DataFrame(predicted_MLP)\n",
    "predicted_MLP.to_csv('.\\\\predict data\\\\predicted_MLP_1_3.csv')"
   ]
  },
  {
   "cell_type": "code",
   "execution_count": 194,
   "id": "140fec59",
   "metadata": {},
   "outputs": [
    {
     "name": "stdout",
     "output_type": "stream",
     "text": [
      "Accuracy of testing dataset:  0.7940056504114974\n"
     ]
    }
   ],
   "source": [
    "from sklearn import svm\n",
    "# Create the model\n",
    "svc = svm.SVC()\n",
    "\n",
    "# Learn the digits on the train subset\n",
    "svc.fit(train_data, train_labels)\n",
    "\n",
    "# Predict the value of the digit on the testing subset\n",
    "predicted_svc = svc.predict(test_data)\n",
    "\n",
    "# Calculate accuracy\n",
    "accuracy = svc.score(test_data,test_labels)\n",
    "print('Accuracy of testing dataset: ', accuracy)"
   ]
  },
  {
   "cell_type": "code",
   "execution_count": 195,
   "id": "4f32bacf",
   "metadata": {},
   "outputs": [],
   "source": [
    "predicted_svc=np.append (predicted,accuracy)\n",
    "predicted_svc=pd.DataFrame(predicted_svc)\n",
    "predicted_svc.to_csv('.\\\\predict data\\\\predicted_svc_1_3.csv')"
   ]
  },
  {
   "cell_type": "code",
   "execution_count": 196,
   "id": "349984cb",
   "metadata": {},
   "outputs": [
    {
     "name": "stderr",
     "output_type": "stream",
     "text": [
      "c:\\users\\kevin\\appdata\\local\\programs\\python\\python37\\lib\\site-packages\\xgboost\\sklearn.py:1146: UserWarning: The use of label encoder in XGBClassifier is deprecated and will be removed in a future release. To remove this warning, do the following: 1) Pass option use_label_encoder=False when constructing XGBClassifier object; and 2) Encode your labels (y) as integers starting with 0, i.e. 0, 1, 2, ..., [num_class - 1].\n",
      "  warnings.warn(label_encoder_deprecation_msg, UserWarning)\n"
     ]
    },
    {
     "name": "stdout",
     "output_type": "stream",
     "text": [
      "[00:36:15] WARNING: C:/Users/Administrator/workspace/xgboost-win64_release_1.4.0/src/learner.cc:1095: Starting in XGBoost 1.3.0, the default evaluation metric used with the objective 'binary:logistic' was changed from 'error' to 'logloss'. Explicitly set eval_metric if you'd like to restore the old behavior.\n",
      "Accuracy of testing dataset:  1.0\n"
     ]
    }
   ],
   "source": [
    "from xgboost import XGBClassifier\n",
    "# Create the model\n",
    "XGB = XGBClassifier()\n",
    "\n",
    "# Learn the digits on the train subset\n",
    "XGB.fit(train_data, train_labels)\n",
    "\n",
    "# Predict the value of the digit on the testing subset\n",
    "predicted_XGB = XGB.predict(test_data)\n",
    "\n",
    "# Calculate accuracy\n",
    "accuracy = XGB.score(test_data,test_labels)\n",
    "print('Accuracy of testing dataset: ', accuracy)"
   ]
  },
  {
   "cell_type": "code",
   "execution_count": 197,
   "id": "df9f419e",
   "metadata": {},
   "outputs": [],
   "source": [
    "predicted_XGB=np.append (predicted,accuracy)\n",
    "predicted_XGB=pd.DataFrame(predicted_XGB)\n",
    "predicted_XGB.to_csv('.\\\\predict data\\\\predicted_XGB_1_3.csv')"
   ]
  },
  {
   "cell_type": "code",
   "execution_count": 198,
   "id": "381e60f6",
   "metadata": {},
   "outputs": [
    {
     "name": "stdout",
     "output_type": "stream",
     "text": [
      "0:\tlearn: 0.1271623\ttotal: 3.34ms\tremaining: 30.1ms\n",
      "1:\tlearn: 0.0427476\ttotal: 6.33ms\tremaining: 25.3ms\n",
      "2:\tlearn: 0.0153458\ttotal: 9.02ms\tremaining: 21.1ms\n",
      "3:\tlearn: 0.0056773\ttotal: 11.7ms\tremaining: 17.6ms\n",
      "4:\tlearn: 0.0021587\ttotal: 14.4ms\tremaining: 14.4ms\n",
      "5:\tlearn: 0.0008761\ttotal: 17.7ms\tremaining: 11.8ms\n",
      "6:\tlearn: 0.0003980\ttotal: 20.9ms\tremaining: 8.98ms\n",
      "7:\tlearn: 0.0001942\ttotal: 24.3ms\tremaining: 6.09ms\n",
      "8:\tlearn: 0.0001125\ttotal: 27.8ms\tremaining: 3.09ms\n",
      "9:\tlearn: 0.0000758\ttotal: 31.2ms\tremaining: 0us\n",
      "Accuracy of testing dataset:  1.0\n"
     ]
    }
   ],
   "source": [
    "from catboost import CatBoostClassifier\n",
    "# Create the model\n",
    "CAT = CatBoostClassifier(iterations=10,\n",
    "              learning_rate=1,\n",
    "              depth=2,\n",
    "              loss_function='MultiClass')\n",
    "\n",
    "# Learn the digits on the train subset\n",
    "CAT.fit(train_data, train_labels)\n",
    "\n",
    "# Predict the value of the digit on the testing subset\n",
    "predicted = CAT.predict(test_data)\n",
    "\n",
    "# Calculate accuracy\n",
    "accuracy = CAT.score(test_data,test_labels)\n",
    "print('Accuracy of testing dataset: ', accuracy)"
   ]
  },
  {
   "cell_type": "code",
   "execution_count": 199,
   "id": "ce53eca5",
   "metadata": {},
   "outputs": [],
   "source": [
    "predicted_CAT=np.append (predicted,accuracy)\n",
    "predicted_CAT=pd.DataFrame(predicted_CAT)\n",
    "predicted_CAT.to_csv('.\\\\predict data\\\\predicted_CAT_1_3.csv')"
   ]
  },
  {
   "cell_type": "code",
   "execution_count": 200,
   "id": "9d838bc0",
   "metadata": {},
   "outputs": [
    {
     "name": "stdout",
     "output_type": "stream",
     "text": [
      "[LightGBM] [Warning] boosting is set=gbdt, boosting_type=gbdt will be ignored. Current value: boosting=gbdt\n",
      "[LightGBM] [Warning] feature_fraction is set=0.5, colsample_bytree=1.0 will be ignored. Current value: feature_fraction=0.5\n",
      "Accuracy of testing dataset:  1.0\n"
     ]
    }
   ],
   "source": [
    "import lightgbm as lgb\n",
    "# Create the model\n",
    "LGBM = lgb.LGBMClassifier(application='multiclass', boosting='gbdt', learning_rate=0.1, max_depth=-5, feature_fraction=0.5, random_state=42)\n",
    "\n",
    "# Learn the digits on the train subset\n",
    "LGBM.fit(train_data, train_labels)\n",
    "\n",
    "# Predict the value of the digit on the testing subset\n",
    "predicted = LGBM.predict(test_data)\n",
    "\n",
    "# Calculate accuracy\n",
    "accuracy =LGBM.score(test_data,test_labels)\n",
    "print('Accuracy of testing dataset: ', accuracy)"
   ]
  },
  {
   "cell_type": "code",
   "execution_count": 201,
   "id": "6722cb18",
   "metadata": {},
   "outputs": [],
   "source": [
    "predicted_LGBM=np.append (predicted,accuracy)\n",
    "predicted_LGBM=pd.DataFrame(predicted_LGBM)\n",
    "predicted_LGBM.to_csv('.\\\\predict data\\\\predicted_LGBM_1_4.csv')"
   ]
  },
  {
   "cell_type": "markdown",
   "id": "17c7a940",
   "metadata": {},
   "source": [
    "# 資料2：Arcene"
   ]
  },
  {
   "cell_type": "code",
   "execution_count": 22,
   "id": "83bc2349",
   "metadata": {
    "scrolled": false
   },
   "outputs": [
    {
     "data": {
      "text/html": [
       "<div>\n",
       "<style scoped>\n",
       "    .dataframe tbody tr th:only-of-type {\n",
       "        vertical-align: middle;\n",
       "    }\n",
       "\n",
       "    .dataframe tbody tr th {\n",
       "        vertical-align: top;\n",
       "    }\n",
       "\n",
       "    .dataframe thead th {\n",
       "        text-align: right;\n",
       "    }\n",
       "</style>\n",
       "<table border=\"1\" class=\"dataframe\">\n",
       "  <thead>\n",
       "    <tr style=\"text-align: right;\">\n",
       "      <th></th>\n",
       "      <th>0</th>\n",
       "      <th>1</th>\n",
       "      <th>2</th>\n",
       "      <th>3</th>\n",
       "      <th>4</th>\n",
       "      <th>5</th>\n",
       "      <th>6</th>\n",
       "      <th>7</th>\n",
       "      <th>8</th>\n",
       "      <th>9</th>\n",
       "      <th>...</th>\n",
       "      <th>9991</th>\n",
       "      <th>9992</th>\n",
       "      <th>9993</th>\n",
       "      <th>9994</th>\n",
       "      <th>9995</th>\n",
       "      <th>9996</th>\n",
       "      <th>9997</th>\n",
       "      <th>9998</th>\n",
       "      <th>9999</th>\n",
       "      <th>10000</th>\n",
       "    </tr>\n",
       "  </thead>\n",
       "  <tbody>\n",
       "    <tr>\n",
       "      <th>0</th>\n",
       "      <td>0</td>\n",
       "      <td>71</td>\n",
       "      <td>0</td>\n",
       "      <td>95</td>\n",
       "      <td>0</td>\n",
       "      <td>538</td>\n",
       "      <td>404</td>\n",
       "      <td>20</td>\n",
       "      <td>0</td>\n",
       "      <td>0</td>\n",
       "      <td>...</td>\n",
       "      <td>570</td>\n",
       "      <td>86</td>\n",
       "      <td>0</td>\n",
       "      <td>36</td>\n",
       "      <td>0</td>\n",
       "      <td>80</td>\n",
       "      <td>0</td>\n",
       "      <td>0</td>\n",
       "      <td>524</td>\n",
       "      <td>1</td>\n",
       "    </tr>\n",
       "    <tr>\n",
       "      <th>1</th>\n",
       "      <td>0</td>\n",
       "      <td>41</td>\n",
       "      <td>82</td>\n",
       "      <td>165</td>\n",
       "      <td>60</td>\n",
       "      <td>554</td>\n",
       "      <td>379</td>\n",
       "      <td>0</td>\n",
       "      <td>71</td>\n",
       "      <td>0</td>\n",
       "      <td>...</td>\n",
       "      <td>605</td>\n",
       "      <td>69</td>\n",
       "      <td>7</td>\n",
       "      <td>473</td>\n",
       "      <td>0</td>\n",
       "      <td>57</td>\n",
       "      <td>0</td>\n",
       "      <td>284</td>\n",
       "      <td>423</td>\n",
       "      <td>-1</td>\n",
       "    </tr>\n",
       "    <tr>\n",
       "      <th>2</th>\n",
       "      <td>0</td>\n",
       "      <td>0</td>\n",
       "      <td>1</td>\n",
       "      <td>40</td>\n",
       "      <td>0</td>\n",
       "      <td>451</td>\n",
       "      <td>402</td>\n",
       "      <td>0</td>\n",
       "      <td>0</td>\n",
       "      <td>0</td>\n",
       "      <td>...</td>\n",
       "      <td>593</td>\n",
       "      <td>28</td>\n",
       "      <td>0</td>\n",
       "      <td>24</td>\n",
       "      <td>0</td>\n",
       "      <td>90</td>\n",
       "      <td>0</td>\n",
       "      <td>34</td>\n",
       "      <td>508</td>\n",
       "      <td>1</td>\n",
       "    </tr>\n",
       "    <tr>\n",
       "      <th>3</th>\n",
       "      <td>0</td>\n",
       "      <td>56</td>\n",
       "      <td>44</td>\n",
       "      <td>275</td>\n",
       "      <td>14</td>\n",
       "      <td>511</td>\n",
       "      <td>470</td>\n",
       "      <td>0</td>\n",
       "      <td>0</td>\n",
       "      <td>0</td>\n",
       "      <td>...</td>\n",
       "      <td>600</td>\n",
       "      <td>0</td>\n",
       "      <td>26</td>\n",
       "      <td>86</td>\n",
       "      <td>0</td>\n",
       "      <td>102</td>\n",
       "      <td>0</td>\n",
       "      <td>0</td>\n",
       "      <td>469</td>\n",
       "      <td>1</td>\n",
       "    </tr>\n",
       "    <tr>\n",
       "      <th>4</th>\n",
       "      <td>105</td>\n",
       "      <td>0</td>\n",
       "      <td>141</td>\n",
       "      <td>348</td>\n",
       "      <td>0</td>\n",
       "      <td>268</td>\n",
       "      <td>329</td>\n",
       "      <td>0</td>\n",
       "      <td>0</td>\n",
       "      <td>1</td>\n",
       "      <td>...</td>\n",
       "      <td>0</td>\n",
       "      <td>0</td>\n",
       "      <td>0</td>\n",
       "      <td>0</td>\n",
       "      <td>190</td>\n",
       "      <td>301</td>\n",
       "      <td>0</td>\n",
       "      <td>0</td>\n",
       "      <td>354</td>\n",
       "      <td>-1</td>\n",
       "    </tr>\n",
       "  </tbody>\n",
       "</table>\n",
       "<p>5 rows × 10001 columns</p>\n",
       "</div>"
      ],
      "text/plain": [
       "   0      1      2      3      4      5      6      7      8      9      ...  \\\n",
       "0      0     71      0     95      0    538    404     20      0      0  ...   \n",
       "1      0     41     82    165     60    554    379      0     71      0  ...   \n",
       "2      0      0      1     40      0    451    402      0      0      0  ...   \n",
       "3      0     56     44    275     14    511    470      0      0      0  ...   \n",
       "4    105      0    141    348      0    268    329      0      0      1  ...   \n",
       "\n",
       "   9991   9992   9993   9994   9995   9996   9997   9998   9999   10000  \n",
       "0    570     86      0     36      0     80      0      0    524      1  \n",
       "1    605     69      7    473      0     57      0    284    423     -1  \n",
       "2    593     28      0     24      0     90      0     34    508      1  \n",
       "3    600      0     26     86      0    102      0      0    469      1  \n",
       "4      0      0      0      0    190    301      0      0    354     -1  \n",
       "\n",
       "[5 rows x 10001 columns]"
      ]
     },
     "execution_count": 22,
     "metadata": {},
     "output_type": "execute_result"
    }
   ],
   "source": [
    "data2.head()"
   ]
  },
  {
   "cell_type": "code",
   "execution_count": 23,
   "id": "a81df071",
   "metadata": {
    "scrolled": false
   },
   "outputs": [
    {
     "data": {
      "text/plain": [
       "-1    112\n",
       " 1     88\n",
       "Name: 10000, dtype: int64"
      ]
     },
     "execution_count": 23,
     "metadata": {},
     "output_type": "execute_result"
    }
   ],
   "source": [
    "data2.iloc[:,-1].value_counts()"
   ]
  },
  {
   "cell_type": "code",
   "execution_count": 24,
   "id": "2e932c0b",
   "metadata": {},
   "outputs": [
    {
     "data": {
      "image/png": "[encoded data removed]",
      "text/plain": [
       "<Figure size 432x288 with 1 Axes>"
      ]
     },
     "metadata": {},
     "output_type": "display_data"
    }
   ],
   "source": [
    "plt.pie(data2.iloc[:,-1].value_counts(), textprops = {\"fontsize\" : 10},autopct = \"%1.1f%%\")  \n",
    "plt.legend(bbox_to_anchor=(1, 1), loc='upper left',labels =data2.iloc[:,-1].value_counts().index) \n",
    "plt.title('Dataset2 : Arcene', {\"fontsize\" : 18})\n",
    "plt.text(-1.2, -1.2, \"total:100\",{\"fontsize\" : 12 })\n",
    "plt.show()"
   ]
  },
  {
   "cell_type": "code",
   "execution_count": 25,
   "id": "26bfd8d4",
   "metadata": {},
   "outputs": [],
   "source": [
    "data2.columns=[x for x in range(0,10001)]"
   ]
  },
  {
   "cell_type": "code",
   "execution_count": 26,
   "id": "3e07c438",
   "metadata": {},
   "outputs": [
    {
     "name": "stdout",
     "output_type": "stream",
     "text": [
      "Size of training dataset: (150, 10001)\n",
      "Size of testing dataset: (50, 10001)\n"
     ]
    }
   ],
   "source": [
    "#切割資料，train:test=0.75:0.25\n",
    "train_data,test_data,train_labels,test_labels=train_test_split(data2,data2.iloc[:,-1],test_size=0.25)\n",
    "print('Size of training dataset:', train_data.shape)\n",
    "print('Size of testing dataset:', test_data.shape)"
   ]
  },
  {
   "cell_type": "code",
   "execution_count": 27,
   "id": "c88b2fba",
   "metadata": {},
   "outputs": [
    {
     "name": "stdout",
     "output_type": "stream",
     "text": [
      "Accuracy of testing dataset:  0.76\n"
     ]
    }
   ],
   "source": [
    "from sklearn.neighbors import KNeighborsClassifier\n",
    "# Create the model\n",
    "knn = KNeighborsClassifier(n_neighbors=5)\n",
    "\n",
    "# Learn on the train subset\n",
    "knn.fit(train_data, train_labels)\n",
    "\n",
    "# Predict on the testing subset\n",
    "predicted = knn.predict(test_data)\n",
    "\n",
    "# Calculate accuracy\n",
    "accuracy = knn.score(test_data,test_labels)\n",
    "print('Accuracy of testing dataset: ', accuracy)"
   ]
  },
  {
   "cell_type": "code",
   "execution_count": 28,
   "id": "562bb248",
   "metadata": {
    "scrolled": true
   },
   "outputs": [
    {
     "name": "stdout",
     "output_type": "stream",
     "text": [
      "Accuracy of testing dataset:  0.9\n"
     ]
    },
    {
     "name": "stderr",
     "output_type": "stream",
     "text": [
      "c:\\users\\kevin\\appdata\\local\\programs\\python\\python37\\lib\\site-packages\\sklearn\\linear_model\\_logistic.py:765: ConvergenceWarning: lbfgs failed to converge (status=1):\n",
      "STOP: TOTAL NO. of ITERATIONS REACHED LIMIT.\n",
      "\n",
      "Increase the number of iterations (max_iter) or scale the data as shown in:\n",
      "    https://scikit-learn.org/stable/modules/preprocessing.html\n",
      "Please also refer to the documentation for alternative solver options:\n",
      "    https://scikit-learn.org/stable/modules/linear_model.html#logistic-regression\n",
      "  extra_warning_msg=_LOGISTIC_SOLVER_CONVERGENCE_MSG)\n"
     ]
    }
   ],
   "source": [
    "from sklearn.linear_model import LogisticRegression\n",
    "# Create the model\n",
    "lm = LogisticRegression(solver=\"lbfgs\")\n",
    "\n",
    "# Learn on the train subset\n",
    "lm.fit(train_data, train_labels)\n",
    "\n",
    "# Predict on the testing subset\n",
    "predicted =lm.predict(test_data)\n",
    "\n",
    "# Calculate accuracy\n",
    "accuracy = lm.score(test_data,test_labels)\n",
    "print('Accuracy of testing dataset: ', accuracy)"
   ]
  },
  {
   "cell_type": "code",
   "execution_count": 29,
   "id": "3072120f",
   "metadata": {},
   "outputs": [
    {
     "name": "stdout",
     "output_type": "stream",
     "text": [
      "Accuracy of testing dataset:  1.0\n"
     ]
    }
   ],
   "source": [
    "from sklearn.ensemble import RandomForestRegressor\n",
    "# Create the model\n",
    "RF = RandomForestRegressor()\n",
    "\n",
    "# Learn on the train subset\n",
    "RF.fit(train_data, train_labels)\n",
    "\n",
    "# Predict on the testing subset\n",
    "predicted =RF.predict(test_data)\n",
    "\n",
    "# Calculate accuracy\n",
    "accuracy = RF.score(test_data,test_labels)\n",
    "print('Accuracy of testing dataset: ', accuracy)"
   ]
  },
  {
   "cell_type": "code",
   "execution_count": 30,
   "id": "8e65a6b4",
   "metadata": {},
   "outputs": [
    {
     "name": "stdout",
     "output_type": "stream",
     "text": [
      "Accuracy of testing dataset:  0.5\n"
     ]
    }
   ],
   "source": [
    "from sklearn.neural_network import MLPClassifier\n",
    "# Create the model\n",
    "MLP = MLPClassifier()\n",
    "\n",
    "# Learn the digits on the train subset\n",
    "MLP.fit(train_data, train_labels)\n",
    "\n",
    "# Predict the value of the digit on the testing subset\n",
    "predicted = MLP.predict(test_data)\n",
    "\n",
    "# Calculate accuracy\n",
    "accuracy =  MLP.score(test_data,test_labels)\n",
    "print('Accuracy of testing dataset: ', accuracy)"
   ]
  },
  {
   "cell_type": "code",
   "execution_count": 31,
   "id": "1e36d226",
   "metadata": {},
   "outputs": [
    {
     "name": "stdout",
     "output_type": "stream",
     "text": [
      "Accuracy of testing dataset:  0.72\n"
     ]
    }
   ],
   "source": [
    "from sklearn import svm\n",
    "# Create the model\n",
    "svc = svm.SVC()\n",
    "\n",
    "# Learn the digits on the train subset\n",
    "svc.fit(train_data, train_labels)\n",
    "\n",
    "# Predict the value of the digit on the testing subset\n",
    "predicted = svc.predict(test_data)\n",
    "\n",
    "# Calculate accuracy\n",
    "accuracy = svc.score(test_data,test_labels)\n",
    "print('Accuracy of testing dataset: ', accuracy)"
   ]
  },
  {
   "cell_type": "code",
   "execution_count": 32,
   "id": "9760d1cd",
   "metadata": {},
   "outputs": [
    {
     "name": "stderr",
     "output_type": "stream",
     "text": [
      "c:\\users\\kevin\\appdata\\local\\programs\\python\\python37\\lib\\site-packages\\xgboost\\sklearn.py:1146: UserWarning: The use of label encoder in XGBClassifier is deprecated and will be removed in a future release. To remove this warning, do the following: 1) Pass option use_label_encoder=False when constructing XGBClassifier object; and 2) Encode your labels (y) as integers starting with 0, i.e. 0, 1, 2, ..., [num_class - 1].\n",
      "  warnings.warn(label_encoder_deprecation_msg, UserWarning)\n"
     ]
    },
    {
     "name": "stdout",
     "output_type": "stream",
     "text": [
      "[23:55:29] WARNING: C:/Users/Administrator/workspace/xgboost-win64_release_1.4.0/src/learner.cc:1095: Starting in XGBoost 1.3.0, the default evaluation metric used with the objective 'binary:logistic' was changed from 'error' to 'logloss'. Explicitly set eval_metric if you'd like to restore the old behavior.\n",
      "Accuracy of testing dataset:  1.0\n"
     ]
    }
   ],
   "source": [
    "from xgboost import XGBClassifier\n",
    "# Create the model\n",
    "XGB = XGBClassifier()\n",
    "\n",
    "# Learn the digits on the train subset\n",
    "XGB.fit(train_data, train_labels)\n",
    "\n",
    "# Predict the value of the digit on the testing subset\n",
    "predicted = XGB.predict(test_data)\n",
    "\n",
    "# Calculate accuracy\n",
    "accuracy = XGB.score(test_data,test_labels)\n",
    "print('Accuracy of testing dataset: ', accuracy)"
   ]
  },
  {
   "cell_type": "code",
   "execution_count": 33,
   "id": "fcc6defe",
   "metadata": {},
   "outputs": [
    {
     "name": "stdout",
     "output_type": "stream",
     "text": [
      "0:\tlearn: 0.1639927\ttotal: 91.1ms\tremaining: 820ms\n",
      "1:\tlearn: 0.0658755\ttotal: 133ms\tremaining: 534ms\n",
      "2:\tlearn: 0.0339619\ttotal: 174ms\tremaining: 406ms\n",
      "3:\tlearn: 0.0212341\ttotal: 219ms\tremaining: 328ms\n",
      "4:\tlearn: 0.0146798\ttotal: 260ms\tremaining: 260ms\n",
      "5:\tlearn: 0.0112006\ttotal: 303ms\tremaining: 202ms\n",
      "6:\tlearn: 0.0089871\ttotal: 364ms\tremaining: 156ms\n",
      "7:\tlearn: 0.0074643\ttotal: 422ms\tremaining: 106ms\n",
      "8:\tlearn: 0.0063680\ttotal: 469ms\tremaining: 52.1ms\n",
      "9:\tlearn: 0.0055453\ttotal: 511ms\tremaining: 0us\n",
      "Accuracy of testing dataset:  1.0\n"
     ]
    }
   ],
   "source": [
    "from catboost import CatBoostClassifier\n",
    "# Create the model\n",
    "CAT = CatBoostClassifier(iterations=10,\n",
    "              learning_rate=1,\n",
    "              depth=2,\n",
    "              loss_function='MultiClass')\n",
    "\n",
    "# Learn the digits on the train subset\n",
    "CAT.fit(train_data, train_labels)\n",
    "\n",
    "# Predict the value of the digit on the testing subset\n",
    "predicted = CAT.predict(test_data)\n",
    "\n",
    "# Calculate accuracy\n",
    "accuracy = CAT.score(test_data,test_labels)\n",
    "print('Accuracy of testing dataset: ', accuracy)"
   ]
  },
  {
   "cell_type": "code",
   "execution_count": 34,
   "id": "6c1f009a",
   "metadata": {},
   "outputs": [
    {
     "name": "stdout",
     "output_type": "stream",
     "text": [
      "[LightGBM] [Warning] boosting is set=gbdt, boosting_type=gbdt will be ignored. Current value: boosting=gbdt\n",
      "[LightGBM] [Warning] feature_fraction is set=0.5, colsample_bytree=1.0 will be ignored. Current value: feature_fraction=0.5\n",
      "Accuracy of testing dataset:  1.0\n"
     ]
    }
   ],
   "source": [
    "import lightgbm as lgb\n",
    "# Create the model\n",
    "LGBM = lgb.LGBMClassifier(application='multiclass', boosting='gbdt', learning_rate=0.1, max_depth=-5, feature_fraction=0.5, random_state=42)\n",
    "\n",
    "# Learn the digits on the train subset\n",
    "LGBM.fit(train_data, train_labels)\n",
    "\n",
    "# Predict the value of the digit on the testing subset\n",
    "predicted = LGBM.predict(test_data)\n",
    "\n",
    "# Calculate accuracy\n",
    "accuracy =LGBM.score(test_data,test_labels)\n",
    "print('Accuracy of testing dataset: ', accuracy)"
   ]
  },
  {
   "cell_type": "markdown",
   "id": "44f7fc86",
   "metadata": {},
   "source": [
    "# 資料3：Bank"
   ]
  },
  {
   "cell_type": "code",
   "execution_count": 35,
   "id": "6dc1b054",
   "metadata": {
    "scrolled": true
   },
   "outputs": [
    {
     "name": "stdout",
     "output_type": "stream",
     "text": [
      "<class 'pandas.core.frame.DataFrame'>\n",
      "RangeIndex: 45211 entries, 0 to 45210\n",
      "Data columns (total 17 columns):\n",
      " #   Column     Non-Null Count  Dtype \n",
      "---  ------     --------------  ----- \n",
      " 0   age        45211 non-null  int64 \n",
      " 1   job        45211 non-null  object\n",
      " 2   marital    45211 non-null  object\n",
      " 3   education  45211 non-null  object\n",
      " 4   default    45211 non-null  object\n",
      " 5   balance    45211 non-null  int64 \n",
      " 6   housing    45211 non-null  object\n",
      " 7   loan       45211 non-null  object\n",
      " 8   contact    45211 non-null  object\n",
      " 9   day        45211 non-null  int64 \n",
      " 10  month      45211 non-null  object\n",
      " 11  duration   45211 non-null  int64 \n",
      " 12  campaign   45211 non-null  int64 \n",
      " 13  pdays      45211 non-null  int64 \n",
      " 14  previous   45211 non-null  int64 \n",
      " 15  poutcome   45211 non-null  object\n",
      " 16  y          45211 non-null  object\n",
      "dtypes: int64(7), object(10)\n",
      "memory usage: 5.9+ MB\n"
     ]
    }
   ],
   "source": [
    "data3.info()"
   ]
  },
  {
   "cell_type": "code",
   "execution_count": 36,
   "id": "70121805",
   "metadata": {},
   "outputs": [
    {
     "data": {
      "text/plain": [
       "Index(['age', 'job', 'marital', 'education', 'default', 'balance', 'housing',\n",
       "       'loan', 'contact', 'day', 'month', 'duration', 'campaign', 'pdays',\n",
       "       'previous', 'poutcome', 'y'],\n",
       "      dtype='object')"
      ]
     },
     "execution_count": 36,
     "metadata": {},
     "output_type": "execute_result"
    }
   ],
   "source": [
    "data3.columns"
   ]
  },
  {
   "cell_type": "code",
   "execution_count": 37,
   "id": "13a0cb73",
   "metadata": {
    "scrolled": false
   },
   "outputs": [
    {
     "data": {
      "text/plain": [
       "no     39922\n",
       "yes     5289\n",
       "Name: y, dtype: int64"
      ]
     },
     "execution_count": 37,
     "metadata": {},
     "output_type": "execute_result"
    }
   ],
   "source": [
    "data3[\"y\"].value_counts()"
   ]
  },
  {
   "cell_type": "code",
   "execution_count": 38,
   "id": "9d605e8a",
   "metadata": {},
   "outputs": [
    {
     "data": {
      "image/png": "[encoded data removed]",
      "text/plain": [
       "<Figure size 432x288 with 1 Axes>"
      ]
     },
     "metadata": {},
     "output_type": "display_data"
    }
   ],
   "source": [
    "plt.pie(data3[\"y\"].value_counts(), textprops = {\"fontsize\" : 10},autopct = \"%1.1f%%\")  \n",
    "plt.legend(bbox_to_anchor=(1, 1), loc='upper left',labels =data3[\"y\"].value_counts().index) \n",
    "plt.title('Dataset3 : Bank', {\"fontsize\" : 18})\n",
    "plt.text(-1.2, -1.2, \"total:45211\",{\"fontsize\" : 12 })\n",
    "plt.show()"
   ]
  },
  {
   "cell_type": "code",
   "execution_count": 39,
   "id": "8495984f",
   "metadata": {},
   "outputs": [],
   "source": [
    "from sklearn.preprocessing import LabelEncoder\n",
    "labelencoder = LabelEncoder()\n",
    "data3['job']=labelencoder.fit_transform(data3['job'])\n",
    "data3['marital']=labelencoder.fit_transform(data3['marital'])\n",
    "data3[\"education\"]=labelencoder.fit_transform(data3[\"education\"])\n",
    "data3[\"default\"]=labelencoder.fit_transform(data3[\"default\"])\n",
    "data3[\"housing\"]=labelencoder.fit_transform(data3[\"housing\"])\n",
    "data3[\"loan\"]=labelencoder.fit_transform(data3[\"loan\"])\n",
    "data3[\"contact\"]=labelencoder.fit_transform(data3[\"contact\"])\n",
    "data3[\"month\"]=labelencoder.fit_transform(data3[\"month\"])\n",
    "data3[\"poutcome\"]=labelencoder.fit_transform(data3[\"poutcome\"])\n",
    "data3[\"y\"]=labelencoder.fit_transform(data3[\"y\"])"
   ]
  },
  {
   "cell_type": "code",
   "execution_count": 40,
   "id": "27fbabe6",
   "metadata": {
    "scrolled": false
   },
   "outputs": [
    {
     "name": "stdout",
     "output_type": "stream",
     "text": [
      "<class 'pandas.core.frame.DataFrame'>\n",
      "RangeIndex: 45211 entries, 0 to 45210\n",
      "Data columns (total 17 columns):\n",
      " #   Column     Non-Null Count  Dtype\n",
      "---  ------     --------------  -----\n",
      " 0   age        45211 non-null  int64\n",
      " 1   job        45211 non-null  int32\n",
      " 2   marital    45211 non-null  int32\n",
      " 3   education  45211 non-null  int32\n",
      " 4   default    45211 non-null  int32\n",
      " 5   balance    45211 non-null  int64\n",
      " 6   housing    45211 non-null  int32\n",
      " 7   loan       45211 non-null  int32\n",
      " 8   contact    45211 non-null  int32\n",
      " 9   day        45211 non-null  int64\n",
      " 10  month      45211 non-null  int32\n",
      " 11  duration   45211 non-null  int64\n",
      " 12  campaign   45211 non-null  int64\n",
      " 13  pdays      45211 non-null  int64\n",
      " 14  previous   45211 non-null  int64\n",
      " 15  poutcome   45211 non-null  int32\n",
      " 16  y          45211 non-null  int32\n",
      "dtypes: int32(10), int64(7)\n",
      "memory usage: 4.1 MB\n"
     ]
    }
   ],
   "source": [
    "data3.info()"
   ]
  },
  {
   "cell_type": "code",
   "execution_count": 41,
   "id": "de940d1e",
   "metadata": {},
   "outputs": [
    {
     "data": {
      "text/html": [
       "<div>\n",
       "<style scoped>\n",
       "    .dataframe tbody tr th:only-of-type {\n",
       "        vertical-align: middle;\n",
       "    }\n",
       "\n",
       "    .dataframe tbody tr th {\n",
       "        vertical-align: top;\n",
       "    }\n",
       "\n",
       "    .dataframe thead th {\n",
       "        text-align: right;\n",
       "    }\n",
       "</style>\n",
       "<table border=\"1\" class=\"dataframe\">\n",
       "  <thead>\n",
       "    <tr style=\"text-align: right;\">\n",
       "      <th></th>\n",
       "      <th>age</th>\n",
       "      <th>job</th>\n",
       "      <th>marital</th>\n",
       "      <th>education</th>\n",
       "      <th>default</th>\n",
       "      <th>balance</th>\n",
       "      <th>housing</th>\n",
       "      <th>loan</th>\n",
       "      <th>contact</th>\n",
       "      <th>day</th>\n",
       "      <th>month</th>\n",
       "      <th>duration</th>\n",
       "      <th>campaign</th>\n",
       "      <th>pdays</th>\n",
       "      <th>previous</th>\n",
       "      <th>poutcome</th>\n",
       "      <th>y</th>\n",
       "    </tr>\n",
       "  </thead>\n",
       "  <tbody>\n",
       "    <tr>\n",
       "      <th>0</th>\n",
       "      <td>58</td>\n",
       "      <td>4</td>\n",
       "      <td>1</td>\n",
       "      <td>2</td>\n",
       "      <td>0</td>\n",
       "      <td>2143</td>\n",
       "      <td>1</td>\n",
       "      <td>0</td>\n",
       "      <td>2</td>\n",
       "      <td>5</td>\n",
       "      <td>8</td>\n",
       "      <td>261</td>\n",
       "      <td>1</td>\n",
       "      <td>-1</td>\n",
       "      <td>0</td>\n",
       "      <td>3</td>\n",
       "      <td>0</td>\n",
       "    </tr>\n",
       "    <tr>\n",
       "      <th>1</th>\n",
       "      <td>44</td>\n",
       "      <td>9</td>\n",
       "      <td>2</td>\n",
       "      <td>1</td>\n",
       "      <td>0</td>\n",
       "      <td>29</td>\n",
       "      <td>1</td>\n",
       "      <td>0</td>\n",
       "      <td>2</td>\n",
       "      <td>5</td>\n",
       "      <td>8</td>\n",
       "      <td>151</td>\n",
       "      <td>1</td>\n",
       "      <td>-1</td>\n",
       "      <td>0</td>\n",
       "      <td>3</td>\n",
       "      <td>0</td>\n",
       "    </tr>\n",
       "    <tr>\n",
       "      <th>2</th>\n",
       "      <td>33</td>\n",
       "      <td>2</td>\n",
       "      <td>1</td>\n",
       "      <td>1</td>\n",
       "      <td>0</td>\n",
       "      <td>2</td>\n",
       "      <td>1</td>\n",
       "      <td>1</td>\n",
       "      <td>2</td>\n",
       "      <td>5</td>\n",
       "      <td>8</td>\n",
       "      <td>76</td>\n",
       "      <td>1</td>\n",
       "      <td>-1</td>\n",
       "      <td>0</td>\n",
       "      <td>3</td>\n",
       "      <td>0</td>\n",
       "    </tr>\n",
       "    <tr>\n",
       "      <th>3</th>\n",
       "      <td>47</td>\n",
       "      <td>1</td>\n",
       "      <td>1</td>\n",
       "      <td>3</td>\n",
       "      <td>0</td>\n",
       "      <td>1506</td>\n",
       "      <td>1</td>\n",
       "      <td>0</td>\n",
       "      <td>2</td>\n",
       "      <td>5</td>\n",
       "      <td>8</td>\n",
       "      <td>92</td>\n",
       "      <td>1</td>\n",
       "      <td>-1</td>\n",
       "      <td>0</td>\n",
       "      <td>3</td>\n",
       "      <td>0</td>\n",
       "    </tr>\n",
       "    <tr>\n",
       "      <th>4</th>\n",
       "      <td>33</td>\n",
       "      <td>11</td>\n",
       "      <td>2</td>\n",
       "      <td>3</td>\n",
       "      <td>0</td>\n",
       "      <td>1</td>\n",
       "      <td>0</td>\n",
       "      <td>0</td>\n",
       "      <td>2</td>\n",
       "      <td>5</td>\n",
       "      <td>8</td>\n",
       "      <td>198</td>\n",
       "      <td>1</td>\n",
       "      <td>-1</td>\n",
       "      <td>0</td>\n",
       "      <td>3</td>\n",
       "      <td>0</td>\n",
       "    </tr>\n",
       "  </tbody>\n",
       "</table>\n",
       "</div>"
      ],
      "text/plain": [
       "   age  job  marital  education  default  balance  housing  loan  contact  \\\n",
       "0   58    4        1          2        0     2143        1     0        2   \n",
       "1   44    9        2          1        0       29        1     0        2   \n",
       "2   33    2        1          1        0        2        1     1        2   \n",
       "3   47    1        1          3        0     1506        1     0        2   \n",
       "4   33   11        2          3        0        1        0     0        2   \n",
       "\n",
       "   day  month  duration  campaign  pdays  previous  poutcome  y  \n",
       "0    5      8       261         1     -1         0         3  0  \n",
       "1    5      8       151         1     -1         0         3  0  \n",
       "2    5      8        76         1     -1         0         3  0  \n",
       "3    5      8        92         1     -1         0         3  0  \n",
       "4    5      8       198         1     -1         0         3  0  "
      ]
     },
     "execution_count": 41,
     "metadata": {},
     "output_type": "execute_result"
    }
   ],
   "source": [
    "data3.head()"
   ]
  },
  {
   "cell_type": "code",
   "execution_count": 42,
   "id": "4fd99ba9",
   "metadata": {},
   "outputs": [
    {
     "name": "stdout",
     "output_type": "stream",
     "text": [
      "Size of training dataset: (33908, 17)\n",
      "Size of testing dataset: (11303, 17)\n"
     ]
    }
   ],
   "source": [
    "#切割資料，train:test=0.75:0.25\n",
    "train_data,test_data,train_labels,test_labels=train_test_split(data3,data3[\"y\"],test_size=0.25)\n",
    "print('Size of training dataset:', train_data.shape)\n",
    "print('Size of testing dataset:', test_data.shape)"
   ]
  },
  {
   "cell_type": "code",
   "execution_count": 43,
   "id": "df691ffb",
   "metadata": {},
   "outputs": [
    {
     "name": "stdout",
     "output_type": "stream",
     "text": [
      "Accuracy of testing dataset:  0.8783508802972663\n"
     ]
    }
   ],
   "source": [
    "from sklearn.neighbors import KNeighborsClassifier\n",
    "# Create the model\n",
    "knn = KNeighborsClassifier(n_neighbors=5)\n",
    "\n",
    "# Learn on the train subset\n",
    "knn.fit(train_data, train_labels)\n",
    "\n",
    "# Predict on the testing subset\n",
    "predicted = knn.predict(test_data)\n",
    "\n",
    "# Calculate accuracy\n",
    "accuracy = knn.score(test_data,test_labels)\n",
    "print('Accuracy of testing dataset: ', accuracy)"
   ]
  },
  {
   "cell_type": "code",
   "execution_count": 44,
   "id": "b1025891",
   "metadata": {},
   "outputs": [
    {
     "name": "stdout",
     "output_type": "stream",
     "text": [
      "Accuracy of testing dataset:  0.9404582854109529\n"
     ]
    },
    {
     "name": "stderr",
     "output_type": "stream",
     "text": [
      "c:\\users\\kevin\\appdata\\local\\programs\\python\\python37\\lib\\site-packages\\sklearn\\linear_model\\_logistic.py:765: ConvergenceWarning: lbfgs failed to converge (status=1):\n",
      "STOP: TOTAL NO. of ITERATIONS REACHED LIMIT.\n",
      "\n",
      "Increase the number of iterations (max_iter) or scale the data as shown in:\n",
      "    https://scikit-learn.org/stable/modules/preprocessing.html\n",
      "Please also refer to the documentation for alternative solver options:\n",
      "    https://scikit-learn.org/stable/modules/linear_model.html#logistic-regression\n",
      "  extra_warning_msg=_LOGISTIC_SOLVER_CONVERGENCE_MSG)\n"
     ]
    }
   ],
   "source": [
    "from sklearn.linear_model import LogisticRegression\n",
    "# Create the model\n",
    "lm = LogisticRegression(solver=\"lbfgs\")\n",
    "\n",
    "# Learn on the train subset\n",
    "lm.fit(train_data, train_labels)\n",
    "\n",
    "# Predict on the testing subset\n",
    "predicted =lm.predict(test_data)\n",
    "\n",
    "# Calculate accuracy\n",
    "accuracy = lm.score(test_data,test_labels)\n",
    "print('Accuracy of testing dataset: ', accuracy)"
   ]
  },
  {
   "cell_type": "code",
   "execution_count": 45,
   "id": "6a9a0b38",
   "metadata": {},
   "outputs": [
    {
     "name": "stdout",
     "output_type": "stream",
     "text": [
      "Accuracy of testing dataset:  1.0\n"
     ]
    }
   ],
   "source": [
    "from sklearn.ensemble import RandomForestRegressor\n",
    "# Create the model\n",
    "RF = RandomForestRegressor()\n",
    "\n",
    "# Learn on the train subset\n",
    "RF.fit(train_data, train_labels)\n",
    "\n",
    "# Predict on the testing subset\n",
    "predicted =RF.predict(test_data)\n",
    "\n",
    "# Calculate accuracy\n",
    "accuracy = RF.score(test_data,test_labels)\n",
    "print('Accuracy of testing dataset: ', accuracy)"
   ]
  },
  {
   "cell_type": "code",
   "execution_count": 46,
   "id": "c7726e2c",
   "metadata": {},
   "outputs": [
    {
     "name": "stdout",
     "output_type": "stream",
     "text": [
      "Accuracy of testing dataset:  0.9997345837388304\n"
     ]
    }
   ],
   "source": [
    "from sklearn.neural_network import MLPClassifier\n",
    "# Create the model\n",
    "MLP = MLPClassifier()\n",
    "\n",
    "# Learn the digits on the train subset\n",
    "MLP.fit(train_data, train_labels)\n",
    "\n",
    "# Predict the value of the digit on the testing subset\n",
    "predicted = MLP.predict(test_data)\n",
    "\n",
    "# Calculate accuracy\n",
    "accuracy =  MLP.score(test_data,test_labels)\n",
    "print('Accuracy of testing dataset: ', accuracy)"
   ]
  },
  {
   "cell_type": "code",
   "execution_count": 47,
   "id": "ca2c20dd",
   "metadata": {},
   "outputs": [
    {
     "name": "stdout",
     "output_type": "stream",
     "text": [
      "Accuracy of testing dataset:  0.8817128196054145\n"
     ]
    }
   ],
   "source": [
    "from sklearn import svm\n",
    "# Create the model\n",
    "svc = svm.SVC()\n",
    "\n",
    "# Learn the digits on the train subset\n",
    "svc.fit(train_data, train_labels)\n",
    "\n",
    "# Predict the value of the digit on the testing subset\n",
    "predicted = svc.predict(test_data)\n",
    "\n",
    "# Calculate accuracy\n",
    "accuracy = svc.score(test_data,test_labels)\n",
    "print('Accuracy of testing dataset: ', accuracy)"
   ]
  },
  {
   "cell_type": "code",
   "execution_count": 48,
   "id": "b63346cc",
   "metadata": {},
   "outputs": [
    {
     "name": "stdout",
     "output_type": "stream",
     "text": [
      "[23:56:34] WARNING: C:/Users/Administrator/workspace/xgboost-win64_release_1.4.0/src/learner.cc:1095: Starting in XGBoost 1.3.0, the default evaluation metric used with the objective 'binary:logistic' was changed from 'error' to 'logloss'. Explicitly set eval_metric if you'd like to restore the old behavior.\n"
     ]
    },
    {
     "name": "stderr",
     "output_type": "stream",
     "text": [
      "c:\\users\\kevin\\appdata\\local\\programs\\python\\python37\\lib\\site-packages\\xgboost\\sklearn.py:1146: UserWarning: The use of label encoder in XGBClassifier is deprecated and will be removed in a future release. To remove this warning, do the following: 1) Pass option use_label_encoder=False when constructing XGBClassifier object; and 2) Encode your labels (y) as integers starting with 0, i.e. 0, 1, 2, ..., [num_class - 1].\n",
      "  warnings.warn(label_encoder_deprecation_msg, UserWarning)\n"
     ]
    },
    {
     "name": "stdout",
     "output_type": "stream",
     "text": [
      "Accuracy of testing dataset:  1.0\n"
     ]
    }
   ],
   "source": [
    "from xgboost import XGBClassifier\n",
    "# Create the model\n",
    "XGB = XGBClassifier()\n",
    "\n",
    "# Learn the digits on the train subset\n",
    "XGB.fit(train_data, train_labels)\n",
    "\n",
    "# Predict the value of the digit on the testing subset\n",
    "predicted = XGB.predict(test_data)\n",
    "\n",
    "# Calculate accuracy\n",
    "accuracy = XGB.score(test_data,test_labels)\n",
    "print('Accuracy of testing dataset: ', accuracy)"
   ]
  },
  {
   "cell_type": "code",
   "execution_count": 49,
   "id": "ebbe34aa",
   "metadata": {},
   "outputs": [
    {
     "name": "stdout",
     "output_type": "stream",
     "text": [
      "0:\tlearn: 0.1270967\ttotal: 41.1ms\tremaining: 370ms\n",
      "1:\tlearn: 0.0426955\ttotal: 47.6ms\tremaining: 190ms\n",
      "2:\tlearn: 0.0153144\ttotal: 53.6ms\tremaining: 125ms\n",
      "3:\tlearn: 0.0056273\ttotal: 60.3ms\tremaining: 90.5ms\n",
      "4:\tlearn: 0.0021112\ttotal: 66.2ms\tremaining: 66.2ms\n",
      "5:\tlearn: 0.0008320\ttotal: 72.1ms\tremaining: 48.1ms\n",
      "6:\tlearn: 0.0003592\ttotal: 78ms\tremaining: 33.4ms\n",
      "7:\tlearn: 0.0001722\ttotal: 82.9ms\tremaining: 20.7ms\n",
      "8:\tlearn: 0.0000974\ttotal: 87.8ms\tremaining: 9.76ms\n",
      "9:\tlearn: 0.0000642\ttotal: 92.8ms\tremaining: 0us\n",
      "Accuracy of testing dataset:  1.0\n"
     ]
    }
   ],
   "source": [
    "from catboost import CatBoostClassifier\n",
    "# Create the model\n",
    "CAT = CatBoostClassifier(iterations=10,\n",
    "              learning_rate=1,\n",
    "              depth=2,\n",
    "              loss_function='MultiClass')\n",
    "\n",
    "# Learn the digits on the train subset\n",
    "CAT.fit(train_data, train_labels)\n",
    "\n",
    "# Predict the value of the digit on the testing subset\n",
    "predicted = CAT.predict(test_data)\n",
    "\n",
    "# Calculate accuracy\n",
    "accuracy = CAT.score(test_data,test_labels)\n",
    "print('Accuracy of testing dataset: ', accuracy)"
   ]
  },
  {
   "cell_type": "code",
   "execution_count": 50,
   "id": "7c6f4839",
   "metadata": {},
   "outputs": [
    {
     "name": "stdout",
     "output_type": "stream",
     "text": [
      "[LightGBM] [Warning] boosting is set=gbdt, boosting_type=gbdt will be ignored. Current value: boosting=gbdt\n",
      "[LightGBM] [Warning] feature_fraction is set=0.5, colsample_bytree=1.0 will be ignored. Current value: feature_fraction=0.5\n",
      "Accuracy of testing dataset:  1.0\n"
     ]
    }
   ],
   "source": [
    "import lightgbm as lgb\n",
    "# Create the model\n",
    "LGBM = lgb.LGBMClassifier(application='multiclass', boosting='gbdt', learning_rate=0.1, max_depth=-5, feature_fraction=0.5, random_state=42)\n",
    "\n",
    "# Learn the digits on the train subset\n",
    "LGBM.fit(train_data, train_labels)\n",
    "\n",
    "# Predict the value of the digit on the testing subset\n",
    "predicted = LGBM.predict(test_data)\n",
    "\n",
    "# Calculate accuracy\n",
    "accuracy =LGBM.score(test_data,test_labels)\n",
    "print('Accuracy of testing dataset: ', accuracy)"
   ]
  },
  {
   "cell_type": "markdown",
   "id": "ace72dec",
   "metadata": {},
   "source": [
    "# 資料4：BlastChar"
   ]
  },
  {
   "cell_type": "code",
   "execution_count": 51,
   "id": "1f53c85b",
   "metadata": {
    "scrolled": true
   },
   "outputs": [
    {
     "name": "stdout",
     "output_type": "stream",
     "text": [
      "<class 'pandas.core.frame.DataFrame'>\n",
      "RangeIndex: 7043 entries, 0 to 7042\n",
      "Data columns (total 21 columns):\n",
      " #   Column            Non-Null Count  Dtype  \n",
      "---  ------            --------------  -----  \n",
      " 0   customerID        7043 non-null   object \n",
      " 1   gender            7043 non-null   object \n",
      " 2   SeniorCitizen     7043 non-null   int64  \n",
      " 3   Partner           7043 non-null   object \n",
      " 4   Dependents        7043 non-null   object \n",
      " 5   tenure            7043 non-null   int64  \n",
      " 6   PhoneService      7043 non-null   object \n",
      " 7   MultipleLines     7043 non-null   object \n",
      " 8   InternetService   7043 non-null   object \n",
      " 9   OnlineSecurity    7043 non-null   object \n",
      " 10  OnlineBackup      7043 non-null   object \n",
      " 11  DeviceProtection  7043 non-null   object \n",
      " 12  TechSupport       7043 non-null   object \n",
      " 13  StreamingTV       7043 non-null   object \n",
      " 14  StreamingMovies   7043 non-null   object \n",
      " 15  Contract          7043 non-null   object \n",
      " 16  PaperlessBilling  7043 non-null   object \n",
      " 17  PaymentMethod     7043 non-null   object \n",
      " 18  MonthlyCharges    7043 non-null   float64\n",
      " 19  TotalCharges      7043 non-null   object \n",
      " 20  Churn             7043 non-null   object \n",
      "dtypes: float64(1), int64(2), object(18)\n",
      "memory usage: 1.1+ MB\n"
     ]
    }
   ],
   "source": [
    "data4.info()"
   ]
  },
  {
   "cell_type": "code",
   "execution_count": 52,
   "id": "481f9e61",
   "metadata": {
    "scrolled": true
   },
   "outputs": [
    {
     "data": {
      "text/plain": [
       "No     5174\n",
       "Yes    1869\n",
       "Name: Churn, dtype: int64"
      ]
     },
     "execution_count": 52,
     "metadata": {},
     "output_type": "execute_result"
    }
   ],
   "source": [
    "data4[\"Churn\"].value_counts()"
   ]
  },
  {
   "cell_type": "code",
   "execution_count": 53,
   "id": "6c4640a5",
   "metadata": {},
   "outputs": [
    {
     "data": {
      "image/png": "[encoded data removed]",
      "text/plain": [
       "<Figure size 432x288 with 1 Axes>"
      ]
     },
     "metadata": {},
     "output_type": "display_data"
    }
   ],
   "source": [
    "plt.pie(data4[\"Churn\"].value_counts(), textprops = {\"fontsize\" : 10},autopct = \"%1.1f%%\")  \n",
    "plt.legend(bbox_to_anchor=(1, 1), loc='upper left',labels =data4[\"Churn\"].value_counts().index) \n",
    "plt.title('Dataset4 : BlastChar', {\"fontsize\" : 18})\n",
    "plt.text(-1.2, -1.2, \"total:7043\",{\"fontsize\" : 12 })\n",
    "plt.show()"
   ]
  },
  {
   "cell_type": "code",
   "execution_count": 54,
   "id": "cdb694f7",
   "metadata": {
    "scrolled": true
   },
   "outputs": [
    {
     "data": {
      "text/plain": [
       "Index(['customerID', 'gender', 'SeniorCitizen', 'Partner', 'Dependents',\n",
       "       'tenure', 'PhoneService', 'MultipleLines', 'InternetService',\n",
       "       'OnlineSecurity', 'OnlineBackup', 'DeviceProtection', 'TechSupport',\n",
       "       'StreamingTV', 'StreamingMovies', 'Contract', 'PaperlessBilling',\n",
       "       'PaymentMethod', 'MonthlyCharges', 'TotalCharges', 'Churn'],\n",
       "      dtype='object')"
      ]
     },
     "execution_count": 54,
     "metadata": {},
     "output_type": "execute_result"
    }
   ],
   "source": [
    "data4.columns"
   ]
  },
  {
   "cell_type": "code",
   "execution_count": 55,
   "id": "2ad113c1",
   "metadata": {},
   "outputs": [],
   "source": [
    "from sklearn.preprocessing import LabelEncoder\n",
    "labelencoder = LabelEncoder()\n",
    "data4['customerID']=labelencoder.fit_transform(data4['customerID'])\n",
    "data4['gender']=labelencoder.fit_transform(data4['gender'])\n",
    "data4['Partner']=labelencoder.fit_transform(data4['Partner'])\n",
    "data4['Dependents']=labelencoder.fit_transform(data4['Dependents'])\n",
    "data4['PhoneService']=labelencoder.fit_transform(data4['PhoneService'])\n",
    "data4['MultipleLines']=labelencoder.fit_transform(data4['MultipleLines'])\n",
    "data4['InternetService']=labelencoder.fit_transform(data4['InternetService'])\n",
    "data4['OnlineSecurity']=labelencoder.fit_transform(data4['OnlineSecurity'])\n",
    "data4['OnlineBackup']=labelencoder.fit_transform(data4['OnlineBackup'])\n",
    "data4['DeviceProtection']=labelencoder.fit_transform(data4['DeviceProtection'])\n",
    "data4['TechSupport']=labelencoder.fit_transform(data4['TechSupport'])\n",
    "data4['DeviceProtection']=labelencoder.fit_transform(data4['DeviceProtection'])\n",
    "data4['StreamingTV']=labelencoder.fit_transform(data4['StreamingTV'])\n",
    "data4['StreamingMovies']=labelencoder.fit_transform(data4['StreamingMovies'])\n",
    "data4['Contract']=labelencoder.fit_transform(data4['Contract'])\n",
    "data4['PaperlessBilling']=labelencoder.fit_transform(data4['PaperlessBilling'])\n",
    "data4['PaymentMethod']=labelencoder.fit_transform(data4['PaymentMethod'])\n",
    "data4['TotalCharges']=labelencoder.fit_transform(data4['TotalCharges'])\n",
    "data4['Churn']=labelencoder.fit_transform(data4['Churn'])"
   ]
  },
  {
   "cell_type": "code",
   "execution_count": 56,
   "id": "8393baa6",
   "metadata": {},
   "outputs": [
    {
     "data": {
      "text/html": [
       "<div>\n",
       "<style scoped>\n",
       "    .dataframe tbody tr th:only-of-type {\n",
       "        vertical-align: middle;\n",
       "    }\n",
       "\n",
       "    .dataframe tbody tr th {\n",
       "        vertical-align: top;\n",
       "    }\n",
       "\n",
       "    .dataframe thead th {\n",
       "        text-align: right;\n",
       "    }\n",
       "</style>\n",
       "<table border=\"1\" class=\"dataframe\">\n",
       "  <thead>\n",
       "    <tr style=\"text-align: right;\">\n",
       "      <th></th>\n",
       "      <th>customerID</th>\n",
       "      <th>gender</th>\n",
       "      <th>SeniorCitizen</th>\n",
       "      <th>Partner</th>\n",
       "      <th>Dependents</th>\n",
       "      <th>tenure</th>\n",
       "      <th>PhoneService</th>\n",
       "      <th>MultipleLines</th>\n",
       "      <th>InternetService</th>\n",
       "      <th>OnlineSecurity</th>\n",
       "      <th>...</th>\n",
       "      <th>DeviceProtection</th>\n",
       "      <th>TechSupport</th>\n",
       "      <th>StreamingTV</th>\n",
       "      <th>StreamingMovies</th>\n",
       "      <th>Contract</th>\n",
       "      <th>PaperlessBilling</th>\n",
       "      <th>PaymentMethod</th>\n",
       "      <th>MonthlyCharges</th>\n",
       "      <th>TotalCharges</th>\n",
       "      <th>Churn</th>\n",
       "    </tr>\n",
       "  </thead>\n",
       "  <tbody>\n",
       "    <tr>\n",
       "      <th>0</th>\n",
       "      <td>5375</td>\n",
       "      <td>0</td>\n",
       "      <td>0</td>\n",
       "      <td>1</td>\n",
       "      <td>0</td>\n",
       "      <td>1</td>\n",
       "      <td>0</td>\n",
       "      <td>1</td>\n",
       "      <td>0</td>\n",
       "      <td>0</td>\n",
       "      <td>...</td>\n",
       "      <td>0</td>\n",
       "      <td>0</td>\n",
       "      <td>0</td>\n",
       "      <td>0</td>\n",
       "      <td>0</td>\n",
       "      <td>1</td>\n",
       "      <td>2</td>\n",
       "      <td>29.85</td>\n",
       "      <td>2505</td>\n",
       "      <td>0</td>\n",
       "    </tr>\n",
       "    <tr>\n",
       "      <th>1</th>\n",
       "      <td>3962</td>\n",
       "      <td>1</td>\n",
       "      <td>0</td>\n",
       "      <td>0</td>\n",
       "      <td>0</td>\n",
       "      <td>34</td>\n",
       "      <td>1</td>\n",
       "      <td>0</td>\n",
       "      <td>0</td>\n",
       "      <td>2</td>\n",
       "      <td>...</td>\n",
       "      <td>2</td>\n",
       "      <td>0</td>\n",
       "      <td>0</td>\n",
       "      <td>0</td>\n",
       "      <td>1</td>\n",
       "      <td>0</td>\n",
       "      <td>3</td>\n",
       "      <td>56.95</td>\n",
       "      <td>1466</td>\n",
       "      <td>0</td>\n",
       "    </tr>\n",
       "    <tr>\n",
       "      <th>2</th>\n",
       "      <td>2564</td>\n",
       "      <td>1</td>\n",
       "      <td>0</td>\n",
       "      <td>0</td>\n",
       "      <td>0</td>\n",
       "      <td>2</td>\n",
       "      <td>1</td>\n",
       "      <td>0</td>\n",
       "      <td>0</td>\n",
       "      <td>2</td>\n",
       "      <td>...</td>\n",
       "      <td>0</td>\n",
       "      <td>0</td>\n",
       "      <td>0</td>\n",
       "      <td>0</td>\n",
       "      <td>0</td>\n",
       "      <td>1</td>\n",
       "      <td>3</td>\n",
       "      <td>53.85</td>\n",
       "      <td>157</td>\n",
       "      <td>1</td>\n",
       "    </tr>\n",
       "    <tr>\n",
       "      <th>3</th>\n",
       "      <td>5535</td>\n",
       "      <td>1</td>\n",
       "      <td>0</td>\n",
       "      <td>0</td>\n",
       "      <td>0</td>\n",
       "      <td>45</td>\n",
       "      <td>0</td>\n",
       "      <td>1</td>\n",
       "      <td>0</td>\n",
       "      <td>2</td>\n",
       "      <td>...</td>\n",
       "      <td>2</td>\n",
       "      <td>2</td>\n",
       "      <td>0</td>\n",
       "      <td>0</td>\n",
       "      <td>1</td>\n",
       "      <td>0</td>\n",
       "      <td>0</td>\n",
       "      <td>42.30</td>\n",
       "      <td>1400</td>\n",
       "      <td>0</td>\n",
       "    </tr>\n",
       "    <tr>\n",
       "      <th>4</th>\n",
       "      <td>6511</td>\n",
       "      <td>0</td>\n",
       "      <td>0</td>\n",
       "      <td>0</td>\n",
       "      <td>0</td>\n",
       "      <td>2</td>\n",
       "      <td>1</td>\n",
       "      <td>0</td>\n",
       "      <td>1</td>\n",
       "      <td>0</td>\n",
       "      <td>...</td>\n",
       "      <td>0</td>\n",
       "      <td>0</td>\n",
       "      <td>0</td>\n",
       "      <td>0</td>\n",
       "      <td>0</td>\n",
       "      <td>1</td>\n",
       "      <td>2</td>\n",
       "      <td>70.70</td>\n",
       "      <td>925</td>\n",
       "      <td>1</td>\n",
       "    </tr>\n",
       "  </tbody>\n",
       "</table>\n",
       "<p>5 rows × 21 columns</p>\n",
       "</div>"
      ],
      "text/plain": [
       "   customerID  gender  SeniorCitizen  Partner  Dependents  tenure  \\\n",
       "0        5375       0              0        1           0       1   \n",
       "1        3962       1              0        0           0      34   \n",
       "2        2564       1              0        0           0       2   \n",
       "3        5535       1              0        0           0      45   \n",
       "4        6511       0              0        0           0       2   \n",
       "\n",
       "   PhoneService  MultipleLines  InternetService  OnlineSecurity  ...  \\\n",
       "0             0              1                0               0  ...   \n",
       "1             1              0                0               2  ...   \n",
       "2             1              0                0               2  ...   \n",
       "3             0              1                0               2  ...   \n",
       "4             1              0                1               0  ...   \n",
       "\n",
       "   DeviceProtection  TechSupport  StreamingTV  StreamingMovies  Contract  \\\n",
       "0                 0            0            0                0         0   \n",
       "1                 2            0            0                0         1   \n",
       "2                 0            0            0                0         0   \n",
       "3                 2            2            0                0         1   \n",
       "4                 0            0            0                0         0   \n",
       "\n",
       "   PaperlessBilling  PaymentMethod  MonthlyCharges  TotalCharges  Churn  \n",
       "0                 1              2           29.85          2505      0  \n",
       "1                 0              3           56.95          1466      0  \n",
       "2                 1              3           53.85           157      1  \n",
       "3                 0              0           42.30          1400      0  \n",
       "4                 1              2           70.70           925      1  \n",
       "\n",
       "[5 rows x 21 columns]"
      ]
     },
     "execution_count": 56,
     "metadata": {},
     "output_type": "execute_result"
    }
   ],
   "source": [
    "data4.head()"
   ]
  },
  {
   "cell_type": "code",
   "execution_count": 57,
   "id": "7bb0739f",
   "metadata": {},
   "outputs": [
    {
     "name": "stdout",
     "output_type": "stream",
     "text": [
      "Size of training dataset: (5282, 21)\n",
      "Size of testing dataset: (1761, 21)\n"
     ]
    }
   ],
   "source": [
    "#切割資料，train:test=0.75:0.25\n",
    "train_data,test_data,train_labels,test_labels=train_test_split(data4,data4[\"Churn\"],test_size=0.25)\n",
    "print('Size of training dataset:', train_data.shape)\n",
    "print('Size of testing dataset:', test_data.shape)"
   ]
  },
  {
   "cell_type": "code",
   "execution_count": 58,
   "id": "0fd39c20",
   "metadata": {},
   "outputs": [
    {
     "name": "stdout",
     "output_type": "stream",
     "text": [
      "Accuracy of testing dataset:  0.6842703009653606\n"
     ]
    }
   ],
   "source": [
    "from sklearn.neighbors import KNeighborsClassifier\n",
    "# Create the model\n",
    "knn = KNeighborsClassifier(n_neighbors=5)\n",
    "\n",
    "# Learn on the train subset\n",
    "knn.fit(train_data, train_labels)\n",
    "\n",
    "# Predict on the testing subset\n",
    "predicted = knn.predict(test_data)\n",
    "\n",
    "# Calculate accuracy\n",
    "accuracy = knn.score(test_data,test_labels)\n",
    "print('Accuracy of testing dataset: ', accuracy)"
   ]
  },
  {
   "cell_type": "code",
   "execution_count": 59,
   "id": "6e718603",
   "metadata": {},
   "outputs": [
    {
     "name": "stdout",
     "output_type": "stream",
     "text": [
      "Accuracy of testing dataset:  0.9943214082907439\n"
     ]
    },
    {
     "name": "stderr",
     "output_type": "stream",
     "text": [
      "c:\\users\\kevin\\appdata\\local\\programs\\python\\python37\\lib\\site-packages\\sklearn\\linear_model\\_logistic.py:765: ConvergenceWarning: lbfgs failed to converge (status=1):\n",
      "STOP: TOTAL NO. of ITERATIONS REACHED LIMIT.\n",
      "\n",
      "Increase the number of iterations (max_iter) or scale the data as shown in:\n",
      "    https://scikit-learn.org/stable/modules/preprocessing.html\n",
      "Please also refer to the documentation for alternative solver options:\n",
      "    https://scikit-learn.org/stable/modules/linear_model.html#logistic-regression\n",
      "  extra_warning_msg=_LOGISTIC_SOLVER_CONVERGENCE_MSG)\n"
     ]
    }
   ],
   "source": [
    "from sklearn.linear_model import LogisticRegression\n",
    "# Create the model\n",
    "lm = LogisticRegression(solver=\"lbfgs\")\n",
    "\n",
    "# Learn on the train subset\n",
    "lm.fit(train_data, train_labels)\n",
    "\n",
    "# Predict on the testing subset\n",
    "predicted =lm.predict(test_data)\n",
    "\n",
    "# Calculate accuracy\n",
    "accuracy = lm.score(test_data,test_labels)\n",
    "print('Accuracy of testing dataset: ', accuracy)"
   ]
  },
  {
   "cell_type": "code",
   "execution_count": 60,
   "id": "4cbeebab",
   "metadata": {},
   "outputs": [
    {
     "name": "stdout",
     "output_type": "stream",
     "text": [
      "Accuracy of testing dataset:  1.0\n"
     ]
    }
   ],
   "source": [
    "from sklearn.ensemble import RandomForestRegressor\n",
    "# Create the model\n",
    "RF = RandomForestRegressor()\n",
    "\n",
    "# Learn on the train subset\n",
    "RF.fit(train_data, train_labels)\n",
    "\n",
    "# Predict on the testing subset\n",
    "predicted =RF.predict(test_data)\n",
    "\n",
    "# Calculate accuracy\n",
    "accuracy = RF.score(test_data,test_labels)\n",
    "print('Accuracy of testing dataset: ', accuracy)"
   ]
  },
  {
   "cell_type": "code",
   "execution_count": 61,
   "id": "8564e92f",
   "metadata": {},
   "outputs": [
    {
     "name": "stdout",
     "output_type": "stream",
     "text": [
      "Accuracy of testing dataset:  0.9647927314026121\n"
     ]
    }
   ],
   "source": [
    "from sklearn.neural_network import MLPClassifier\n",
    "# Create the model\n",
    "MLP = MLPClassifier()\n",
    "\n",
    "# Learn the digits on the train subset\n",
    "MLP.fit(train_data, train_labels)\n",
    "\n",
    "# Predict the value of the digit on the testing subset\n",
    "predicted = MLP.predict(test_data)\n",
    "\n",
    "# Calculate accuracy\n",
    "accuracy =  MLP.score(test_data,test_labels)\n",
    "print('Accuracy of testing dataset: ', accuracy)"
   ]
  },
  {
   "cell_type": "code",
   "execution_count": 62,
   "id": "b9fabca3",
   "metadata": {},
   "outputs": [
    {
     "name": "stdout",
     "output_type": "stream",
     "text": [
      "Accuracy of testing dataset:  0.7331061896649631\n"
     ]
    }
   ],
   "source": [
    "from sklearn import svm\n",
    "# Create the model\n",
    "svc = svm.SVC()\n",
    "\n",
    "# Learn the digits on the train subset\n",
    "svc.fit(train_data, train_labels)\n",
    "\n",
    "# Predict the value of the digit on the testing subset\n",
    "predicted = svc.predict(test_data)\n",
    "\n",
    "# Calculate accuracy\n",
    "accuracy = svc.score(test_data,test_labels)\n",
    "print('Accuracy of testing dataset: ', accuracy)"
   ]
  },
  {
   "cell_type": "code",
   "execution_count": 63,
   "id": "5f6f4488",
   "metadata": {},
   "outputs": [
    {
     "name": "stdout",
     "output_type": "stream",
     "text": [
      "[23:56:41] WARNING: C:/Users/Administrator/workspace/xgboost-win64_release_1.4.0/src/learner.cc:1095: Starting in XGBoost 1.3.0, the default evaluation metric used with the objective 'binary:logistic' was changed from 'error' to 'logloss'. Explicitly set eval_metric if you'd like to restore the old behavior.\n",
      "Accuracy of testing dataset:  1.0\n"
     ]
    },
    {
     "name": "stderr",
     "output_type": "stream",
     "text": [
      "c:\\users\\kevin\\appdata\\local\\programs\\python\\python37\\lib\\site-packages\\xgboost\\sklearn.py:1146: UserWarning: The use of label encoder in XGBClassifier is deprecated and will be removed in a future release. To remove this warning, do the following: 1) Pass option use_label_encoder=False when constructing XGBClassifier object; and 2) Encode your labels (y) as integers starting with 0, i.e. 0, 1, 2, ..., [num_class - 1].\n",
      "  warnings.warn(label_encoder_deprecation_msg, UserWarning)\n"
     ]
    }
   ],
   "source": [
    "from xgboost import XGBClassifier\n",
    "# Create the model\n",
    "XGB = XGBClassifier()\n",
    "\n",
    "# Learn the digits on the train subset\n",
    "XGB.fit(train_data, train_labels)\n",
    "\n",
    "# Predict the value of the digit on the testing subset\n",
    "predicted = XGB.predict(test_data)\n",
    "\n",
    "# Calculate accuracy\n",
    "accuracy = XGB.score(test_data,test_labels)\n",
    "print('Accuracy of testing dataset: ', accuracy)"
   ]
  },
  {
   "cell_type": "code",
   "execution_count": 64,
   "id": "b50370f4",
   "metadata": {},
   "outputs": [
    {
     "name": "stdout",
     "output_type": "stream",
     "text": [
      "0:\tlearn: 0.1280103\ttotal: 2.17ms\tremaining: 19.6ms\n",
      "1:\tlearn: 0.0433946\ttotal: 3.97ms\tremaining: 15.9ms\n",
      "2:\tlearn: 0.0159271\ttotal: 5.64ms\tremaining: 13.2ms\n",
      "3:\tlearn: 0.0062041\ttotal: 7.11ms\tremaining: 10.7ms\n",
      "4:\tlearn: 0.0026121\ttotal: 9.35ms\tremaining: 9.35ms\n",
      "5:\tlearn: 0.0012609\ttotal: 11ms\tremaining: 7.32ms\n",
      "6:\tlearn: 0.0007170\ttotal: 12.6ms\tremaining: 5.39ms\n",
      "7:\tlearn: 0.0004732\ttotal: 14.1ms\tremaining: 3.53ms\n",
      "8:\tlearn: 0.0003457\ttotal: 15.6ms\tremaining: 1.73ms\n",
      "9:\tlearn: 0.0002702\ttotal: 17.5ms\tremaining: 0us\n",
      "Accuracy of testing dataset:  1.0\n"
     ]
    }
   ],
   "source": [
    "from catboost import CatBoostClassifier\n",
    "# Create the model\n",
    "CAT = CatBoostClassifier(iterations=10,\n",
    "              learning_rate=1,\n",
    "              depth=2,\n",
    "              loss_function='MultiClass')\n",
    "\n",
    "# Learn the digits on the train subset\n",
    "CAT.fit(train_data, train_labels)\n",
    "\n",
    "# Predict the value of the digit on the testing subset\n",
    "predicted = CAT.predict(test_data)\n",
    "\n",
    "# Calculate accuracy\n",
    "accuracy = CAT.score(test_data,test_labels)\n",
    "print('Accuracy of testing dataset: ', accuracy)"
   ]
  },
  {
   "cell_type": "code",
   "execution_count": 65,
   "id": "5a0a8ec5",
   "metadata": {},
   "outputs": [
    {
     "name": "stdout",
     "output_type": "stream",
     "text": [
      "[LightGBM] [Warning] boosting is set=gbdt, boosting_type=gbdt will be ignored. Current value: boosting=gbdt\n",
      "[LightGBM] [Warning] feature_fraction is set=0.5, colsample_bytree=1.0 will be ignored. Current value: feature_fraction=0.5\n",
      "Accuracy of testing dataset:  1.0\n"
     ]
    }
   ],
   "source": [
    "import lightgbm as lgb\n",
    "# Create the model\n",
    "LGBM = lgb.LGBMClassifier(application='multiclass', boosting='gbdt', learning_rate=0.1, max_depth=-5, feature_fraction=0.5, random_state=42)\n",
    "\n",
    "# Learn the digits on the train subset\n",
    "LGBM.fit(train_data, train_labels)\n",
    "\n",
    "# Predict the value of the digit on the testing subset\n",
    "predicted = LGBM.predict(test_data)\n",
    "\n",
    "# Calculate accuracy\n",
    "accuracy =LGBM.score(test_data,test_labels)\n",
    "print('Accuracy of testing dataset: ', accuracy)"
   ]
  },
  {
   "cell_type": "markdown",
   "id": "4df16c08",
   "metadata": {},
   "source": [
    "# 資料5：Shoppers"
   ]
  },
  {
   "cell_type": "code",
   "execution_count": 66,
   "id": "19a75dae",
   "metadata": {
    "scrolled": true
   },
   "outputs": [
    {
     "name": "stdout",
     "output_type": "stream",
     "text": [
      "<class 'pandas.core.frame.DataFrame'>\n",
      "RangeIndex: 12330 entries, 0 to 12329\n",
      "Data columns (total 18 columns):\n",
      " #   Column                   Non-Null Count  Dtype  \n",
      "---  ------                   --------------  -----  \n",
      " 0   Administrative           12330 non-null  int64  \n",
      " 1   Administrative_Duration  12330 non-null  float64\n",
      " 2   Informational            12330 non-null  int64  \n",
      " 3   Informational_Duration   12330 non-null  float64\n",
      " 4   ProductRelated           12330 non-null  int64  \n",
      " 5   ProductRelated_Duration  12330 non-null  float64\n",
      " 6   BounceRates              12330 non-null  float64\n",
      " 7   ExitRates                12330 non-null  float64\n",
      " 8   PageValues               12330 non-null  float64\n",
      " 9   SpecialDay               12330 non-null  float64\n",
      " 10  Month                    12330 non-null  object \n",
      " 11  OperatingSystems         12330 non-null  int64  \n",
      " 12  Browser                  12330 non-null  int64  \n",
      " 13  Region                   12330 non-null  int64  \n",
      " 14  TrafficType              12330 non-null  int64  \n",
      " 15  VisitorType              12330 non-null  object \n",
      " 16  Weekend                  12330 non-null  bool   \n",
      " 17  Revenue                  12330 non-null  bool   \n",
      "dtypes: bool(2), float64(7), int64(7), object(2)\n",
      "memory usage: 1.5+ MB\n"
     ]
    }
   ],
   "source": [
    "data5.info()"
   ]
  },
  {
   "cell_type": "code",
   "execution_count": 67,
   "id": "a5dca63e",
   "metadata": {
    "scrolled": true
   },
   "outputs": [
    {
     "data": {
      "text/plain": [
       "False    10422\n",
       "True      1908\n",
       "Name: Revenue, dtype: int64"
      ]
     },
     "execution_count": 67,
     "metadata": {},
     "output_type": "execute_result"
    }
   ],
   "source": [
    "data5[\"Revenue\"].value_counts()"
   ]
  },
  {
   "cell_type": "code",
   "execution_count": 68,
   "id": "3d1f80cf",
   "metadata": {},
   "outputs": [
    {
     "data": {
      "image/png": "[encoded data removed]",
      "text/plain": [
       "<Figure size 432x288 with 1 Axes>"
      ]
     },
     "metadata": {},
     "output_type": "display_data"
    }
   ],
   "source": [
    "plt.pie(data5[\"Revenue\"].value_counts(), textprops = {\"fontsize\" : 10},autopct = \"%1.1f%%\")  \n",
    "plt.legend(bbox_to_anchor=(1, 1), loc='upper left',labels =data5[\"Revenue\"].value_counts().index) \n",
    "plt.title('Dataset5 : Shoppers', {\"fontsize\" : 18})\n",
    "plt.text(-1.2, -1.2, \"total:12330\",{\"fontsize\" : 12 })\n",
    "plt.show()"
   ]
  },
  {
   "cell_type": "code",
   "execution_count": 69,
   "id": "72c92f96",
   "metadata": {},
   "outputs": [
    {
     "data": {
      "text/plain": [
       "Index(['Administrative', 'Administrative_Duration', 'Informational',\n",
       "       'Informational_Duration', 'ProductRelated', 'ProductRelated_Duration',\n",
       "       'BounceRates', 'ExitRates', 'PageValues', 'SpecialDay', 'Month',\n",
       "       'OperatingSystems', 'Browser', 'Region', 'TrafficType', 'VisitorType',\n",
       "       'Weekend', 'Revenue'],\n",
       "      dtype='object')"
      ]
     },
     "execution_count": 69,
     "metadata": {},
     "output_type": "execute_result"
    }
   ],
   "source": [
    "data5.columns"
   ]
  },
  {
   "cell_type": "code",
   "execution_count": 70,
   "id": "0598c5ca",
   "metadata": {},
   "outputs": [],
   "source": [
    "from sklearn.preprocessing import LabelEncoder\n",
    "labelencoder = LabelEncoder()\n",
    "data5['SpecialDay']=labelencoder.fit_transform(data5['SpecialDay'])\n",
    "data5['Month']=labelencoder.fit_transform(data5['Month'])\n",
    "data5['VisitorType']=labelencoder.fit_transform(data5['VisitorType'])\n",
    "data5['Weekend']=labelencoder.fit_transform(data5['Weekend'])\n",
    "data5['Revenue']=labelencoder.fit_transform(data5['Revenue'])"
   ]
  },
  {
   "cell_type": "code",
   "execution_count": 71,
   "id": "8b975d89",
   "metadata": {},
   "outputs": [
    {
     "data": {
      "text/html": [
       "<div>\n",
       "<style scoped>\n",
       "    .dataframe tbody tr th:only-of-type {\n",
       "        vertical-align: middle;\n",
       "    }\n",
       "\n",
       "    .dataframe tbody tr th {\n",
       "        vertical-align: top;\n",
       "    }\n",
       "\n",
       "    .dataframe thead th {\n",
       "        text-align: right;\n",
       "    }\n",
       "</style>\n",
       "<table border=\"1\" class=\"dataframe\">\n",
       "  <thead>\n",
       "    <tr style=\"text-align: right;\">\n",
       "      <th></th>\n",
       "      <th>Administrative</th>\n",
       "      <th>Administrative_Duration</th>\n",
       "      <th>Informational</th>\n",
       "      <th>Informational_Duration</th>\n",
       "      <th>ProductRelated</th>\n",
       "      <th>ProductRelated_Duration</th>\n",
       "      <th>BounceRates</th>\n",
       "      <th>ExitRates</th>\n",
       "      <th>PageValues</th>\n",
       "      <th>SpecialDay</th>\n",
       "      <th>Month</th>\n",
       "      <th>OperatingSystems</th>\n",
       "      <th>Browser</th>\n",
       "      <th>Region</th>\n",
       "      <th>TrafficType</th>\n",
       "      <th>VisitorType</th>\n",
       "      <th>Weekend</th>\n",
       "      <th>Revenue</th>\n",
       "    </tr>\n",
       "  </thead>\n",
       "  <tbody>\n",
       "    <tr>\n",
       "      <th>0</th>\n",
       "      <td>0</td>\n",
       "      <td>0.0</td>\n",
       "      <td>0</td>\n",
       "      <td>0.0</td>\n",
       "      <td>1</td>\n",
       "      <td>0.000000</td>\n",
       "      <td>0.20</td>\n",
       "      <td>0.20</td>\n",
       "      <td>0.0</td>\n",
       "      <td>0</td>\n",
       "      <td>2</td>\n",
       "      <td>1</td>\n",
       "      <td>1</td>\n",
       "      <td>1</td>\n",
       "      <td>1</td>\n",
       "      <td>2</td>\n",
       "      <td>0</td>\n",
       "      <td>0</td>\n",
       "    </tr>\n",
       "    <tr>\n",
       "      <th>1</th>\n",
       "      <td>0</td>\n",
       "      <td>0.0</td>\n",
       "      <td>0</td>\n",
       "      <td>0.0</td>\n",
       "      <td>2</td>\n",
       "      <td>64.000000</td>\n",
       "      <td>0.00</td>\n",
       "      <td>0.10</td>\n",
       "      <td>0.0</td>\n",
       "      <td>0</td>\n",
       "      <td>2</td>\n",
       "      <td>2</td>\n",
       "      <td>2</td>\n",
       "      <td>1</td>\n",
       "      <td>2</td>\n",
       "      <td>2</td>\n",
       "      <td>0</td>\n",
       "      <td>0</td>\n",
       "    </tr>\n",
       "    <tr>\n",
       "      <th>2</th>\n",
       "      <td>0</td>\n",
       "      <td>0.0</td>\n",
       "      <td>0</td>\n",
       "      <td>0.0</td>\n",
       "      <td>1</td>\n",
       "      <td>0.000000</td>\n",
       "      <td>0.20</td>\n",
       "      <td>0.20</td>\n",
       "      <td>0.0</td>\n",
       "      <td>0</td>\n",
       "      <td>2</td>\n",
       "      <td>4</td>\n",
       "      <td>1</td>\n",
       "      <td>9</td>\n",
       "      <td>3</td>\n",
       "      <td>2</td>\n",
       "      <td>0</td>\n",
       "      <td>0</td>\n",
       "    </tr>\n",
       "    <tr>\n",
       "      <th>3</th>\n",
       "      <td>0</td>\n",
       "      <td>0.0</td>\n",
       "      <td>0</td>\n",
       "      <td>0.0</td>\n",
       "      <td>2</td>\n",
       "      <td>2.666667</td>\n",
       "      <td>0.05</td>\n",
       "      <td>0.14</td>\n",
       "      <td>0.0</td>\n",
       "      <td>0</td>\n",
       "      <td>2</td>\n",
       "      <td>3</td>\n",
       "      <td>2</td>\n",
       "      <td>2</td>\n",
       "      <td>4</td>\n",
       "      <td>2</td>\n",
       "      <td>0</td>\n",
       "      <td>0</td>\n",
       "    </tr>\n",
       "    <tr>\n",
       "      <th>4</th>\n",
       "      <td>0</td>\n",
       "      <td>0.0</td>\n",
       "      <td>0</td>\n",
       "      <td>0.0</td>\n",
       "      <td>10</td>\n",
       "      <td>627.500000</td>\n",
       "      <td>0.02</td>\n",
       "      <td>0.05</td>\n",
       "      <td>0.0</td>\n",
       "      <td>0</td>\n",
       "      <td>2</td>\n",
       "      <td>3</td>\n",
       "      <td>3</td>\n",
       "      <td>1</td>\n",
       "      <td>4</td>\n",
       "      <td>2</td>\n",
       "      <td>1</td>\n",
       "      <td>0</td>\n",
       "    </tr>\n",
       "  </tbody>\n",
       "</table>\n",
       "</div>"
      ],
      "text/plain": [
       "   Administrative  Administrative_Duration  Informational  \\\n",
       "0               0                      0.0              0   \n",
       "1               0                      0.0              0   \n",
       "2               0                      0.0              0   \n",
       "3               0                      0.0              0   \n",
       "4               0                      0.0              0   \n",
       "\n",
       "   Informational_Duration  ProductRelated  ProductRelated_Duration  \\\n",
       "0                     0.0               1                 0.000000   \n",
       "1                     0.0               2                64.000000   \n",
       "2                     0.0               1                 0.000000   \n",
       "3                     0.0               2                 2.666667   \n",
       "4                     0.0              10               627.500000   \n",
       "\n",
       "   BounceRates  ExitRates  PageValues  SpecialDay  Month  OperatingSystems  \\\n",
       "0         0.20       0.20         0.0           0      2                 1   \n",
       "1         0.00       0.10         0.0           0      2                 2   \n",
       "2         0.20       0.20         0.0           0      2                 4   \n",
       "3         0.05       0.14         0.0           0      2                 3   \n",
       "4         0.02       0.05         0.0           0      2                 3   \n",
       "\n",
       "   Browser  Region  TrafficType  VisitorType  Weekend  Revenue  \n",
       "0        1       1            1            2        0        0  \n",
       "1        2       1            2            2        0        0  \n",
       "2        1       9            3            2        0        0  \n",
       "3        2       2            4            2        0        0  \n",
       "4        3       1            4            2        1        0  "
      ]
     },
     "execution_count": 71,
     "metadata": {},
     "output_type": "execute_result"
    }
   ],
   "source": [
    "data5.head()"
   ]
  },
  {
   "cell_type": "code",
   "execution_count": 72,
   "id": "6344c18b",
   "metadata": {},
   "outputs": [
    {
     "name": "stdout",
     "output_type": "stream",
     "text": [
      "Size of training dataset: (9247, 18)\n",
      "Size of testing dataset: (3083, 18)\n"
     ]
    }
   ],
   "source": [
    "#切割資料，train:test=0.75:0.25\n",
    "train_data,test_data,train_labels,test_labels=train_test_split(data5,data5['Revenue'],test_size=0.25)\n",
    "print('Size of training dataset:', train_data.shape)\n",
    "print('Size of testing dataset:', test_data.shape)"
   ]
  },
  {
   "cell_type": "code",
   "execution_count": 73,
   "id": "cfa80ce2",
   "metadata": {},
   "outputs": [
    {
     "name": "stdout",
     "output_type": "stream",
     "text": [
      "Accuracy of testing dataset:  0.8679857281868311\n"
     ]
    }
   ],
   "source": [
    "from sklearn.neighbors import KNeighborsClassifier\n",
    "# Create the model\n",
    "knn = KNeighborsClassifier(n_neighbors=5)\n",
    "\n",
    "# Learn on the train subset\n",
    "knn.fit(train_data, train_labels)\n",
    "\n",
    "# Predict on the testing subset\n",
    "predicted = knn.predict(test_data)\n",
    "\n",
    "# Calculate accuracy\n",
    "accuracy = knn.score(test_data,test_labels)\n",
    "print('Accuracy of testing dataset: ', accuracy)"
   ]
  },
  {
   "cell_type": "code",
   "execution_count": 74,
   "id": "44664b1c",
   "metadata": {
    "scrolled": true
   },
   "outputs": [
    {
     "name": "stdout",
     "output_type": "stream",
     "text": [
      "Accuracy of testing dataset:  0.8910152448913397\n"
     ]
    },
    {
     "name": "stderr",
     "output_type": "stream",
     "text": [
      "c:\\users\\kevin\\appdata\\local\\programs\\python\\python37\\lib\\site-packages\\sklearn\\linear_model\\_logistic.py:765: ConvergenceWarning: lbfgs failed to converge (status=1):\n",
      "STOP: TOTAL NO. of ITERATIONS REACHED LIMIT.\n",
      "\n",
      "Increase the number of iterations (max_iter) or scale the data as shown in:\n",
      "    https://scikit-learn.org/stable/modules/preprocessing.html\n",
      "Please also refer to the documentation for alternative solver options:\n",
      "    https://scikit-learn.org/stable/modules/linear_model.html#logistic-regression\n",
      "  extra_warning_msg=_LOGISTIC_SOLVER_CONVERGENCE_MSG)\n"
     ]
    }
   ],
   "source": [
    "from sklearn.linear_model import LogisticRegression\n",
    "# Create the model\n",
    "lm = LogisticRegression(solver=\"lbfgs\")\n",
    "\n",
    "# Learn on the train subset\n",
    "lm.fit(train_data, train_labels)\n",
    "\n",
    "# Predict on the testing subset\n",
    "predicted =lm.predict(test_data)\n",
    "\n",
    "# Calculate accuracy\n",
    "accuracy = lm.score(test_data,test_labels)\n",
    "print('Accuracy of testing dataset: ', accuracy)"
   ]
  },
  {
   "cell_type": "code",
   "execution_count": 75,
   "id": "4fb744d2",
   "metadata": {},
   "outputs": [
    {
     "name": "stdout",
     "output_type": "stream",
     "text": [
      "Accuracy of testing dataset:  1.0\n"
     ]
    }
   ],
   "source": [
    "from sklearn.ensemble import RandomForestRegressor\n",
    "# Create the model\n",
    "RF = RandomForestRegressor()\n",
    "\n",
    "# Learn on the train subset\n",
    "RF.fit(train_data, train_labels)\n",
    "\n",
    "# Predict on the testing subset\n",
    "predicted =RF.predict(test_data)\n",
    "\n",
    "# Calculate accuracy\n",
    "accuracy = RF.score(test_data,test_labels)\n",
    "print('Accuracy of testing dataset: ', accuracy)"
   ]
  },
  {
   "cell_type": "code",
   "execution_count": 76,
   "id": "12d30062",
   "metadata": {},
   "outputs": [
    {
     "name": "stdout",
     "output_type": "stream",
     "text": [
      "Accuracy of testing dataset:  0.9928640934155044\n"
     ]
    }
   ],
   "source": [
    "from sklearn.neural_network import MLPClassifier\n",
    "# Create the model\n",
    "MLP = MLPClassifier()\n",
    "\n",
    "# Learn the digits on the train subset\n",
    "MLP.fit(train_data, train_labels)\n",
    "\n",
    "# Predict the value of the digit on the testing subset\n",
    "predicted = MLP.predict(test_data)\n",
    "\n",
    "# Calculate accuracy\n",
    "accuracy =  MLP.score(test_data,test_labels)\n",
    "print('Accuracy of testing dataset: ', accuracy)"
   ]
  },
  {
   "cell_type": "code",
   "execution_count": 77,
   "id": "8916b873",
   "metadata": {},
   "outputs": [
    {
     "name": "stdout",
     "output_type": "stream",
     "text": [
      "Accuracy of testing dataset:  0.8456049302627311\n"
     ]
    }
   ],
   "source": [
    "from sklearn import svm\n",
    "# Create the model\n",
    "svc = svm.SVC()\n",
    "\n",
    "# Learn the digits on the train subset\n",
    "svc.fit(train_data, train_labels)\n",
    "\n",
    "# Predict the value of the digit on the testing subset\n",
    "predicted = svc.predict(test_data)\n",
    "\n",
    "# Calculate accuracy\n",
    "accuracy = svc.score(test_data,test_labels)\n",
    "print('Accuracy of testing dataset: ', accuracy)"
   ]
  },
  {
   "cell_type": "code",
   "execution_count": 78,
   "id": "a6c295b7",
   "metadata": {},
   "outputs": [
    {
     "name": "stdout",
     "output_type": "stream",
     "text": [
      "[23:56:48] WARNING: C:/Users/Administrator/workspace/xgboost-win64_release_1.4.0/src/learner.cc:1095: Starting in XGBoost 1.3.0, the default evaluation metric used with the objective 'binary:logistic' was changed from 'error' to 'logloss'. Explicitly set eval_metric if you'd like to restore the old behavior.\n",
      "Accuracy of testing dataset:  1.0\n"
     ]
    },
    {
     "name": "stderr",
     "output_type": "stream",
     "text": [
      "c:\\users\\kevin\\appdata\\local\\programs\\python\\python37\\lib\\site-packages\\xgboost\\sklearn.py:1146: UserWarning: The use of label encoder in XGBClassifier is deprecated and will be removed in a future release. To remove this warning, do the following: 1) Pass option use_label_encoder=False when constructing XGBClassifier object; and 2) Encode your labels (y) as integers starting with 0, i.e. 0, 1, 2, ..., [num_class - 1].\n",
      "  warnings.warn(label_encoder_deprecation_msg, UserWarning)\n"
     ]
    }
   ],
   "source": [
    "from xgboost import XGBClassifier\n",
    "# Create the model\n",
    "XGB = XGBClassifier()\n",
    "\n",
    "# Learn the digits on the train subset\n",
    "XGB.fit(train_data, train_labels)\n",
    "\n",
    "# Predict the value of the digit on the testing subset\n",
    "predicted = XGB.predict(test_data)\n",
    "\n",
    "# Calculate accuracy\n",
    "accuracy = XGB.score(test_data,test_labels)\n",
    "print('Accuracy of testing dataset: ', accuracy)"
   ]
  },
  {
   "cell_type": "code",
   "execution_count": 79,
   "id": "1d140cb7",
   "metadata": {},
   "outputs": [
    {
     "name": "stdout",
     "output_type": "stream",
     "text": [
      "0:\tlearn: 0.1275464\ttotal: 2.58ms\tremaining: 23.2ms\n",
      "1:\tlearn: 0.0430443\ttotal: 5.04ms\tremaining: 20.2ms\n",
      "2:\tlearn: 0.0155053\ttotal: 7.23ms\tremaining: 16.9ms\n",
      "3:\tlearn: 0.0058253\ttotal: 9.57ms\tremaining: 14.4ms\n",
      "4:\tlearn: 0.0023431\ttotal: 11.8ms\tremaining: 11.8ms\n",
      "5:\tlearn: 0.0010253\ttotal: 14.1ms\tremaining: 9.41ms\n",
      "6:\tlearn: 0.0004772\ttotal: 16.7ms\tremaining: 7.17ms\n",
      "7:\tlearn: 0.0002940\ttotal: 19.2ms\tremaining: 4.79ms\n",
      "8:\tlearn: 0.0001857\ttotal: 21.6ms\tremaining: 2.4ms\n",
      "9:\tlearn: 0.0001317\ttotal: 24ms\tremaining: 0us\n",
      "Accuracy of testing dataset:  1.0\n"
     ]
    }
   ],
   "source": [
    "from catboost import CatBoostClassifier\n",
    "# Create the model\n",
    "CAT = CatBoostClassifier(iterations=10,\n",
    "              learning_rate=1,\n",
    "              depth=2,\n",
    "              loss_function='MultiClass')\n",
    "\n",
    "# Learn the digits on the train subset\n",
    "CAT.fit(train_data, train_labels)\n",
    "\n",
    "# Predict the value of the digit on the testing subset\n",
    "predicted = CAT.predict(test_data)\n",
    "\n",
    "# Calculate accuracy\n",
    "accuracy = CAT.score(test_data,test_labels)\n",
    "print('Accuracy of testing dataset: ', accuracy)"
   ]
  },
  {
   "cell_type": "code",
   "execution_count": 80,
   "id": "57282221",
   "metadata": {},
   "outputs": [
    {
     "name": "stdout",
     "output_type": "stream",
     "text": [
      "[LightGBM] [Warning] boosting is set=gbdt, boosting_type=gbdt will be ignored. Current value: boosting=gbdt\n",
      "[LightGBM] [Warning] feature_fraction is set=0.5, colsample_bytree=1.0 will be ignored. Current value: feature_fraction=0.5\n",
      "Accuracy of testing dataset:  1.0\n"
     ]
    }
   ],
   "source": [
    "import lightgbm as lgb\n",
    "# Create the model\n",
    "LGBM = lgb.LGBMClassifier(application='multiclass', boosting='gbdt', learning_rate=0.1, max_depth=-5, feature_fraction=0.5, random_state=42)\n",
    "\n",
    "# Learn the digits on the train subset\n",
    "LGBM.fit(train_data, train_labels)\n",
    "\n",
    "# Predict the value of the digit on the testing subset\n",
    "predicted = LGBM.predict(test_data)\n",
    "\n",
    "# Calculate accuracy\n",
    "accuracy =LGBM.score(test_data,test_labels)\n",
    "print('Accuracy of testing dataset: ', accuracy)"
   ]
  },
  {
   "cell_type": "markdown",
   "id": "abe7f4dc",
   "metadata": {},
   "source": [
    "# 資料6：Shrutime"
   ]
  },
  {
   "cell_type": "code",
   "execution_count": 81,
   "id": "5598887f",
   "metadata": {
    "scrolled": true
   },
   "outputs": [
    {
     "name": "stdout",
     "output_type": "stream",
     "text": [
      "<class 'pandas.core.frame.DataFrame'>\n",
      "RangeIndex: 10000 entries, 0 to 9999\n",
      "Data columns (total 14 columns):\n",
      " #   Column           Non-Null Count  Dtype  \n",
      "---  ------           --------------  -----  \n",
      " 0   RowNumber        10000 non-null  int64  \n",
      " 1   CustomerId       10000 non-null  int64  \n",
      " 2   Surname          10000 non-null  object \n",
      " 3   CreditScore      10000 non-null  int64  \n",
      " 4   Geography        10000 non-null  object \n",
      " 5   Gender           10000 non-null  object \n",
      " 6   Age              10000 non-null  int64  \n",
      " 7   Tenure           10000 non-null  int64  \n",
      " 8   Balance          10000 non-null  float64\n",
      " 9   NumOfProducts    10000 non-null  int64  \n",
      " 10  HasCrCard        10000 non-null  int64  \n",
      " 11  IsActiveMember   10000 non-null  int64  \n",
      " 12  EstimatedSalary  10000 non-null  float64\n",
      " 13  Exited           10000 non-null  int64  \n",
      "dtypes: float64(2), int64(9), object(3)\n",
      "memory usage: 1.1+ MB\n"
     ]
    }
   ],
   "source": [
    "data6.info()"
   ]
  },
  {
   "cell_type": "code",
   "execution_count": 82,
   "id": "cf78616e",
   "metadata": {
    "scrolled": false
   },
   "outputs": [
    {
     "data": {
      "text/plain": [
       "0    7963\n",
       "1    2037\n",
       "Name: Exited, dtype: int64"
      ]
     },
     "execution_count": 82,
     "metadata": {},
     "output_type": "execute_result"
    }
   ],
   "source": [
    "data6[\"Exited\"].value_counts()"
   ]
  },
  {
   "cell_type": "code",
   "execution_count": 83,
   "id": "f895df87",
   "metadata": {},
   "outputs": [
    {
     "data": {
      "image/png": "[encoded data removed]",
      "text/plain": [
       "<Figure size 432x288 with 1 Axes>"
      ]
     },
     "metadata": {},
     "output_type": "display_data"
    }
   ],
   "source": [
    "plt.pie(data6[\"Exited\"].value_counts(), textprops = {\"fontsize\" : 10},autopct = \"%1.1f%%\")  \n",
    "plt.legend(bbox_to_anchor=(1, 1), loc='upper left',labels =data6[\"Exited\"].value_counts().index) \n",
    "plt.title('Dataset6 : Shrutime', {\"fontsize\" : 18})\n",
    "plt.text(-1.2, -1.2, \"total:10000\",{\"fontsize\" : 12 })\n",
    "plt.show()"
   ]
  },
  {
   "cell_type": "code",
   "execution_count": 84,
   "id": "aa0f03c8",
   "metadata": {
    "scrolled": true
   },
   "outputs": [
    {
     "data": {
      "text/plain": [
       "Index(['RowNumber', 'CustomerId', 'Surname', 'CreditScore', 'Geography',\n",
       "       'Gender', 'Age', 'Tenure', 'Balance', 'NumOfProducts', 'HasCrCard',\n",
       "       'IsActiveMember', 'EstimatedSalary', 'Exited'],\n",
       "      dtype='object')"
      ]
     },
     "execution_count": 84,
     "metadata": {},
     "output_type": "execute_result"
    }
   ],
   "source": [
    "data6.columns"
   ]
  },
  {
   "cell_type": "code",
   "execution_count": 85,
   "id": "f7a28522",
   "metadata": {},
   "outputs": [],
   "source": [
    "from sklearn.preprocessing import LabelEncoder\n",
    "labelencoder = LabelEncoder()\n",
    "data6['Surname']=labelencoder.fit_transform(data6['Surname'])\n",
    "data6['Geography']=labelencoder.fit_transform(data6['Geography'])\n",
    "data6['Gender']=labelencoder.fit_transform(data6['Gender'])"
   ]
  },
  {
   "cell_type": "code",
   "execution_count": 86,
   "id": "ea586be1",
   "metadata": {},
   "outputs": [
    {
     "data": {
      "text/html": [
       "<div>\n",
       "<style scoped>\n",
       "    .dataframe tbody tr th:only-of-type {\n",
       "        vertical-align: middle;\n",
       "    }\n",
       "\n",
       "    .dataframe tbody tr th {\n",
       "        vertical-align: top;\n",
       "    }\n",
       "\n",
       "    .dataframe thead th {\n",
       "        text-align: right;\n",
       "    }\n",
       "</style>\n",
       "<table border=\"1\" class=\"dataframe\">\n",
       "  <thead>\n",
       "    <tr style=\"text-align: right;\">\n",
       "      <th></th>\n",
       "      <th>RowNumber</th>\n",
       "      <th>CustomerId</th>\n",
       "      <th>Surname</th>\n",
       "      <th>CreditScore</th>\n",
       "      <th>Geography</th>\n",
       "      <th>Gender</th>\n",
       "      <th>Age</th>\n",
       "      <th>Tenure</th>\n",
       "      <th>Balance</th>\n",
       "      <th>NumOfProducts</th>\n",
       "      <th>HasCrCard</th>\n",
       "      <th>IsActiveMember</th>\n",
       "      <th>EstimatedSalary</th>\n",
       "      <th>Exited</th>\n",
       "    </tr>\n",
       "  </thead>\n",
       "  <tbody>\n",
       "    <tr>\n",
       "      <th>0</th>\n",
       "      <td>1</td>\n",
       "      <td>15634602</td>\n",
       "      <td>1115</td>\n",
       "      <td>619</td>\n",
       "      <td>0</td>\n",
       "      <td>0</td>\n",
       "      <td>42</td>\n",
       "      <td>2</td>\n",
       "      <td>0.00</td>\n",
       "      <td>1</td>\n",
       "      <td>1</td>\n",
       "      <td>1</td>\n",
       "      <td>101348.88</td>\n",
       "      <td>1</td>\n",
       "    </tr>\n",
       "    <tr>\n",
       "      <th>1</th>\n",
       "      <td>2</td>\n",
       "      <td>15647311</td>\n",
       "      <td>1177</td>\n",
       "      <td>608</td>\n",
       "      <td>2</td>\n",
       "      <td>0</td>\n",
       "      <td>41</td>\n",
       "      <td>1</td>\n",
       "      <td>83807.86</td>\n",
       "      <td>1</td>\n",
       "      <td>0</td>\n",
       "      <td>1</td>\n",
       "      <td>112542.58</td>\n",
       "      <td>0</td>\n",
       "    </tr>\n",
       "    <tr>\n",
       "      <th>2</th>\n",
       "      <td>3</td>\n",
       "      <td>15619304</td>\n",
       "      <td>2040</td>\n",
       "      <td>502</td>\n",
       "      <td>0</td>\n",
       "      <td>0</td>\n",
       "      <td>42</td>\n",
       "      <td>8</td>\n",
       "      <td>159660.80</td>\n",
       "      <td>3</td>\n",
       "      <td>1</td>\n",
       "      <td>0</td>\n",
       "      <td>113931.57</td>\n",
       "      <td>1</td>\n",
       "    </tr>\n",
       "    <tr>\n",
       "      <th>3</th>\n",
       "      <td>4</td>\n",
       "      <td>15701354</td>\n",
       "      <td>289</td>\n",
       "      <td>699</td>\n",
       "      <td>0</td>\n",
       "      <td>0</td>\n",
       "      <td>39</td>\n",
       "      <td>1</td>\n",
       "      <td>0.00</td>\n",
       "      <td>2</td>\n",
       "      <td>0</td>\n",
       "      <td>0</td>\n",
       "      <td>93826.63</td>\n",
       "      <td>0</td>\n",
       "    </tr>\n",
       "    <tr>\n",
       "      <th>4</th>\n",
       "      <td>5</td>\n",
       "      <td>15737888</td>\n",
       "      <td>1822</td>\n",
       "      <td>850</td>\n",
       "      <td>2</td>\n",
       "      <td>0</td>\n",
       "      <td>43</td>\n",
       "      <td>2</td>\n",
       "      <td>125510.82</td>\n",
       "      <td>1</td>\n",
       "      <td>1</td>\n",
       "      <td>1</td>\n",
       "      <td>79084.10</td>\n",
       "      <td>0</td>\n",
       "    </tr>\n",
       "  </tbody>\n",
       "</table>\n",
       "</div>"
      ],
      "text/plain": [
       "   RowNumber  CustomerId  Surname  CreditScore  Geography  Gender  Age  \\\n",
       "0          1    15634602     1115          619          0       0   42   \n",
       "1          2    15647311     1177          608          2       0   41   \n",
       "2          3    15619304     2040          502          0       0   42   \n",
       "3          4    15701354      289          699          0       0   39   \n",
       "4          5    15737888     1822          850          2       0   43   \n",
       "\n",
       "   Tenure    Balance  NumOfProducts  HasCrCard  IsActiveMember  \\\n",
       "0       2       0.00              1          1               1   \n",
       "1       1   83807.86              1          0               1   \n",
       "2       8  159660.80              3          1               0   \n",
       "3       1       0.00              2          0               0   \n",
       "4       2  125510.82              1          1               1   \n",
       "\n",
       "   EstimatedSalary  Exited  \n",
       "0        101348.88       1  \n",
       "1        112542.58       0  \n",
       "2        113931.57       1  \n",
       "3         93826.63       0  \n",
       "4         79084.10       0  "
      ]
     },
     "execution_count": 86,
     "metadata": {},
     "output_type": "execute_result"
    }
   ],
   "source": [
    "data6.head()"
   ]
  },
  {
   "cell_type": "code",
   "execution_count": 87,
   "id": "30fa54b2",
   "metadata": {},
   "outputs": [
    {
     "name": "stdout",
     "output_type": "stream",
     "text": [
      "Size of training dataset: (7500, 14)\n",
      "Size of testing dataset: (2500, 14)\n"
     ]
    }
   ],
   "source": [
    "#切割資料，train:test=0.75:0.25\n",
    "train_data,test_data,train_labels,test_labels=train_test_split(data6,data6['Exited'],test_size=0.25)\n",
    "print('Size of training dataset:', train_data.shape)\n",
    "print('Size of testing dataset:', test_data.shape)"
   ]
  },
  {
   "cell_type": "code",
   "execution_count": 88,
   "id": "5479393d",
   "metadata": {},
   "outputs": [
    {
     "name": "stdout",
     "output_type": "stream",
     "text": [
      "Accuracy of testing dataset:  0.7672\n"
     ]
    }
   ],
   "source": [
    "from sklearn.neighbors import KNeighborsClassifier\n",
    "# Create the model\n",
    "knn = KNeighborsClassifier(n_neighbors=5)\n",
    "\n",
    "# Learn on the train subset\n",
    "knn.fit(train_data, train_labels)\n",
    "\n",
    "# Predict on the testing subset\n",
    "predicted = knn.predict(test_data)\n",
    "\n",
    "# Calculate accuracy\n",
    "accuracy = knn.score(test_data,test_labels)\n",
    "print('Accuracy of testing dataset: ', accuracy)"
   ]
  },
  {
   "cell_type": "code",
   "execution_count": 89,
   "id": "284bd332",
   "metadata": {},
   "outputs": [
    {
     "name": "stdout",
     "output_type": "stream",
     "text": [
      "Accuracy of testing dataset:  0.7968\n"
     ]
    }
   ],
   "source": [
    "from sklearn.linear_model import LogisticRegression\n",
    "# Create the model\n",
    "lm = LogisticRegression(solver=\"lbfgs\")\n",
    "\n",
    "# Learn on the train subset\n",
    "lm.fit(train_data, train_labels)\n",
    "\n",
    "# Predict on the testing subset\n",
    "predicted =lm.predict(test_data)\n",
    "\n",
    "# Calculate accuracy\n",
    "accuracy = lm.score(test_data,test_labels)\n",
    "print('Accuracy of testing dataset: ', accuracy)"
   ]
  },
  {
   "cell_type": "code",
   "execution_count": 90,
   "id": "d64517ce",
   "metadata": {},
   "outputs": [
    {
     "name": "stdout",
     "output_type": "stream",
     "text": [
      "Accuracy of testing dataset:  1.0\n"
     ]
    }
   ],
   "source": [
    "from sklearn.ensemble import RandomForestRegressor\n",
    "# Create the model\n",
    "RF = RandomForestRegressor()\n",
    "\n",
    "# Learn on the train subset\n",
    "RF.fit(train_data, train_labels)\n",
    "\n",
    "# Predict on the testing subset\n",
    "predicted =RF.predict(test_data)\n",
    "\n",
    "# Calculate accuracy\n",
    "accuracy = RF.score(test_data,test_labels)\n",
    "print('Accuracy of testing dataset: ', accuracy)"
   ]
  },
  {
   "cell_type": "code",
   "execution_count": 91,
   "id": "a13f21fe",
   "metadata": {},
   "outputs": [
    {
     "name": "stdout",
     "output_type": "stream",
     "text": [
      "Accuracy of testing dataset:  0.7968\n"
     ]
    }
   ],
   "source": [
    "from sklearn.neural_network import MLPClassifier\n",
    "# Create the model\n",
    "MLP = MLPClassifier()\n",
    "\n",
    "# Learn the digits on the train subset\n",
    "MLP.fit(train_data, train_labels)\n",
    "\n",
    "# Predict the value of the digit on the testing subset\n",
    "predicted = MLP.predict(test_data)\n",
    "\n",
    "# Calculate accuracy\n",
    "accuracy =  MLP.score(test_data,test_labels)\n",
    "print('Accuracy of testing dataset: ', accuracy)"
   ]
  },
  {
   "cell_type": "code",
   "execution_count": 92,
   "id": "96bbe1af",
   "metadata": {},
   "outputs": [
    {
     "name": "stdout",
     "output_type": "stream",
     "text": [
      "Accuracy of testing dataset:  0.7968\n"
     ]
    }
   ],
   "source": [
    "from sklearn import svm\n",
    "# Create the model\n",
    "svc = svm.SVC()\n",
    "\n",
    "# Learn the digits on the train subset\n",
    "svc.fit(train_data, train_labels)\n",
    "\n",
    "# Predict the value of the digit on the testing subset\n",
    "predicted = svc.predict(test_data)\n",
    "\n",
    "# Calculate accuracy\n",
    "accuracy = svc.score(test_data,test_labels)\n",
    "print('Accuracy of testing dataset: ', accuracy)"
   ]
  },
  {
   "cell_type": "code",
   "execution_count": 93,
   "id": "b421b38f",
   "metadata": {},
   "outputs": [
    {
     "name": "stdout",
     "output_type": "stream",
     "text": [
      "[23:56:53] WARNING: C:/Users/Administrator/workspace/xgboost-win64_release_1.4.0/src/learner.cc:1095: Starting in XGBoost 1.3.0, the default evaluation metric used with the objective 'binary:logistic' was changed from 'error' to 'logloss'. Explicitly set eval_metric if you'd like to restore the old behavior.\n",
      "Accuracy of testing dataset:  1.0\n"
     ]
    },
    {
     "name": "stderr",
     "output_type": "stream",
     "text": [
      "c:\\users\\kevin\\appdata\\local\\programs\\python\\python37\\lib\\site-packages\\xgboost\\sklearn.py:1146: UserWarning: The use of label encoder in XGBClassifier is deprecated and will be removed in a future release. To remove this warning, do the following: 1) Pass option use_label_encoder=False when constructing XGBClassifier object; and 2) Encode your labels (y) as integers starting with 0, i.e. 0, 1, 2, ..., [num_class - 1].\n",
      "  warnings.warn(label_encoder_deprecation_msg, UserWarning)\n"
     ]
    }
   ],
   "source": [
    "from xgboost import XGBClassifier\n",
    "# Create the model\n",
    "XGB = XGBClassifier()\n",
    "\n",
    "# Learn the digits on the train subset\n",
    "XGB.fit(train_data, train_labels)\n",
    "\n",
    "# Predict the value of the digit on the testing subset\n",
    "predicted = XGB.predict(test_data)\n",
    "\n",
    "# Calculate accuracy\n",
    "accuracy = XGB.score(test_data,test_labels)\n",
    "print('Accuracy of testing dataset: ', accuracy)"
   ]
  },
  {
   "cell_type": "code",
   "execution_count": 94,
   "id": "61c3cae0",
   "metadata": {},
   "outputs": [
    {
     "name": "stdout",
     "output_type": "stream",
     "text": [
      "0:\tlearn: 0.1276904\ttotal: 1.94ms\tremaining: 17.5ms\n",
      "1:\tlearn: 0.0431548\ttotal: 3.81ms\tremaining: 15.2ms\n",
      "2:\tlearn: 0.0156862\ttotal: 5.75ms\tremaining: 13.4ms\n",
      "3:\tlearn: 0.0059991\ttotal: 7.55ms\tremaining: 11.3ms\n",
      "4:\tlearn: 0.0024683\ttotal: 9.36ms\tremaining: 9.36ms\n",
      "5:\tlearn: 0.0011452\ttotal: 11.1ms\tremaining: 7.42ms\n",
      "6:\tlearn: 0.0005990\ttotal: 12.9ms\tremaining: 5.54ms\n",
      "7:\tlearn: 0.0003699\ttotal: 14.7ms\tremaining: 3.68ms\n",
      "8:\tlearn: 0.0002277\ttotal: 16.4ms\tremaining: 1.82ms\n",
      "9:\tlearn: 0.0001798\ttotal: 18.1ms\tremaining: 0us\n",
      "Accuracy of testing dataset:  1.0\n"
     ]
    }
   ],
   "source": [
    "from catboost import CatBoostClassifier\n",
    "# Create the model\n",
    "CAT = CatBoostClassifier(iterations=10,\n",
    "              learning_rate=1,\n",
    "              depth=2,\n",
    "              loss_function='MultiClass')\n",
    "\n",
    "# Learn the digits on the train subset\n",
    "CAT.fit(train_data, train_labels)\n",
    "\n",
    "# Predict the value of the digit on the testing subset\n",
    "predicted = CAT.predict(test_data)\n",
    "\n",
    "# Calculate accuracy\n",
    "accuracy = CAT.score(test_data,test_labels)\n",
    "print('Accuracy of testing dataset: ', accuracy)"
   ]
  },
  {
   "cell_type": "code",
   "execution_count": 95,
   "id": "34c5f891",
   "metadata": {},
   "outputs": [
    {
     "name": "stdout",
     "output_type": "stream",
     "text": [
      "[LightGBM] [Warning] boosting is set=gbdt, boosting_type=gbdt will be ignored. Current value: boosting=gbdt\n",
      "[LightGBM] [Warning] feature_fraction is set=0.5, colsample_bytree=1.0 will be ignored. Current value: feature_fraction=0.5\n",
      "Accuracy of testing dataset:  1.0\n"
     ]
    }
   ],
   "source": [
    "import lightgbm as lgb\n",
    "# Create the model\n",
    "LGBM = lgb.LGBMClassifier(application='multiclass', boosting='gbdt', learning_rate=0.1, max_depth=-5, feature_fraction=0.5, random_state=42)\n",
    "\n",
    "# Learn the digits on the train subset\n",
    "LGBM.fit(train_data, train_labels)\n",
    "\n",
    "# Predict the value of the digit on the testing subset\n",
    "predicted = LGBM.predict(test_data)\n",
    "\n",
    "# Calculate accuracy\n",
    "accuracy =LGBM.score(test_data,test_labels)\n",
    "print('Accuracy of testing dataset: ', accuracy)"
   ]
  },
  {
   "cell_type": "markdown",
   "id": "5fc4252c",
   "metadata": {},
   "source": [
    "# 創建function"
   ]
  },
  {
   "cell_type": "code",
   "execution_count": 96,
   "id": "c1806029",
   "metadata": {},
   "outputs": [],
   "source": [
    "data1=pd.read_csv(\"income_evaluation.csv\")\n",
    "data2_train=pd.read_csv(\"arcene_train.data\",sep=\" \",header=None)\n",
    "data2_valid=pd.read_csv(\"arcene_valid.data\",sep=\" \",header=None)\n",
    "data2_train_label=pd.read_csv(\"arcene_train.labels\",sep=\" \",header=None)\n",
    "data2_valid_label=pd.read_csv(\"arcene_valid.labels\",sep=\" \",header=None)\n",
    "data2_label=data2_train_label.append(data2_valid_label)\n",
    "data2_all=data2_train.append(data2_valid).dropna(axis='columns')\n",
    "data2=pd.concat([data2_all,data2_label],axis=1)\n",
    "data2.columns=[x for x in range(0,10001)]\n",
    "data3=pd.read_csv(\".\\\\bank\\\\bank_all.csv\")\n",
    "data4=pd.read_csv(\"Telco-Customer-Churn.csv\")\n",
    "data5=pd.read_csv(\"online_shoppers_intention.csv\")\n",
    "data6=pd.read_csv(\"Churn_Modelling.csv\")"
   ]
  },
  {
   "cell_type": "code",
   "execution_count": 97,
   "id": "25628147",
   "metadata": {
    "scrolled": true
   },
   "outputs": [
    {
     "name": "stdout",
     "output_type": "stream",
     "text": [
      "<class 'pandas.core.frame.DataFrame'>\n",
      "RangeIndex: 12330 entries, 0 to 12329\n",
      "Data columns (total 18 columns):\n",
      " #   Column                   Non-Null Count  Dtype  \n",
      "---  ------                   --------------  -----  \n",
      " 0   Administrative           12330 non-null  int64  \n",
      " 1   Administrative_Duration  12330 non-null  float64\n",
      " 2   Informational            12330 non-null  int64  \n",
      " 3   Informational_Duration   12330 non-null  float64\n",
      " 4   ProductRelated           12330 non-null  int64  \n",
      " 5   ProductRelated_Duration  12330 non-null  float64\n",
      " 6   BounceRates              12330 non-null  float64\n",
      " 7   ExitRates                12330 non-null  float64\n",
      " 8   PageValues               12330 non-null  float64\n",
      " 9   SpecialDay               12330 non-null  float64\n",
      " 10  Month                    12330 non-null  object \n",
      " 11  OperatingSystems         12330 non-null  int64  \n",
      " 12  Browser                  12330 non-null  int64  \n",
      " 13  Region                   12330 non-null  int64  \n",
      " 14  TrafficType              12330 non-null  int64  \n",
      " 15  VisitorType              12330 non-null  object \n",
      " 16  Weekend                  12330 non-null  bool   \n",
      " 17  Revenue                  12330 non-null  bool   \n",
      "dtypes: bool(2), float64(7), int64(7), object(2)\n",
      "memory usage: 1.5+ MB\n"
     ]
    }
   ],
   "source": [
    "data5.info()"
   ]
  },
  {
   "cell_type": "code",
   "execution_count": 98,
   "id": "81d075c1",
   "metadata": {},
   "outputs": [],
   "source": [
    "# change the type of data \n",
    "def data_type_change(data):\n",
    "    columns=data.columns\n",
    "    for one in columns:\n",
    "        if (data[one].dtypes==\"O\")or(data[one].dtypes=='bool'):\n",
    "            labelencoder = LabelEncoder()\n",
    "            data[one]=labelencoder.fit_transform(data[one])\n",
    "    return data"
   ]
  },
  {
   "cell_type": "code",
   "execution_count": 99,
   "id": "b8733761",
   "metadata": {},
   "outputs": [],
   "source": [
    "def train_test_spliter(data,Supervised_or_not,test_ratio):\n",
    "    if Supervised_or_not is True:\n",
    "        train_data,test_data,train_labels,test_labels=train_test_split(data,data.iloc[:,-1],test_size=test_ratio)\n",
    "    else:\n",
    "        train=data.sample(n=50,replace=False)\n",
    "        test=data.drop(train.index)\n",
    "        train_data=train.iloc[:,:-2]\n",
    "        train_labels=train.iloc[:,-1]\n",
    "        test_data=test.iloc[:,:-2]\n",
    "        test_labels=test.iloc[:,-1]\n",
    "    return train_data,test_data,train_labels,test_labels"
   ]
  },
  {
   "cell_type": "code",
   "execution_count": 100,
   "id": "6b9a77a0",
   "metadata": {},
   "outputs": [],
   "source": [
    "def set_model_accuracy(data,Supervised_or_not,test_ratio):\n",
    "    #split data\n",
    "    train_data,test_data,train_labels,test_labels=train_test_spliter(data,Supervised_or_not,test_ratio)\n",
    "    #set model1\n",
    "    knn = KNeighborsClassifier(n_neighbors=5)\n",
    "    knn.fit(train_data, train_labels)\n",
    "    accuracy_knn = metrics.accuracy_score(test_labels, knn.predict(test_data))\n",
    "    #set model2\n",
    "    lm = LogisticRegression(solver=\"lbfgs\")\n",
    "    lm.fit(train_data, train_labels)\n",
    "    accuracy_lm = metrics.accuracy_score(test_labels, lm.predict(test_data))\n",
    "    #set model3\n",
    "    RF = RandomForestClassifier(n_estimators=100, random_state=0)\n",
    "    RF.fit(train_data, train_labels)\n",
    "    accuracy_RF = metrics.accuracy_score(test_labels, RF.predict(test_data))\n",
    "    #set model4\n",
    "    MLP = MLPClassifier()\n",
    "    MLP.fit(train_data, train_labels)\n",
    "    accuracy_MLP = metrics.accuracy_score(test_labels,MLP.predict(test_data))\n",
    "    #set model5\n",
    "    svc = svm.SVC()\n",
    "    svc.fit(train_data, train_labels)\n",
    "    accuracy_svm = metrics.accuracy_score(test_labels,svc.predict(test_data))\n",
    "    #set model6\n",
    "    XGB = XGBClassifier()\n",
    "    XGB.fit(train_data, train_labels)\n",
    "    accuracy_XGB = metrics.accuracy_score(test_labels,XGB.predict(test_data))\n",
    "    #set model7\n",
    "    CAT = CatBoostClassifier(iterations=10,\n",
    "                  learning_rate=1,\n",
    "                  depth=2,\n",
    "                  loss_function='MultiClass')\n",
    "    CAT.fit(train_data, train_labels)\n",
    "    accuracy_CAT = metrics.accuracy_score(test_labels,CAT.predict(test_data))\n",
    "    #set model8\n",
    "    LGBM = lgb.LGBMClassifier(application='multiclass', boosting='gbdt', learning_rate=0.1, max_depth=-5, feature_fraction=0.5, random_state=42)\n",
    "    LGBM.fit(train_data, train_labels)\n",
    "    accuracy_LGBM = metrics.accuracy_score(test_labels,LGBM.predict(test_data))\n",
    "\n",
    "    # create accuracy_table\n",
    "    accuracy_table=pd.DataFrame([accuracy_knn,accuracy_lm,accuracy_RF,accuracy_MLP,accuracy_svm,accuracy_XGB,accuracy_CAT,accuracy_LGBM],\n",
    "                                index=[\"KNN\",\"LM\",\"RF\",\"MLP\",\"SVM\",\"XGB\",\"CAT\",\"LGBM\"],columns=[\"Accuracy\"])\n",
    "    return accuracy_table"
   ]
  },
  {
   "cell_type": "code",
   "execution_count": 101,
   "id": "6e69744c",
   "metadata": {},
   "outputs": [],
   "source": [
    "def set_model_AUC(data,Supervised_or_not,test_ratio):\n",
    "    #split data\n",
    "    train_data,test_data,train_labels,test_labels=train_test_spliter(data,Supervised_or_not,test_ratio)\n",
    "    #set model1\n",
    "    knn = KNeighborsClassifier(n_neighbors=5)\n",
    "    knn.fit(train_data, train_labels)\n",
    "    fpr, tpr, thresholds = metrics.roc_curve(test_labels, knn.predict(test_data))\n",
    "    auc.knn =metrics.auc(fpr, tpr)\n",
    "    #set model2\n",
    "    lm = LogisticRegression(solver=\"lbfgs\")\n",
    "    lm.fit(train_data, train_labels)\n",
    "    fpr, tpr, thresholds = metrics.roc_curve(test_labels, lm.predict(test_data))\n",
    "    auc.lm =metrics.auc(fpr, tpr)\n",
    "    #set model3\n",
    "    RF = RandomForestClassifier(n_estimators=100, random_state=0)\n",
    "    RF.fit(train_data, train_labels)\n",
    "    fpr, tpr, thresholds = metrics.roc_curve(test_labels, RF.predict(test_data))\n",
    "    auc.RF =metrics.auc(fpr, tpr)\n",
    "    #set model4\n",
    "    MLP = MLPClassifier()\n",
    "    MLP.fit(train_data, train_labels)\n",
    "    fpr, tpr, thresholds = metrics.roc_curve(test_labels, MLP.predict(test_data))\n",
    "    auc.MLP =metrics.auc(fpr, tpr)\n",
    "    #set model5\n",
    "    svc = svm.SVC()\n",
    "    svc.fit(train_data, train_labels)\n",
    "    fpr, tpr, thresholds = metrics.roc_curve(test_labels, svc.predict(test_data))\n",
    "    auc.svm =metrics.auc(fpr, tpr)\n",
    "    #set model6\n",
    "    XGB = XGBClassifier()\n",
    "    XGB.fit(train_data, train_labels)\n",
    "    fpr, tpr, thresholds = metrics.roc_curve(test_labels, XGB.predict(test_data))\n",
    "    auc.XGB =metrics.auc(fpr, tpr)\n",
    "    #set model7\n",
    "    CAT = CatBoostClassifier(iterations=10,\n",
    "                  learning_rate=1,\n",
    "                  depth=2,\n",
    "                  loss_function='MultiClass')\n",
    "    CAT.fit(train_data, train_labels)\n",
    "    fpr, tpr, thresholds = metrics.roc_curve(test_labels, CAT.predict(test_data))\n",
    "    auc.CAT =metrics.auc(fpr, tpr)\n",
    "    #set model8\n",
    "    LGBM = lgb.LGBMClassifier(application='multiclass', boosting='gbdt', learning_rate=0.1, max_depth=-5, feature_fraction=0.5, random_state=42)\n",
    "    LGBM.fit(train_data, train_labels)\n",
    "    fpr, tpr, thresholds = metrics.roc_curve(test_labels, LGBM.predict(test_data))\n",
    "    auc.LGBM =metrics.auc(fpr, tpr)\n",
    "\n",
    "    # create accuracy_table\n",
    "    AUC_table=pd.DataFrame([auc.knn,auc.lm,auc.RF,auc.MLP,auc.svm,auc.XGB,auc.CAT,auc.LGBM],index=[\"KNN\",\"LM\",\"RF\",\"MLP\",\"SVM\",\"XGB\",\"CAT\",\"LGBM\"],columns=[\"AUC\"])\n",
    "    return AUC_table"
   ]
  },
  {
   "cell_type": "markdown",
   "id": "70f3ae47",
   "metadata": {},
   "source": [
    "# supervised learning"
   ]
  },
  {
   "cell_type": "code",
   "execution_count": 102,
   "id": "a0513830",
   "metadata": {},
   "outputs": [
    {
     "name": "stderr",
     "output_type": "stream",
     "text": [
      "c:\\users\\kevin\\appdata\\local\\programs\\python\\python37\\lib\\site-packages\\sklearn\\linear_model\\_logistic.py:765: ConvergenceWarning: lbfgs failed to converge (status=1):\n",
      "STOP: TOTAL NO. of ITERATIONS REACHED LIMIT.\n",
      "\n",
      "Increase the number of iterations (max_iter) or scale the data as shown in:\n",
      "    https://scikit-learn.org/stable/modules/preprocessing.html\n",
      "Please also refer to the documentation for alternative solver options:\n",
      "    https://scikit-learn.org/stable/modules/linear_model.html#logistic-regression\n",
      "  extra_warning_msg=_LOGISTIC_SOLVER_CONVERGENCE_MSG)\n",
      "c:\\users\\kevin\\appdata\\local\\programs\\python\\python37\\lib\\site-packages\\xgboost\\sklearn.py:1146: UserWarning: The use of label encoder in XGBClassifier is deprecated and will be removed in a future release. To remove this warning, do the following: 1) Pass option use_label_encoder=False when constructing XGBClassifier object; and 2) Encode your labels (y) as integers starting with 0, i.e. 0, 1, 2, ..., [num_class - 1].\n",
      "  warnings.warn(label_encoder_deprecation_msg, UserWarning)\n"
     ]
    },
    {
     "name": "stdout",
     "output_type": "stream",
     "text": [
      "[23:57:12] WARNING: C:/Users/Administrator/workspace/xgboost-win64_release_1.4.0/src/learner.cc:1095: Starting in XGBoost 1.3.0, the default evaluation metric used with the objective 'binary:logistic' was changed from 'error' to 'logloss'. Explicitly set eval_metric if you'd like to restore the old behavior.\n",
      "0:\tlearn: 0.1271623\ttotal: 3.88ms\tremaining: 34.9ms\n",
      "1:\tlearn: 0.0427476\ttotal: 7.39ms\tremaining: 29.6ms\n",
      "2:\tlearn: 0.0153461\ttotal: 10.9ms\tremaining: 25.5ms\n",
      "3:\tlearn: 0.0056775\ttotal: 14.4ms\tremaining: 21.7ms\n",
      "4:\tlearn: 0.0021590\ttotal: 17.9ms\tremaining: 17.9ms\n",
      "5:\tlearn: 0.0008761\ttotal: 21.9ms\tremaining: 14.6ms\n",
      "6:\tlearn: 0.0003980\ttotal: 25.4ms\tremaining: 10.9ms\n",
      "7:\tlearn: 0.0001944\ttotal: 29.2ms\tremaining: 7.29ms\n",
      "8:\tlearn: 0.0001126\ttotal: 32.5ms\tremaining: 3.62ms\n",
      "9:\tlearn: 0.0000759\ttotal: 35.8ms\tremaining: 0us\n",
      "[LightGBM] [Warning] boosting is set=gbdt, boosting_type=gbdt will be ignored. Current value: boosting=gbdt\n",
      "[LightGBM] [Warning] feature_fraction is set=0.5, colsample_bytree=1.0 will be ignored. Current value: feature_fraction=0.5\n"
     ]
    },
    {
     "name": "stderr",
     "output_type": "stream",
     "text": [
      "c:\\users\\kevin\\appdata\\local\\programs\\python\\python37\\lib\\site-packages\\xgboost\\sklearn.py:1146: UserWarning: The use of label encoder in XGBClassifier is deprecated and will be removed in a future release. To remove this warning, do the following: 1) Pass option use_label_encoder=False when constructing XGBClassifier object; and 2) Encode your labels (y) as integers starting with 0, i.e. 0, 1, 2, ..., [num_class - 1].\n",
      "  warnings.warn(label_encoder_deprecation_msg, UserWarning)\n"
     ]
    },
    {
     "name": "stdout",
     "output_type": "stream",
     "text": [
      "[23:57:30] WARNING: C:/Users/Administrator/workspace/xgboost-win64_release_1.4.0/src/learner.cc:1095: Starting in XGBoost 1.3.0, the default evaluation metric used with the objective 'binary:logistic' was changed from 'error' to 'logloss'. Explicitly set eval_metric if you'd like to restore the old behavior.\n",
      "0:\tlearn: 0.1271623\ttotal: 3.58ms\tremaining: 32.2ms\n",
      "1:\tlearn: 0.0427476\ttotal: 7.26ms\tremaining: 29ms\n",
      "2:\tlearn: 0.0153454\ttotal: 10.8ms\tremaining: 25.1ms\n",
      "3:\tlearn: 0.0056772\ttotal: 14.4ms\tremaining: 21.5ms\n",
      "4:\tlearn: 0.0021588\ttotal: 17.8ms\tremaining: 17.8ms\n",
      "5:\tlearn: 0.0008761\ttotal: 21.7ms\tremaining: 14.4ms\n",
      "6:\tlearn: 0.0003980\ttotal: 25.3ms\tremaining: 10.8ms\n",
      "7:\tlearn: 0.0001943\ttotal: 28.8ms\tremaining: 7.2ms\n",
      "8:\tlearn: 0.0001125\ttotal: 32.4ms\tremaining: 3.6ms\n",
      "9:\tlearn: 0.0000758\ttotal: 37.1ms\tremaining: 0us\n",
      "[LightGBM] [Warning] boosting is set=gbdt, boosting_type=gbdt will be ignored. Current value: boosting=gbdt\n",
      "[LightGBM] [Warning] feature_fraction is set=0.5, colsample_bytree=1.0 will be ignored. Current value: feature_fraction=0.5\n"
     ]
    },
    {
     "name": "stderr",
     "output_type": "stream",
     "text": [
      "c:\\users\\kevin\\appdata\\local\\programs\\python\\python37\\lib\\site-packages\\sklearn\\linear_model\\_logistic.py:765: ConvergenceWarning: lbfgs failed to converge (status=1):\n",
      "STOP: TOTAL NO. of ITERATIONS REACHED LIMIT.\n",
      "\n",
      "Increase the number of iterations (max_iter) or scale the data as shown in:\n",
      "    https://scikit-learn.org/stable/modules/preprocessing.html\n",
      "Please also refer to the documentation for alternative solver options:\n",
      "    https://scikit-learn.org/stable/modules/linear_model.html#logistic-regression\n",
      "  extra_warning_msg=_LOGISTIC_SOLVER_CONVERGENCE_MSG)\n",
      "c:\\users\\kevin\\appdata\\local\\programs\\python\\python37\\lib\\site-packages\\xgboost\\sklearn.py:1146: UserWarning: The use of label encoder in XGBClassifier is deprecated and will be removed in a future release. To remove this warning, do the following: 1) Pass option use_label_encoder=False when constructing XGBClassifier object; and 2) Encode your labels (y) as integers starting with 0, i.e. 0, 1, 2, ..., [num_class - 1].\n",
      "  warnings.warn(label_encoder_deprecation_msg, UserWarning)\n"
     ]
    },
    {
     "name": "stdout",
     "output_type": "stream",
     "text": [
      "[23:57:52] WARNING: C:/Users/Administrator/workspace/xgboost-win64_release_1.4.0/src/learner.cc:1095: Starting in XGBoost 1.3.0, the default evaluation metric used with the objective 'binary:logistic' was changed from 'error' to 'logloss'. Explicitly set eval_metric if you'd like to restore the old behavior.\n",
      "0:\tlearn: 0.1271623\ttotal: 3.63ms\tremaining: 32.7ms\n",
      "1:\tlearn: 0.0427476\ttotal: 7.74ms\tremaining: 31ms\n",
      "2:\tlearn: 0.0153450\ttotal: 12.4ms\tremaining: 28.9ms\n",
      "3:\tlearn: 0.0056771\ttotal: 15.8ms\tremaining: 23.8ms\n",
      "4:\tlearn: 0.0021588\ttotal: 19.3ms\tremaining: 19.3ms\n",
      "5:\tlearn: 0.0008761\ttotal: 22.7ms\tremaining: 15.1ms\n",
      "6:\tlearn: 0.0003980\ttotal: 26.1ms\tremaining: 11.2ms\n",
      "7:\tlearn: 0.0001943\ttotal: 29.5ms\tremaining: 7.37ms\n",
      "8:\tlearn: 0.0001125\ttotal: 33ms\tremaining: 3.66ms\n",
      "9:\tlearn: 0.0000757\ttotal: 36.6ms\tremaining: 0us\n",
      "[LightGBM] [Warning] boosting is set=gbdt, boosting_type=gbdt will be ignored. Current value: boosting=gbdt\n",
      "[LightGBM] [Warning] feature_fraction is set=0.5, colsample_bytree=1.0 will be ignored. Current value: feature_fraction=0.5\n"
     ]
    },
    {
     "name": "stderr",
     "output_type": "stream",
     "text": [
      "c:\\users\\kevin\\appdata\\local\\programs\\python\\python37\\lib\\site-packages\\xgboost\\sklearn.py:1146: UserWarning: The use of label encoder in XGBClassifier is deprecated and will be removed in a future release. To remove this warning, do the following: 1) Pass option use_label_encoder=False when constructing XGBClassifier object; and 2) Encode your labels (y) as integers starting with 0, i.e. 0, 1, 2, ..., [num_class - 1].\n",
      "  warnings.warn(label_encoder_deprecation_msg, UserWarning)\n"
     ]
    },
    {
     "name": "stdout",
     "output_type": "stream",
     "text": [
      "[23:58:11] WARNING: C:/Users/Administrator/workspace/xgboost-win64_release_1.4.0/src/learner.cc:1095: Starting in XGBoost 1.3.0, the default evaluation metric used with the objective 'binary:logistic' was changed from 'error' to 'logloss'. Explicitly set eval_metric if you'd like to restore the old behavior.\n",
      "0:\tlearn: 0.1271623\ttotal: 3.35ms\tremaining: 30.2ms\n",
      "1:\tlearn: 0.0427476\ttotal: 7.4ms\tremaining: 29.6ms\n",
      "2:\tlearn: 0.0153458\ttotal: 11.1ms\tremaining: 26ms\n",
      "3:\tlearn: 0.0056774\ttotal: 14.6ms\tremaining: 21.9ms\n",
      "4:\tlearn: 0.0021588\ttotal: 18.1ms\tremaining: 18.1ms\n",
      "5:\tlearn: 0.0008761\ttotal: 21.8ms\tremaining: 14.5ms\n",
      "6:\tlearn: 0.0003980\ttotal: 25.8ms\tremaining: 11ms\n",
      "7:\tlearn: 0.0001943\ttotal: 29.5ms\tremaining: 7.38ms\n",
      "8:\tlearn: 0.0001126\ttotal: 33ms\tremaining: 3.67ms\n",
      "9:\tlearn: 0.0000758\ttotal: 36.7ms\tremaining: 0us\n",
      "[LightGBM] [Warning] boosting is set=gbdt, boosting_type=gbdt will be ignored. Current value: boosting=gbdt\n",
      "[LightGBM] [Warning] feature_fraction is set=0.5, colsample_bytree=1.0 will be ignored. Current value: feature_fraction=0.5\n"
     ]
    },
    {
     "name": "stderr",
     "output_type": "stream",
     "text": [
      "c:\\users\\kevin\\appdata\\local\\programs\\python\\python37\\lib\\site-packages\\xgboost\\sklearn.py:1146: UserWarning: The use of label encoder in XGBClassifier is deprecated and will be removed in a future release. To remove this warning, do the following: 1) Pass option use_label_encoder=False when constructing XGBClassifier object; and 2) Encode your labels (y) as integers starting with 0, i.e. 0, 1, 2, ..., [num_class - 1].\n",
      "  warnings.warn(label_encoder_deprecation_msg, UserWarning)\n"
     ]
    },
    {
     "name": "stdout",
     "output_type": "stream",
     "text": [
      "[23:58:28] WARNING: C:/Users/Administrator/workspace/xgboost-win64_release_1.4.0/src/learner.cc:1095: Starting in XGBoost 1.3.0, the default evaluation metric used with the objective 'binary:logistic' was changed from 'error' to 'logloss'. Explicitly set eval_metric if you'd like to restore the old behavior.\n",
      "0:\tlearn: 0.1271623\ttotal: 4ms\tremaining: 36ms\n",
      "1:\tlearn: 0.0427476\ttotal: 7.8ms\tremaining: 31.2ms\n",
      "2:\tlearn: 0.0153461\ttotal: 11.4ms\tremaining: 26.5ms\n",
      "3:\tlearn: 0.0056775\ttotal: 15.2ms\tremaining: 22.8ms\n",
      "4:\tlearn: 0.0021585\ttotal: 18.8ms\tremaining: 18.8ms\n",
      "5:\tlearn: 0.0008760\ttotal: 22.3ms\tremaining: 14.8ms\n",
      "6:\tlearn: 0.0003980\ttotal: 25.5ms\tremaining: 10.9ms\n",
      "7:\tlearn: 0.0001941\ttotal: 28.7ms\tremaining: 7.18ms\n",
      "8:\tlearn: 0.0001123\ttotal: 32.1ms\tremaining: 3.56ms\n",
      "9:\tlearn: 0.0000756\ttotal: 35.5ms\tremaining: 0us\n",
      "[LightGBM] [Warning] boosting is set=gbdt, boosting_type=gbdt will be ignored. Current value: boosting=gbdt\n",
      "[LightGBM] [Warning] feature_fraction is set=0.5, colsample_bytree=1.0 will be ignored. Current value: feature_fraction=0.5\n"
     ]
    },
    {
     "name": "stderr",
     "output_type": "stream",
     "text": [
      "c:\\users\\kevin\\appdata\\local\\programs\\python\\python37\\lib\\site-packages\\sklearn\\linear_model\\_logistic.py:765: ConvergenceWarning: lbfgs failed to converge (status=1):\n",
      "STOP: TOTAL NO. of ITERATIONS REACHED LIMIT.\n",
      "\n",
      "Increase the number of iterations (max_iter) or scale the data as shown in:\n",
      "    https://scikit-learn.org/stable/modules/preprocessing.html\n",
      "Please also refer to the documentation for alternative solver options:\n",
      "    https://scikit-learn.org/stable/modules/linear_model.html#logistic-regression\n",
      "  extra_warning_msg=_LOGISTIC_SOLVER_CONVERGENCE_MSG)\n",
      "c:\\users\\kevin\\appdata\\local\\programs\\python\\python37\\lib\\site-packages\\xgboost\\sklearn.py:1146: UserWarning: The use of label encoder in XGBClassifier is deprecated and will be removed in a future release. To remove this warning, do the following: 1) Pass option use_label_encoder=False when constructing XGBClassifier object; and 2) Encode your labels (y) as integers starting with 0, i.e. 0, 1, 2, ..., [num_class - 1].\n",
      "  warnings.warn(label_encoder_deprecation_msg, UserWarning)\n"
     ]
    },
    {
     "name": "stdout",
     "output_type": "stream",
     "text": [
      "[23:58:34] WARNING: C:/Users/Administrator/workspace/xgboost-win64_release_1.4.0/src/learner.cc:1095: Starting in XGBoost 1.3.0, the default evaluation metric used with the objective 'binary:logistic' was changed from 'error' to 'logloss'. Explicitly set eval_metric if you'd like to restore the old behavior.\n",
      "0:\tlearn: 0.1632236\ttotal: 99.8ms\tremaining: 898ms\n",
      "1:\tlearn: 0.0667293\ttotal: 145ms\tremaining: 580ms\n",
      "2:\tlearn: 0.0342985\ttotal: 191ms\tremaining: 446ms\n",
      "3:\tlearn: 0.0212003\ttotal: 241ms\tremaining: 361ms\n",
      "4:\tlearn: 0.0149109\ttotal: 294ms\tremaining: 294ms\n",
      "5:\tlearn: 0.0108587\ttotal: 355ms\tremaining: 237ms\n",
      "6:\tlearn: 0.0083644\ttotal: 404ms\tremaining: 173ms\n",
      "7:\tlearn: 0.0067100\ttotal: 453ms\tremaining: 113ms\n",
      "8:\tlearn: 0.0057686\ttotal: 503ms\tremaining: 55.9ms\n",
      "9:\tlearn: 0.0049037\ttotal: 553ms\tremaining: 0us\n",
      "[LightGBM] [Warning] boosting is set=gbdt, boosting_type=gbdt will be ignored. Current value: boosting=gbdt\n",
      "[LightGBM] [Warning] feature_fraction is set=0.5, colsample_bytree=1.0 will be ignored. Current value: feature_fraction=0.5\n"
     ]
    },
    {
     "name": "stderr",
     "output_type": "stream",
     "text": [
      "c:\\users\\kevin\\appdata\\local\\programs\\python\\python37\\lib\\site-packages\\sklearn\\linear_model\\_logistic.py:765: ConvergenceWarning: lbfgs failed to converge (status=1):\n",
      "STOP: TOTAL NO. of ITERATIONS REACHED LIMIT.\n",
      "\n",
      "Increase the number of iterations (max_iter) or scale the data as shown in:\n",
      "    https://scikit-learn.org/stable/modules/preprocessing.html\n",
      "Please also refer to the documentation for alternative solver options:\n",
      "    https://scikit-learn.org/stable/modules/linear_model.html#logistic-regression\n",
      "  extra_warning_msg=_LOGISTIC_SOLVER_CONVERGENCE_MSG)\n",
      "c:\\users\\kevin\\appdata\\local\\programs\\python\\python37\\lib\\site-packages\\xgboost\\sklearn.py:1146: UserWarning: The use of label encoder in XGBClassifier is deprecated and will be removed in a future release. To remove this warning, do the following: 1) Pass option use_label_encoder=False when constructing XGBClassifier object; and 2) Encode your labels (y) as integers starting with 0, i.e. 0, 1, 2, ..., [num_class - 1].\n",
      "  warnings.warn(label_encoder_deprecation_msg, UserWarning)\n"
     ]
    },
    {
     "name": "stdout",
     "output_type": "stream",
     "text": [
      "[23:58:45] WARNING: C:/Users/Administrator/workspace/xgboost-win64_release_1.4.0/src/learner.cc:1095: Starting in XGBoost 1.3.0, the default evaluation metric used with the objective 'binary:logistic' was changed from 'error' to 'logloss'. Explicitly set eval_metric if you'd like to restore the old behavior.\n",
      "0:\tlearn: 0.1639706\ttotal: 87.6ms\tremaining: 789ms\n",
      "1:\tlearn: 0.0681062\ttotal: 134ms\tremaining: 535ms\n",
      "2:\tlearn: 0.0342572\ttotal: 181ms\tremaining: 423ms\n",
      "3:\tlearn: 0.0212757\ttotal: 230ms\tremaining: 345ms\n",
      "4:\tlearn: 0.0147863\ttotal: 289ms\tremaining: 289ms\n",
      "5:\tlearn: 0.0108239\ttotal: 351ms\tremaining: 234ms\n",
      "6:\tlearn: 0.0085927\ttotal: 399ms\tremaining: 171ms\n",
      "7:\tlearn: 0.0070646\ttotal: 448ms\tremaining: 112ms\n",
      "8:\tlearn: 0.0060064\ttotal: 499ms\tremaining: 55.4ms\n",
      "9:\tlearn: 0.0052279\ttotal: 556ms\tremaining: 0us\n",
      "[LightGBM] [Warning] boosting is set=gbdt, boosting_type=gbdt will be ignored. Current value: boosting=gbdt\n",
      "[LightGBM] [Warning] feature_fraction is set=0.5, colsample_bytree=1.0 will be ignored. Current value: feature_fraction=0.5\n"
     ]
    },
    {
     "name": "stderr",
     "output_type": "stream",
     "text": [
      "c:\\users\\kevin\\appdata\\local\\programs\\python\\python37\\lib\\site-packages\\sklearn\\linear_model\\_logistic.py:765: ConvergenceWarning: lbfgs failed to converge (status=1):\n",
      "STOP: TOTAL NO. of ITERATIONS REACHED LIMIT.\n",
      "\n",
      "Increase the number of iterations (max_iter) or scale the data as shown in:\n",
      "    https://scikit-learn.org/stable/modules/preprocessing.html\n",
      "Please also refer to the documentation for alternative solver options:\n",
      "    https://scikit-learn.org/stable/modules/linear_model.html#logistic-regression\n",
      "  extra_warning_msg=_LOGISTIC_SOLVER_CONVERGENCE_MSG)\n",
      "c:\\users\\kevin\\appdata\\local\\programs\\python\\python37\\lib\\site-packages\\xgboost\\sklearn.py:1146: UserWarning: The use of label encoder in XGBClassifier is deprecated and will be removed in a future release. To remove this warning, do the following: 1) Pass option use_label_encoder=False when constructing XGBClassifier object; and 2) Encode your labels (y) as integers starting with 0, i.e. 0, 1, 2, ..., [num_class - 1].\n",
      "  warnings.warn(label_encoder_deprecation_msg, UserWarning)\n"
     ]
    },
    {
     "name": "stdout",
     "output_type": "stream",
     "text": [
      "[23:58:56] WARNING: C:/Users/Administrator/workspace/xgboost-win64_release_1.4.0/src/learner.cc:1095: Starting in XGBoost 1.3.0, the default evaluation metric used with the objective 'binary:logistic' was changed from 'error' to 'logloss'. Explicitly set eval_metric if you'd like to restore the old behavior.\n",
      "0:\tlearn: 0.1633913\ttotal: 176ms\tremaining: 1.58s\n",
      "1:\tlearn: 0.0633135\ttotal: 246ms\tremaining: 985ms\n",
      "2:\tlearn: 0.0303703\ttotal: 321ms\tremaining: 749ms\n",
      "3:\tlearn: 0.0193422\ttotal: 429ms\tremaining: 643ms\n",
      "4:\tlearn: 0.0126944\ttotal: 507ms\tremaining: 507ms\n",
      "5:\tlearn: 0.0093055\ttotal: 558ms\tremaining: 372ms\n",
      "6:\tlearn: 0.0071152\ttotal: 611ms\tremaining: 262ms\n",
      "7:\tlearn: 0.0060030\ttotal: 666ms\tremaining: 167ms\n",
      "8:\tlearn: 0.0052237\ttotal: 727ms\tremaining: 80.8ms\n",
      "9:\tlearn: 0.0045871\ttotal: 786ms\tremaining: 0us\n",
      "[LightGBM] [Warning] boosting is set=gbdt, boosting_type=gbdt will be ignored. Current value: boosting=gbdt\n",
      "[LightGBM] [Warning] feature_fraction is set=0.5, colsample_bytree=1.0 will be ignored. Current value: feature_fraction=0.5\n"
     ]
    },
    {
     "name": "stderr",
     "output_type": "stream",
     "text": [
      "c:\\users\\kevin\\appdata\\local\\programs\\python\\python37\\lib\\site-packages\\sklearn\\linear_model\\_logistic.py:765: ConvergenceWarning: lbfgs failed to converge (status=1):\n",
      "STOP: TOTAL NO. of ITERATIONS REACHED LIMIT.\n",
      "\n",
      "Increase the number of iterations (max_iter) or scale the data as shown in:\n",
      "    https://scikit-learn.org/stable/modules/preprocessing.html\n",
      "Please also refer to the documentation for alternative solver options:\n",
      "    https://scikit-learn.org/stable/modules/linear_model.html#logistic-regression\n",
      "  extra_warning_msg=_LOGISTIC_SOLVER_CONVERGENCE_MSG)\n",
      "c:\\users\\kevin\\appdata\\local\\programs\\python\\python37\\lib\\site-packages\\xgboost\\sklearn.py:1146: UserWarning: The use of label encoder in XGBClassifier is deprecated and will be removed in a future release. To remove this warning, do the following: 1) Pass option use_label_encoder=False when constructing XGBClassifier object; and 2) Encode your labels (y) as integers starting with 0, i.e. 0, 1, 2, ..., [num_class - 1].\n",
      "  warnings.warn(label_encoder_deprecation_msg, UserWarning)\n"
     ]
    },
    {
     "name": "stdout",
     "output_type": "stream",
     "text": [
      "[23:59:09] WARNING: C:/Users/Administrator/workspace/xgboost-win64_release_1.4.0/src/learner.cc:1095: Starting in XGBoost 1.3.0, the default evaluation metric used with the objective 'binary:logistic' was changed from 'error' to 'logloss'. Explicitly set eval_metric if you'd like to restore the old behavior.\n",
      "0:\tlearn: 0.1609924\ttotal: 89.6ms\tremaining: 806ms\n",
      "1:\tlearn: 0.0681681\ttotal: 152ms\tremaining: 608ms\n",
      "2:\tlearn: 0.0361408\ttotal: 250ms\tremaining: 582ms\n",
      "3:\tlearn: 0.0222877\ttotal: 341ms\tremaining: 512ms\n",
      "4:\tlearn: 0.0154552\ttotal: 406ms\tremaining: 406ms\n",
      "5:\tlearn: 0.0116941\ttotal: 468ms\tremaining: 312ms\n",
      "6:\tlearn: 0.0092523\ttotal: 520ms\tremaining: 223ms\n",
      "7:\tlearn: 0.0072911\ttotal: 585ms\tremaining: 146ms\n",
      "8:\tlearn: 0.0060234\ttotal: 670ms\tremaining: 74.5ms\n",
      "9:\tlearn: 0.0051413\ttotal: 805ms\tremaining: 0us\n",
      "[LightGBM] [Warning] boosting is set=gbdt, boosting_type=gbdt will be ignored. Current value: boosting=gbdt\n",
      "[LightGBM] [Warning] feature_fraction is set=0.5, colsample_bytree=1.0 will be ignored. Current value: feature_fraction=0.5\n"
     ]
    },
    {
     "name": "stderr",
     "output_type": "stream",
     "text": [
      "c:\\users\\kevin\\appdata\\local\\programs\\python\\python37\\lib\\site-packages\\sklearn\\linear_model\\_logistic.py:765: ConvergenceWarning: lbfgs failed to converge (status=1):\n",
      "STOP: TOTAL NO. of ITERATIONS REACHED LIMIT.\n",
      "\n",
      "Increase the number of iterations (max_iter) or scale the data as shown in:\n",
      "    https://scikit-learn.org/stable/modules/preprocessing.html\n",
      "Please also refer to the documentation for alternative solver options:\n",
      "    https://scikit-learn.org/stable/modules/linear_model.html#logistic-regression\n",
      "  extra_warning_msg=_LOGISTIC_SOLVER_CONVERGENCE_MSG)\n",
      "c:\\users\\kevin\\appdata\\local\\programs\\python\\python37\\lib\\site-packages\\xgboost\\sklearn.py:1146: UserWarning: The use of label encoder in XGBClassifier is deprecated and will be removed in a future release. To remove this warning, do the following: 1) Pass option use_label_encoder=False when constructing XGBClassifier object; and 2) Encode your labels (y) as integers starting with 0, i.e. 0, 1, 2, ..., [num_class - 1].\n",
      "  warnings.warn(label_encoder_deprecation_msg, UserWarning)\n"
     ]
    },
    {
     "name": "stdout",
     "output_type": "stream",
     "text": [
      "[23:59:23] WARNING: C:/Users/Administrator/workspace/xgboost-win64_release_1.4.0/src/learner.cc:1095: Starting in XGBoost 1.3.0, the default evaluation metric used with the objective 'binary:logistic' was changed from 'error' to 'logloss'. Explicitly set eval_metric if you'd like to restore the old behavior.\n",
      "0:\tlearn: 0.1632355\ttotal: 83ms\tremaining: 747ms\n",
      "1:\tlearn: 0.0692554\ttotal: 131ms\tremaining: 524ms\n",
      "2:\tlearn: 0.0363653\ttotal: 179ms\tremaining: 418ms\n",
      "3:\tlearn: 0.0225473\ttotal: 230ms\tremaining: 345ms\n",
      "4:\tlearn: 0.0147863\ttotal: 294ms\tremaining: 294ms\n",
      "5:\tlearn: 0.0108031\ttotal: 351ms\tremaining: 234ms\n",
      "6:\tlearn: 0.0086588\ttotal: 406ms\tremaining: 174ms\n",
      "7:\tlearn: 0.0071938\ttotal: 469ms\tremaining: 117ms\n",
      "8:\tlearn: 0.0061425\ttotal: 523ms\tremaining: 58.1ms\n",
      "9:\tlearn: 0.0053294\ttotal: 593ms\tremaining: 0us\n",
      "[LightGBM] [Warning] boosting is set=gbdt, boosting_type=gbdt will be ignored. Current value: boosting=gbdt\n",
      "[LightGBM] [Warning] feature_fraction is set=0.5, colsample_bytree=1.0 will be ignored. Current value: feature_fraction=0.5\n"
     ]
    },
    {
     "name": "stderr",
     "output_type": "stream",
     "text": [
      "c:\\users\\kevin\\appdata\\local\\programs\\python\\python37\\lib\\site-packages\\sklearn\\linear_model\\_logistic.py:765: ConvergenceWarning: lbfgs failed to converge (status=1):\n",
      "STOP: TOTAL NO. of ITERATIONS REACHED LIMIT.\n",
      "\n",
      "Increase the number of iterations (max_iter) or scale the data as shown in:\n",
      "    https://scikit-learn.org/stable/modules/preprocessing.html\n",
      "Please also refer to the documentation for alternative solver options:\n",
      "    https://scikit-learn.org/stable/modules/linear_model.html#logistic-regression\n",
      "  extra_warning_msg=_LOGISTIC_SOLVER_CONVERGENCE_MSG)\n",
      "c:\\users\\kevin\\appdata\\local\\programs\\python\\python37\\lib\\site-packages\\xgboost\\sklearn.py:1146: UserWarning: The use of label encoder in XGBClassifier is deprecated and will be removed in a future release. To remove this warning, do the following: 1) Pass option use_label_encoder=False when constructing XGBClassifier object; and 2) Encode your labels (y) as integers starting with 0, i.e. 0, 1, 2, ..., [num_class - 1].\n",
      "  warnings.warn(label_encoder_deprecation_msg, UserWarning)\n"
     ]
    },
    {
     "name": "stdout",
     "output_type": "stream",
     "text": [
      "[00:00:03] WARNING: C:/Users/Administrator/workspace/xgboost-win64_release_1.4.0/src/learner.cc:1095: Starting in XGBoost 1.3.0, the default evaluation metric used with the objective 'binary:logistic' was changed from 'error' to 'logloss'. Explicitly set eval_metric if you'd like to restore the old behavior.\n",
      "0:\tlearn: 0.1270967\ttotal: 5.09ms\tremaining: 45.8ms\n",
      "1:\tlearn: 0.0426955\ttotal: 9.35ms\tremaining: 37.4ms\n",
      "2:\tlearn: 0.0153144\ttotal: 13.7ms\tremaining: 32ms\n",
      "3:\tlearn: 0.0056271\ttotal: 18ms\tremaining: 27.1ms\n",
      "4:\tlearn: 0.0021107\ttotal: 22.2ms\tremaining: 22.2ms\n",
      "5:\tlearn: 0.0008319\ttotal: 26.9ms\tremaining: 17.9ms\n",
      "6:\tlearn: 0.0003593\ttotal: 31.2ms\tremaining: 13.4ms\n",
      "7:\tlearn: 0.0001722\ttotal: 35.3ms\tremaining: 8.83ms\n",
      "8:\tlearn: 0.0000975\ttotal: 39.5ms\tremaining: 4.38ms\n",
      "9:\tlearn: 0.0000643\ttotal: 43.6ms\tremaining: 0us\n",
      "[LightGBM] [Warning] boosting is set=gbdt, boosting_type=gbdt will be ignored. Current value: boosting=gbdt\n",
      "[LightGBM] [Warning] feature_fraction is set=0.5, colsample_bytree=1.0 will be ignored. Current value: feature_fraction=0.5\n"
     ]
    },
    {
     "name": "stderr",
     "output_type": "stream",
     "text": [
      "c:\\users\\kevin\\appdata\\local\\programs\\python\\python37\\lib\\site-packages\\sklearn\\linear_model\\_logistic.py:765: ConvergenceWarning: lbfgs failed to converge (status=1):\n",
      "STOP: TOTAL NO. of ITERATIONS REACHED LIMIT.\n",
      "\n",
      "Increase the number of iterations (max_iter) or scale the data as shown in:\n",
      "    https://scikit-learn.org/stable/modules/preprocessing.html\n",
      "Please also refer to the documentation for alternative solver options:\n",
      "    https://scikit-learn.org/stable/modules/linear_model.html#logistic-regression\n",
      "  extra_warning_msg=_LOGISTIC_SOLVER_CONVERGENCE_MSG)\n",
      "c:\\users\\kevin\\appdata\\local\\programs\\python\\python37\\lib\\site-packages\\xgboost\\sklearn.py:1146: UserWarning: The use of label encoder in XGBClassifier is deprecated and will be removed in a future release. To remove this warning, do the following: 1) Pass option use_label_encoder=False when constructing XGBClassifier object; and 2) Encode your labels (y) as integers starting with 0, i.e. 0, 1, 2, ..., [num_class - 1].\n",
      "  warnings.warn(label_encoder_deprecation_msg, UserWarning)\n"
     ]
    },
    {
     "name": "stdout",
     "output_type": "stream",
     "text": [
      "[00:00:37] WARNING: C:/Users/Administrator/workspace/xgboost-win64_release_1.4.0/src/learner.cc:1095: Starting in XGBoost 1.3.0, the default evaluation metric used with the objective 'binary:logistic' was changed from 'error' to 'logloss'. Explicitly set eval_metric if you'd like to restore the old behavior.\n",
      "0:\tlearn: 0.1270967\ttotal: 5.19ms\tremaining: 46.8ms\n",
      "1:\tlearn: 0.0426954\ttotal: 10.6ms\tremaining: 42.6ms\n",
      "2:\tlearn: 0.0153143\ttotal: 15.3ms\tremaining: 35.7ms\n",
      "3:\tlearn: 0.0056273\ttotal: 19.8ms\tremaining: 29.7ms\n",
      "4:\tlearn: 0.0021112\ttotal: 24ms\tremaining: 24ms\n",
      "5:\tlearn: 0.0008322\ttotal: 28ms\tremaining: 18.6ms\n",
      "6:\tlearn: 0.0003593\ttotal: 31.9ms\tremaining: 13.7ms\n",
      "7:\tlearn: 0.0001722\ttotal: 36.1ms\tremaining: 9.03ms\n",
      "8:\tlearn: 0.0000975\ttotal: 40.2ms\tremaining: 4.47ms\n",
      "9:\tlearn: 0.0000643\ttotal: 44.4ms\tremaining: 0us\n",
      "[LightGBM] [Warning] boosting is set=gbdt, boosting_type=gbdt will be ignored. Current value: boosting=gbdt\n",
      "[LightGBM] [Warning] feature_fraction is set=0.5, colsample_bytree=1.0 will be ignored. Current value: feature_fraction=0.5\n"
     ]
    },
    {
     "name": "stderr",
     "output_type": "stream",
     "text": [
      "c:\\users\\kevin\\appdata\\local\\programs\\python\\python37\\lib\\site-packages\\sklearn\\linear_model\\_logistic.py:765: ConvergenceWarning: lbfgs failed to converge (status=1):\n",
      "STOP: TOTAL NO. of ITERATIONS REACHED LIMIT.\n",
      "\n",
      "Increase the number of iterations (max_iter) or scale the data as shown in:\n",
      "    https://scikit-learn.org/stable/modules/preprocessing.html\n",
      "Please also refer to the documentation for alternative solver options:\n",
      "    https://scikit-learn.org/stable/modules/linear_model.html#logistic-regression\n",
      "  extra_warning_msg=_LOGISTIC_SOLVER_CONVERGENCE_MSG)\n",
      "c:\\users\\kevin\\appdata\\local\\programs\\python\\python37\\lib\\site-packages\\xgboost\\sklearn.py:1146: UserWarning: The use of label encoder in XGBClassifier is deprecated and will be removed in a future release. To remove this warning, do the following: 1) Pass option use_label_encoder=False when constructing XGBClassifier object; and 2) Encode your labels (y) as integers starting with 0, i.e. 0, 1, 2, ..., [num_class - 1].\n",
      "  warnings.warn(label_encoder_deprecation_msg, UserWarning)\n"
     ]
    },
    {
     "name": "stdout",
     "output_type": "stream",
     "text": [
      "[00:01:10] WARNING: C:/Users/Administrator/workspace/xgboost-win64_release_1.4.0/src/learner.cc:1095: Starting in XGBoost 1.3.0, the default evaluation metric used with the objective 'binary:logistic' was changed from 'error' to 'logloss'. Explicitly set eval_metric if you'd like to restore the old behavior.\n",
      "0:\tlearn: 0.1270967\ttotal: 6.94ms\tremaining: 62.5ms\n",
      "1:\tlearn: 0.0426955\ttotal: 11.1ms\tremaining: 44.5ms\n",
      "2:\tlearn: 0.0153144\ttotal: 15.6ms\tremaining: 36.3ms\n",
      "3:\tlearn: 0.0056277\ttotal: 19.6ms\tremaining: 29.5ms\n",
      "4:\tlearn: 0.0021108\ttotal: 24.3ms\tremaining: 24.3ms\n",
      "5:\tlearn: 0.0008312\ttotal: 28.4ms\tremaining: 19ms\n",
      "6:\tlearn: 0.0003589\ttotal: 32.5ms\tremaining: 13.9ms\n",
      "7:\tlearn: 0.0001748\ttotal: 36.6ms\tremaining: 9.14ms\n",
      "8:\tlearn: 0.0001004\ttotal: 40.5ms\tremaining: 4.5ms\n",
      "9:\tlearn: 0.0000668\ttotal: 44.8ms\tremaining: 0us\n",
      "[LightGBM] [Warning] boosting is set=gbdt, boosting_type=gbdt will be ignored. Current value: boosting=gbdt\n",
      "[LightGBM] [Warning] feature_fraction is set=0.5, colsample_bytree=1.0 will be ignored. Current value: feature_fraction=0.5\n"
     ]
    },
    {
     "name": "stderr",
     "output_type": "stream",
     "text": [
      "c:\\users\\kevin\\appdata\\local\\programs\\python\\python37\\lib\\site-packages\\sklearn\\linear_model\\_logistic.py:765: ConvergenceWarning: lbfgs failed to converge (status=1):\n",
      "STOP: TOTAL NO. of ITERATIONS REACHED LIMIT.\n",
      "\n",
      "Increase the number of iterations (max_iter) or scale the data as shown in:\n",
      "    https://scikit-learn.org/stable/modules/preprocessing.html\n",
      "Please also refer to the documentation for alternative solver options:\n",
      "    https://scikit-learn.org/stable/modules/linear_model.html#logistic-regression\n",
      "  extra_warning_msg=_LOGISTIC_SOLVER_CONVERGENCE_MSG)\n",
      "c:\\users\\kevin\\appdata\\local\\programs\\python\\python37\\lib\\site-packages\\xgboost\\sklearn.py:1146: UserWarning: The use of label encoder in XGBClassifier is deprecated and will be removed in a future release. To remove this warning, do the following: 1) Pass option use_label_encoder=False when constructing XGBClassifier object; and 2) Encode your labels (y) as integers starting with 0, i.e. 0, 1, 2, ..., [num_class - 1].\n",
      "  warnings.warn(label_encoder_deprecation_msg, UserWarning)\n"
     ]
    },
    {
     "name": "stdout",
     "output_type": "stream",
     "text": [
      "[00:01:45] WARNING: C:/Users/Administrator/workspace/xgboost-win64_release_1.4.0/src/learner.cc:1095: Starting in XGBoost 1.3.0, the default evaluation metric used with the objective 'binary:logistic' was changed from 'error' to 'logloss'. Explicitly set eval_metric if you'd like to restore the old behavior.\n",
      "0:\tlearn: 0.1270967\ttotal: 5.16ms\tremaining: 46.4ms\n",
      "1:\tlearn: 0.0426954\ttotal: 9.43ms\tremaining: 37.7ms\n",
      "2:\tlearn: 0.0153143\ttotal: 14.1ms\tremaining: 32.9ms\n",
      "3:\tlearn: 0.0056279\ttotal: 18.6ms\tremaining: 27.9ms\n",
      "4:\tlearn: 0.0021113\ttotal: 22.7ms\tremaining: 22.7ms\n",
      "5:\tlearn: 0.0008322\ttotal: 26.7ms\tremaining: 17.8ms\n",
      "6:\tlearn: 0.0003594\ttotal: 30.8ms\tremaining: 13.2ms\n",
      "7:\tlearn: 0.0001750\ttotal: 34.9ms\tremaining: 8.73ms\n",
      "8:\tlearn: 0.0001005\ttotal: 39ms\tremaining: 4.33ms\n",
      "9:\tlearn: 0.0000669\ttotal: 43.4ms\tremaining: 0us\n",
      "[LightGBM] [Warning] boosting is set=gbdt, boosting_type=gbdt will be ignored. Current value: boosting=gbdt\n",
      "[LightGBM] [Warning] feature_fraction is set=0.5, colsample_bytree=1.0 will be ignored. Current value: feature_fraction=0.5\n"
     ]
    },
    {
     "name": "stderr",
     "output_type": "stream",
     "text": [
      "c:\\users\\kevin\\appdata\\local\\programs\\python\\python37\\lib\\site-packages\\sklearn\\linear_model\\_logistic.py:765: ConvergenceWarning: lbfgs failed to converge (status=1):\n",
      "STOP: TOTAL NO. of ITERATIONS REACHED LIMIT.\n",
      "\n",
      "Increase the number of iterations (max_iter) or scale the data as shown in:\n",
      "    https://scikit-learn.org/stable/modules/preprocessing.html\n",
      "Please also refer to the documentation for alternative solver options:\n",
      "    https://scikit-learn.org/stable/modules/linear_model.html#logistic-regression\n",
      "  extra_warning_msg=_LOGISTIC_SOLVER_CONVERGENCE_MSG)\n",
      "c:\\users\\kevin\\appdata\\local\\programs\\python\\python37\\lib\\site-packages\\xgboost\\sklearn.py:1146: UserWarning: The use of label encoder in XGBClassifier is deprecated and will be removed in a future release. To remove this warning, do the following: 1) Pass option use_label_encoder=False when constructing XGBClassifier object; and 2) Encode your labels (y) as integers starting with 0, i.e. 0, 1, 2, ..., [num_class - 1].\n",
      "  warnings.warn(label_encoder_deprecation_msg, UserWarning)\n"
     ]
    },
    {
     "name": "stdout",
     "output_type": "stream",
     "text": [
      "[00:02:16] WARNING: C:/Users/Administrator/workspace/xgboost-win64_release_1.4.0/src/learner.cc:1095: Starting in XGBoost 1.3.0, the default evaluation metric used with the objective 'binary:logistic' was changed from 'error' to 'logloss'. Explicitly set eval_metric if you'd like to restore the old behavior.\n",
      "0:\tlearn: 0.1270967\ttotal: 5.13ms\tremaining: 46.2ms\n",
      "1:\tlearn: 0.0426954\ttotal: 10.1ms\tremaining: 40.6ms\n",
      "2:\tlearn: 0.0153143\ttotal: 16.1ms\tremaining: 37.5ms\n",
      "3:\tlearn: 0.0056273\ttotal: 20.8ms\tremaining: 31.2ms\n",
      "4:\tlearn: 0.0021109\ttotal: 24.9ms\tremaining: 24.9ms\n",
      "5:\tlearn: 0.0008319\ttotal: 29.5ms\tremaining: 19.6ms\n",
      "6:\tlearn: 0.0003592\ttotal: 33.5ms\tremaining: 14.4ms\n",
      "7:\tlearn: 0.0001722\ttotal: 37.6ms\tremaining: 9.39ms\n",
      "8:\tlearn: 0.0000975\ttotal: 41.6ms\tremaining: 4.63ms\n",
      "9:\tlearn: 0.0000643\ttotal: 46.3ms\tremaining: 0us\n",
      "[LightGBM] [Warning] boosting is set=gbdt, boosting_type=gbdt will be ignored. Current value: boosting=gbdt\n",
      "[LightGBM] [Warning] feature_fraction is set=0.5, colsample_bytree=1.0 will be ignored. Current value: feature_fraction=0.5\n"
     ]
    },
    {
     "name": "stderr",
     "output_type": "stream",
     "text": [
      "c:\\users\\kevin\\appdata\\local\\programs\\python\\python37\\lib\\site-packages\\sklearn\\linear_model\\_logistic.py:765: ConvergenceWarning: lbfgs failed to converge (status=1):\n",
      "STOP: TOTAL NO. of ITERATIONS REACHED LIMIT.\n",
      "\n",
      "Increase the number of iterations (max_iter) or scale the data as shown in:\n",
      "    https://scikit-learn.org/stable/modules/preprocessing.html\n",
      "Please also refer to the documentation for alternative solver options:\n",
      "    https://scikit-learn.org/stable/modules/linear_model.html#logistic-regression\n",
      "  extra_warning_msg=_LOGISTIC_SOLVER_CONVERGENCE_MSG)\n",
      "c:\\users\\kevin\\appdata\\local\\programs\\python\\python37\\lib\\site-packages\\xgboost\\sklearn.py:1146: UserWarning: The use of label encoder in XGBClassifier is deprecated and will be removed in a future release. To remove this warning, do the following: 1) Pass option use_label_encoder=False when constructing XGBClassifier object; and 2) Encode your labels (y) as integers starting with 0, i.e. 0, 1, 2, ..., [num_class - 1].\n",
      "  warnings.warn(label_encoder_deprecation_msg, UserWarning)\n"
     ]
    },
    {
     "name": "stdout",
     "output_type": "stream",
     "text": [
      "[00:02:20] WARNING: C:/Users/Administrator/workspace/xgboost-win64_release_1.4.0/src/learner.cc:1095: Starting in XGBoost 1.3.0, the default evaluation metric used with the objective 'binary:logistic' was changed from 'error' to 'logloss'. Explicitly set eval_metric if you'd like to restore the old behavior.\n",
      "0:\tlearn: 0.1280104\ttotal: 1.48ms\tremaining: 13.3ms\n",
      "1:\tlearn: 0.0433946\ttotal: 2.74ms\tremaining: 11ms\n",
      "2:\tlearn: 0.0159272\ttotal: 3.97ms\tremaining: 9.27ms\n",
      "3:\tlearn: 0.0062045\ttotal: 5.12ms\tremaining: 7.68ms\n",
      "4:\tlearn: 0.0026119\ttotal: 6.36ms\tremaining: 6.36ms\n",
      "5:\tlearn: 0.0012605\ttotal: 7.58ms\tremaining: 5.05ms\n",
      "6:\tlearn: 0.0007162\ttotal: 8.84ms\tremaining: 3.79ms\n",
      "7:\tlearn: 0.0004727\ttotal: 10ms\tremaining: 2.51ms\n",
      "8:\tlearn: 0.0003454\ttotal: 11.5ms\tremaining: 1.28ms\n",
      "9:\tlearn: 0.0002699\ttotal: 12.8ms\tremaining: 0us\n",
      "[LightGBM] [Warning] boosting is set=gbdt, boosting_type=gbdt will be ignored. Current value: boosting=gbdt\n",
      "[LightGBM] [Warning] feature_fraction is set=0.5, colsample_bytree=1.0 will be ignored. Current value: feature_fraction=0.5\n"
     ]
    },
    {
     "name": "stderr",
     "output_type": "stream",
     "text": [
      "c:\\users\\kevin\\appdata\\local\\programs\\python\\python37\\lib\\site-packages\\sklearn\\linear_model\\_logistic.py:765: ConvergenceWarning: lbfgs failed to converge (status=1):\n",
      "STOP: TOTAL NO. of ITERATIONS REACHED LIMIT.\n",
      "\n",
      "Increase the number of iterations (max_iter) or scale the data as shown in:\n",
      "    https://scikit-learn.org/stable/modules/preprocessing.html\n",
      "Please also refer to the documentation for alternative solver options:\n",
      "    https://scikit-learn.org/stable/modules/linear_model.html#logistic-regression\n",
      "  extra_warning_msg=_LOGISTIC_SOLVER_CONVERGENCE_MSG)\n",
      "c:\\users\\kevin\\appdata\\local\\programs\\python\\python37\\lib\\site-packages\\xgboost\\sklearn.py:1146: UserWarning: The use of label encoder in XGBClassifier is deprecated and will be removed in a future release. To remove this warning, do the following: 1) Pass option use_label_encoder=False when constructing XGBClassifier object; and 2) Encode your labels (y) as integers starting with 0, i.e. 0, 1, 2, ..., [num_class - 1].\n",
      "  warnings.warn(label_encoder_deprecation_msg, UserWarning)\n"
     ]
    },
    {
     "name": "stdout",
     "output_type": "stream",
     "text": [
      "[00:02:24] WARNING: C:/Users/Administrator/workspace/xgboost-win64_release_1.4.0/src/learner.cc:1095: Starting in XGBoost 1.3.0, the default evaluation metric used with the objective 'binary:logistic' was changed from 'error' to 'logloss'. Explicitly set eval_metric if you'd like to restore the old behavior.\n",
      "0:\tlearn: 0.1280103\ttotal: 1.46ms\tremaining: 13.1ms\n",
      "1:\tlearn: 0.0433952\ttotal: 2.85ms\tremaining: 11.4ms\n",
      "2:\tlearn: 0.0159273\ttotal: 4.08ms\tremaining: 9.51ms\n",
      "3:\tlearn: 0.0062042\ttotal: 5.31ms\tremaining: 7.96ms\n",
      "4:\tlearn: 0.0026136\ttotal: 6.61ms\tremaining: 6.61ms\n",
      "5:\tlearn: 0.0012625\ttotal: 7.88ms\tremaining: 5.25ms\n",
      "6:\tlearn: 0.0007165\ttotal: 9.24ms\tremaining: 3.96ms\n",
      "7:\tlearn: 0.0004734\ttotal: 10.5ms\tremaining: 2.63ms\n",
      "8:\tlearn: 0.0003461\ttotal: 11.8ms\tremaining: 1.31ms\n",
      "9:\tlearn: 0.0002705\ttotal: 13ms\tremaining: 0us\n",
      "[LightGBM] [Warning] boosting is set=gbdt, boosting_type=gbdt will be ignored. Current value: boosting=gbdt\n",
      "[LightGBM] [Warning] feature_fraction is set=0.5, colsample_bytree=1.0 will be ignored. Current value: feature_fraction=0.5\n"
     ]
    },
    {
     "name": "stderr",
     "output_type": "stream",
     "text": [
      "c:\\users\\kevin\\appdata\\local\\programs\\python\\python37\\lib\\site-packages\\sklearn\\linear_model\\_logistic.py:765: ConvergenceWarning: lbfgs failed to converge (status=1):\n",
      "STOP: TOTAL NO. of ITERATIONS REACHED LIMIT.\n",
      "\n",
      "Increase the number of iterations (max_iter) or scale the data as shown in:\n",
      "    https://scikit-learn.org/stable/modules/preprocessing.html\n",
      "Please also refer to the documentation for alternative solver options:\n",
      "    https://scikit-learn.org/stable/modules/linear_model.html#logistic-regression\n",
      "  extra_warning_msg=_LOGISTIC_SOLVER_CONVERGENCE_MSG)\n",
      "c:\\users\\kevin\\appdata\\local\\programs\\python\\python37\\lib\\site-packages\\xgboost\\sklearn.py:1146: UserWarning: The use of label encoder in XGBClassifier is deprecated and will be removed in a future release. To remove this warning, do the following: 1) Pass option use_label_encoder=False when constructing XGBClassifier object; and 2) Encode your labels (y) as integers starting with 0, i.e. 0, 1, 2, ..., [num_class - 1].\n",
      "  warnings.warn(label_encoder_deprecation_msg, UserWarning)\n"
     ]
    },
    {
     "name": "stdout",
     "output_type": "stream",
     "text": [
      "[00:02:27] WARNING: C:/Users/Administrator/workspace/xgboost-win64_release_1.4.0/src/learner.cc:1095: Starting in XGBoost 1.3.0, the default evaluation metric used with the objective 'binary:logistic' was changed from 'error' to 'logloss'. Explicitly set eval_metric if you'd like to restore the old behavior.\n",
      "0:\tlearn: 0.1280104\ttotal: 1.48ms\tremaining: 13.3ms\n",
      "1:\tlearn: 0.0433954\ttotal: 2.93ms\tremaining: 11.7ms\n",
      "2:\tlearn: 0.0159274\ttotal: 4.23ms\tremaining: 9.88ms\n",
      "3:\tlearn: 0.0062043\ttotal: 5.57ms\tremaining: 8.35ms\n",
      "4:\tlearn: 0.0026141\ttotal: 6.88ms\tremaining: 6.88ms\n",
      "5:\tlearn: 0.0012629\ttotal: 8.18ms\tremaining: 5.45ms\n",
      "6:\tlearn: 0.0007318\ttotal: 9.43ms\tremaining: 4.04ms\n",
      "7:\tlearn: 0.0004772\ttotal: 10.7ms\tremaining: 2.67ms\n",
      "8:\tlearn: 0.0003464\ttotal: 11.9ms\tremaining: 1.32ms\n",
      "9:\tlearn: 0.0002697\ttotal: 13.1ms\tremaining: 0us\n",
      "[LightGBM] [Warning] boosting is set=gbdt, boosting_type=gbdt will be ignored. Current value: boosting=gbdt\n",
      "[LightGBM] [Warning] feature_fraction is set=0.5, colsample_bytree=1.0 will be ignored. Current value: feature_fraction=0.5\n"
     ]
    },
    {
     "name": "stderr",
     "output_type": "stream",
     "text": [
      "c:\\users\\kevin\\appdata\\local\\programs\\python\\python37\\lib\\site-packages\\sklearn\\linear_model\\_logistic.py:765: ConvergenceWarning: lbfgs failed to converge (status=1):\n",
      "STOP: TOTAL NO. of ITERATIONS REACHED LIMIT.\n",
      "\n",
      "Increase the number of iterations (max_iter) or scale the data as shown in:\n",
      "    https://scikit-learn.org/stable/modules/preprocessing.html\n",
      "Please also refer to the documentation for alternative solver options:\n",
      "    https://scikit-learn.org/stable/modules/linear_model.html#logistic-regression\n",
      "  extra_warning_msg=_LOGISTIC_SOLVER_CONVERGENCE_MSG)\n",
      "c:\\users\\kevin\\appdata\\local\\programs\\python\\python37\\lib\\site-packages\\xgboost\\sklearn.py:1146: UserWarning: The use of label encoder in XGBClassifier is deprecated and will be removed in a future release. To remove this warning, do the following: 1) Pass option use_label_encoder=False when constructing XGBClassifier object; and 2) Encode your labels (y) as integers starting with 0, i.e. 0, 1, 2, ..., [num_class - 1].\n",
      "  warnings.warn(label_encoder_deprecation_msg, UserWarning)\n"
     ]
    },
    {
     "name": "stdout",
     "output_type": "stream",
     "text": [
      "[00:02:31] WARNING: C:/Users/Administrator/workspace/xgboost-win64_release_1.4.0/src/learner.cc:1095: Starting in XGBoost 1.3.0, the default evaluation metric used with the objective 'binary:logistic' was changed from 'error' to 'logloss'. Explicitly set eval_metric if you'd like to restore the old behavior.\n",
      "0:\tlearn: 0.1280104\ttotal: 1.59ms\tremaining: 14.3ms\n",
      "1:\tlearn: 0.0433952\ttotal: 3.12ms\tremaining: 12.5ms\n",
      "2:\tlearn: 0.0159274\ttotal: 4.5ms\tremaining: 10.5ms\n",
      "3:\tlearn: 0.0062045\ttotal: 5.73ms\tremaining: 8.6ms\n",
      "4:\tlearn: 0.0026135\ttotal: 6.93ms\tremaining: 6.93ms\n",
      "5:\tlearn: 0.0012623\ttotal: 8.19ms\tremaining: 5.46ms\n",
      "6:\tlearn: 0.0007169\ttotal: 9.41ms\tremaining: 4.04ms\n",
      "7:\tlearn: 0.0004735\ttotal: 10.8ms\tremaining: 2.7ms\n",
      "8:\tlearn: 0.0003461\ttotal: 12.1ms\tremaining: 1.34ms\n",
      "9:\tlearn: 0.0002705\ttotal: 13.3ms\tremaining: 0us\n",
      "[LightGBM] [Warning] boosting is set=gbdt, boosting_type=gbdt will be ignored. Current value: boosting=gbdt\n",
      "[LightGBM] [Warning] feature_fraction is set=0.5, colsample_bytree=1.0 will be ignored. Current value: feature_fraction=0.5\n"
     ]
    },
    {
     "name": "stderr",
     "output_type": "stream",
     "text": [
      "c:\\users\\kevin\\appdata\\local\\programs\\python\\python37\\lib\\site-packages\\sklearn\\linear_model\\_logistic.py:765: ConvergenceWarning: lbfgs failed to converge (status=1):\n",
      "STOP: TOTAL NO. of ITERATIONS REACHED LIMIT.\n",
      "\n",
      "Increase the number of iterations (max_iter) or scale the data as shown in:\n",
      "    https://scikit-learn.org/stable/modules/preprocessing.html\n",
      "Please also refer to the documentation for alternative solver options:\n",
      "    https://scikit-learn.org/stable/modules/linear_model.html#logistic-regression\n",
      "  extra_warning_msg=_LOGISTIC_SOLVER_CONVERGENCE_MSG)\n",
      "c:\\users\\kevin\\appdata\\local\\programs\\python\\python37\\lib\\site-packages\\xgboost\\sklearn.py:1146: UserWarning: The use of label encoder in XGBClassifier is deprecated and will be removed in a future release. To remove this warning, do the following: 1) Pass option use_label_encoder=False when constructing XGBClassifier object; and 2) Encode your labels (y) as integers starting with 0, i.e. 0, 1, 2, ..., [num_class - 1].\n",
      "  warnings.warn(label_encoder_deprecation_msg, UserWarning)\n"
     ]
    },
    {
     "name": "stdout",
     "output_type": "stream",
     "text": [
      "[00:02:34] WARNING: C:/Users/Administrator/workspace/xgboost-win64_release_1.4.0/src/learner.cc:1095: Starting in XGBoost 1.3.0, the default evaluation metric used with the objective 'binary:logistic' was changed from 'error' to 'logloss'. Explicitly set eval_metric if you'd like to restore the old behavior.\n",
      "0:\tlearn: 0.1280104\ttotal: 1.41ms\tremaining: 12.7ms\n",
      "1:\tlearn: 0.0433953\ttotal: 2.89ms\tremaining: 11.6ms\n",
      "2:\tlearn: 0.0159274\ttotal: 4.27ms\tremaining: 9.97ms\n",
      "3:\tlearn: 0.0062044\ttotal: 5.59ms\tremaining: 8.38ms\n",
      "4:\tlearn: 0.0026139\ttotal: 6.87ms\tremaining: 6.87ms\n",
      "5:\tlearn: 0.0012627\ttotal: 8.32ms\tremaining: 5.54ms\n",
      "6:\tlearn: 0.0007173\ttotal: 9.61ms\tremaining: 4.12ms\n",
      "7:\tlearn: 0.0004738\ttotal: 10.9ms\tremaining: 2.72ms\n",
      "8:\tlearn: 0.0003464\ttotal: 12.2ms\tremaining: 1.35ms\n",
      "9:\tlearn: 0.0002708\ttotal: 13.6ms\tremaining: 0us\n",
      "[LightGBM] [Warning] boosting is set=gbdt, boosting_type=gbdt will be ignored. Current value: boosting=gbdt\n",
      "[LightGBM] [Warning] feature_fraction is set=0.5, colsample_bytree=1.0 will be ignored. Current value: feature_fraction=0.5\n"
     ]
    },
    {
     "name": "stderr",
     "output_type": "stream",
     "text": [
      "c:\\users\\kevin\\appdata\\local\\programs\\python\\python37\\lib\\site-packages\\sklearn\\linear_model\\_logistic.py:765: ConvergenceWarning: lbfgs failed to converge (status=1):\n",
      "STOP: TOTAL NO. of ITERATIONS REACHED LIMIT.\n",
      "\n",
      "Increase the number of iterations (max_iter) or scale the data as shown in:\n",
      "    https://scikit-learn.org/stable/modules/preprocessing.html\n",
      "Please also refer to the documentation for alternative solver options:\n",
      "    https://scikit-learn.org/stable/modules/linear_model.html#logistic-regression\n",
      "  extra_warning_msg=_LOGISTIC_SOLVER_CONVERGENCE_MSG)\n",
      "c:\\users\\kevin\\appdata\\local\\programs\\python\\python37\\lib\\site-packages\\xgboost\\sklearn.py:1146: UserWarning: The use of label encoder in XGBClassifier is deprecated and will be removed in a future release. To remove this warning, do the following: 1) Pass option use_label_encoder=False when constructing XGBClassifier object; and 2) Encode your labels (y) as integers starting with 0, i.e. 0, 1, 2, ..., [num_class - 1].\n",
      "  warnings.warn(label_encoder_deprecation_msg, UserWarning)\n"
     ]
    },
    {
     "name": "stdout",
     "output_type": "stream",
     "text": [
      "[00:02:39] WARNING: C:/Users/Administrator/workspace/xgboost-win64_release_1.4.0/src/learner.cc:1095: Starting in XGBoost 1.3.0, the default evaluation metric used with the objective 'binary:logistic' was changed from 'error' to 'logloss'. Explicitly set eval_metric if you'd like to restore the old behavior.\n",
      "0:\tlearn: 0.1275464\ttotal: 2.7ms\tremaining: 24.3ms\n",
      "1:\tlearn: 0.0430443\ttotal: 4.88ms\tremaining: 19.5ms\n",
      "2:\tlearn: 0.0155052\ttotal: 6.89ms\tremaining: 16.1ms\n",
      "3:\tlearn: 0.0058246\ttotal: 8.89ms\tremaining: 13.3ms\n",
      "4:\tlearn: 0.0023427\ttotal: 11ms\tremaining: 11ms\n",
      "5:\tlearn: 0.0010255\ttotal: 13.1ms\tremaining: 8.71ms\n",
      "6:\tlearn: 0.0004767\ttotal: 15.1ms\tremaining: 6.45ms\n",
      "7:\tlearn: 0.0002933\ttotal: 17.1ms\tremaining: 4.27ms\n",
      "8:\tlearn: 0.0001852\ttotal: 19.3ms\tremaining: 2.15ms\n",
      "9:\tlearn: 0.0001312\ttotal: 21.4ms\tremaining: 0us\n",
      "[LightGBM] [Warning] boosting is set=gbdt, boosting_type=gbdt will be ignored. Current value: boosting=gbdt\n",
      "[LightGBM] [Warning] feature_fraction is set=0.5, colsample_bytree=1.0 will be ignored. Current value: feature_fraction=0.5\n"
     ]
    },
    {
     "name": "stderr",
     "output_type": "stream",
     "text": [
      "c:\\users\\kevin\\appdata\\local\\programs\\python\\python37\\lib\\site-packages\\sklearn\\linear_model\\_logistic.py:765: ConvergenceWarning: lbfgs failed to converge (status=1):\n",
      "STOP: TOTAL NO. of ITERATIONS REACHED LIMIT.\n",
      "\n",
      "Increase the number of iterations (max_iter) or scale the data as shown in:\n",
      "    https://scikit-learn.org/stable/modules/preprocessing.html\n",
      "Please also refer to the documentation for alternative solver options:\n",
      "    https://scikit-learn.org/stable/modules/linear_model.html#logistic-regression\n",
      "  extra_warning_msg=_LOGISTIC_SOLVER_CONVERGENCE_MSG)\n",
      "c:\\users\\kevin\\appdata\\local\\programs\\python\\python37\\lib\\site-packages\\xgboost\\sklearn.py:1146: UserWarning: The use of label encoder in XGBClassifier is deprecated and will be removed in a future release. To remove this warning, do the following: 1) Pass option use_label_encoder=False when constructing XGBClassifier object; and 2) Encode your labels (y) as integers starting with 0, i.e. 0, 1, 2, ..., [num_class - 1].\n",
      "  warnings.warn(label_encoder_deprecation_msg, UserWarning)\n"
     ]
    },
    {
     "name": "stdout",
     "output_type": "stream",
     "text": [
      "[00:02:44] WARNING: C:/Users/Administrator/workspace/xgboost-win64_release_1.4.0/src/learner.cc:1095: Starting in XGBoost 1.3.0, the default evaluation metric used with the objective 'binary:logistic' was changed from 'error' to 'logloss'. Explicitly set eval_metric if you'd like to restore the old behavior.\n",
      "0:\tlearn: 0.1275464\ttotal: 2.28ms\tremaining: 20.6ms\n",
      "1:\tlearn: 0.0430443\ttotal: 4.39ms\tremaining: 17.6ms\n",
      "2:\tlearn: 0.0155032\ttotal: 6.39ms\tremaining: 14.9ms\n",
      "3:\tlearn: 0.0058250\ttotal: 8.41ms\tremaining: 12.6ms\n",
      "4:\tlearn: 0.0023431\ttotal: 10.4ms\tremaining: 10.4ms\n",
      "5:\tlearn: 0.0010247\ttotal: 12.6ms\tremaining: 8.41ms\n",
      "6:\tlearn: 0.0004766\ttotal: 14.9ms\tremaining: 6.39ms\n",
      "7:\tlearn: 0.0002667\ttotal: 16.9ms\tremaining: 4.24ms\n",
      "8:\tlearn: 0.0001746\ttotal: 19ms\tremaining: 2.12ms\n",
      "9:\tlearn: 0.0001277\ttotal: 21ms\tremaining: 0us\n",
      "[LightGBM] [Warning] boosting is set=gbdt, boosting_type=gbdt will be ignored. Current value: boosting=gbdt\n",
      "[LightGBM] [Warning] feature_fraction is set=0.5, colsample_bytree=1.0 will be ignored. Current value: feature_fraction=0.5\n"
     ]
    },
    {
     "name": "stderr",
     "output_type": "stream",
     "text": [
      "c:\\users\\kevin\\appdata\\local\\programs\\python\\python37\\lib\\site-packages\\sklearn\\linear_model\\_logistic.py:765: ConvergenceWarning: lbfgs failed to converge (status=1):\n",
      "STOP: TOTAL NO. of ITERATIONS REACHED LIMIT.\n",
      "\n",
      "Increase the number of iterations (max_iter) or scale the data as shown in:\n",
      "    https://scikit-learn.org/stable/modules/preprocessing.html\n",
      "Please also refer to the documentation for alternative solver options:\n",
      "    https://scikit-learn.org/stable/modules/linear_model.html#logistic-regression\n",
      "  extra_warning_msg=_LOGISTIC_SOLVER_CONVERGENCE_MSG)\n",
      "c:\\users\\kevin\\appdata\\local\\programs\\python\\python37\\lib\\site-packages\\xgboost\\sklearn.py:1146: UserWarning: The use of label encoder in XGBClassifier is deprecated and will be removed in a future release. To remove this warning, do the following: 1) Pass option use_label_encoder=False when constructing XGBClassifier object; and 2) Encode your labels (y) as integers starting with 0, i.e. 0, 1, 2, ..., [num_class - 1].\n",
      "  warnings.warn(label_encoder_deprecation_msg, UserWarning)\n"
     ]
    },
    {
     "name": "stdout",
     "output_type": "stream",
     "text": [
      "[00:02:49] WARNING: C:/Users/Administrator/workspace/xgboost-win64_release_1.4.0/src/learner.cc:1095: Starting in XGBoost 1.3.0, the default evaluation metric used with the objective 'binary:logistic' was changed from 'error' to 'logloss'. Explicitly set eval_metric if you'd like to restore the old behavior.\n",
      "0:\tlearn: 0.1275464\ttotal: 2.17ms\tremaining: 19.5ms\n",
      "1:\tlearn: 0.0430443\ttotal: 4.37ms\tremaining: 17.5ms\n",
      "2:\tlearn: 0.0155976\ttotal: 6.45ms\tremaining: 15.1ms\n",
      "3:\tlearn: 0.0058656\ttotal: 8.44ms\tremaining: 12.7ms\n",
      "4:\tlearn: 0.0023580\ttotal: 10.4ms\tremaining: 10.4ms\n",
      "5:\tlearn: 0.0010309\ttotal: 12.6ms\tremaining: 8.41ms\n",
      "6:\tlearn: 0.0004791\ttotal: 14.6ms\tremaining: 6.27ms\n",
      "7:\tlearn: 0.0002877\ttotal: 16.7ms\tremaining: 4.19ms\n",
      "8:\tlearn: 0.0001860\ttotal: 18.8ms\tremaining: 2.09ms\n",
      "9:\tlearn: 0.0001332\ttotal: 20.8ms\tremaining: 0us\n",
      "[LightGBM] [Warning] boosting is set=gbdt, boosting_type=gbdt will be ignored. Current value: boosting=gbdt\n",
      "[LightGBM] [Warning] feature_fraction is set=0.5, colsample_bytree=1.0 will be ignored. Current value: feature_fraction=0.5\n"
     ]
    },
    {
     "name": "stderr",
     "output_type": "stream",
     "text": [
      "c:\\users\\kevin\\appdata\\local\\programs\\python\\python37\\lib\\site-packages\\sklearn\\linear_model\\_logistic.py:765: ConvergenceWarning: lbfgs failed to converge (status=1):\n",
      "STOP: TOTAL NO. of ITERATIONS REACHED LIMIT.\n",
      "\n",
      "Increase the number of iterations (max_iter) or scale the data as shown in:\n",
      "    https://scikit-learn.org/stable/modules/preprocessing.html\n",
      "Please also refer to the documentation for alternative solver options:\n",
      "    https://scikit-learn.org/stable/modules/linear_model.html#logistic-regression\n",
      "  extra_warning_msg=_LOGISTIC_SOLVER_CONVERGENCE_MSG)\n",
      "c:\\users\\kevin\\appdata\\local\\programs\\python\\python37\\lib\\site-packages\\xgboost\\sklearn.py:1146: UserWarning: The use of label encoder in XGBClassifier is deprecated and will be removed in a future release. To remove this warning, do the following: 1) Pass option use_label_encoder=False when constructing XGBClassifier object; and 2) Encode your labels (y) as integers starting with 0, i.e. 0, 1, 2, ..., [num_class - 1].\n",
      "  warnings.warn(label_encoder_deprecation_msg, UserWarning)\n"
     ]
    },
    {
     "name": "stdout",
     "output_type": "stream",
     "text": [
      "[00:02:53] WARNING: C:/Users/Administrator/workspace/xgboost-win64_release_1.4.0/src/learner.cc:1095: Starting in XGBoost 1.3.0, the default evaluation metric used with the objective 'binary:logistic' was changed from 'error' to 'logloss'. Explicitly set eval_metric if you'd like to restore the old behavior.\n",
      "0:\tlearn: 0.1275464\ttotal: 2.19ms\tremaining: 19.8ms\n",
      "1:\tlearn: 0.0430443\ttotal: 4.28ms\tremaining: 17.1ms\n",
      "2:\tlearn: 0.0155009\ttotal: 6.42ms\tremaining: 15ms\n",
      "3:\tlearn: 0.0058212\ttotal: 8.46ms\tremaining: 12.7ms\n",
      "4:\tlearn: 0.0023410\ttotal: 10.6ms\tremaining: 10.6ms\n",
      "5:\tlearn: 0.0010242\ttotal: 12.6ms\tremaining: 8.38ms\n",
      "6:\tlearn: 0.0004764\ttotal: 14.6ms\tremaining: 6.26ms\n",
      "7:\tlearn: 0.0002934\ttotal: 16.5ms\tremaining: 4.13ms\n",
      "8:\tlearn: 0.0001847\ttotal: 18.5ms\tremaining: 2.05ms\n",
      "9:\tlearn: 0.0001309\ttotal: 20.5ms\tremaining: 0us\n",
      "[LightGBM] [Warning] boosting is set=gbdt, boosting_type=gbdt will be ignored. Current value: boosting=gbdt\n",
      "[LightGBM] [Warning] feature_fraction is set=0.5, colsample_bytree=1.0 will be ignored. Current value: feature_fraction=0.5\n"
     ]
    },
    {
     "name": "stderr",
     "output_type": "stream",
     "text": [
      "c:\\users\\kevin\\appdata\\local\\programs\\python\\python37\\lib\\site-packages\\sklearn\\linear_model\\_logistic.py:765: ConvergenceWarning: lbfgs failed to converge (status=1):\n",
      "STOP: TOTAL NO. of ITERATIONS REACHED LIMIT.\n",
      "\n",
      "Increase the number of iterations (max_iter) or scale the data as shown in:\n",
      "    https://scikit-learn.org/stable/modules/preprocessing.html\n",
      "Please also refer to the documentation for alternative solver options:\n",
      "    https://scikit-learn.org/stable/modules/linear_model.html#logistic-regression\n",
      "  extra_warning_msg=_LOGISTIC_SOLVER_CONVERGENCE_MSG)\n",
      "c:\\users\\kevin\\appdata\\local\\programs\\python\\python37\\lib\\site-packages\\xgboost\\sklearn.py:1146: UserWarning: The use of label encoder in XGBClassifier is deprecated and will be removed in a future release. To remove this warning, do the following: 1) Pass option use_label_encoder=False when constructing XGBClassifier object; and 2) Encode your labels (y) as integers starting with 0, i.e. 0, 1, 2, ..., [num_class - 1].\n",
      "  warnings.warn(label_encoder_deprecation_msg, UserWarning)\n"
     ]
    },
    {
     "name": "stdout",
     "output_type": "stream",
     "text": [
      "[00:02:58] WARNING: C:/Users/Administrator/workspace/xgboost-win64_release_1.4.0/src/learner.cc:1095: Starting in XGBoost 1.3.0, the default evaluation metric used with the objective 'binary:logistic' was changed from 'error' to 'logloss'. Explicitly set eval_metric if you'd like to restore the old behavior.\n",
      "0:\tlearn: 0.1275464\ttotal: 2.06ms\tremaining: 18.5ms\n",
      "1:\tlearn: 0.0430443\ttotal: 4.21ms\tremaining: 16.8ms\n",
      "2:\tlearn: 0.0155009\ttotal: 6.27ms\tremaining: 14.6ms\n",
      "3:\tlearn: 0.0058256\ttotal: 8.31ms\tremaining: 12.5ms\n",
      "4:\tlearn: 0.0023434\ttotal: 10.2ms\tremaining: 10.2ms\n",
      "5:\tlearn: 0.0010260\ttotal: 12.3ms\tremaining: 8.17ms\n",
      "6:\tlearn: 0.0004773\ttotal: 14.2ms\tremaining: 6.1ms\n",
      "7:\tlearn: 0.0002938\ttotal: 16.2ms\tremaining: 4.06ms\n",
      "8:\tlearn: 0.0001855\ttotal: 18.2ms\tremaining: 2.03ms\n",
      "9:\tlearn: 0.0001385\ttotal: 20.2ms\tremaining: 0us\n",
      "[LightGBM] [Warning] boosting is set=gbdt, boosting_type=gbdt will be ignored. Current value: boosting=gbdt\n",
      "[LightGBM] [Warning] feature_fraction is set=0.5, colsample_bytree=1.0 will be ignored. Current value: feature_fraction=0.5\n"
     ]
    },
    {
     "name": "stderr",
     "output_type": "stream",
     "text": [
      "c:\\users\\kevin\\appdata\\local\\programs\\python\\python37\\lib\\site-packages\\xgboost\\sklearn.py:1146: UserWarning: The use of label encoder in XGBClassifier is deprecated and will be removed in a future release. To remove this warning, do the following: 1) Pass option use_label_encoder=False when constructing XGBClassifier object; and 2) Encode your labels (y) as integers starting with 0, i.e. 0, 1, 2, ..., [num_class - 1].\n",
      "  warnings.warn(label_encoder_deprecation_msg, UserWarning)\n"
     ]
    },
    {
     "name": "stdout",
     "output_type": "stream",
     "text": [
      "[00:03:01] WARNING: C:/Users/Administrator/workspace/xgboost-win64_release_1.4.0/src/learner.cc:1095: Starting in XGBoost 1.3.0, the default evaluation metric used with the objective 'binary:logistic' was changed from 'error' to 'logloss'. Explicitly set eval_metric if you'd like to restore the old behavior.\n",
      "0:\tlearn: 0.1276904\ttotal: 1.81ms\tremaining: 16.3ms\n",
      "1:\tlearn: 0.0431547\ttotal: 3.49ms\tremaining: 14ms\n",
      "2:\tlearn: 0.0156821\ttotal: 5.06ms\tremaining: 11.8ms\n",
      "3:\tlearn: 0.0059975\ttotal: 6.64ms\tremaining: 9.96ms\n",
      "4:\tlearn: 0.0024677\ttotal: 8.25ms\tremaining: 8.25ms\n",
      "5:\tlearn: 0.0011451\ttotal: 9.8ms\tremaining: 6.53ms\n",
      "6:\tlearn: 0.0006005\ttotal: 11.5ms\tremaining: 4.93ms\n",
      "7:\tlearn: 0.0003707\ttotal: 13.2ms\tremaining: 3.3ms\n",
      "8:\tlearn: 0.0002282\ttotal: 14.7ms\tremaining: 1.63ms\n",
      "9:\tlearn: 0.0001802\ttotal: 16.1ms\tremaining: 0us\n",
      "[LightGBM] [Warning] boosting is set=gbdt, boosting_type=gbdt will be ignored. Current value: boosting=gbdt\n",
      "[LightGBM] [Warning] feature_fraction is set=0.5, colsample_bytree=1.0 will be ignored. Current value: feature_fraction=0.5\n"
     ]
    },
    {
     "name": "stderr",
     "output_type": "stream",
     "text": [
      "c:\\users\\kevin\\appdata\\local\\programs\\python\\python37\\lib\\site-packages\\xgboost\\sklearn.py:1146: UserWarning: The use of label encoder in XGBClassifier is deprecated and will be removed in a future release. To remove this warning, do the following: 1) Pass option use_label_encoder=False when constructing XGBClassifier object; and 2) Encode your labels (y) as integers starting with 0, i.e. 0, 1, 2, ..., [num_class - 1].\n",
      "  warnings.warn(label_encoder_deprecation_msg, UserWarning)\n"
     ]
    },
    {
     "name": "stdout",
     "output_type": "stream",
     "text": [
      "[00:03:03] WARNING: C:/Users/Administrator/workspace/xgboost-win64_release_1.4.0/src/learner.cc:1095: Starting in XGBoost 1.3.0, the default evaluation metric used with the objective 'binary:logistic' was changed from 'error' to 'logloss'. Explicitly set eval_metric if you'd like to restore the old behavior.\n",
      "0:\tlearn: 0.1276904\ttotal: 1.85ms\tremaining: 16.6ms\n",
      "1:\tlearn: 0.0431548\ttotal: 3.52ms\tremaining: 14.1ms\n",
      "2:\tlearn: 0.0156826\ttotal: 5.22ms\tremaining: 12.2ms\n",
      "3:\tlearn: 0.0059979\ttotal: 6.87ms\tremaining: 10.3ms\n",
      "4:\tlearn: 0.0024679\ttotal: 8.45ms\tremaining: 8.45ms\n",
      "5:\tlearn: 0.0011450\ttotal: 10.1ms\tremaining: 6.75ms\n",
      "6:\tlearn: 0.0005997\ttotal: 11.7ms\tremaining: 5.03ms\n",
      "7:\tlearn: 0.0003700\ttotal: 13.3ms\tremaining: 3.33ms\n",
      "8:\tlearn: 0.0002278\ttotal: 15ms\tremaining: 1.66ms\n",
      "9:\tlearn: 0.0001800\ttotal: 16.6ms\tremaining: 0us\n",
      "[LightGBM] [Warning] boosting is set=gbdt, boosting_type=gbdt will be ignored. Current value: boosting=gbdt\n",
      "[LightGBM] [Warning] feature_fraction is set=0.5, colsample_bytree=1.0 will be ignored. Current value: feature_fraction=0.5\n"
     ]
    },
    {
     "name": "stderr",
     "output_type": "stream",
     "text": [
      "c:\\users\\kevin\\appdata\\local\\programs\\python\\python37\\lib\\site-packages\\xgboost\\sklearn.py:1146: UserWarning: The use of label encoder in XGBClassifier is deprecated and will be removed in a future release. To remove this warning, do the following: 1) Pass option use_label_encoder=False when constructing XGBClassifier object; and 2) Encode your labels (y) as integers starting with 0, i.e. 0, 1, 2, ..., [num_class - 1].\n",
      "  warnings.warn(label_encoder_deprecation_msg, UserWarning)\n"
     ]
    },
    {
     "name": "stdout",
     "output_type": "stream",
     "text": [
      "[00:03:06] WARNING: C:/Users/Administrator/workspace/xgboost-win64_release_1.4.0/src/learner.cc:1095: Starting in XGBoost 1.3.0, the default evaluation metric used with the objective 'binary:logistic' was changed from 'error' to 'logloss'. Explicitly set eval_metric if you'd like to restore the old behavior.\n",
      "0:\tlearn: 0.1276904\ttotal: 1.74ms\tremaining: 15.7ms\n",
      "1:\tlearn: 0.0431548\ttotal: 3.4ms\tremaining: 13.6ms\n",
      "2:\tlearn: 0.0156842\ttotal: 5.02ms\tremaining: 11.7ms\n",
      "3:\tlearn: 0.0059983\ttotal: 6.67ms\tremaining: 10ms\n",
      "4:\tlearn: 0.0024680\ttotal: 8.46ms\tremaining: 8.46ms\n",
      "5:\tlearn: 0.0011447\ttotal: 10.3ms\tremaining: 6.86ms\n",
      "6:\tlearn: 0.0005999\ttotal: 12ms\tremaining: 5.13ms\n",
      "7:\tlearn: 0.0003702\ttotal: 13.7ms\tremaining: 3.42ms\n",
      "8:\tlearn: 0.0002279\ttotal: 15.3ms\tremaining: 1.7ms\n",
      "9:\tlearn: 0.0001799\ttotal: 17ms\tremaining: 0us\n",
      "[LightGBM] [Warning] boosting is set=gbdt, boosting_type=gbdt will be ignored. Current value: boosting=gbdt\n",
      "[LightGBM] [Warning] feature_fraction is set=0.5, colsample_bytree=1.0 will be ignored. Current value: feature_fraction=0.5\n"
     ]
    },
    {
     "name": "stderr",
     "output_type": "stream",
     "text": [
      "c:\\users\\kevin\\appdata\\local\\programs\\python\\python37\\lib\\site-packages\\xgboost\\sklearn.py:1146: UserWarning: The use of label encoder in XGBClassifier is deprecated and will be removed in a future release. To remove this warning, do the following: 1) Pass option use_label_encoder=False when constructing XGBClassifier object; and 2) Encode your labels (y) as integers starting with 0, i.e. 0, 1, 2, ..., [num_class - 1].\n",
      "  warnings.warn(label_encoder_deprecation_msg, UserWarning)\n"
     ]
    },
    {
     "name": "stdout",
     "output_type": "stream",
     "text": [
      "[00:03:08] WARNING: C:/Users/Administrator/workspace/xgboost-win64_release_1.4.0/src/learner.cc:1095: Starting in XGBoost 1.3.0, the default evaluation metric used with the objective 'binary:logistic' was changed from 'error' to 'logloss'. Explicitly set eval_metric if you'd like to restore the old behavior.\n",
      "0:\tlearn: 0.1276904\ttotal: 10.8ms\tremaining: 96.9ms\n",
      "1:\tlearn: 0.0431547\ttotal: 12.8ms\tremaining: 51.2ms\n",
      "2:\tlearn: 0.0156815\ttotal: 14.5ms\tremaining: 33.9ms\n",
      "3:\tlearn: 0.0059972\ttotal: 16.4ms\tremaining: 24.5ms\n",
      "4:\tlearn: 0.0024675\ttotal: 18.1ms\tremaining: 18.1ms\n",
      "5:\tlearn: 0.0011440\ttotal: 19.8ms\tremaining: 13.2ms\n",
      "6:\tlearn: 0.0005988\ttotal: 21.5ms\tremaining: 9.22ms\n",
      "7:\tlearn: 0.0003691\ttotal: 23.2ms\tremaining: 5.81ms\n",
      "8:\tlearn: 0.0002273\ttotal: 24.9ms\tremaining: 2.77ms\n",
      "9:\tlearn: 0.0001796\ttotal: 26.5ms\tremaining: 0us\n",
      "[LightGBM] [Warning] boosting is set=gbdt, boosting_type=gbdt will be ignored. Current value: boosting=gbdt\n",
      "[LightGBM] [Warning] feature_fraction is set=0.5, colsample_bytree=1.0 will be ignored. Current value: feature_fraction=0.5\n",
      "[00:03:11] WARNING: C:/Users/Administrator/workspace/xgboost-win64_release_1.4.0/src/learner.cc:1095: Starting in XGBoost 1.3.0, the default evaluation metric used with the objective 'binary:logistic' was changed from 'error' to 'logloss'. Explicitly set eval_metric if you'd like to restore the old behavior.\n",
      "0:\tlearn: 0.1276904\ttotal: 2.04ms\tremaining: 18.3ms\n",
      "1:\tlearn: 0.0431547\ttotal: 3.75ms\tremaining: 15ms\n",
      "2:\tlearn: 0.0156840\ttotal: 5.27ms\tremaining: 12.3ms\n",
      "3:\tlearn: 0.0059983\ttotal: 6.71ms\tremaining: 10.1ms\n",
      "4:\tlearn: 0.0024682\ttotal: 8.1ms\tremaining: 8.1ms\n",
      "5:\tlearn: 0.0011452\ttotal: 9.52ms\tremaining: 6.35ms\n",
      "6:\tlearn: 0.0005996\ttotal: 11ms\tremaining: 4.7ms\n",
      "7:\tlearn: 0.0003704\ttotal: 12.5ms\tremaining: 3.13ms\n",
      "8:\tlearn: 0.0002280\ttotal: 14ms\tremaining: 1.55ms\n",
      "9:\tlearn: 0.0001799\ttotal: 15.5ms\tremaining: 0us\n",
      "[LightGBM] [Warning] boosting is set=gbdt, boosting_type=gbdt will be ignored. Current value: boosting=gbdt\n",
      "[LightGBM] [Warning] feature_fraction is set=0.5, colsample_bytree=1.0 will be ignored. Current value: feature_fraction=0.5\n"
     ]
    },
    {
     "name": "stderr",
     "output_type": "stream",
     "text": [
      "c:\\users\\kevin\\appdata\\local\\programs\\python\\python37\\lib\\site-packages\\xgboost\\sklearn.py:1146: UserWarning: The use of label encoder in XGBClassifier is deprecated and will be removed in a future release. To remove this warning, do the following: 1) Pass option use_label_encoder=False when constructing XGBClassifier object; and 2) Encode your labels (y) as integers starting with 0, i.e. 0, 1, 2, ..., [num_class - 1].\n",
      "  warnings.warn(label_encoder_deprecation_msg, UserWarning)\n"
     ]
    }
   ],
   "source": [
    "data_1=data_type_change(data1)\n",
    "data_2=data2\n",
    "data_3=data_type_change(data3)\n",
    "data_4=data_type_change(data4)\n",
    "data_5=data_type_change(data5)\n",
    "data_6=data_type_change(data6)\n",
    "accuracy_table_all=pd.DataFrame()\n",
    "for one_data in [data_1,data_2,data_3,data_4,data_5,data_6]:\n",
    "    accuracy_table_in_dataset=pd.DataFrame()\n",
    "    for time in range(0,5) :\n",
    "        accuracy_table_in_dataset=pd.concat([accuracy_table_in_dataset,set_model_accuracy(one_data,True,0.25)],axis=1)\n",
    "    accuracy_table_all=pd.concat([accuracy_table_all,accuracy_table_in_dataset.mean(axis=1)],axis=1)"
   ]
  },
  {
   "cell_type": "code",
   "execution_count": 103,
   "id": "03067ea2",
   "metadata": {},
   "outputs": [
    {
     "data": {
      "text/html": [
       "<div>\n",
       "<style scoped>\n",
       "    .dataframe tbody tr th:only-of-type {\n",
       "        vertical-align: middle;\n",
       "    }\n",
       "\n",
       "    .dataframe tbody tr th {\n",
       "        vertical-align: top;\n",
       "    }\n",
       "\n",
       "    .dataframe thead th {\n",
       "        text-align: right;\n",
       "    }\n",
       "</style>\n",
       "<table border=\"1\" class=\"dataframe\">\n",
       "  <thead>\n",
       "    <tr style=\"text-align: right;\">\n",
       "      <th></th>\n",
       "      <th>Income</th>\n",
       "      <th>Arcene</th>\n",
       "      <th>Bank</th>\n",
       "      <th>BlastChar</th>\n",
       "      <th>Shopper</th>\n",
       "      <th>SHrutime</th>\n",
       "    </tr>\n",
       "  </thead>\n",
       "  <tbody>\n",
       "    <tr>\n",
       "      <th>KNN</th>\n",
       "      <td>0.772338</td>\n",
       "      <td>0.816</td>\n",
       "      <td>0.880563</td>\n",
       "      <td>0.692788</td>\n",
       "      <td>0.858644</td>\n",
       "      <td>0.75952</td>\n",
       "    </tr>\n",
       "    <tr>\n",
       "      <th>LM</th>\n",
       "      <td>0.789584</td>\n",
       "      <td>0.868</td>\n",
       "      <td>0.915881</td>\n",
       "      <td>0.992618</td>\n",
       "      <td>0.884009</td>\n",
       "      <td>0.79232</td>\n",
       "    </tr>\n",
       "    <tr>\n",
       "      <th>RF</th>\n",
       "      <td>1.000000</td>\n",
       "      <td>0.820</td>\n",
       "      <td>1.000000</td>\n",
       "      <td>1.000000</td>\n",
       "      <td>1.000000</td>\n",
       "      <td>1.00000</td>\n",
       "    </tr>\n",
       "    <tr>\n",
       "      <th>MLP</th>\n",
       "      <td>0.787053</td>\n",
       "      <td>0.680</td>\n",
       "      <td>0.988764</td>\n",
       "      <td>0.922658</td>\n",
       "      <td>0.976776</td>\n",
       "      <td>0.75048</td>\n",
       "    </tr>\n",
       "    <tr>\n",
       "      <th>SVM</th>\n",
       "      <td>0.793637</td>\n",
       "      <td>0.700</td>\n",
       "      <td>0.882721</td>\n",
       "      <td>0.740148</td>\n",
       "      <td>0.840156</td>\n",
       "      <td>0.79232</td>\n",
       "    </tr>\n",
       "    <tr>\n",
       "      <th>XGB</th>\n",
       "      <td>1.000000</td>\n",
       "      <td>1.000</td>\n",
       "      <td>1.000000</td>\n",
       "      <td>1.000000</td>\n",
       "      <td>1.000000</td>\n",
       "      <td>1.00000</td>\n",
       "    </tr>\n",
       "    <tr>\n",
       "      <th>CAT</th>\n",
       "      <td>1.000000</td>\n",
       "      <td>1.000</td>\n",
       "      <td>1.000000</td>\n",
       "      <td>1.000000</td>\n",
       "      <td>1.000000</td>\n",
       "      <td>1.00000</td>\n",
       "    </tr>\n",
       "    <tr>\n",
       "      <th>LGBM</th>\n",
       "      <td>1.000000</td>\n",
       "      <td>1.000</td>\n",
       "      <td>1.000000</td>\n",
       "      <td>1.000000</td>\n",
       "      <td>1.000000</td>\n",
       "      <td>1.00000</td>\n",
       "    </tr>\n",
       "  </tbody>\n",
       "</table>\n",
       "</div>"
      ],
      "text/plain": [
       "        Income  Arcene      Bank  BlastChar   Shopper  SHrutime\n",
       "KNN   0.772338   0.816  0.880563   0.692788  0.858644   0.75952\n",
       "LM    0.789584   0.868  0.915881   0.992618  0.884009   0.79232\n",
       "RF    1.000000   0.820  1.000000   1.000000  1.000000   1.00000\n",
       "MLP   0.787053   0.680  0.988764   0.922658  0.976776   0.75048\n",
       "SVM   0.793637   0.700  0.882721   0.740148  0.840156   0.79232\n",
       "XGB   1.000000   1.000  1.000000   1.000000  1.000000   1.00000\n",
       "CAT   1.000000   1.000  1.000000   1.000000  1.000000   1.00000\n",
       "LGBM  1.000000   1.000  1.000000   1.000000  1.000000   1.00000"
      ]
     },
     "execution_count": 103,
     "metadata": {},
     "output_type": "execute_result"
    }
   ],
   "source": [
    "accuracy_table_all.columns=[\"Income\",\"Arcene\",\"Bank\",\"BlastChar\",\"Shopper\",\"SHrutime\"]\n",
    "accuracy_table_all"
   ]
  },
  {
   "cell_type": "code",
   "execution_count": 104,
   "id": "db91e02a",
   "metadata": {},
   "outputs": [
    {
     "name": "stderr",
     "output_type": "stream",
     "text": [
      "c:\\users\\kevin\\appdata\\local\\programs\\python\\python37\\lib\\site-packages\\xgboost\\sklearn.py:1146: UserWarning: The use of label encoder in XGBClassifier is deprecated and will be removed in a future release. To remove this warning, do the following: 1) Pass option use_label_encoder=False when constructing XGBClassifier object; and 2) Encode your labels (y) as integers starting with 0, i.e. 0, 1, 2, ..., [num_class - 1].\n",
      "  warnings.warn(label_encoder_deprecation_msg, UserWarning)\n"
     ]
    },
    {
     "name": "stdout",
     "output_type": "stream",
     "text": [
      "[00:03:29] WARNING: C:/Users/Administrator/workspace/xgboost-win64_release_1.4.0/src/learner.cc:1095: Starting in XGBoost 1.3.0, the default evaluation metric used with the objective 'binary:logistic' was changed from 'error' to 'logloss'. Explicitly set eval_metric if you'd like to restore the old behavior.\n",
      "0:\tlearn: 0.1271623\ttotal: 3.72ms\tremaining: 33.5ms\n",
      "1:\tlearn: 0.0427476\ttotal: 7.58ms\tremaining: 30.3ms\n",
      "2:\tlearn: 0.0153457\ttotal: 11.3ms\tremaining: 26.5ms\n",
      "3:\tlearn: 0.0056774\ttotal: 14.9ms\tremaining: 22.3ms\n",
      "4:\tlearn: 0.0021587\ttotal: 18.3ms\tremaining: 18.3ms\n",
      "5:\tlearn: 0.0008761\ttotal: 22.2ms\tremaining: 14.8ms\n",
      "6:\tlearn: 0.0003980\ttotal: 25.7ms\tremaining: 11ms\n",
      "7:\tlearn: 0.0001944\ttotal: 29.4ms\tremaining: 7.36ms\n",
      "8:\tlearn: 0.0001126\ttotal: 33.2ms\tremaining: 3.69ms\n",
      "9:\tlearn: 0.0000759\ttotal: 36.6ms\tremaining: 0us\n",
      "[LightGBM] [Warning] boosting is set=gbdt, boosting_type=gbdt will be ignored. Current value: boosting=gbdt\n",
      "[LightGBM] [Warning] feature_fraction is set=0.5, colsample_bytree=1.0 will be ignored. Current value: feature_fraction=0.5\n"
     ]
    },
    {
     "name": "stderr",
     "output_type": "stream",
     "text": [
      "c:\\users\\kevin\\appdata\\local\\programs\\python\\python37\\lib\\site-packages\\xgboost\\sklearn.py:1146: UserWarning: The use of label encoder in XGBClassifier is deprecated and will be removed in a future release. To remove this warning, do the following: 1) Pass option use_label_encoder=False when constructing XGBClassifier object; and 2) Encode your labels (y) as integers starting with 0, i.e. 0, 1, 2, ..., [num_class - 1].\n",
      "  warnings.warn(label_encoder_deprecation_msg, UserWarning)\n"
     ]
    },
    {
     "name": "stdout",
     "output_type": "stream",
     "text": [
      "[00:03:50] WARNING: C:/Users/Administrator/workspace/xgboost-win64_release_1.4.0/src/learner.cc:1095: Starting in XGBoost 1.3.0, the default evaluation metric used with the objective 'binary:logistic' was changed from 'error' to 'logloss'. Explicitly set eval_metric if you'd like to restore the old behavior.\n",
      "0:\tlearn: 0.1271623\ttotal: 7.97ms\tremaining: 71.7ms\n",
      "1:\tlearn: 0.0427476\ttotal: 16.4ms\tremaining: 65.4ms\n",
      "2:\tlearn: 0.0153467\ttotal: 20.6ms\tremaining: 48.2ms\n",
      "3:\tlearn: 0.0056777\ttotal: 25.9ms\tremaining: 38.9ms\n",
      "4:\tlearn: 0.0021586\ttotal: 30ms\tremaining: 30ms\n",
      "5:\tlearn: 0.0008760\ttotal: 34.2ms\tremaining: 22.8ms\n",
      "6:\tlearn: 0.0003980\ttotal: 38.3ms\tremaining: 16.4ms\n",
      "7:\tlearn: 0.0001941\ttotal: 43.3ms\tremaining: 10.8ms\n",
      "8:\tlearn: 0.0001124\ttotal: 47.4ms\tremaining: 5.26ms\n",
      "9:\tlearn: 0.0000756\ttotal: 51.9ms\tremaining: 0us\n",
      "[LightGBM] [Warning] boosting is set=gbdt, boosting_type=gbdt will be ignored. Current value: boosting=gbdt\n",
      "[LightGBM] [Warning] feature_fraction is set=0.5, colsample_bytree=1.0 will be ignored. Current value: feature_fraction=0.5\n"
     ]
    },
    {
     "name": "stderr",
     "output_type": "stream",
     "text": [
      "c:\\users\\kevin\\appdata\\local\\programs\\python\\python37\\lib\\site-packages\\sklearn\\linear_model\\_logistic.py:765: ConvergenceWarning: lbfgs failed to converge (status=1):\n",
      "STOP: TOTAL NO. of ITERATIONS REACHED LIMIT.\n",
      "\n",
      "Increase the number of iterations (max_iter) or scale the data as shown in:\n",
      "    https://scikit-learn.org/stable/modules/preprocessing.html\n",
      "Please also refer to the documentation for alternative solver options:\n",
      "    https://scikit-learn.org/stable/modules/linear_model.html#logistic-regression\n",
      "  extra_warning_msg=_LOGISTIC_SOLVER_CONVERGENCE_MSG)\n",
      "c:\\users\\kevin\\appdata\\local\\programs\\python\\python37\\lib\\site-packages\\xgboost\\sklearn.py:1146: UserWarning: The use of label encoder in XGBClassifier is deprecated and will be removed in a future release. To remove this warning, do the following: 1) Pass option use_label_encoder=False when constructing XGBClassifier object; and 2) Encode your labels (y) as integers starting with 0, i.e. 0, 1, 2, ..., [num_class - 1].\n",
      "  warnings.warn(label_encoder_deprecation_msg, UserWarning)\n"
     ]
    },
    {
     "name": "stdout",
     "output_type": "stream",
     "text": [
      "[00:04:08] WARNING: C:/Users/Administrator/workspace/xgboost-win64_release_1.4.0/src/learner.cc:1095: Starting in XGBoost 1.3.0, the default evaluation metric used with the objective 'binary:logistic' was changed from 'error' to 'logloss'. Explicitly set eval_metric if you'd like to restore the old behavior.\n",
      "0:\tlearn: 0.1271623\ttotal: 3.79ms\tremaining: 34.1ms\n",
      "1:\tlearn: 0.0427476\ttotal: 7.4ms\tremaining: 29.6ms\n",
      "2:\tlearn: 0.0153454\ttotal: 10.9ms\tremaining: 25.5ms\n",
      "3:\tlearn: 0.0056772\ttotal: 14.5ms\tremaining: 21.8ms\n",
      "4:\tlearn: 0.0021586\ttotal: 18.2ms\tremaining: 18.2ms\n",
      "5:\tlearn: 0.0008760\ttotal: 21.9ms\tremaining: 14.6ms\n",
      "6:\tlearn: 0.0003980\ttotal: 25.6ms\tremaining: 11ms\n",
      "7:\tlearn: 0.0001942\ttotal: 29.1ms\tremaining: 7.28ms\n",
      "8:\tlearn: 0.0001125\ttotal: 32.5ms\tremaining: 3.61ms\n",
      "9:\tlearn: 0.0000757\ttotal: 36ms\tremaining: 0us\n",
      "[LightGBM] [Warning] boosting is set=gbdt, boosting_type=gbdt will be ignored. Current value: boosting=gbdt\n",
      "[LightGBM] [Warning] feature_fraction is set=0.5, colsample_bytree=1.0 will be ignored. Current value: feature_fraction=0.5\n"
     ]
    },
    {
     "name": "stderr",
     "output_type": "stream",
     "text": [
      "c:\\users\\kevin\\appdata\\local\\programs\\python\\python37\\lib\\site-packages\\sklearn\\linear_model\\_logistic.py:765: ConvergenceWarning: lbfgs failed to converge (status=1):\n",
      "STOP: TOTAL NO. of ITERATIONS REACHED LIMIT.\n",
      "\n",
      "Increase the number of iterations (max_iter) or scale the data as shown in:\n",
      "    https://scikit-learn.org/stable/modules/preprocessing.html\n",
      "Please also refer to the documentation for alternative solver options:\n",
      "    https://scikit-learn.org/stable/modules/linear_model.html#logistic-regression\n",
      "  extra_warning_msg=_LOGISTIC_SOLVER_CONVERGENCE_MSG)\n",
      "c:\\users\\kevin\\appdata\\local\\programs\\python\\python37\\lib\\site-packages\\xgboost\\sklearn.py:1146: UserWarning: The use of label encoder in XGBClassifier is deprecated and will be removed in a future release. To remove this warning, do the following: 1) Pass option use_label_encoder=False when constructing XGBClassifier object; and 2) Encode your labels (y) as integers starting with 0, i.e. 0, 1, 2, ..., [num_class - 1].\n",
      "  warnings.warn(label_encoder_deprecation_msg, UserWarning)\n"
     ]
    },
    {
     "name": "stdout",
     "output_type": "stream",
     "text": [
      "[00:04:25] WARNING: C:/Users/Administrator/workspace/xgboost-win64_release_1.4.0/src/learner.cc:1095: Starting in XGBoost 1.3.0, the default evaluation metric used with the objective 'binary:logistic' was changed from 'error' to 'logloss'. Explicitly set eval_metric if you'd like to restore the old behavior.\n",
      "0:\tlearn: 0.1271623\ttotal: 4.22ms\tremaining: 38ms\n",
      "1:\tlearn: 0.0427476\ttotal: 7.86ms\tremaining: 31.4ms\n",
      "2:\tlearn: 0.0153450\ttotal: 11.3ms\tremaining: 26.3ms\n",
      "3:\tlearn: 0.0056771\ttotal: 15ms\tremaining: 22.5ms\n",
      "4:\tlearn: 0.0021587\ttotal: 18.6ms\tremaining: 18.6ms\n",
      "5:\tlearn: 0.0008761\ttotal: 22.5ms\tremaining: 15ms\n",
      "6:\tlearn: 0.0003980\ttotal: 26.2ms\tremaining: 11.2ms\n",
      "7:\tlearn: 0.0001944\ttotal: 29.8ms\tremaining: 7.44ms\n",
      "8:\tlearn: 0.0001126\ttotal: 33.4ms\tremaining: 3.71ms\n",
      "9:\tlearn: 0.0000759\ttotal: 37.1ms\tremaining: 0us\n",
      "[LightGBM] [Warning] boosting is set=gbdt, boosting_type=gbdt will be ignored. Current value: boosting=gbdt\n",
      "[LightGBM] [Warning] feature_fraction is set=0.5, colsample_bytree=1.0 will be ignored. Current value: feature_fraction=0.5\n"
     ]
    },
    {
     "name": "stderr",
     "output_type": "stream",
     "text": [
      "c:\\users\\kevin\\appdata\\local\\programs\\python\\python37\\lib\\site-packages\\sklearn\\linear_model\\_logistic.py:765: ConvergenceWarning: lbfgs failed to converge (status=1):\n",
      "STOP: TOTAL NO. of ITERATIONS REACHED LIMIT.\n",
      "\n",
      "Increase the number of iterations (max_iter) or scale the data as shown in:\n",
      "    https://scikit-learn.org/stable/modules/preprocessing.html\n",
      "Please also refer to the documentation for alternative solver options:\n",
      "    https://scikit-learn.org/stable/modules/linear_model.html#logistic-regression\n",
      "  extra_warning_msg=_LOGISTIC_SOLVER_CONVERGENCE_MSG)\n",
      "c:\\users\\kevin\\appdata\\local\\programs\\python\\python37\\lib\\site-packages\\xgboost\\sklearn.py:1146: UserWarning: The use of label encoder in XGBClassifier is deprecated and will be removed in a future release. To remove this warning, do the following: 1) Pass option use_label_encoder=False when constructing XGBClassifier object; and 2) Encode your labels (y) as integers starting with 0, i.e. 0, 1, 2, ..., [num_class - 1].\n",
      "  warnings.warn(label_encoder_deprecation_msg, UserWarning)\n"
     ]
    },
    {
     "name": "stdout",
     "output_type": "stream",
     "text": [
      "[00:04:49] WARNING: C:/Users/Administrator/workspace/xgboost-win64_release_1.4.0/src/learner.cc:1095: Starting in XGBoost 1.3.0, the default evaluation metric used with the objective 'binary:logistic' was changed from 'error' to 'logloss'. Explicitly set eval_metric if you'd like to restore the old behavior.\n",
      "0:\tlearn: 0.1271623\ttotal: 4.14ms\tremaining: 37.3ms\n",
      "1:\tlearn: 0.0427476\ttotal: 7.61ms\tremaining: 30.5ms\n",
      "2:\tlearn: 0.0153450\ttotal: 11.1ms\tremaining: 25.9ms\n",
      "3:\tlearn: 0.0056771\ttotal: 14.3ms\tremaining: 21.4ms\n",
      "4:\tlearn: 0.0021589\ttotal: 18.1ms\tremaining: 18.1ms\n",
      "5:\tlearn: 0.0008762\ttotal: 21.6ms\tremaining: 14.4ms\n",
      "6:\tlearn: 0.0003981\ttotal: 24.8ms\tremaining: 10.6ms\n",
      "7:\tlearn: 0.0001943\ttotal: 28.2ms\tremaining: 7.04ms\n",
      "8:\tlearn: 0.0001125\ttotal: 31.5ms\tremaining: 3.5ms\n",
      "9:\tlearn: 0.0000758\ttotal: 34.8ms\tremaining: 0us\n",
      "[LightGBM] [Warning] boosting is set=gbdt, boosting_type=gbdt will be ignored. Current value: boosting=gbdt\n",
      "[LightGBM] [Warning] feature_fraction is set=0.5, colsample_bytree=1.0 will be ignored. Current value: feature_fraction=0.5\n"
     ]
    },
    {
     "name": "stderr",
     "output_type": "stream",
     "text": [
      "c:\\users\\kevin\\appdata\\local\\programs\\python\\python37\\lib\\site-packages\\sklearn\\linear_model\\_logistic.py:765: ConvergenceWarning: lbfgs failed to converge (status=1):\n",
      "STOP: TOTAL NO. of ITERATIONS REACHED LIMIT.\n",
      "\n",
      "Increase the number of iterations (max_iter) or scale the data as shown in:\n",
      "    https://scikit-learn.org/stable/modules/preprocessing.html\n",
      "Please also refer to the documentation for alternative solver options:\n",
      "    https://scikit-learn.org/stable/modules/linear_model.html#logistic-regression\n",
      "  extra_warning_msg=_LOGISTIC_SOLVER_CONVERGENCE_MSG)\n",
      "c:\\users\\kevin\\appdata\\local\\programs\\python\\python37\\lib\\site-packages\\xgboost\\sklearn.py:1146: UserWarning: The use of label encoder in XGBClassifier is deprecated and will be removed in a future release. To remove this warning, do the following: 1) Pass option use_label_encoder=False when constructing XGBClassifier object; and 2) Encode your labels (y) as integers starting with 0, i.e. 0, 1, 2, ..., [num_class - 1].\n",
      "  warnings.warn(label_encoder_deprecation_msg, UserWarning)\n"
     ]
    },
    {
     "name": "stdout",
     "output_type": "stream",
     "text": [
      "[00:04:55] WARNING: C:/Users/Administrator/workspace/xgboost-win64_release_1.4.0/src/learner.cc:1095: Starting in XGBoost 1.3.0, the default evaluation metric used with the objective 'binary:logistic' was changed from 'error' to 'logloss'. Explicitly set eval_metric if you'd like to restore the old behavior.\n",
      "0:\tlearn: 0.1629448\ttotal: 102ms\tremaining: 918ms\n",
      "1:\tlearn: 0.0696726\ttotal: 170ms\tremaining: 678ms\n",
      "2:\tlearn: 0.0366559\ttotal: 242ms\tremaining: 564ms\n",
      "3:\tlearn: 0.0218941\ttotal: 327ms\tremaining: 491ms\n",
      "4:\tlearn: 0.0153147\ttotal: 386ms\tremaining: 386ms\n",
      "5:\tlearn: 0.0110621\ttotal: 440ms\tremaining: 294ms\n",
      "6:\tlearn: 0.0086922\ttotal: 496ms\tremaining: 212ms\n",
      "7:\tlearn: 0.0072650\ttotal: 554ms\tremaining: 139ms\n",
      "8:\tlearn: 0.0062037\ttotal: 611ms\tremaining: 67.9ms\n",
      "9:\tlearn: 0.0053548\ttotal: 696ms\tremaining: 0us\n",
      "[LightGBM] [Warning] boosting is set=gbdt, boosting_type=gbdt will be ignored. Current value: boosting=gbdt\n",
      "[LightGBM] [Warning] feature_fraction is set=0.5, colsample_bytree=1.0 will be ignored. Current value: feature_fraction=0.5\n"
     ]
    },
    {
     "name": "stderr",
     "output_type": "stream",
     "text": [
      "c:\\users\\kevin\\appdata\\local\\programs\\python\\python37\\lib\\site-packages\\sklearn\\linear_model\\_logistic.py:765: ConvergenceWarning: lbfgs failed to converge (status=1):\n",
      "STOP: TOTAL NO. of ITERATIONS REACHED LIMIT.\n",
      "\n",
      "Increase the number of iterations (max_iter) or scale the data as shown in:\n",
      "    https://scikit-learn.org/stable/modules/preprocessing.html\n",
      "Please also refer to the documentation for alternative solver options:\n",
      "    https://scikit-learn.org/stable/modules/linear_model.html#logistic-regression\n",
      "  extra_warning_msg=_LOGISTIC_SOLVER_CONVERGENCE_MSG)\n",
      "c:\\users\\kevin\\appdata\\local\\programs\\python\\python37\\lib\\site-packages\\xgboost\\sklearn.py:1146: UserWarning: The use of label encoder in XGBClassifier is deprecated and will be removed in a future release. To remove this warning, do the following: 1) Pass option use_label_encoder=False when constructing XGBClassifier object; and 2) Encode your labels (y) as integers starting with 0, i.e. 0, 1, 2, ..., [num_class - 1].\n",
      "  warnings.warn(label_encoder_deprecation_msg, UserWarning)\n"
     ]
    },
    {
     "name": "stdout",
     "output_type": "stream",
     "text": [
      "[00:05:10] WARNING: C:/Users/Administrator/workspace/xgboost-win64_release_1.4.0/src/learner.cc:1095: Starting in XGBoost 1.3.0, the default evaluation metric used with the objective 'binary:logistic' was changed from 'error' to 'logloss'. Explicitly set eval_metric if you'd like to restore the old behavior.\n",
      "0:\tlearn: 0.1632769\ttotal: 116ms\tremaining: 1.04s\n",
      "1:\tlearn: 0.0688085\ttotal: 239ms\tremaining: 957ms\n",
      "2:\tlearn: 0.0355608\ttotal: 347ms\tremaining: 810ms\n",
      "3:\tlearn: 0.0216024\ttotal: 426ms\tremaining: 639ms\n",
      "4:\tlearn: 0.0150871\ttotal: 509ms\tremaining: 509ms\n",
      "5:\tlearn: 0.0108026\ttotal: 580ms\tremaining: 387ms\n",
      "6:\tlearn: 0.0086024\ttotal: 649ms\tremaining: 278ms\n",
      "7:\tlearn: 0.0063927\ttotal: 729ms\tremaining: 182ms\n",
      "8:\tlearn: 0.0055328\ttotal: 806ms\tremaining: 89.6ms\n",
      "9:\tlearn: 0.0048222\ttotal: 883ms\tremaining: 0us\n",
      "[LightGBM] [Warning] boosting is set=gbdt, boosting_type=gbdt will be ignored. Current value: boosting=gbdt\n",
      "[LightGBM] [Warning] feature_fraction is set=0.5, colsample_bytree=1.0 will be ignored. Current value: feature_fraction=0.5\n"
     ]
    },
    {
     "name": "stderr",
     "output_type": "stream",
     "text": [
      "c:\\users\\kevin\\appdata\\local\\programs\\python\\python37\\lib\\site-packages\\sklearn\\linear_model\\_logistic.py:765: ConvergenceWarning: lbfgs failed to converge (status=1):\n",
      "STOP: TOTAL NO. of ITERATIONS REACHED LIMIT.\n",
      "\n",
      "Increase the number of iterations (max_iter) or scale the data as shown in:\n",
      "    https://scikit-learn.org/stable/modules/preprocessing.html\n",
      "Please also refer to the documentation for alternative solver options:\n",
      "    https://scikit-learn.org/stable/modules/linear_model.html#logistic-regression\n",
      "  extra_warning_msg=_LOGISTIC_SOLVER_CONVERGENCE_MSG)\n",
      "c:\\users\\kevin\\appdata\\local\\programs\\python\\python37\\lib\\site-packages\\xgboost\\sklearn.py:1146: UserWarning: The use of label encoder in XGBClassifier is deprecated and will be removed in a future release. To remove this warning, do the following: 1) Pass option use_label_encoder=False when constructing XGBClassifier object; and 2) Encode your labels (y) as integers starting with 0, i.e. 0, 1, 2, ..., [num_class - 1].\n",
      "  warnings.warn(label_encoder_deprecation_msg, UserWarning)\n"
     ]
    },
    {
     "name": "stdout",
     "output_type": "stream",
     "text": [
      "[00:05:23] WARNING: C:/Users/Administrator/workspace/xgboost-win64_release_1.4.0/src/learner.cc:1095: Starting in XGBoost 1.3.0, the default evaluation metric used with the objective 'binary:logistic' was changed from 'error' to 'logloss'. Explicitly set eval_metric if you'd like to restore the old behavior.\n",
      "0:\tlearn: 0.1630148\ttotal: 126ms\tremaining: 1.13s\n",
      "1:\tlearn: 0.0695902\ttotal: 227ms\tremaining: 907ms\n",
      "2:\tlearn: 0.0353136\ttotal: 302ms\tremaining: 705ms\n",
      "3:\tlearn: 0.0193073\ttotal: 374ms\tremaining: 560ms\n",
      "4:\tlearn: 0.0138645\ttotal: 456ms\tremaining: 456ms\n",
      "5:\tlearn: 0.0095213\ttotal: 534ms\tremaining: 356ms\n",
      "6:\tlearn: 0.0074350\ttotal: 611ms\tremaining: 262ms\n",
      "7:\tlearn: 0.0060983\ttotal: 690ms\tremaining: 173ms\n",
      "8:\tlearn: 0.0053198\ttotal: 770ms\tremaining: 85.6ms\n",
      "9:\tlearn: 0.0045445\ttotal: 850ms\tremaining: 0us\n",
      "[LightGBM] [Warning] boosting is set=gbdt, boosting_type=gbdt will be ignored. Current value: boosting=gbdt\n",
      "[LightGBM] [Warning] feature_fraction is set=0.5, colsample_bytree=1.0 will be ignored. Current value: feature_fraction=0.5\n"
     ]
    },
    {
     "name": "stderr",
     "output_type": "stream",
     "text": [
      "c:\\users\\kevin\\appdata\\local\\programs\\python\\python37\\lib\\site-packages\\sklearn\\linear_model\\_logistic.py:765: ConvergenceWarning: lbfgs failed to converge (status=1):\n",
      "STOP: TOTAL NO. of ITERATIONS REACHED LIMIT.\n",
      "\n",
      "Increase the number of iterations (max_iter) or scale the data as shown in:\n",
      "    https://scikit-learn.org/stable/modules/preprocessing.html\n",
      "Please also refer to the documentation for alternative solver options:\n",
      "    https://scikit-learn.org/stable/modules/linear_model.html#logistic-regression\n",
      "  extra_warning_msg=_LOGISTIC_SOLVER_CONVERGENCE_MSG)\n",
      "c:\\users\\kevin\\appdata\\local\\programs\\python\\python37\\lib\\site-packages\\xgboost\\sklearn.py:1146: UserWarning: The use of label encoder in XGBClassifier is deprecated and will be removed in a future release. To remove this warning, do the following: 1) Pass option use_label_encoder=False when constructing XGBClassifier object; and 2) Encode your labels (y) as integers starting with 0, i.e. 0, 1, 2, ..., [num_class - 1].\n",
      "  warnings.warn(label_encoder_deprecation_msg, UserWarning)\n"
     ]
    },
    {
     "name": "stdout",
     "output_type": "stream",
     "text": [
      "[00:05:42] WARNING: C:/Users/Administrator/workspace/xgboost-win64_release_1.4.0/src/learner.cc:1095: Starting in XGBoost 1.3.0, the default evaluation metric used with the objective 'binary:logistic' was changed from 'error' to 'logloss'. Explicitly set eval_metric if you'd like to restore the old behavior.\n",
      "0:\tlearn: 0.1639479\ttotal: 96.1ms\tremaining: 865ms\n",
      "1:\tlearn: 0.0683190\ttotal: 152ms\tremaining: 608ms\n",
      "2:\tlearn: 0.0356116\ttotal: 206ms\tremaining: 481ms\n",
      "3:\tlearn: 0.0220051\ttotal: 256ms\tremaining: 385ms\n",
      "4:\tlearn: 0.0154315\ttotal: 307ms\tremaining: 307ms\n",
      "5:\tlearn: 0.0109257\ttotal: 358ms\tremaining: 239ms\n",
      "6:\tlearn: 0.0088117\ttotal: 407ms\tremaining: 175ms\n",
      "7:\tlearn: 0.0073243\ttotal: 459ms\tremaining: 115ms\n",
      "8:\tlearn: 0.0062318\ttotal: 510ms\tremaining: 56.7ms\n",
      "9:\tlearn: 0.0054295\ttotal: 561ms\tremaining: 0us\n",
      "[LightGBM] [Warning] boosting is set=gbdt, boosting_type=gbdt will be ignored. Current value: boosting=gbdt\n",
      "[LightGBM] [Warning] feature_fraction is set=0.5, colsample_bytree=1.0 will be ignored. Current value: feature_fraction=0.5\n"
     ]
    },
    {
     "name": "stderr",
     "output_type": "stream",
     "text": [
      "c:\\users\\kevin\\appdata\\local\\programs\\python\\python37\\lib\\site-packages\\sklearn\\linear_model\\_logistic.py:765: ConvergenceWarning: lbfgs failed to converge (status=1):\n",
      "STOP: TOTAL NO. of ITERATIONS REACHED LIMIT.\n",
      "\n",
      "Increase the number of iterations (max_iter) or scale the data as shown in:\n",
      "    https://scikit-learn.org/stable/modules/preprocessing.html\n",
      "Please also refer to the documentation for alternative solver options:\n",
      "    https://scikit-learn.org/stable/modules/linear_model.html#logistic-regression\n",
      "  extra_warning_msg=_LOGISTIC_SOLVER_CONVERGENCE_MSG)\n",
      "c:\\users\\kevin\\appdata\\local\\programs\\python\\python37\\lib\\site-packages\\xgboost\\sklearn.py:1146: UserWarning: The use of label encoder in XGBClassifier is deprecated and will be removed in a future release. To remove this warning, do the following: 1) Pass option use_label_encoder=False when constructing XGBClassifier object; and 2) Encode your labels (y) as integers starting with 0, i.e. 0, 1, 2, ..., [num_class - 1].\n",
      "  warnings.warn(label_encoder_deprecation_msg, UserWarning)\n"
     ]
    },
    {
     "name": "stdout",
     "output_type": "stream",
     "text": [
      "[00:05:57] WARNING: C:/Users/Administrator/workspace/xgboost-win64_release_1.4.0/src/learner.cc:1095: Starting in XGBoost 1.3.0, the default evaluation metric used with the objective 'binary:logistic' was changed from 'error' to 'logloss'. Explicitly set eval_metric if you'd like to restore the old behavior.\n",
      "0:\tlearn: 0.1640096\ttotal: 88ms\tremaining: 792ms\n",
      "1:\tlearn: 0.0699927\ttotal: 142ms\tremaining: 569ms\n",
      "2:\tlearn: 0.0363437\ttotal: 194ms\tremaining: 453ms\n",
      "3:\tlearn: 0.0196333\ttotal: 252ms\tremaining: 378ms\n",
      "4:\tlearn: 0.0140340\ttotal: 302ms\tremaining: 302ms\n",
      "5:\tlearn: 0.0103519\ttotal: 356ms\tremaining: 237ms\n",
      "6:\tlearn: 0.0083932\ttotal: 405ms\tremaining: 174ms\n",
      "7:\tlearn: 0.0069693\ttotal: 457ms\tremaining: 114ms\n",
      "8:\tlearn: 0.0058318\ttotal: 507ms\tremaining: 56.3ms\n",
      "9:\tlearn: 0.0050276\ttotal: 559ms\tremaining: 0us\n",
      "[LightGBM] [Warning] boosting is set=gbdt, boosting_type=gbdt will be ignored. Current value: boosting=gbdt\n",
      "[LightGBM] [Warning] feature_fraction is set=0.5, colsample_bytree=1.0 will be ignored. Current value: feature_fraction=0.5\n"
     ]
    },
    {
     "name": "stderr",
     "output_type": "stream",
     "text": [
      "c:\\users\\kevin\\appdata\\local\\programs\\python\\python37\\lib\\site-packages\\sklearn\\linear_model\\_logistic.py:765: ConvergenceWarning: lbfgs failed to converge (status=1):\n",
      "STOP: TOTAL NO. of ITERATIONS REACHED LIMIT.\n",
      "\n",
      "Increase the number of iterations (max_iter) or scale the data as shown in:\n",
      "    https://scikit-learn.org/stable/modules/preprocessing.html\n",
      "Please also refer to the documentation for alternative solver options:\n",
      "    https://scikit-learn.org/stable/modules/linear_model.html#logistic-regression\n",
      "  extra_warning_msg=_LOGISTIC_SOLVER_CONVERGENCE_MSG)\n",
      "c:\\users\\kevin\\appdata\\local\\programs\\python\\python37\\lib\\site-packages\\xgboost\\sklearn.py:1146: UserWarning: The use of label encoder in XGBClassifier is deprecated and will be removed in a future release. To remove this warning, do the following: 1) Pass option use_label_encoder=False when constructing XGBClassifier object; and 2) Encode your labels (y) as integers starting with 0, i.e. 0, 1, 2, ..., [num_class - 1].\n",
      "  warnings.warn(label_encoder_deprecation_msg, UserWarning)\n"
     ]
    },
    {
     "name": "stdout",
     "output_type": "stream",
     "text": [
      "[00:06:41] WARNING: C:/Users/Administrator/workspace/xgboost-win64_release_1.4.0/src/learner.cc:1095: Starting in XGBoost 1.3.0, the default evaluation metric used with the objective 'binary:logistic' was changed from 'error' to 'logloss'. Explicitly set eval_metric if you'd like to restore the old behavior.\n",
      "0:\tlearn: 0.1270967\ttotal: 4.86ms\tremaining: 43.7ms\n",
      "1:\tlearn: 0.0426954\ttotal: 10.2ms\tremaining: 40.9ms\n",
      "2:\tlearn: 0.0153143\ttotal: 17ms\tremaining: 39.7ms\n",
      "3:\tlearn: 0.0056266\ttotal: 21.9ms\tremaining: 32.9ms\n",
      "4:\tlearn: 0.0021107\ttotal: 28.7ms\tremaining: 28.7ms\n",
      "5:\tlearn: 0.0008318\ttotal: 33.4ms\tremaining: 22.3ms\n",
      "6:\tlearn: 0.0003593\ttotal: 38.2ms\tremaining: 16.4ms\n",
      "7:\tlearn: 0.0001722\ttotal: 44.6ms\tremaining: 11.2ms\n",
      "8:\tlearn: 0.0000974\ttotal: 49.6ms\tremaining: 5.51ms\n",
      "9:\tlearn: 0.0000643\ttotal: 54.6ms\tremaining: 0us\n",
      "[LightGBM] [Warning] boosting is set=gbdt, boosting_type=gbdt will be ignored. Current value: boosting=gbdt\n",
      "[LightGBM] [Warning] feature_fraction is set=0.5, colsample_bytree=1.0 will be ignored. Current value: feature_fraction=0.5\n"
     ]
    },
    {
     "name": "stderr",
     "output_type": "stream",
     "text": [
      "c:\\users\\kevin\\appdata\\local\\programs\\python\\python37\\lib\\site-packages\\sklearn\\linear_model\\_logistic.py:765: ConvergenceWarning: lbfgs failed to converge (status=1):\n",
      "STOP: TOTAL NO. of ITERATIONS REACHED LIMIT.\n",
      "\n",
      "Increase the number of iterations (max_iter) or scale the data as shown in:\n",
      "    https://scikit-learn.org/stable/modules/preprocessing.html\n",
      "Please also refer to the documentation for alternative solver options:\n",
      "    https://scikit-learn.org/stable/modules/linear_model.html#logistic-regression\n",
      "  extra_warning_msg=_LOGISTIC_SOLVER_CONVERGENCE_MSG)\n",
      "c:\\users\\kevin\\appdata\\local\\programs\\python\\python37\\lib\\site-packages\\xgboost\\sklearn.py:1146: UserWarning: The use of label encoder in XGBClassifier is deprecated and will be removed in a future release. To remove this warning, do the following: 1) Pass option use_label_encoder=False when constructing XGBClassifier object; and 2) Encode your labels (y) as integers starting with 0, i.e. 0, 1, 2, ..., [num_class - 1].\n",
      "  warnings.warn(label_encoder_deprecation_msg, UserWarning)\n"
     ]
    },
    {
     "name": "stdout",
     "output_type": "stream",
     "text": [
      "[00:07:17] WARNING: C:/Users/Administrator/workspace/xgboost-win64_release_1.4.0/src/learner.cc:1095: Starting in XGBoost 1.3.0, the default evaluation metric used with the objective 'binary:logistic' was changed from 'error' to 'logloss'. Explicitly set eval_metric if you'd like to restore the old behavior.\n",
      "0:\tlearn: 0.1270967\ttotal: 11.5ms\tremaining: 103ms\n",
      "1:\tlearn: 0.0426954\ttotal: 16.9ms\tremaining: 67.4ms\n",
      "2:\tlearn: 0.0153143\ttotal: 22.4ms\tremaining: 52.3ms\n",
      "3:\tlearn: 0.0056279\ttotal: 27.5ms\tremaining: 41.3ms\n",
      "4:\tlearn: 0.0021115\ttotal: 32.6ms\tremaining: 32.6ms\n",
      "5:\tlearn: 0.0008322\ttotal: 37.6ms\tremaining: 25ms\n",
      "6:\tlearn: 0.0003594\ttotal: 42.5ms\tremaining: 18.2ms\n",
      "7:\tlearn: 0.0001722\ttotal: 47.6ms\tremaining: 11.9ms\n",
      "8:\tlearn: 0.0000975\ttotal: 52.6ms\tremaining: 5.85ms\n",
      "9:\tlearn: 0.0000643\ttotal: 57.4ms\tremaining: 0us\n",
      "[LightGBM] [Warning] boosting is set=gbdt, boosting_type=gbdt will be ignored. Current value: boosting=gbdt\n",
      "[LightGBM] [Warning] feature_fraction is set=0.5, colsample_bytree=1.0 will be ignored. Current value: feature_fraction=0.5\n"
     ]
    },
    {
     "name": "stderr",
     "output_type": "stream",
     "text": [
      "c:\\users\\kevin\\appdata\\local\\programs\\python\\python37\\lib\\site-packages\\sklearn\\linear_model\\_logistic.py:765: ConvergenceWarning: lbfgs failed to converge (status=1):\n",
      "STOP: TOTAL NO. of ITERATIONS REACHED LIMIT.\n",
      "\n",
      "Increase the number of iterations (max_iter) or scale the data as shown in:\n",
      "    https://scikit-learn.org/stable/modules/preprocessing.html\n",
      "Please also refer to the documentation for alternative solver options:\n",
      "    https://scikit-learn.org/stable/modules/linear_model.html#logistic-regression\n",
      "  extra_warning_msg=_LOGISTIC_SOLVER_CONVERGENCE_MSG)\n",
      "c:\\users\\kevin\\appdata\\local\\programs\\python\\python37\\lib\\site-packages\\xgboost\\sklearn.py:1146: UserWarning: The use of label encoder in XGBClassifier is deprecated and will be removed in a future release. To remove this warning, do the following: 1) Pass option use_label_encoder=False when constructing XGBClassifier object; and 2) Encode your labels (y) as integers starting with 0, i.e. 0, 1, 2, ..., [num_class - 1].\n",
      "  warnings.warn(label_encoder_deprecation_msg, UserWarning)\n"
     ]
    },
    {
     "name": "stdout",
     "output_type": "stream",
     "text": [
      "[00:07:49] WARNING: C:/Users/Administrator/workspace/xgboost-win64_release_1.4.0/src/learner.cc:1095: Starting in XGBoost 1.3.0, the default evaluation metric used with the objective 'binary:logistic' was changed from 'error' to 'logloss'. Explicitly set eval_metric if you'd like to restore the old behavior.\n",
      "0:\tlearn: 0.1270967\ttotal: 6.92ms\tremaining: 62.3ms\n",
      "1:\tlearn: 0.0426955\ttotal: 12.1ms\tremaining: 48.2ms\n",
      "2:\tlearn: 0.0153144\ttotal: 16.9ms\tremaining: 39.5ms\n",
      "3:\tlearn: 0.0056277\ttotal: 21.8ms\tremaining: 32.8ms\n",
      "4:\tlearn: 0.0021110\ttotal: 26.4ms\tremaining: 26.4ms\n",
      "5:\tlearn: 0.0008321\ttotal: 30.7ms\tremaining: 20.5ms\n",
      "6:\tlearn: 0.0003593\ttotal: 35.7ms\tremaining: 15.3ms\n",
      "7:\tlearn: 0.0001723\ttotal: 40.2ms\tremaining: 10ms\n",
      "8:\tlearn: 0.0000975\ttotal: 44.6ms\tremaining: 4.96ms\n",
      "9:\tlearn: 0.0000643\ttotal: 48.9ms\tremaining: 0us\n",
      "[LightGBM] [Warning] boosting is set=gbdt, boosting_type=gbdt will be ignored. Current value: boosting=gbdt\n",
      "[LightGBM] [Warning] feature_fraction is set=0.5, colsample_bytree=1.0 will be ignored. Current value: feature_fraction=0.5\n"
     ]
    },
    {
     "name": "stderr",
     "output_type": "stream",
     "text": [
      "c:\\users\\kevin\\appdata\\local\\programs\\python\\python37\\lib\\site-packages\\sklearn\\linear_model\\_logistic.py:765: ConvergenceWarning: lbfgs failed to converge (status=1):\n",
      "STOP: TOTAL NO. of ITERATIONS REACHED LIMIT.\n",
      "\n",
      "Increase the number of iterations (max_iter) or scale the data as shown in:\n",
      "    https://scikit-learn.org/stable/modules/preprocessing.html\n",
      "Please also refer to the documentation for alternative solver options:\n",
      "    https://scikit-learn.org/stable/modules/linear_model.html#logistic-regression\n",
      "  extra_warning_msg=_LOGISTIC_SOLVER_CONVERGENCE_MSG)\n",
      "c:\\users\\kevin\\appdata\\local\\programs\\python\\python37\\lib\\site-packages\\xgboost\\sklearn.py:1146: UserWarning: The use of label encoder in XGBClassifier is deprecated and will be removed in a future release. To remove this warning, do the following: 1) Pass option use_label_encoder=False when constructing XGBClassifier object; and 2) Encode your labels (y) as integers starting with 0, i.e. 0, 1, 2, ..., [num_class - 1].\n",
      "  warnings.warn(label_encoder_deprecation_msg, UserWarning)\n"
     ]
    },
    {
     "name": "stdout",
     "output_type": "stream",
     "text": [
      "[00:08:26] WARNING: C:/Users/Administrator/workspace/xgboost-win64_release_1.4.0/src/learner.cc:1095: Starting in XGBoost 1.3.0, the default evaluation metric used with the objective 'binary:logistic' was changed from 'error' to 'logloss'. Explicitly set eval_metric if you'd like to restore the old behavior.\n",
      "0:\tlearn: 0.1270967\ttotal: 14.6ms\tremaining: 131ms\n",
      "1:\tlearn: 0.0426954\ttotal: 25.3ms\tremaining: 101ms\n",
      "2:\tlearn: 0.0153143\ttotal: 32.5ms\tremaining: 75.8ms\n",
      "3:\tlearn: 0.0056277\ttotal: 40.7ms\tremaining: 61.1ms\n",
      "4:\tlearn: 0.0021111\ttotal: 49.1ms\tremaining: 49.1ms\n",
      "5:\tlearn: 0.0008323\ttotal: 57.8ms\tremaining: 38.5ms\n",
      "6:\tlearn: 0.0003594\ttotal: 64.8ms\tremaining: 27.8ms\n",
      "7:\tlearn: 0.0001723\ttotal: 73.9ms\tremaining: 18.5ms\n",
      "8:\tlearn: 0.0000975\ttotal: 81.6ms\tremaining: 9.07ms\n",
      "9:\tlearn: 0.0000643\ttotal: 90.3ms\tremaining: 0us\n",
      "[LightGBM] [Warning] boosting is set=gbdt, boosting_type=gbdt will be ignored. Current value: boosting=gbdt\n",
      "[LightGBM] [Warning] feature_fraction is set=0.5, colsample_bytree=1.0 will be ignored. Current value: feature_fraction=0.5\n"
     ]
    },
    {
     "name": "stderr",
     "output_type": "stream",
     "text": [
      "c:\\users\\kevin\\appdata\\local\\programs\\python\\python37\\lib\\site-packages\\sklearn\\linear_model\\_logistic.py:765: ConvergenceWarning: lbfgs failed to converge (status=1):\n",
      "STOP: TOTAL NO. of ITERATIONS REACHED LIMIT.\n",
      "\n",
      "Increase the number of iterations (max_iter) or scale the data as shown in:\n",
      "    https://scikit-learn.org/stable/modules/preprocessing.html\n",
      "Please also refer to the documentation for alternative solver options:\n",
      "    https://scikit-learn.org/stable/modules/linear_model.html#logistic-regression\n",
      "  extra_warning_msg=_LOGISTIC_SOLVER_CONVERGENCE_MSG)\n",
      "c:\\users\\kevin\\appdata\\local\\programs\\python\\python37\\lib\\site-packages\\xgboost\\sklearn.py:1146: UserWarning: The use of label encoder in XGBClassifier is deprecated and will be removed in a future release. To remove this warning, do the following: 1) Pass option use_label_encoder=False when constructing XGBClassifier object; and 2) Encode your labels (y) as integers starting with 0, i.e. 0, 1, 2, ..., [num_class - 1].\n",
      "  warnings.warn(label_encoder_deprecation_msg, UserWarning)\n"
     ]
    },
    {
     "name": "stdout",
     "output_type": "stream",
     "text": [
      "[00:09:05] WARNING: C:/Users/Administrator/workspace/xgboost-win64_release_1.4.0/src/learner.cc:1095: Starting in XGBoost 1.3.0, the default evaluation metric used with the objective 'binary:logistic' was changed from 'error' to 'logloss'. Explicitly set eval_metric if you'd like to restore the old behavior.\n",
      "0:\tlearn: 0.1270967\ttotal: 4.74ms\tremaining: 42.7ms\n",
      "1:\tlearn: 0.0426954\ttotal: 9.61ms\tremaining: 38.4ms\n",
      "2:\tlearn: 0.0153143\ttotal: 15.1ms\tremaining: 35.2ms\n",
      "3:\tlearn: 0.0056275\ttotal: 23.3ms\tremaining: 34.9ms\n",
      "4:\tlearn: 0.0021113\ttotal: 28.9ms\tremaining: 28.9ms\n",
      "5:\tlearn: 0.0008323\ttotal: 36ms\tremaining: 24ms\n",
      "6:\tlearn: 0.0003595\ttotal: 40.7ms\tremaining: 17.4ms\n",
      "7:\tlearn: 0.0001723\ttotal: 45.6ms\tremaining: 11.4ms\n",
      "8:\tlearn: 0.0000975\ttotal: 52.7ms\tremaining: 5.85ms\n",
      "9:\tlearn: 0.0000643\ttotal: 57.7ms\tremaining: 0us\n",
      "[LightGBM] [Warning] boosting is set=gbdt, boosting_type=gbdt will be ignored. Current value: boosting=gbdt\n",
      "[LightGBM] [Warning] feature_fraction is set=0.5, colsample_bytree=1.0 will be ignored. Current value: feature_fraction=0.5\n"
     ]
    },
    {
     "name": "stderr",
     "output_type": "stream",
     "text": [
      "c:\\users\\kevin\\appdata\\local\\programs\\python\\python37\\lib\\site-packages\\sklearn\\linear_model\\_logistic.py:765: ConvergenceWarning: lbfgs failed to converge (status=1):\n",
      "STOP: TOTAL NO. of ITERATIONS REACHED LIMIT.\n",
      "\n",
      "Increase the number of iterations (max_iter) or scale the data as shown in:\n",
      "    https://scikit-learn.org/stable/modules/preprocessing.html\n",
      "Please also refer to the documentation for alternative solver options:\n",
      "    https://scikit-learn.org/stable/modules/linear_model.html#logistic-regression\n",
      "  extra_warning_msg=_LOGISTIC_SOLVER_CONVERGENCE_MSG)\n",
      "c:\\users\\kevin\\appdata\\local\\programs\\python\\python37\\lib\\site-packages\\xgboost\\sklearn.py:1146: UserWarning: The use of label encoder in XGBClassifier is deprecated and will be removed in a future release. To remove this warning, do the following: 1) Pass option use_label_encoder=False when constructing XGBClassifier object; and 2) Encode your labels (y) as integers starting with 0, i.e. 0, 1, 2, ..., [num_class - 1].\n",
      "  warnings.warn(label_encoder_deprecation_msg, UserWarning)\n"
     ]
    },
    {
     "name": "stdout",
     "output_type": "stream",
     "text": [
      "[00:09:11] WARNING: C:/Users/Administrator/workspace/xgboost-win64_release_1.4.0/src/learner.cc:1095: Starting in XGBoost 1.3.0, the default evaluation metric used with the objective 'binary:logistic' was changed from 'error' to 'logloss'. Explicitly set eval_metric if you'd like to restore the old behavior.\n",
      "0:\tlearn: 0.1280104\ttotal: 1.55ms\tremaining: 13.9ms\n",
      "1:\tlearn: 0.0433949\ttotal: 3.13ms\tremaining: 12.5ms\n",
      "2:\tlearn: 0.0159272\ttotal: 4.71ms\tremaining: 11ms\n",
      "3:\tlearn: 0.0062042\ttotal: 6.32ms\tremaining: 9.49ms\n",
      "4:\tlearn: 0.0026129\ttotal: 9.55ms\tremaining: 9.55ms\n",
      "5:\tlearn: 0.0012617\ttotal: 11.7ms\tremaining: 7.81ms\n",
      "6:\tlearn: 0.0007178\ttotal: 13.2ms\tremaining: 5.66ms\n",
      "7:\tlearn: 0.0004738\ttotal: 14.6ms\tremaining: 3.64ms\n",
      "8:\tlearn: 0.0003462\ttotal: 16ms\tremaining: 1.77ms\n",
      "9:\tlearn: 0.0002686\ttotal: 17.3ms\tremaining: 0us\n",
      "[LightGBM] [Warning] boosting is set=gbdt, boosting_type=gbdt will be ignored. Current value: boosting=gbdt\n",
      "[LightGBM] [Warning] feature_fraction is set=0.5, colsample_bytree=1.0 will be ignored. Current value: feature_fraction=0.5\n"
     ]
    },
    {
     "name": "stderr",
     "output_type": "stream",
     "text": [
      "c:\\users\\kevin\\appdata\\local\\programs\\python\\python37\\lib\\site-packages\\sklearn\\linear_model\\_logistic.py:765: ConvergenceWarning: lbfgs failed to converge (status=1):\n",
      "STOP: TOTAL NO. of ITERATIONS REACHED LIMIT.\n",
      "\n",
      "Increase the number of iterations (max_iter) or scale the data as shown in:\n",
      "    https://scikit-learn.org/stable/modules/preprocessing.html\n",
      "Please also refer to the documentation for alternative solver options:\n",
      "    https://scikit-learn.org/stable/modules/linear_model.html#logistic-regression\n",
      "  extra_warning_msg=_LOGISTIC_SOLVER_CONVERGENCE_MSG)\n",
      "c:\\users\\kevin\\appdata\\local\\programs\\python\\python37\\lib\\site-packages\\xgboost\\sklearn.py:1146: UserWarning: The use of label encoder in XGBClassifier is deprecated and will be removed in a future release. To remove this warning, do the following: 1) Pass option use_label_encoder=False when constructing XGBClassifier object; and 2) Encode your labels (y) as integers starting with 0, i.e. 0, 1, 2, ..., [num_class - 1].\n",
      "  warnings.warn(label_encoder_deprecation_msg, UserWarning)\n"
     ]
    },
    {
     "name": "stdout",
     "output_type": "stream",
     "text": [
      "[00:09:14] WARNING: C:/Users/Administrator/workspace/xgboost-win64_release_1.4.0/src/learner.cc:1095: Starting in XGBoost 1.3.0, the default evaluation metric used with the objective 'binary:logistic' was changed from 'error' to 'logloss'. Explicitly set eval_metric if you'd like to restore the old behavior.\n",
      "0:\tlearn: 0.1280104\ttotal: 1.43ms\tremaining: 12.9ms\n",
      "1:\tlearn: 0.0433938\ttotal: 2.79ms\tremaining: 11.2ms\n",
      "2:\tlearn: 0.0159268\ttotal: 4.09ms\tremaining: 9.54ms\n",
      "3:\tlearn: 0.0062042\ttotal: 5.42ms\tremaining: 8.13ms\n",
      "4:\tlearn: 0.0026103\ttotal: 6.72ms\tremaining: 6.72ms\n",
      "5:\tlearn: 0.0012591\ttotal: 8ms\tremaining: 5.33ms\n",
      "6:\tlearn: 0.0007149\ttotal: 9.26ms\tremaining: 3.97ms\n",
      "7:\tlearn: 0.0004718\ttotal: 10.6ms\tremaining: 2.66ms\n",
      "8:\tlearn: 0.0003447\ttotal: 12ms\tremaining: 1.33ms\n",
      "9:\tlearn: 0.0002694\ttotal: 13.2ms\tremaining: 0us\n",
      "[LightGBM] [Warning] boosting is set=gbdt, boosting_type=gbdt will be ignored. Current value: boosting=gbdt\n",
      "[LightGBM] [Warning] feature_fraction is set=0.5, colsample_bytree=1.0 will be ignored. Current value: feature_fraction=0.5\n"
     ]
    },
    {
     "name": "stderr",
     "output_type": "stream",
     "text": [
      "c:\\users\\kevin\\appdata\\local\\programs\\python\\python37\\lib\\site-packages\\sklearn\\linear_model\\_logistic.py:765: ConvergenceWarning: lbfgs failed to converge (status=1):\n",
      "STOP: TOTAL NO. of ITERATIONS REACHED LIMIT.\n",
      "\n",
      "Increase the number of iterations (max_iter) or scale the data as shown in:\n",
      "    https://scikit-learn.org/stable/modules/preprocessing.html\n",
      "Please also refer to the documentation for alternative solver options:\n",
      "    https://scikit-learn.org/stable/modules/linear_model.html#logistic-regression\n",
      "  extra_warning_msg=_LOGISTIC_SOLVER_CONVERGENCE_MSG)\n",
      "c:\\users\\kevin\\appdata\\local\\programs\\python\\python37\\lib\\site-packages\\xgboost\\sklearn.py:1146: UserWarning: The use of label encoder in XGBClassifier is deprecated and will be removed in a future release. To remove this warning, do the following: 1) Pass option use_label_encoder=False when constructing XGBClassifier object; and 2) Encode your labels (y) as integers starting with 0, i.e. 0, 1, 2, ..., [num_class - 1].\n",
      "  warnings.warn(label_encoder_deprecation_msg, UserWarning)\n"
     ]
    },
    {
     "name": "stdout",
     "output_type": "stream",
     "text": [
      "[00:09:18] WARNING: C:/Users/Administrator/workspace/xgboost-win64_release_1.4.0/src/learner.cc:1095: Starting in XGBoost 1.3.0, the default evaluation metric used with the objective 'binary:logistic' was changed from 'error' to 'logloss'. Explicitly set eval_metric if you'd like to restore the old behavior.\n",
      "0:\tlearn: 0.1280103\ttotal: 1.65ms\tremaining: 14.8ms\n",
      "1:\tlearn: 0.0433949\ttotal: 3.25ms\tremaining: 13ms\n",
      "2:\tlearn: 0.0159271\ttotal: 4.74ms\tremaining: 11.1ms\n",
      "3:\tlearn: 0.0062040\ttotal: 6.46ms\tremaining: 9.69ms\n",
      "4:\tlearn: 0.0026128\ttotal: 7.97ms\tremaining: 7.97ms\n",
      "5:\tlearn: 0.0012616\ttotal: 9.45ms\tremaining: 6.3ms\n",
      "6:\tlearn: 0.0007166\ttotal: 10.9ms\tremaining: 4.69ms\n",
      "7:\tlearn: 0.0004732\ttotal: 12.5ms\tremaining: 3.12ms\n",
      "8:\tlearn: 0.0003459\ttotal: 14ms\tremaining: 1.55ms\n",
      "9:\tlearn: 0.0002703\ttotal: 15.6ms\tremaining: 0us\n",
      "[LightGBM] [Warning] boosting is set=gbdt, boosting_type=gbdt will be ignored. Current value: boosting=gbdt\n",
      "[LightGBM] [Warning] feature_fraction is set=0.5, colsample_bytree=1.0 will be ignored. Current value: feature_fraction=0.5\n"
     ]
    },
    {
     "name": "stderr",
     "output_type": "stream",
     "text": [
      "c:\\users\\kevin\\appdata\\local\\programs\\python\\python37\\lib\\site-packages\\sklearn\\linear_model\\_logistic.py:765: ConvergenceWarning: lbfgs failed to converge (status=1):\n",
      "STOP: TOTAL NO. of ITERATIONS REACHED LIMIT.\n",
      "\n",
      "Increase the number of iterations (max_iter) or scale the data as shown in:\n",
      "    https://scikit-learn.org/stable/modules/preprocessing.html\n",
      "Please also refer to the documentation for alternative solver options:\n",
      "    https://scikit-learn.org/stable/modules/linear_model.html#logistic-regression\n",
      "  extra_warning_msg=_LOGISTIC_SOLVER_CONVERGENCE_MSG)\n",
      "c:\\users\\kevin\\appdata\\local\\programs\\python\\python37\\lib\\site-packages\\xgboost\\sklearn.py:1146: UserWarning: The use of label encoder in XGBClassifier is deprecated and will be removed in a future release. To remove this warning, do the following: 1) Pass option use_label_encoder=False when constructing XGBClassifier object; and 2) Encode your labels (y) as integers starting with 0, i.e. 0, 1, 2, ..., [num_class - 1].\n",
      "  warnings.warn(label_encoder_deprecation_msg, UserWarning)\n"
     ]
    },
    {
     "name": "stdout",
     "output_type": "stream",
     "text": [
      "[00:09:23] WARNING: C:/Users/Administrator/workspace/xgboost-win64_release_1.4.0/src/learner.cc:1095: Starting in XGBoost 1.3.0, the default evaluation metric used with the objective 'binary:logistic' was changed from 'error' to 'logloss'. Explicitly set eval_metric if you'd like to restore the old behavior.\n",
      "0:\tlearn: 0.1280103\ttotal: 2.14ms\tremaining: 19.3ms\n",
      "1:\tlearn: 0.0433945\ttotal: 3.74ms\tremaining: 15ms\n",
      "2:\tlearn: 0.0159268\ttotal: 5.45ms\tremaining: 12.7ms\n",
      "3:\tlearn: 0.0062038\ttotal: 6.99ms\tremaining: 10.5ms\n",
      "4:\tlearn: 0.0026118\ttotal: 8.48ms\tremaining: 8.48ms\n",
      "5:\tlearn: 0.0012607\ttotal: 10ms\tremaining: 6.68ms\n",
      "6:\tlearn: 0.0007149\ttotal: 11.6ms\tremaining: 4.97ms\n",
      "7:\tlearn: 0.0004722\ttotal: 14.3ms\tremaining: 3.57ms\n",
      "8:\tlearn: 0.0003452\ttotal: 17.6ms\tremaining: 1.96ms\n",
      "9:\tlearn: 0.0002684\ttotal: 19.2ms\tremaining: 0us\n",
      "[LightGBM] [Warning] boosting is set=gbdt, boosting_type=gbdt will be ignored. Current value: boosting=gbdt\n",
      "[LightGBM] [Warning] feature_fraction is set=0.5, colsample_bytree=1.0 will be ignored. Current value: feature_fraction=0.5\n"
     ]
    },
    {
     "name": "stderr",
     "output_type": "stream",
     "text": [
      "c:\\users\\kevin\\appdata\\local\\programs\\python\\python37\\lib\\site-packages\\sklearn\\linear_model\\_logistic.py:765: ConvergenceWarning: lbfgs failed to converge (status=1):\n",
      "STOP: TOTAL NO. of ITERATIONS REACHED LIMIT.\n",
      "\n",
      "Increase the number of iterations (max_iter) or scale the data as shown in:\n",
      "    https://scikit-learn.org/stable/modules/preprocessing.html\n",
      "Please also refer to the documentation for alternative solver options:\n",
      "    https://scikit-learn.org/stable/modules/linear_model.html#logistic-regression\n",
      "  extra_warning_msg=_LOGISTIC_SOLVER_CONVERGENCE_MSG)\n",
      "c:\\users\\kevin\\appdata\\local\\programs\\python\\python37\\lib\\site-packages\\xgboost\\sklearn.py:1146: UserWarning: The use of label encoder in XGBClassifier is deprecated and will be removed in a future release. To remove this warning, do the following: 1) Pass option use_label_encoder=False when constructing XGBClassifier object; and 2) Encode your labels (y) as integers starting with 0, i.e. 0, 1, 2, ..., [num_class - 1].\n",
      "  warnings.warn(label_encoder_deprecation_msg, UserWarning)\n"
     ]
    },
    {
     "name": "stdout",
     "output_type": "stream",
     "text": [
      "[00:09:26] WARNING: C:/Users/Administrator/workspace/xgboost-win64_release_1.4.0/src/learner.cc:1095: Starting in XGBoost 1.3.0, the default evaluation metric used with the objective 'binary:logistic' was changed from 'error' to 'logloss'. Explicitly set eval_metric if you'd like to restore the old behavior.\n",
      "0:\tlearn: 0.1280104\ttotal: 8.03ms\tremaining: 72.3ms\n",
      "1:\tlearn: 0.0433955\ttotal: 10.1ms\tremaining: 40.3ms\n",
      "2:\tlearn: 0.0159274\ttotal: 11.8ms\tremaining: 27.5ms\n",
      "3:\tlearn: 0.0062046\ttotal: 16ms\tremaining: 23.9ms\n",
      "4:\tlearn: 0.0026143\ttotal: 19.6ms\tremaining: 19.6ms\n",
      "5:\tlearn: 0.0012632\ttotal: 21.5ms\tremaining: 14.3ms\n",
      "6:\tlearn: 0.0007323\ttotal: 23.4ms\tremaining: 10ms\n",
      "7:\tlearn: 0.0004774\ttotal: 25.2ms\tremaining: 6.3ms\n",
      "8:\tlearn: 0.0003465\ttotal: 27ms\tremaining: 3ms\n",
      "9:\tlearn: 0.0002698\ttotal: 32ms\tremaining: 0us\n",
      "[LightGBM] [Warning] boosting is set=gbdt, boosting_type=gbdt will be ignored. Current value: boosting=gbdt\n",
      "[LightGBM] [Warning] feature_fraction is set=0.5, colsample_bytree=1.0 will be ignored. Current value: feature_fraction=0.5\n"
     ]
    },
    {
     "name": "stderr",
     "output_type": "stream",
     "text": [
      "c:\\users\\kevin\\appdata\\local\\programs\\python\\python37\\lib\\site-packages\\sklearn\\linear_model\\_logistic.py:765: ConvergenceWarning: lbfgs failed to converge (status=1):\n",
      "STOP: TOTAL NO. of ITERATIONS REACHED LIMIT.\n",
      "\n",
      "Increase the number of iterations (max_iter) or scale the data as shown in:\n",
      "    https://scikit-learn.org/stable/modules/preprocessing.html\n",
      "Please also refer to the documentation for alternative solver options:\n",
      "    https://scikit-learn.org/stable/modules/linear_model.html#logistic-regression\n",
      "  extra_warning_msg=_LOGISTIC_SOLVER_CONVERGENCE_MSG)\n",
      "c:\\users\\kevin\\appdata\\local\\programs\\python\\python37\\lib\\site-packages\\xgboost\\sklearn.py:1146: UserWarning: The use of label encoder in XGBClassifier is deprecated and will be removed in a future release. To remove this warning, do the following: 1) Pass option use_label_encoder=False when constructing XGBClassifier object; and 2) Encode your labels (y) as integers starting with 0, i.e. 0, 1, 2, ..., [num_class - 1].\n",
      "  warnings.warn(label_encoder_deprecation_msg, UserWarning)\n"
     ]
    },
    {
     "name": "stdout",
     "output_type": "stream",
     "text": [
      "[00:09:33] WARNING: C:/Users/Administrator/workspace/xgboost-win64_release_1.4.0/src/learner.cc:1095: Starting in XGBoost 1.3.0, the default evaluation metric used with the objective 'binary:logistic' was changed from 'error' to 'logloss'. Explicitly set eval_metric if you'd like to restore the old behavior.\n",
      "0:\tlearn: 0.1275464\ttotal: 2.35ms\tremaining: 21.2ms\n",
      "1:\tlearn: 0.0430443\ttotal: 4.66ms\tremaining: 18.6ms\n",
      "2:\tlearn: 0.0155053\ttotal: 7.1ms\tremaining: 16.6ms\n",
      "3:\tlearn: 0.0058261\ttotal: 9.45ms\tremaining: 14.2ms\n",
      "4:\tlearn: 0.0023427\ttotal: 11.6ms\tremaining: 11.6ms\n",
      "5:\tlearn: 0.0010260\ttotal: 13.9ms\tremaining: 9.24ms\n",
      "6:\tlearn: 0.0004774\ttotal: 16.3ms\tremaining: 6.99ms\n",
      "7:\tlearn: 0.0002670\ttotal: 18.8ms\tremaining: 4.71ms\n",
      "8:\tlearn: 0.0001748\ttotal: 21.2ms\tremaining: 2.35ms\n",
      "9:\tlearn: 0.0001279\ttotal: 23.6ms\tremaining: 0us\n",
      "[LightGBM] [Warning] boosting is set=gbdt, boosting_type=gbdt will be ignored. Current value: boosting=gbdt\n",
      "[LightGBM] [Warning] feature_fraction is set=0.5, colsample_bytree=1.0 will be ignored. Current value: feature_fraction=0.5\n"
     ]
    },
    {
     "name": "stderr",
     "output_type": "stream",
     "text": [
      "c:\\users\\kevin\\appdata\\local\\programs\\python\\python37\\lib\\site-packages\\sklearn\\linear_model\\_logistic.py:765: ConvergenceWarning: lbfgs failed to converge (status=1):\n",
      "STOP: TOTAL NO. of ITERATIONS REACHED LIMIT.\n",
      "\n",
      "Increase the number of iterations (max_iter) or scale the data as shown in:\n",
      "    https://scikit-learn.org/stable/modules/preprocessing.html\n",
      "Please also refer to the documentation for alternative solver options:\n",
      "    https://scikit-learn.org/stable/modules/linear_model.html#logistic-regression\n",
      "  extra_warning_msg=_LOGISTIC_SOLVER_CONVERGENCE_MSG)\n",
      "c:\\users\\kevin\\appdata\\local\\programs\\python\\python37\\lib\\site-packages\\xgboost\\sklearn.py:1146: UserWarning: The use of label encoder in XGBClassifier is deprecated and will be removed in a future release. To remove this warning, do the following: 1) Pass option use_label_encoder=False when constructing XGBClassifier object; and 2) Encode your labels (y) as integers starting with 0, i.e. 0, 1, 2, ..., [num_class - 1].\n",
      "  warnings.warn(label_encoder_deprecation_msg, UserWarning)\n"
     ]
    },
    {
     "name": "stdout",
     "output_type": "stream",
     "text": [
      "[00:09:39] WARNING: C:/Users/Administrator/workspace/xgboost-win64_release_1.4.0/src/learner.cc:1095: Starting in XGBoost 1.3.0, the default evaluation metric used with the objective 'binary:logistic' was changed from 'error' to 'logloss'. Explicitly set eval_metric if you'd like to restore the old behavior.\n",
      "0:\tlearn: 0.1275464\ttotal: 16.8ms\tremaining: 152ms\n",
      "1:\tlearn: 0.0430443\ttotal: 19.1ms\tremaining: 76.4ms\n",
      "2:\tlearn: 0.0155032\ttotal: 21.2ms\tremaining: 49.6ms\n",
      "3:\tlearn: 0.0058223\ttotal: 23.4ms\tremaining: 35.1ms\n",
      "4:\tlearn: 0.0023422\ttotal: 25.6ms\tremaining: 25.6ms\n",
      "5:\tlearn: 0.0010240\ttotal: 28ms\tremaining: 18.6ms\n",
      "6:\tlearn: 0.0004761\ttotal: 30.2ms\tremaining: 12.9ms\n",
      "7:\tlearn: 0.0002666\ttotal: 32.5ms\tremaining: 8.13ms\n",
      "8:\tlearn: 0.0001747\ttotal: 34.8ms\tremaining: 3.87ms\n",
      "9:\tlearn: 0.0001270\ttotal: 37ms\tremaining: 0us\n",
      "[LightGBM] [Warning] boosting is set=gbdt, boosting_type=gbdt will be ignored. Current value: boosting=gbdt\n",
      "[LightGBM] [Warning] feature_fraction is set=0.5, colsample_bytree=1.0 will be ignored. Current value: feature_fraction=0.5\n"
     ]
    },
    {
     "name": "stderr",
     "output_type": "stream",
     "text": [
      "c:\\users\\kevin\\appdata\\local\\programs\\python\\python37\\lib\\site-packages\\sklearn\\linear_model\\_logistic.py:765: ConvergenceWarning: lbfgs failed to converge (status=1):\n",
      "STOP: TOTAL NO. of ITERATIONS REACHED LIMIT.\n",
      "\n",
      "Increase the number of iterations (max_iter) or scale the data as shown in:\n",
      "    https://scikit-learn.org/stable/modules/preprocessing.html\n",
      "Please also refer to the documentation for alternative solver options:\n",
      "    https://scikit-learn.org/stable/modules/linear_model.html#logistic-regression\n",
      "  extra_warning_msg=_LOGISTIC_SOLVER_CONVERGENCE_MSG)\n",
      "c:\\users\\kevin\\appdata\\local\\programs\\python\\python37\\lib\\site-packages\\xgboost\\sklearn.py:1146: UserWarning: The use of label encoder in XGBClassifier is deprecated and will be removed in a future release. To remove this warning, do the following: 1) Pass option use_label_encoder=False when constructing XGBClassifier object; and 2) Encode your labels (y) as integers starting with 0, i.e. 0, 1, 2, ..., [num_class - 1].\n",
      "  warnings.warn(label_encoder_deprecation_msg, UserWarning)\n"
     ]
    },
    {
     "name": "stdout",
     "output_type": "stream",
     "text": [
      "[00:09:43] WARNING: C:/Users/Administrator/workspace/xgboost-win64_release_1.4.0/src/learner.cc:1095: Starting in XGBoost 1.3.0, the default evaluation metric used with the objective 'binary:logistic' was changed from 'error' to 'logloss'. Explicitly set eval_metric if you'd like to restore the old behavior.\n",
      "0:\tlearn: 0.1275464\ttotal: 2.73ms\tremaining: 24.5ms\n",
      "1:\tlearn: 0.0430443\ttotal: 7.79ms\tremaining: 31.2ms\n",
      "2:\tlearn: 0.0155009\ttotal: 10.6ms\tremaining: 24.7ms\n",
      "3:\tlearn: 0.0058193\ttotal: 13.1ms\tremaining: 19.6ms\n",
      "4:\tlearn: 0.0023407\ttotal: 15.6ms\tremaining: 15.6ms\n",
      "5:\tlearn: 0.0010236\ttotal: 18.4ms\tremaining: 12.2ms\n",
      "6:\tlearn: 0.0004761\ttotal: 21.9ms\tremaining: 9.39ms\n",
      "7:\tlearn: 0.0002656\ttotal: 24.7ms\tremaining: 6.18ms\n",
      "8:\tlearn: 0.0001735\ttotal: 27.6ms\tremaining: 3.07ms\n",
      "9:\tlearn: 0.0001263\ttotal: 30.3ms\tremaining: 0us\n",
      "[LightGBM] [Warning] boosting is set=gbdt, boosting_type=gbdt will be ignored. Current value: boosting=gbdt\n",
      "[LightGBM] [Warning] feature_fraction is set=0.5, colsample_bytree=1.0 will be ignored. Current value: feature_fraction=0.5\n"
     ]
    },
    {
     "name": "stderr",
     "output_type": "stream",
     "text": [
      "c:\\users\\kevin\\appdata\\local\\programs\\python\\python37\\lib\\site-packages\\sklearn\\linear_model\\_logistic.py:765: ConvergenceWarning: lbfgs failed to converge (status=1):\n",
      "STOP: TOTAL NO. of ITERATIONS REACHED LIMIT.\n",
      "\n",
      "Increase the number of iterations (max_iter) or scale the data as shown in:\n",
      "    https://scikit-learn.org/stable/modules/preprocessing.html\n",
      "Please also refer to the documentation for alternative solver options:\n",
      "    https://scikit-learn.org/stable/modules/linear_model.html#logistic-regression\n",
      "  extra_warning_msg=_LOGISTIC_SOLVER_CONVERGENCE_MSG)\n",
      "c:\\users\\kevin\\appdata\\local\\programs\\python\\python37\\lib\\site-packages\\xgboost\\sklearn.py:1146: UserWarning: The use of label encoder in XGBClassifier is deprecated and will be removed in a future release. To remove this warning, do the following: 1) Pass option use_label_encoder=False when constructing XGBClassifier object; and 2) Encode your labels (y) as integers starting with 0, i.e. 0, 1, 2, ..., [num_class - 1].\n",
      "  warnings.warn(label_encoder_deprecation_msg, UserWarning)\n"
     ]
    },
    {
     "name": "stdout",
     "output_type": "stream",
     "text": [
      "[00:09:48] WARNING: C:/Users/Administrator/workspace/xgboost-win64_release_1.4.0/src/learner.cc:1095: Starting in XGBoost 1.3.0, the default evaluation metric used with the objective 'binary:logistic' was changed from 'error' to 'logloss'. Explicitly set eval_metric if you'd like to restore the old behavior.\n",
      "0:\tlearn: 0.1275464\ttotal: 2.23ms\tremaining: 20.1ms\n",
      "1:\tlearn: 0.0430443\ttotal: 4.54ms\tremaining: 18.2ms\n",
      "2:\tlearn: 0.0155053\ttotal: 6.71ms\tremaining: 15.7ms\n",
      "3:\tlearn: 0.0058255\ttotal: 8.77ms\tremaining: 13.1ms\n",
      "4:\tlearn: 0.0023434\ttotal: 10.9ms\tremaining: 10.9ms\n",
      "5:\tlearn: 0.0010252\ttotal: 12.9ms\tremaining: 8.62ms\n",
      "6:\tlearn: 0.0004772\ttotal: 15ms\tremaining: 6.42ms\n",
      "7:\tlearn: 0.0002939\ttotal: 17ms\tremaining: 4.26ms\n",
      "8:\tlearn: 0.0001850\ttotal: 19.3ms\tremaining: 2.14ms\n",
      "9:\tlearn: 0.0001378\ttotal: 21.5ms\tremaining: 0us\n",
      "[LightGBM] [Warning] boosting is set=gbdt, boosting_type=gbdt will be ignored. Current value: boosting=gbdt\n",
      "[LightGBM] [Warning] feature_fraction is set=0.5, colsample_bytree=1.0 will be ignored. Current value: feature_fraction=0.5\n"
     ]
    },
    {
     "name": "stderr",
     "output_type": "stream",
     "text": [
      "c:\\users\\kevin\\appdata\\local\\programs\\python\\python37\\lib\\site-packages\\sklearn\\linear_model\\_logistic.py:765: ConvergenceWarning: lbfgs failed to converge (status=1):\n",
      "STOP: TOTAL NO. of ITERATIONS REACHED LIMIT.\n",
      "\n",
      "Increase the number of iterations (max_iter) or scale the data as shown in:\n",
      "    https://scikit-learn.org/stable/modules/preprocessing.html\n",
      "Please also refer to the documentation for alternative solver options:\n",
      "    https://scikit-learn.org/stable/modules/linear_model.html#logistic-regression\n",
      "  extra_warning_msg=_LOGISTIC_SOLVER_CONVERGENCE_MSG)\n",
      "c:\\users\\kevin\\appdata\\local\\programs\\python\\python37\\lib\\site-packages\\xgboost\\sklearn.py:1146: UserWarning: The use of label encoder in XGBClassifier is deprecated and will be removed in a future release. To remove this warning, do the following: 1) Pass option use_label_encoder=False when constructing XGBClassifier object; and 2) Encode your labels (y) as integers starting with 0, i.e. 0, 1, 2, ..., [num_class - 1].\n",
      "  warnings.warn(label_encoder_deprecation_msg, UserWarning)\n"
     ]
    },
    {
     "name": "stdout",
     "output_type": "stream",
     "text": [
      "[00:09:55] WARNING: C:/Users/Administrator/workspace/xgboost-win64_release_1.4.0/src/learner.cc:1095: Starting in XGBoost 1.3.0, the default evaluation metric used with the objective 'binary:logistic' was changed from 'error' to 'logloss'. Explicitly set eval_metric if you'd like to restore the old behavior.\n",
      "0:\tlearn: 0.1275464\ttotal: 3.3ms\tremaining: 29.7ms\n",
      "1:\tlearn: 0.0430443\ttotal: 7.15ms\tremaining: 28.6ms\n",
      "2:\tlearn: 0.0154959\ttotal: 10.2ms\tremaining: 23.7ms\n",
      "3:\tlearn: 0.0058215\ttotal: 13.7ms\tremaining: 20.5ms\n",
      "4:\tlearn: 0.0023421\ttotal: 17.3ms\tremaining: 17.3ms\n",
      "5:\tlearn: 0.0010253\ttotal: 20.8ms\tremaining: 13.9ms\n",
      "6:\tlearn: 0.0004768\ttotal: 23.7ms\tremaining: 10.2ms\n",
      "7:\tlearn: 0.0002937\ttotal: 26.6ms\tremaining: 6.64ms\n",
      "8:\tlearn: 0.0001851\ttotal: 29.7ms\tremaining: 3.3ms\n",
      "9:\tlearn: 0.0001311\ttotal: 34.7ms\tremaining: 0us\n",
      "[LightGBM] [Warning] boosting is set=gbdt, boosting_type=gbdt will be ignored. Current value: boosting=gbdt\n",
      "[LightGBM] [Warning] feature_fraction is set=0.5, colsample_bytree=1.0 will be ignored. Current value: feature_fraction=0.5\n"
     ]
    },
    {
     "name": "stderr",
     "output_type": "stream",
     "text": [
      "c:\\users\\kevin\\appdata\\local\\programs\\python\\python37\\lib\\site-packages\\xgboost\\sklearn.py:1146: UserWarning: The use of label encoder in XGBClassifier is deprecated and will be removed in a future release. To remove this warning, do the following: 1) Pass option use_label_encoder=False when constructing XGBClassifier object; and 2) Encode your labels (y) as integers starting with 0, i.e. 0, 1, 2, ..., [num_class - 1].\n",
      "  warnings.warn(label_encoder_deprecation_msg, UserWarning)\n"
     ]
    },
    {
     "name": "stdout",
     "output_type": "stream",
     "text": [
      "[00:09:58] WARNING: C:/Users/Administrator/workspace/xgboost-win64_release_1.4.0/src/learner.cc:1095: Starting in XGBoost 1.3.0, the default evaluation metric used with the objective 'binary:logistic' was changed from 'error' to 'logloss'. Explicitly set eval_metric if you'd like to restore the old behavior.\n",
      "0:\tlearn: 0.1276904\ttotal: 1.81ms\tremaining: 16.3ms\n",
      "1:\tlearn: 0.0431547\ttotal: 3.6ms\tremaining: 14.4ms\n",
      "2:\tlearn: 0.0156844\ttotal: 5.2ms\tremaining: 12.1ms\n",
      "3:\tlearn: 0.0059986\ttotal: 6.93ms\tremaining: 10.4ms\n",
      "4:\tlearn: 0.0024686\ttotal: 8.59ms\tremaining: 8.59ms\n",
      "5:\tlearn: 0.0011456\ttotal: 10.4ms\tremaining: 6.9ms\n",
      "6:\tlearn: 0.0005999\ttotal: 12ms\tremaining: 5.15ms\n",
      "7:\tlearn: 0.0003704\ttotal: 13.6ms\tremaining: 3.41ms\n",
      "8:\tlearn: 0.0002281\ttotal: 15.3ms\tremaining: 1.7ms\n",
      "9:\tlearn: 0.0001803\ttotal: 17ms\tremaining: 0us\n",
      "[LightGBM] [Warning] boosting is set=gbdt, boosting_type=gbdt will be ignored. Current value: boosting=gbdt\n",
      "[LightGBM] [Warning] feature_fraction is set=0.5, colsample_bytree=1.0 will be ignored. Current value: feature_fraction=0.5\n"
     ]
    },
    {
     "name": "stderr",
     "output_type": "stream",
     "text": [
      "c:\\users\\kevin\\appdata\\local\\programs\\python\\python37\\lib\\site-packages\\xgboost\\sklearn.py:1146: UserWarning: The use of label encoder in XGBClassifier is deprecated and will be removed in a future release. To remove this warning, do the following: 1) Pass option use_label_encoder=False when constructing XGBClassifier object; and 2) Encode your labels (y) as integers starting with 0, i.e. 0, 1, 2, ..., [num_class - 1].\n",
      "  warnings.warn(label_encoder_deprecation_msg, UserWarning)\n"
     ]
    },
    {
     "name": "stdout",
     "output_type": "stream",
     "text": [
      "[00:10:01] WARNING: C:/Users/Administrator/workspace/xgboost-win64_release_1.4.0/src/learner.cc:1095: Starting in XGBoost 1.3.0, the default evaluation metric used with the objective 'binary:logistic' was changed from 'error' to 'logloss'. Explicitly set eval_metric if you'd like to restore the old behavior.\n",
      "0:\tlearn: 0.1276904\ttotal: 12.4ms\tremaining: 112ms\n",
      "1:\tlearn: 0.0431547\ttotal: 14.4ms\tremaining: 57.5ms\n",
      "2:\tlearn: 0.0156837\ttotal: 16.3ms\tremaining: 37.9ms\n",
      "3:\tlearn: 0.0059983\ttotal: 18.1ms\tremaining: 27.2ms\n",
      "4:\tlearn: 0.0024683\ttotal: 19.9ms\tremaining: 19.9ms\n",
      "5:\tlearn: 0.0011454\ttotal: 21.8ms\tremaining: 14.5ms\n",
      "6:\tlearn: 0.0005995\ttotal: 23.6ms\tremaining: 10.1ms\n",
      "7:\tlearn: 0.0003700\ttotal: 25.4ms\tremaining: 6.35ms\n",
      "8:\tlearn: 0.0002279\ttotal: 27.5ms\tremaining: 3.06ms\n",
      "9:\tlearn: 0.0001800\ttotal: 29.7ms\tremaining: 0us\n",
      "[LightGBM] [Warning] boosting is set=gbdt, boosting_type=gbdt will be ignored. Current value: boosting=gbdt\n",
      "[LightGBM] [Warning] feature_fraction is set=0.5, colsample_bytree=1.0 will be ignored. Current value: feature_fraction=0.5\n"
     ]
    },
    {
     "name": "stderr",
     "output_type": "stream",
     "text": [
      "c:\\users\\kevin\\appdata\\local\\programs\\python\\python37\\lib\\site-packages\\xgboost\\sklearn.py:1146: UserWarning: The use of label encoder in XGBClassifier is deprecated and will be removed in a future release. To remove this warning, do the following: 1) Pass option use_label_encoder=False when constructing XGBClassifier object; and 2) Encode your labels (y) as integers starting with 0, i.e. 0, 1, 2, ..., [num_class - 1].\n",
      "  warnings.warn(label_encoder_deprecation_msg, UserWarning)\n"
     ]
    },
    {
     "name": "stdout",
     "output_type": "stream",
     "text": [
      "[00:10:03] WARNING: C:/Users/Administrator/workspace/xgboost-win64_release_1.4.0/src/learner.cc:1095: Starting in XGBoost 1.3.0, the default evaluation metric used with the objective 'binary:logistic' was changed from 'error' to 'logloss'. Explicitly set eval_metric if you'd like to restore the old behavior.\n",
      "0:\tlearn: 0.1276904\ttotal: 11.4ms\tremaining: 103ms\n",
      "1:\tlearn: 0.0431547\ttotal: 13.2ms\tremaining: 52.7ms\n",
      "2:\tlearn: 0.0156834\ttotal: 14.8ms\tremaining: 34.6ms\n",
      "3:\tlearn: 0.0059981\ttotal: 16.4ms\tremaining: 24.6ms\n",
      "4:\tlearn: 0.0024679\ttotal: 18.1ms\tremaining: 18.1ms\n",
      "5:\tlearn: 0.0011448\ttotal: 19.5ms\tremaining: 13ms\n",
      "6:\tlearn: 0.0006002\ttotal: 21.1ms\tremaining: 9.03ms\n",
      "7:\tlearn: 0.0003703\ttotal: 22.6ms\tremaining: 5.66ms\n",
      "8:\tlearn: 0.0002281\ttotal: 24.1ms\tremaining: 2.68ms\n",
      "9:\tlearn: 0.0001802\ttotal: 25.6ms\tremaining: 0us\n",
      "[LightGBM] [Warning] boosting is set=gbdt, boosting_type=gbdt will be ignored. Current value: boosting=gbdt\n",
      "[LightGBM] [Warning] feature_fraction is set=0.5, colsample_bytree=1.0 will be ignored. Current value: feature_fraction=0.5\n"
     ]
    },
    {
     "name": "stderr",
     "output_type": "stream",
     "text": [
      "c:\\users\\kevin\\appdata\\local\\programs\\python\\python37\\lib\\site-packages\\xgboost\\sklearn.py:1146: UserWarning: The use of label encoder in XGBClassifier is deprecated and will be removed in a future release. To remove this warning, do the following: 1) Pass option use_label_encoder=False when constructing XGBClassifier object; and 2) Encode your labels (y) as integers starting with 0, i.e. 0, 1, 2, ..., [num_class - 1].\n",
      "  warnings.warn(label_encoder_deprecation_msg, UserWarning)\n"
     ]
    },
    {
     "name": "stdout",
     "output_type": "stream",
     "text": [
      "[00:10:05] WARNING: C:/Users/Administrator/workspace/xgboost-win64_release_1.4.0/src/learner.cc:1095: Starting in XGBoost 1.3.0, the default evaluation metric used with the objective 'binary:logistic' was changed from 'error' to 'logloss'. Explicitly set eval_metric if you'd like to restore the old behavior.\n",
      "0:\tlearn: 0.1276904\ttotal: 1.68ms\tremaining: 15.2ms\n",
      "1:\tlearn: 0.0431548\ttotal: 3.26ms\tremaining: 13.1ms\n",
      "2:\tlearn: 0.0156833\ttotal: 4.92ms\tremaining: 11.5ms\n",
      "3:\tlearn: 0.0059980\ttotal: 6.55ms\tremaining: 9.82ms\n",
      "4:\tlearn: 0.0024679\ttotal: 8.19ms\tremaining: 8.19ms\n",
      "5:\tlearn: 0.0011446\ttotal: 9.74ms\tremaining: 6.49ms\n",
      "6:\tlearn: 0.0005996\ttotal: 11.3ms\tremaining: 4.86ms\n",
      "7:\tlearn: 0.0003694\ttotal: 13ms\tremaining: 3.25ms\n",
      "8:\tlearn: 0.0002275\ttotal: 14.6ms\tremaining: 1.63ms\n",
      "9:\tlearn: 0.0001798\ttotal: 16.3ms\tremaining: 0us\n",
      "[LightGBM] [Warning] boosting is set=gbdt, boosting_type=gbdt will be ignored. Current value: boosting=gbdt\n",
      "[LightGBM] [Warning] feature_fraction is set=0.5, colsample_bytree=1.0 will be ignored. Current value: feature_fraction=0.5\n"
     ]
    },
    {
     "name": "stderr",
     "output_type": "stream",
     "text": [
      "c:\\users\\kevin\\appdata\\local\\programs\\python\\python37\\lib\\site-packages\\xgboost\\sklearn.py:1146: UserWarning: The use of label encoder in XGBClassifier is deprecated and will be removed in a future release. To remove this warning, do the following: 1) Pass option use_label_encoder=False when constructing XGBClassifier object; and 2) Encode your labels (y) as integers starting with 0, i.e. 0, 1, 2, ..., [num_class - 1].\n",
      "  warnings.warn(label_encoder_deprecation_msg, UserWarning)\n"
     ]
    },
    {
     "name": "stdout",
     "output_type": "stream",
     "text": [
      "[00:10:08] WARNING: C:/Users/Administrator/workspace/xgboost-win64_release_1.4.0/src/learner.cc:1095: Starting in XGBoost 1.3.0, the default evaluation metric used with the objective 'binary:logistic' was changed from 'error' to 'logloss'. Explicitly set eval_metric if you'd like to restore the old behavior.\n",
      "0:\tlearn: 0.1276904\ttotal: 1.84ms\tremaining: 16.6ms\n",
      "1:\tlearn: 0.0431547\ttotal: 3.5ms\tremaining: 14ms\n",
      "2:\tlearn: 0.0156809\ttotal: 5.08ms\tremaining: 11.9ms\n",
      "3:\tlearn: 0.0059972\ttotal: 6.61ms\tremaining: 9.92ms\n",
      "4:\tlearn: 0.0024676\ttotal: 8.09ms\tremaining: 8.09ms\n",
      "5:\tlearn: 0.0011448\ttotal: 9.76ms\tremaining: 6.51ms\n",
      "6:\tlearn: 0.0005987\ttotal: 11.3ms\tremaining: 4.84ms\n",
      "7:\tlearn: 0.0003701\ttotal: 12.8ms\tremaining: 3.19ms\n",
      "8:\tlearn: 0.0002279\ttotal: 14.3ms\tremaining: 1.58ms\n",
      "9:\tlearn: 0.0001799\ttotal: 15.8ms\tremaining: 0us\n",
      "[LightGBM] [Warning] boosting is set=gbdt, boosting_type=gbdt will be ignored. Current value: boosting=gbdt\n",
      "[LightGBM] [Warning] feature_fraction is set=0.5, colsample_bytree=1.0 will be ignored. Current value: feature_fraction=0.5\n"
     ]
    }
   ],
   "source": [
    "data_1=data_type_change(data1)\n",
    "data_2=data2\n",
    "data_3=data_type_change(data3)\n",
    "data_4=data_type_change(data4)\n",
    "data_5=data_type_change(data5)\n",
    "data_6=data_type_change(data6)\n",
    "AUC_table_all=pd.DataFrame()\n",
    "for one_data in [data_1,data_2,data_3,data_4,data_5,data_6]:\n",
    "    AUC_table_in_dataset=pd.DataFrame()\n",
    "    for time in range(0,5) :\n",
    "        AUC_table_in_dataset=pd.concat([AUC_table_in_dataset,set_model_AUC(one_data,True,0.25)],axis=1)\n",
    "    AUC_table_all=pd.concat([AUC_table_all,AUC_table_in_dataset.mean(axis=1)],axis=1)"
   ]
  },
  {
   "cell_type": "code",
   "execution_count": 105,
   "id": "b86e3c4c",
   "metadata": {},
   "outputs": [
    {
     "data": {
      "text/html": [
       "<div>\n",
       "<style scoped>\n",
       "    .dataframe tbody tr th:only-of-type {\n",
       "        vertical-align: middle;\n",
       "    }\n",
       "\n",
       "    .dataframe tbody tr th {\n",
       "        vertical-align: top;\n",
       "    }\n",
       "\n",
       "    .dataframe thead th {\n",
       "        text-align: right;\n",
       "    }\n",
       "</style>\n",
       "<table border=\"1\" class=\"dataframe\">\n",
       "  <thead>\n",
       "    <tr style=\"text-align: right;\">\n",
       "      <th></th>\n",
       "      <th>Income</th>\n",
       "      <th>Arcene</th>\n",
       "      <th>Bank</th>\n",
       "      <th>BlastChar</th>\n",
       "      <th>Shopper</th>\n",
       "      <th>SHrutime</th>\n",
       "    </tr>\n",
       "  </thead>\n",
       "  <tbody>\n",
       "    <tr>\n",
       "      <th>KNN</th>\n",
       "      <td>0.619629</td>\n",
       "      <td>0.866108</td>\n",
       "      <td>0.622745</td>\n",
       "      <td>0.511902</td>\n",
       "      <td>0.630587</td>\n",
       "      <td>0.506629</td>\n",
       "    </tr>\n",
       "    <tr>\n",
       "      <th>LM</th>\n",
       "      <td>0.618982</td>\n",
       "      <td>0.900348</td>\n",
       "      <td>0.711459</td>\n",
       "      <td>0.936378</td>\n",
       "      <td>0.723103</td>\n",
       "      <td>0.500000</td>\n",
       "    </tr>\n",
       "    <tr>\n",
       "      <th>RF</th>\n",
       "      <td>1.000000</td>\n",
       "      <td>0.880962</td>\n",
       "      <td>1.000000</td>\n",
       "      <td>1.000000</td>\n",
       "      <td>1.000000</td>\n",
       "      <td>1.000000</td>\n",
       "    </tr>\n",
       "    <tr>\n",
       "      <th>MLP</th>\n",
       "      <td>0.567403</td>\n",
       "      <td>0.768537</td>\n",
       "      <td>0.933518</td>\n",
       "      <td>0.815219</td>\n",
       "      <td>0.905690</td>\n",
       "      <td>0.500000</td>\n",
       "    </tr>\n",
       "    <tr>\n",
       "      <th>SVM</th>\n",
       "      <td>0.573949</td>\n",
       "      <td>0.715253</td>\n",
       "      <td>0.502929</td>\n",
       "      <td>0.500000</td>\n",
       "      <td>0.506843</td>\n",
       "      <td>0.500000</td>\n",
       "    </tr>\n",
       "    <tr>\n",
       "      <th>XGB</th>\n",
       "      <td>1.000000</td>\n",
       "      <td>1.000000</td>\n",
       "      <td>1.000000</td>\n",
       "      <td>1.000000</td>\n",
       "      <td>1.000000</td>\n",
       "      <td>1.000000</td>\n",
       "    </tr>\n",
       "    <tr>\n",
       "      <th>CAT</th>\n",
       "      <td>1.000000</td>\n",
       "      <td>1.000000</td>\n",
       "      <td>1.000000</td>\n",
       "      <td>1.000000</td>\n",
       "      <td>1.000000</td>\n",
       "      <td>1.000000</td>\n",
       "    </tr>\n",
       "    <tr>\n",
       "      <th>LGBM</th>\n",
       "      <td>1.000000</td>\n",
       "      <td>1.000000</td>\n",
       "      <td>1.000000</td>\n",
       "      <td>1.000000</td>\n",
       "      <td>1.000000</td>\n",
       "      <td>1.000000</td>\n",
       "    </tr>\n",
       "  </tbody>\n",
       "</table>\n",
       "</div>"
      ],
      "text/plain": [
       "        Income    Arcene      Bank  BlastChar   Shopper  SHrutime\n",
       "KNN   0.619629  0.866108  0.622745   0.511902  0.630587  0.506629\n",
       "LM    0.618982  0.900348  0.711459   0.936378  0.723103  0.500000\n",
       "RF    1.000000  0.880962  1.000000   1.000000  1.000000  1.000000\n",
       "MLP   0.567403  0.768537  0.933518   0.815219  0.905690  0.500000\n",
       "SVM   0.573949  0.715253  0.502929   0.500000  0.506843  0.500000\n",
       "XGB   1.000000  1.000000  1.000000   1.000000  1.000000  1.000000\n",
       "CAT   1.000000  1.000000  1.000000   1.000000  1.000000  1.000000\n",
       "LGBM  1.000000  1.000000  1.000000   1.000000  1.000000  1.000000"
      ]
     },
     "execution_count": 105,
     "metadata": {},
     "output_type": "execute_result"
    }
   ],
   "source": [
    "AUC_table_all.columns=[\"Income\",\"Arcene\",\"Bank\",\"BlastChar\",\"Shopper\",\"SHrutime\"]\n",
    "AUC_table_all"
   ]
  },
  {
   "cell_type": "markdown",
   "id": "732e3a76",
   "metadata": {},
   "source": [
    "# semi‐supervised learning"
   ]
  },
  {
   "cell_type": "code",
   "execution_count": 106,
   "id": "8db66b0b",
   "metadata": {},
   "outputs": [
    {
     "name": "stderr",
     "output_type": "stream",
     "text": [
      "c:\\users\\kevin\\appdata\\local\\programs\\python\\python37\\lib\\site-packages\\xgboost\\sklearn.py:1146: UserWarning: The use of label encoder in XGBClassifier is deprecated and will be removed in a future release. To remove this warning, do the following: 1) Pass option use_label_encoder=False when constructing XGBClassifier object; and 2) Encode your labels (y) as integers starting with 0, i.e. 0, 1, 2, ..., [num_class - 1].\n",
      "  warnings.warn(label_encoder_deprecation_msg, UserWarning)\n"
     ]
    },
    {
     "name": "stdout",
     "output_type": "stream",
     "text": [
      "[00:10:09] WARNING: C:/Users/Administrator/workspace/xgboost-win64_release_1.4.0/src/learner.cc:1095: Starting in XGBoost 1.3.0, the default evaluation metric used with the objective 'binary:logistic' was changed from 'error' to 'logloss'. Explicitly set eval_metric if you'd like to restore the old behavior.\n",
      "0:\tlearn: 0.5225538\ttotal: 8.18ms\tremaining: 73.6ms\n",
      "1:\tlearn: 0.4432039\ttotal: 8.52ms\tremaining: 34.1ms\n",
      "2:\tlearn: 0.3605193\ttotal: 8.75ms\tremaining: 20.4ms\n",
      "3:\tlearn: 0.3395930\ttotal: 8.99ms\tremaining: 13.5ms\n",
      "4:\tlearn: 0.3316988\ttotal: 9.26ms\tremaining: 9.26ms\n",
      "5:\tlearn: 0.2922636\ttotal: 9.46ms\tremaining: 6.31ms\n",
      "6:\tlearn: 0.2717269\ttotal: 9.66ms\tremaining: 4.14ms\n",
      "7:\tlearn: 0.2608563\ttotal: 9.85ms\tremaining: 2.46ms\n",
      "8:\tlearn: 0.2385462\ttotal: 10ms\tremaining: 1.11ms\n",
      "9:\tlearn: 0.2209228\ttotal: 10.2ms\tremaining: 0us\n",
      "[LightGBM] [Warning] boosting is set=gbdt, boosting_type=gbdt will be ignored. Current value: boosting=gbdt\n",
      "[LightGBM] [Warning] feature_fraction is set=0.5, colsample_bytree=1.0 will be ignored. Current value: feature_fraction=0.5\n"
     ]
    },
    {
     "name": "stderr",
     "output_type": "stream",
     "text": [
      "c:\\users\\kevin\\appdata\\local\\programs\\python\\python37\\lib\\site-packages\\sklearn\\linear_model\\_logistic.py:765: ConvergenceWarning: lbfgs failed to converge (status=1):\n",
      "STOP: TOTAL NO. of ITERATIONS REACHED LIMIT.\n",
      "\n",
      "Increase the number of iterations (max_iter) or scale the data as shown in:\n",
      "    https://scikit-learn.org/stable/modules/preprocessing.html\n",
      "Please also refer to the documentation for alternative solver options:\n",
      "    https://scikit-learn.org/stable/modules/linear_model.html#logistic-regression\n",
      "  extra_warning_msg=_LOGISTIC_SOLVER_CONVERGENCE_MSG)\n",
      "c:\\users\\kevin\\appdata\\local\\programs\\python\\python37\\lib\\site-packages\\xgboost\\sklearn.py:1146: UserWarning: The use of label encoder in XGBClassifier is deprecated and will be removed in a future release. To remove this warning, do the following: 1) Pass option use_label_encoder=False when constructing XGBClassifier object; and 2) Encode your labels (y) as integers starting with 0, i.e. 0, 1, 2, ..., [num_class - 1].\n",
      "  warnings.warn(label_encoder_deprecation_msg, UserWarning)\n"
     ]
    },
    {
     "name": "stdout",
     "output_type": "stream",
     "text": [
      "[00:10:10] WARNING: C:/Users/Administrator/workspace/xgboost-win64_release_1.4.0/src/learner.cc:1095: Starting in XGBoost 1.3.0, the default evaluation metric used with the objective 'binary:logistic' was changed from 'error' to 'logloss'. Explicitly set eval_metric if you'd like to restore the old behavior.\n",
      "0:\tlearn: 0.5726303\ttotal: 376us\tremaining: 3.38ms\n",
      "1:\tlearn: 0.5036356\ttotal: 690us\tremaining: 2.76ms\n",
      "2:\tlearn: 0.4196716\ttotal: 901us\tremaining: 2.1ms\n",
      "3:\tlearn: 0.3583088\ttotal: 1.22ms\tremaining: 1.82ms\n",
      "4:\tlearn: 0.3222525\ttotal: 1.44ms\tremaining: 1.44ms\n",
      "5:\tlearn: 0.2721374\ttotal: 1.67ms\tremaining: 1.11ms\n",
      "6:\tlearn: 0.2520968\ttotal: 1.88ms\tremaining: 805us\n",
      "7:\tlearn: 0.2184319\ttotal: 2.09ms\tremaining: 522us\n",
      "8:\tlearn: 0.2017259\ttotal: 2.3ms\tremaining: 255us\n",
      "9:\tlearn: 0.1940117\ttotal: 2.51ms\tremaining: 0us\n",
      "[LightGBM] [Warning] boosting is set=gbdt, boosting_type=gbdt will be ignored. Current value: boosting=gbdt\n",
      "[LightGBM] [Warning] feature_fraction is set=0.5, colsample_bytree=1.0 will be ignored. Current value: feature_fraction=0.5\n"
     ]
    },
    {
     "name": "stderr",
     "output_type": "stream",
     "text": [
      "c:\\users\\kevin\\appdata\\local\\programs\\python\\python37\\lib\\site-packages\\sklearn\\linear_model\\_logistic.py:765: ConvergenceWarning: lbfgs failed to converge (status=1):\n",
      "STOP: TOTAL NO. of ITERATIONS REACHED LIMIT.\n",
      "\n",
      "Increase the number of iterations (max_iter) or scale the data as shown in:\n",
      "    https://scikit-learn.org/stable/modules/preprocessing.html\n",
      "Please also refer to the documentation for alternative solver options:\n",
      "    https://scikit-learn.org/stable/modules/linear_model.html#logistic-regression\n",
      "  extra_warning_msg=_LOGISTIC_SOLVER_CONVERGENCE_MSG)\n",
      "c:\\users\\kevin\\appdata\\local\\programs\\python\\python37\\lib\\site-packages\\xgboost\\sklearn.py:1146: UserWarning: The use of label encoder in XGBClassifier is deprecated and will be removed in a future release. To remove this warning, do the following: 1) Pass option use_label_encoder=False when constructing XGBClassifier object; and 2) Encode your labels (y) as integers starting with 0, i.e. 0, 1, 2, ..., [num_class - 1].\n",
      "  warnings.warn(label_encoder_deprecation_msg, UserWarning)\n"
     ]
    },
    {
     "name": "stdout",
     "output_type": "stream",
     "text": [
      "[00:10:11] WARNING: C:/Users/Administrator/workspace/xgboost-win64_release_1.4.0/src/learner.cc:1095: Starting in XGBoost 1.3.0, the default evaluation metric used with the objective 'binary:logistic' was changed from 'error' to 'logloss'. Explicitly set eval_metric if you'd like to restore the old behavior.\n",
      "0:\tlearn: 0.4891543\ttotal: 336us\tremaining: 3.03ms\n",
      "1:\tlearn: 0.3833185\ttotal: 704us\tremaining: 2.82ms\n",
      "2:\tlearn: 0.3107604\ttotal: 1.01ms\tremaining: 2.36ms\n",
      "3:\tlearn: 0.2341610\ttotal: 1.29ms\tremaining: 1.93ms\n",
      "4:\tlearn: 0.1889227\ttotal: 1.51ms\tremaining: 1.51ms\n",
      "5:\tlearn: 0.1524910\ttotal: 1.75ms\tremaining: 1.17ms\n",
      "6:\tlearn: 0.1396017\ttotal: 2.02ms\tremaining: 865us\n",
      "7:\tlearn: 0.1338824\ttotal: 2.25ms\tremaining: 563us\n",
      "8:\tlearn: 0.1207025\ttotal: 2.47ms\tremaining: 274us\n",
      "9:\tlearn: 0.1159048\ttotal: 2.72ms\tremaining: 0us\n",
      "[LightGBM] [Warning] boosting is set=gbdt, boosting_type=gbdt will be ignored. Current value: boosting=gbdt\n",
      "[LightGBM] [Warning] feature_fraction is set=0.5, colsample_bytree=1.0 will be ignored. Current value: feature_fraction=0.5\n"
     ]
    },
    {
     "name": "stderr",
     "output_type": "stream",
     "text": [
      "c:\\users\\kevin\\appdata\\local\\programs\\python\\python37\\lib\\site-packages\\sklearn\\linear_model\\_logistic.py:765: ConvergenceWarning: lbfgs failed to converge (status=1):\n",
      "STOP: TOTAL NO. of ITERATIONS REACHED LIMIT.\n",
      "\n",
      "Increase the number of iterations (max_iter) or scale the data as shown in:\n",
      "    https://scikit-learn.org/stable/modules/preprocessing.html\n",
      "Please also refer to the documentation for alternative solver options:\n",
      "    https://scikit-learn.org/stable/modules/linear_model.html#logistic-regression\n",
      "  extra_warning_msg=_LOGISTIC_SOLVER_CONVERGENCE_MSG)\n",
      "c:\\users\\kevin\\appdata\\local\\programs\\python\\python37\\lib\\site-packages\\xgboost\\sklearn.py:1146: UserWarning: The use of label encoder in XGBClassifier is deprecated and will be removed in a future release. To remove this warning, do the following: 1) Pass option use_label_encoder=False when constructing XGBClassifier object; and 2) Encode your labels (y) as integers starting with 0, i.e. 0, 1, 2, ..., [num_class - 1].\n",
      "  warnings.warn(label_encoder_deprecation_msg, UserWarning)\n"
     ]
    },
    {
     "name": "stdout",
     "output_type": "stream",
     "text": [
      "[00:10:12] WARNING: C:/Users/Administrator/workspace/xgboost-win64_release_1.4.0/src/learner.cc:1095: Starting in XGBoost 1.3.0, the default evaluation metric used with the objective 'binary:logistic' was changed from 'error' to 'logloss'. Explicitly set eval_metric if you'd like to restore the old behavior.\n",
      "0:\tlearn: 0.4824192\ttotal: 8.3ms\tremaining: 74.7ms\n",
      "1:\tlearn: 0.4531771\ttotal: 8.66ms\tremaining: 34.6ms\n",
      "2:\tlearn: 0.4191586\ttotal: 8.96ms\tremaining: 20.9ms\n",
      "3:\tlearn: 0.3729748\ttotal: 9.27ms\tremaining: 13.9ms\n",
      "4:\tlearn: 0.3651113\ttotal: 9.51ms\tremaining: 9.51ms\n",
      "5:\tlearn: 0.2849635\ttotal: 9.79ms\tremaining: 6.53ms\n",
      "6:\tlearn: 0.2741564\ttotal: 9.99ms\tremaining: 4.28ms\n",
      "7:\tlearn: 0.2643273\ttotal: 10.2ms\tremaining: 2.56ms\n",
      "8:\tlearn: 0.2350933\ttotal: 10.6ms\tremaining: 1.17ms\n",
      "9:\tlearn: 0.2160385\ttotal: 10.8ms\tremaining: 0us\n",
      "[LightGBM] [Warning] boosting is set=gbdt, boosting_type=gbdt will be ignored. Current value: boosting=gbdt\n",
      "[LightGBM] [Warning] feature_fraction is set=0.5, colsample_bytree=1.0 will be ignored. Current value: feature_fraction=0.5\n"
     ]
    },
    {
     "name": "stderr",
     "output_type": "stream",
     "text": [
      "c:\\users\\kevin\\appdata\\local\\programs\\python\\python37\\lib\\site-packages\\sklearn\\linear_model\\_logistic.py:765: ConvergenceWarning: lbfgs failed to converge (status=1):\n",
      "STOP: TOTAL NO. of ITERATIONS REACHED LIMIT.\n",
      "\n",
      "Increase the number of iterations (max_iter) or scale the data as shown in:\n",
      "    https://scikit-learn.org/stable/modules/preprocessing.html\n",
      "Please also refer to the documentation for alternative solver options:\n",
      "    https://scikit-learn.org/stable/modules/linear_model.html#logistic-regression\n",
      "  extra_warning_msg=_LOGISTIC_SOLVER_CONVERGENCE_MSG)\n",
      "c:\\users\\kevin\\appdata\\local\\programs\\python\\python37\\lib\\site-packages\\xgboost\\sklearn.py:1146: UserWarning: The use of label encoder in XGBClassifier is deprecated and will be removed in a future release. To remove this warning, do the following: 1) Pass option use_label_encoder=False when constructing XGBClassifier object; and 2) Encode your labels (y) as integers starting with 0, i.e. 0, 1, 2, ..., [num_class - 1].\n",
      "  warnings.warn(label_encoder_deprecation_msg, UserWarning)\n"
     ]
    },
    {
     "name": "stdout",
     "output_type": "stream",
     "text": [
      "[00:10:13] WARNING: C:/Users/Administrator/workspace/xgboost-win64_release_1.4.0/src/learner.cc:1095: Starting in XGBoost 1.3.0, the default evaluation metric used with the objective 'binary:logistic' was changed from 'error' to 'logloss'. Explicitly set eval_metric if you'd like to restore the old behavior.\n",
      "0:\tlearn: 0.5165152\ttotal: 313us\tremaining: 2.82ms\n",
      "1:\tlearn: 0.4792571\ttotal: 624us\tremaining: 2.5ms\n",
      "2:\tlearn: 0.4642162\ttotal: 855us\tremaining: 2ms\n",
      "3:\tlearn: 0.4494676\ttotal: 1.16ms\tremaining: 1.74ms\n",
      "4:\tlearn: 0.3964342\ttotal: 1.38ms\tremaining: 1.38ms\n",
      "5:\tlearn: 0.3752815\ttotal: 1.6ms\tremaining: 1.06ms\n",
      "6:\tlearn: 0.3670142\ttotal: 1.82ms\tremaining: 779us\n",
      "7:\tlearn: 0.3439803\ttotal: 2.03ms\tremaining: 506us\n",
      "8:\tlearn: 0.3294563\ttotal: 2.23ms\tremaining: 247us\n",
      "9:\tlearn: 0.3168986\ttotal: 2.43ms\tremaining: 0us\n",
      "[LightGBM] [Warning] boosting is set=gbdt, boosting_type=gbdt will be ignored. Current value: boosting=gbdt\n",
      "[LightGBM] [Warning] feature_fraction is set=0.5, colsample_bytree=1.0 will be ignored. Current value: feature_fraction=0.5\n"
     ]
    },
    {
     "name": "stderr",
     "output_type": "stream",
     "text": [
      "c:\\users\\kevin\\appdata\\local\\programs\\python\\python37\\lib\\site-packages\\xgboost\\sklearn.py:1146: UserWarning: The use of label encoder in XGBClassifier is deprecated and will be removed in a future release. To remove this warning, do the following: 1) Pass option use_label_encoder=False when constructing XGBClassifier object; and 2) Encode your labels (y) as integers starting with 0, i.e. 0, 1, 2, ..., [num_class - 1].\n",
      "  warnings.warn(label_encoder_deprecation_msg, UserWarning)\n"
     ]
    },
    {
     "name": "stdout",
     "output_type": "stream",
     "text": [
      "[00:10:16] WARNING: C:/Users/Administrator/workspace/xgboost-win64_release_1.4.0/src/learner.cc:1095: Starting in XGBoost 1.3.0, the default evaluation metric used with the objective 'binary:logistic' was changed from 'error' to 'logloss'. Explicitly set eval_metric if you'd like to restore the old behavior.\n",
      "0:\tlearn: 0.4915293\ttotal: 63ms\tremaining: 567ms\n",
      "1:\tlearn: 0.3853737\ttotal: 87.7ms\tremaining: 351ms\n",
      "2:\tlearn: 0.3209252\ttotal: 112ms\tremaining: 262ms\n",
      "3:\tlearn: 0.2919695\ttotal: 137ms\tremaining: 206ms\n",
      "4:\tlearn: 0.2570790\ttotal: 163ms\tremaining: 163ms\n",
      "5:\tlearn: 0.1976661\ttotal: 188ms\tremaining: 125ms\n",
      "6:\tlearn: 0.1568831\ttotal: 214ms\tremaining: 91.7ms\n",
      "7:\tlearn: 0.1294295\ttotal: 241ms\tremaining: 60.1ms\n",
      "8:\tlearn: 0.1021524\ttotal: 268ms\tremaining: 29.7ms\n",
      "9:\tlearn: 0.0809784\ttotal: 305ms\tremaining: 0us\n",
      "[LightGBM] [Warning] boosting is set=gbdt, boosting_type=gbdt will be ignored. Current value: boosting=gbdt\n",
      "[LightGBM] [Warning] feature_fraction is set=0.5, colsample_bytree=1.0 will be ignored. Current value: feature_fraction=0.5\n"
     ]
    },
    {
     "name": "stderr",
     "output_type": "stream",
     "text": [
      "c:\\users\\kevin\\appdata\\local\\programs\\python\\python37\\lib\\site-packages\\sklearn\\linear_model\\_logistic.py:765: ConvergenceWarning: lbfgs failed to converge (status=1):\n",
      "STOP: TOTAL NO. of ITERATIONS REACHED LIMIT.\n",
      "\n",
      "Increase the number of iterations (max_iter) or scale the data as shown in:\n",
      "    https://scikit-learn.org/stable/modules/preprocessing.html\n",
      "Please also refer to the documentation for alternative solver options:\n",
      "    https://scikit-learn.org/stable/modules/linear_model.html#logistic-regression\n",
      "  extra_warning_msg=_LOGISTIC_SOLVER_CONVERGENCE_MSG)\n",
      "c:\\users\\kevin\\appdata\\local\\programs\\python\\python37\\lib\\site-packages\\xgboost\\sklearn.py:1146: UserWarning: The use of label encoder in XGBClassifier is deprecated and will be removed in a future release. To remove this warning, do the following: 1) Pass option use_label_encoder=False when constructing XGBClassifier object; and 2) Encode your labels (y) as integers starting with 0, i.e. 0, 1, 2, ..., [num_class - 1].\n",
      "  warnings.warn(label_encoder_deprecation_msg, UserWarning)\n"
     ]
    },
    {
     "name": "stdout",
     "output_type": "stream",
     "text": [
      "[00:10:26] WARNING: C:/Users/Administrator/workspace/xgboost-win64_release_1.4.0/src/learner.cc:1095: Starting in XGBoost 1.3.0, the default evaluation metric used with the objective 'binary:logistic' was changed from 'error' to 'logloss'. Explicitly set eval_metric if you'd like to restore the old behavior.\n",
      "0:\tlearn: 0.5852918\ttotal: 81.2ms\tremaining: 730ms\n",
      "1:\tlearn: 0.5357673\ttotal: 119ms\tremaining: 475ms\n",
      "2:\tlearn: 0.4877306\ttotal: 148ms\tremaining: 345ms\n",
      "3:\tlearn: 0.4401704\ttotal: 176ms\tremaining: 264ms\n",
      "4:\tlearn: 0.3341409\ttotal: 205ms\tremaining: 205ms\n",
      "5:\tlearn: 0.2634588\ttotal: 265ms\tremaining: 177ms\n",
      "6:\tlearn: 0.2157975\ttotal: 312ms\tremaining: 134ms\n",
      "7:\tlearn: 0.1727044\ttotal: 339ms\tremaining: 84.8ms\n",
      "8:\tlearn: 0.1512428\ttotal: 373ms\tremaining: 41.5ms\n",
      "9:\tlearn: 0.1084153\ttotal: 401ms\tremaining: 0us\n",
      "[LightGBM] [Warning] boosting is set=gbdt, boosting_type=gbdt will be ignored. Current value: boosting=gbdt\n",
      "[LightGBM] [Warning] feature_fraction is set=0.5, colsample_bytree=1.0 will be ignored. Current value: feature_fraction=0.5\n"
     ]
    },
    {
     "name": "stderr",
     "output_type": "stream",
     "text": [
      "c:\\users\\kevin\\appdata\\local\\programs\\python\\python37\\lib\\site-packages\\xgboost\\sklearn.py:1146: UserWarning: The use of label encoder in XGBClassifier is deprecated and will be removed in a future release. To remove this warning, do the following: 1) Pass option use_label_encoder=False when constructing XGBClassifier object; and 2) Encode your labels (y) as integers starting with 0, i.e. 0, 1, 2, ..., [num_class - 1].\n",
      "  warnings.warn(label_encoder_deprecation_msg, UserWarning)\n"
     ]
    },
    {
     "name": "stdout",
     "output_type": "stream",
     "text": [
      "[00:10:33] WARNING: C:/Users/Administrator/workspace/xgboost-win64_release_1.4.0/src/learner.cc:1095: Starting in XGBoost 1.3.0, the default evaluation metric used with the objective 'binary:logistic' was changed from 'error' to 'logloss'. Explicitly set eval_metric if you'd like to restore the old behavior.\n",
      "0:\tlearn: 0.4454943\ttotal: 77.6ms\tremaining: 699ms\n",
      "1:\tlearn: 0.3603969\ttotal: 111ms\tremaining: 443ms\n",
      "2:\tlearn: 0.3018290\ttotal: 138ms\tremaining: 323ms\n",
      "3:\tlearn: 0.2852706\ttotal: 165ms\tremaining: 248ms\n",
      "4:\tlearn: 0.2217326\ttotal: 194ms\tremaining: 194ms\n",
      "5:\tlearn: 0.1742720\ttotal: 223ms\tremaining: 149ms\n",
      "6:\tlearn: 0.1519383\ttotal: 252ms\tremaining: 108ms\n",
      "7:\tlearn: 0.1273768\ttotal: 288ms\tremaining: 72.1ms\n",
      "8:\tlearn: 0.0879246\ttotal: 324ms\tremaining: 36ms\n",
      "9:\tlearn: 0.0671441\ttotal: 365ms\tremaining: 0us\n",
      "[LightGBM] [Warning] boosting is set=gbdt, boosting_type=gbdt will be ignored. Current value: boosting=gbdt\n",
      "[LightGBM] [Warning] feature_fraction is set=0.5, colsample_bytree=1.0 will be ignored. Current value: feature_fraction=0.5\n"
     ]
    },
    {
     "name": "stderr",
     "output_type": "stream",
     "text": [
      "c:\\users\\kevin\\appdata\\local\\programs\\python\\python37\\lib\\site-packages\\sklearn\\linear_model\\_logistic.py:765: ConvergenceWarning: lbfgs failed to converge (status=1):\n",
      "STOP: TOTAL NO. of ITERATIONS REACHED LIMIT.\n",
      "\n",
      "Increase the number of iterations (max_iter) or scale the data as shown in:\n",
      "    https://scikit-learn.org/stable/modules/preprocessing.html\n",
      "Please also refer to the documentation for alternative solver options:\n",
      "    https://scikit-learn.org/stable/modules/linear_model.html#logistic-regression\n",
      "  extra_warning_msg=_LOGISTIC_SOLVER_CONVERGENCE_MSG)\n",
      "c:\\users\\kevin\\appdata\\local\\programs\\python\\python37\\lib\\site-packages\\xgboost\\sklearn.py:1146: UserWarning: The use of label encoder in XGBClassifier is deprecated and will be removed in a future release. To remove this warning, do the following: 1) Pass option use_label_encoder=False when constructing XGBClassifier object; and 2) Encode your labels (y) as integers starting with 0, i.e. 0, 1, 2, ..., [num_class - 1].\n",
      "  warnings.warn(label_encoder_deprecation_msg, UserWarning)\n"
     ]
    },
    {
     "name": "stdout",
     "output_type": "stream",
     "text": [
      "[00:10:42] WARNING: C:/Users/Administrator/workspace/xgboost-win64_release_1.4.0/src/learner.cc:1095: Starting in XGBoost 1.3.0, the default evaluation metric used with the objective 'binary:logistic' was changed from 'error' to 'logloss'. Explicitly set eval_metric if you'd like to restore the old behavior.\n",
      "0:\tlearn: 0.5297909\ttotal: 49.1ms\tremaining: 442ms\n",
      "1:\tlearn: 0.4500405\ttotal: 74.9ms\tremaining: 300ms\n",
      "2:\tlearn: 0.3506118\ttotal: 101ms\tremaining: 236ms\n",
      "3:\tlearn: 0.2359659\ttotal: 128ms\tremaining: 192ms\n",
      "4:\tlearn: 0.2193297\ttotal: 160ms\tremaining: 160ms\n",
      "5:\tlearn: 0.1649906\ttotal: 187ms\tremaining: 125ms\n",
      "6:\tlearn: 0.1234147\ttotal: 214ms\tremaining: 91.7ms\n",
      "7:\tlearn: 0.1030457\ttotal: 241ms\tremaining: 60.4ms\n",
      "8:\tlearn: 0.0888145\ttotal: 270ms\tremaining: 30ms\n",
      "9:\tlearn: 0.0770072\ttotal: 298ms\tremaining: 0us\n",
      "[LightGBM] [Warning] boosting is set=gbdt, boosting_type=gbdt will be ignored. Current value: boosting=gbdt\n",
      "[LightGBM] [Warning] feature_fraction is set=0.5, colsample_bytree=1.0 will be ignored. Current value: feature_fraction=0.5\n"
     ]
    },
    {
     "name": "stderr",
     "output_type": "stream",
     "text": [
      "c:\\users\\kevin\\appdata\\local\\programs\\python\\python37\\lib\\site-packages\\sklearn\\linear_model\\_logistic.py:765: ConvergenceWarning: lbfgs failed to converge (status=1):\n",
      "STOP: TOTAL NO. of ITERATIONS REACHED LIMIT.\n",
      "\n",
      "Increase the number of iterations (max_iter) or scale the data as shown in:\n",
      "    https://scikit-learn.org/stable/modules/preprocessing.html\n",
      "Please also refer to the documentation for alternative solver options:\n",
      "    https://scikit-learn.org/stable/modules/linear_model.html#logistic-regression\n",
      "  extra_warning_msg=_LOGISTIC_SOLVER_CONVERGENCE_MSG)\n",
      "c:\\users\\kevin\\appdata\\local\\programs\\python\\python37\\lib\\site-packages\\xgboost\\sklearn.py:1146: UserWarning: The use of label encoder in XGBClassifier is deprecated and will be removed in a future release. To remove this warning, do the following: 1) Pass option use_label_encoder=False when constructing XGBClassifier object; and 2) Encode your labels (y) as integers starting with 0, i.e. 0, 1, 2, ..., [num_class - 1].\n",
      "  warnings.warn(label_encoder_deprecation_msg, UserWarning)\n"
     ]
    },
    {
     "name": "stdout",
     "output_type": "stream",
     "text": [
      "[00:10:50] WARNING: C:/Users/Administrator/workspace/xgboost-win64_release_1.4.0/src/learner.cc:1095: Starting in XGBoost 1.3.0, the default evaluation metric used with the objective 'binary:logistic' was changed from 'error' to 'logloss'. Explicitly set eval_metric if you'd like to restore the old behavior.\n",
      "0:\tlearn: 0.4307614\ttotal: 67.5ms\tremaining: 608ms\n",
      "1:\tlearn: 0.3883144\ttotal: 92.1ms\tremaining: 368ms\n",
      "2:\tlearn: 0.3352003\ttotal: 118ms\tremaining: 275ms\n",
      "3:\tlearn: 0.2739400\ttotal: 153ms\tremaining: 230ms\n",
      "4:\tlearn: 0.2063555\ttotal: 185ms\tremaining: 185ms\n",
      "5:\tlearn: 0.1704987\ttotal: 218ms\tremaining: 146ms\n",
      "6:\tlearn: 0.1233415\ttotal: 251ms\tremaining: 108ms\n",
      "7:\tlearn: 0.1038556\ttotal: 285ms\tremaining: 71.2ms\n",
      "8:\tlearn: 0.0836344\ttotal: 327ms\tremaining: 36.3ms\n",
      "9:\tlearn: 0.0696795\ttotal: 360ms\tremaining: 0us\n",
      "[LightGBM] [Warning] boosting is set=gbdt, boosting_type=gbdt will be ignored. Current value: boosting=gbdt\n",
      "[LightGBM] [Warning] feature_fraction is set=0.5, colsample_bytree=1.0 will be ignored. Current value: feature_fraction=0.5\n"
     ]
    },
    {
     "name": "stderr",
     "output_type": "stream",
     "text": [
      "c:\\users\\kevin\\appdata\\local\\programs\\python\\python37\\lib\\site-packages\\sklearn\\linear_model\\_logistic.py:765: ConvergenceWarning: lbfgs failed to converge (status=1):\n",
      "STOP: TOTAL NO. of ITERATIONS REACHED LIMIT.\n",
      "\n",
      "Increase the number of iterations (max_iter) or scale the data as shown in:\n",
      "    https://scikit-learn.org/stable/modules/preprocessing.html\n",
      "Please also refer to the documentation for alternative solver options:\n",
      "    https://scikit-learn.org/stable/modules/linear_model.html#logistic-regression\n",
      "  extra_warning_msg=_LOGISTIC_SOLVER_CONVERGENCE_MSG)\n",
      "c:\\users\\kevin\\appdata\\local\\programs\\python\\python37\\lib\\site-packages\\sklearn\\neural_network\\_multilayer_perceptron.py:617: ConvergenceWarning: Stochastic Optimizer: Maximum iterations (200) reached and the optimization hasn't converged yet.\n",
      "  % self.max_iter, ConvergenceWarning)\n",
      "c:\\users\\kevin\\appdata\\local\\programs\\python\\python37\\lib\\site-packages\\xgboost\\sklearn.py:1146: UserWarning: The use of label encoder in XGBClassifier is deprecated and will be removed in a future release. To remove this warning, do the following: 1) Pass option use_label_encoder=False when constructing XGBClassifier object; and 2) Encode your labels (y) as integers starting with 0, i.e. 0, 1, 2, ..., [num_class - 1].\n",
      "  warnings.warn(label_encoder_deprecation_msg, UserWarning)\n"
     ]
    },
    {
     "name": "stdout",
     "output_type": "stream",
     "text": [
      "[00:10:57] WARNING: C:/Users/Administrator/workspace/xgboost-win64_release_1.4.0/src/learner.cc:1095: Starting in XGBoost 1.3.0, the default evaluation metric used with the objective 'binary:logistic' was changed from 'error' to 'logloss'. Explicitly set eval_metric if you'd like to restore the old behavior.\n",
      "0:\tlearn: 0.4209086\ttotal: 334us\tremaining: 3.01ms\n",
      "1:\tlearn: 0.3606859\ttotal: 670us\tremaining: 2.68ms\n",
      "2:\tlearn: 0.2948543\ttotal: 936us\tremaining: 2.18ms\n",
      "3:\tlearn: 0.2738448\ttotal: 1.25ms\tremaining: 1.88ms\n",
      "4:\tlearn: 0.2524115\ttotal: 1.56ms\tremaining: 1.56ms\n",
      "5:\tlearn: 0.2417536\ttotal: 1.82ms\tremaining: 1.21ms\n",
      "6:\tlearn: 0.2144646\ttotal: 2.12ms\tremaining: 909us\n",
      "7:\tlearn: 0.1747334\ttotal: 2.34ms\tremaining: 585us\n",
      "8:\tlearn: 0.1482464\ttotal: 2.57ms\tremaining: 285us\n",
      "9:\tlearn: 0.1383509\ttotal: 2.78ms\tremaining: 0us\n",
      "[LightGBM] [Warning] boosting is set=gbdt, boosting_type=gbdt will be ignored. Current value: boosting=gbdt\n",
      "[LightGBM] [Warning] feature_fraction is set=0.5, colsample_bytree=1.0 will be ignored. Current value: feature_fraction=0.5\n"
     ]
    },
    {
     "name": "stderr",
     "output_type": "stream",
     "text": [
      "c:\\users\\kevin\\appdata\\local\\programs\\python\\python37\\lib\\site-packages\\sklearn\\linear_model\\_logistic.py:765: ConvergenceWarning: lbfgs failed to converge (status=1):\n",
      "STOP: TOTAL NO. of ITERATIONS REACHED LIMIT.\n",
      "\n",
      "Increase the number of iterations (max_iter) or scale the data as shown in:\n",
      "    https://scikit-learn.org/stable/modules/preprocessing.html\n",
      "Please also refer to the documentation for alternative solver options:\n",
      "    https://scikit-learn.org/stable/modules/linear_model.html#logistic-regression\n",
      "  extra_warning_msg=_LOGISTIC_SOLVER_CONVERGENCE_MSG)\n",
      "c:\\users\\kevin\\appdata\\local\\programs\\python\\python37\\lib\\site-packages\\xgboost\\sklearn.py:1146: UserWarning: The use of label encoder in XGBClassifier is deprecated and will be removed in a future release. To remove this warning, do the following: 1) Pass option use_label_encoder=False when constructing XGBClassifier object; and 2) Encode your labels (y) as integers starting with 0, i.e. 0, 1, 2, ..., [num_class - 1].\n",
      "  warnings.warn(label_encoder_deprecation_msg, UserWarning)\n"
     ]
    },
    {
     "name": "stdout",
     "output_type": "stream",
     "text": [
      "[00:10:58] WARNING: C:/Users/Administrator/workspace/xgboost-win64_release_1.4.0/src/learner.cc:1095: Starting in XGBoost 1.3.0, the default evaluation metric used with the objective 'binary:logistic' was changed from 'error' to 'logloss'. Explicitly set eval_metric if you'd like to restore the old behavior.\n",
      "0:\tlearn: 0.3593249\ttotal: 293us\tremaining: 2.64ms\n",
      "1:\tlearn: 0.2813139\ttotal: 587us\tremaining: 2.35ms\n",
      "2:\tlearn: 0.2052492\ttotal: 837us\tremaining: 1.96ms\n",
      "3:\tlearn: 0.1917485\ttotal: 1.04ms\tremaining: 1.57ms\n",
      "4:\tlearn: 0.1748165\ttotal: 1.26ms\tremaining: 1.26ms\n",
      "5:\tlearn: 0.1577825\ttotal: 1.46ms\tremaining: 971us\n",
      "6:\tlearn: 0.1515769\ttotal: 1.69ms\tremaining: 723us\n",
      "7:\tlearn: 0.1065879\ttotal: 1.92ms\tremaining: 479us\n",
      "8:\tlearn: 0.0974560\ttotal: 2.15ms\tremaining: 239us\n",
      "9:\tlearn: 0.0893896\ttotal: 2.37ms\tremaining: 0us\n",
      "[LightGBM] [Warning] boosting is set=gbdt, boosting_type=gbdt will be ignored. Current value: boosting=gbdt\n",
      "[LightGBM] [Warning] feature_fraction is set=0.5, colsample_bytree=1.0 will be ignored. Current value: feature_fraction=0.5\n"
     ]
    },
    {
     "name": "stderr",
     "output_type": "stream",
     "text": [
      "c:\\users\\kevin\\appdata\\local\\programs\\python\\python37\\lib\\site-packages\\sklearn\\linear_model\\_logistic.py:765: ConvergenceWarning: lbfgs failed to converge (status=1):\n",
      "STOP: TOTAL NO. of ITERATIONS REACHED LIMIT.\n",
      "\n",
      "Increase the number of iterations (max_iter) or scale the data as shown in:\n",
      "    https://scikit-learn.org/stable/modules/preprocessing.html\n",
      "Please also refer to the documentation for alternative solver options:\n",
      "    https://scikit-learn.org/stable/modules/linear_model.html#logistic-regression\n",
      "  extra_warning_msg=_LOGISTIC_SOLVER_CONVERGENCE_MSG)\n",
      "c:\\users\\kevin\\appdata\\local\\programs\\python\\python37\\lib\\site-packages\\xgboost\\sklearn.py:1146: UserWarning: The use of label encoder in XGBClassifier is deprecated and will be removed in a future release. To remove this warning, do the following: 1) Pass option use_label_encoder=False when constructing XGBClassifier object; and 2) Encode your labels (y) as integers starting with 0, i.e. 0, 1, 2, ..., [num_class - 1].\n",
      "  warnings.warn(label_encoder_deprecation_msg, UserWarning)\n"
     ]
    },
    {
     "name": "stdout",
     "output_type": "stream",
     "text": [
      "[00:10:59] WARNING: C:/Users/Administrator/workspace/xgboost-win64_release_1.4.0/src/learner.cc:1095: Starting in XGBoost 1.3.0, the default evaluation metric used with the objective 'binary:logistic' was changed from 'error' to 'logloss'. Explicitly set eval_metric if you'd like to restore the old behavior.\n",
      "0:\tlearn: 0.3133205\ttotal: 335us\tremaining: 3.02ms\n",
      "1:\tlearn: 0.2464927\ttotal: 680us\tremaining: 2.72ms\n",
      "2:\tlearn: 0.1839729\ttotal: 967us\tremaining: 2.26ms\n",
      "3:\tlearn: 0.1659766\ttotal: 1.2ms\tremaining: 1.8ms\n",
      "4:\tlearn: 0.1525832\ttotal: 1.43ms\tremaining: 1.43ms\n",
      "5:\tlearn: 0.1311105\ttotal: 1.65ms\tremaining: 1.1ms\n",
      "6:\tlearn: 0.1187435\ttotal: 2ms\tremaining: 858us\n",
      "7:\tlearn: 0.0960330\ttotal: 2.21ms\tremaining: 551us\n",
      "8:\tlearn: 0.0835088\ttotal: 2.44ms\tremaining: 271us\n",
      "9:\tlearn: 0.0740621\ttotal: 2.66ms\tremaining: 0us\n",
      "[LightGBM] [Warning] boosting is set=gbdt, boosting_type=gbdt will be ignored. Current value: boosting=gbdt\n",
      "[LightGBM] [Warning] feature_fraction is set=0.5, colsample_bytree=1.0 will be ignored. Current value: feature_fraction=0.5\n"
     ]
    },
    {
     "name": "stderr",
     "output_type": "stream",
     "text": [
      "c:\\users\\kevin\\appdata\\local\\programs\\python\\python37\\lib\\site-packages\\sklearn\\linear_model\\_logistic.py:765: ConvergenceWarning: lbfgs failed to converge (status=1):\n",
      "STOP: TOTAL NO. of ITERATIONS REACHED LIMIT.\n",
      "\n",
      "Increase the number of iterations (max_iter) or scale the data as shown in:\n",
      "    https://scikit-learn.org/stable/modules/preprocessing.html\n",
      "Please also refer to the documentation for alternative solver options:\n",
      "    https://scikit-learn.org/stable/modules/linear_model.html#logistic-regression\n",
      "  extra_warning_msg=_LOGISTIC_SOLVER_CONVERGENCE_MSG)\n",
      "c:\\users\\kevin\\appdata\\local\\programs\\python\\python37\\lib\\site-packages\\xgboost\\sklearn.py:1146: UserWarning: The use of label encoder in XGBClassifier is deprecated and will be removed in a future release. To remove this warning, do the following: 1) Pass option use_label_encoder=False when constructing XGBClassifier object; and 2) Encode your labels (y) as integers starting with 0, i.e. 0, 1, 2, ..., [num_class - 1].\n",
      "  warnings.warn(label_encoder_deprecation_msg, UserWarning)\n"
     ]
    },
    {
     "name": "stdout",
     "output_type": "stream",
     "text": [
      "[00:11:01] WARNING: C:/Users/Administrator/workspace/xgboost-win64_release_1.4.0/src/learner.cc:1095: Starting in XGBoost 1.3.0, the default evaluation metric used with the objective 'binary:logistic' was changed from 'error' to 'logloss'. Explicitly set eval_metric if you'd like to restore the old behavior.\n",
      "0:\tlearn: 0.3840682\ttotal: 321us\tremaining: 2.89ms\n",
      "1:\tlearn: 0.3290891\ttotal: 632us\tremaining: 2.53ms\n",
      "2:\tlearn: 0.2263941\ttotal: 848us\tremaining: 1.98ms\n",
      "3:\tlearn: 0.1834372\ttotal: 1.11ms\tremaining: 1.67ms\n",
      "4:\tlearn: 0.1753963\ttotal: 1.32ms\tremaining: 1.32ms\n",
      "5:\tlearn: 0.1660782\ttotal: 1.53ms\tremaining: 1.02ms\n",
      "6:\tlearn: 0.1506913\ttotal: 1.73ms\tremaining: 743us\n",
      "7:\tlearn: 0.1390193\ttotal: 1.96ms\tremaining: 489us\n",
      "8:\tlearn: 0.1080965\ttotal: 2.17ms\tremaining: 241us\n",
      "9:\tlearn: 0.0863428\ttotal: 2.37ms\tremaining: 0us\n",
      "[LightGBM] [Warning] boosting is set=gbdt, boosting_type=gbdt will be ignored. Current value: boosting=gbdt\n",
      "[LightGBM] [Warning] feature_fraction is set=0.5, colsample_bytree=1.0 will be ignored. Current value: feature_fraction=0.5\n"
     ]
    },
    {
     "name": "stderr",
     "output_type": "stream",
     "text": [
      "c:\\users\\kevin\\appdata\\local\\programs\\python\\python37\\lib\\site-packages\\sklearn\\linear_model\\_logistic.py:765: ConvergenceWarning: lbfgs failed to converge (status=1):\n",
      "STOP: TOTAL NO. of ITERATIONS REACHED LIMIT.\n",
      "\n",
      "Increase the number of iterations (max_iter) or scale the data as shown in:\n",
      "    https://scikit-learn.org/stable/modules/preprocessing.html\n",
      "Please also refer to the documentation for alternative solver options:\n",
      "    https://scikit-learn.org/stable/modules/linear_model.html#logistic-regression\n",
      "  extra_warning_msg=_LOGISTIC_SOLVER_CONVERGENCE_MSG)\n",
      "c:\\users\\kevin\\appdata\\local\\programs\\python\\python37\\lib\\site-packages\\sklearn\\neural_network\\_multilayer_perceptron.py:617: ConvergenceWarning: Stochastic Optimizer: Maximum iterations (200) reached and the optimization hasn't converged yet.\n",
      "  % self.max_iter, ConvergenceWarning)\n",
      "c:\\users\\kevin\\appdata\\local\\programs\\python\\python37\\lib\\site-packages\\xgboost\\sklearn.py:1146: UserWarning: The use of label encoder in XGBClassifier is deprecated and will be removed in a future release. To remove this warning, do the following: 1) Pass option use_label_encoder=False when constructing XGBClassifier object; and 2) Encode your labels (y) as integers starting with 0, i.e. 0, 1, 2, ..., [num_class - 1].\n",
      "  warnings.warn(label_encoder_deprecation_msg, UserWarning)\n"
     ]
    },
    {
     "name": "stdout",
     "output_type": "stream",
     "text": [
      "[00:11:02] WARNING: C:/Users/Administrator/workspace/xgboost-win64_release_1.4.0/src/learner.cc:1095: Starting in XGBoost 1.3.0, the default evaluation metric used with the objective 'binary:logistic' was changed from 'error' to 'logloss'. Explicitly set eval_metric if you'd like to restore the old behavior.\n",
      "0:\tlearn: 0.3402779\ttotal: 293us\tremaining: 2.64ms\n",
      "1:\tlearn: 0.2480066\ttotal: 581us\tremaining: 2.33ms\n",
      "2:\tlearn: 0.2060514\ttotal: 778us\tremaining: 1.81ms\n",
      "3:\tlearn: 0.1616162\ttotal: 1.04ms\tremaining: 1.56ms\n",
      "4:\tlearn: 0.1540654\ttotal: 1.26ms\tremaining: 1.26ms\n",
      "5:\tlearn: 0.1337491\ttotal: 1.48ms\tremaining: 983us\n",
      "6:\tlearn: 0.1277524\ttotal: 1.68ms\tremaining: 721us\n",
      "7:\tlearn: 0.1191221\ttotal: 1.89ms\tremaining: 472us\n",
      "8:\tlearn: 0.1052497\ttotal: 2.1ms\tremaining: 233us\n",
      "9:\tlearn: 0.0894456\ttotal: 2.31ms\tremaining: 0us\n",
      "[LightGBM] [Warning] boosting is set=gbdt, boosting_type=gbdt will be ignored. Current value: boosting=gbdt\n",
      "[LightGBM] [Warning] feature_fraction is set=0.5, colsample_bytree=1.0 will be ignored. Current value: feature_fraction=0.5\n"
     ]
    },
    {
     "name": "stderr",
     "output_type": "stream",
     "text": [
      "c:\\users\\kevin\\appdata\\local\\programs\\python\\python37\\lib\\site-packages\\sklearn\\linear_model\\_logistic.py:765: ConvergenceWarning: lbfgs failed to converge (status=1):\n",
      "STOP: TOTAL NO. of ITERATIONS REACHED LIMIT.\n",
      "\n",
      "Increase the number of iterations (max_iter) or scale the data as shown in:\n",
      "    https://scikit-learn.org/stable/modules/preprocessing.html\n",
      "Please also refer to the documentation for alternative solver options:\n",
      "    https://scikit-learn.org/stable/modules/linear_model.html#logistic-regression\n",
      "  extra_warning_msg=_LOGISTIC_SOLVER_CONVERGENCE_MSG)\n",
      "c:\\users\\kevin\\appdata\\local\\programs\\python\\python37\\lib\\site-packages\\xgboost\\sklearn.py:1146: UserWarning: The use of label encoder in XGBClassifier is deprecated and will be removed in a future release. To remove this warning, do the following: 1) Pass option use_label_encoder=False when constructing XGBClassifier object; and 2) Encode your labels (y) as integers starting with 0, i.e. 0, 1, 2, ..., [num_class - 1].\n",
      "  warnings.warn(label_encoder_deprecation_msg, UserWarning)\n"
     ]
    },
    {
     "name": "stdout",
     "output_type": "stream",
     "text": [
      "[00:11:03] WARNING: C:/Users/Administrator/workspace/xgboost-win64_release_1.4.0/src/learner.cc:1095: Starting in XGBoost 1.3.0, the default evaluation metric used with the objective 'binary:logistic' was changed from 'error' to 'logloss'. Explicitly set eval_metric if you'd like to restore the old behavior.\n",
      "0:\tlearn: 0.4847863\ttotal: 355us\tremaining: 3.2ms\n",
      "1:\tlearn: 0.4272014\ttotal: 805us\tremaining: 3.22ms\n",
      "2:\tlearn: 0.4148750\ttotal: 1.11ms\tremaining: 2.6ms\n",
      "3:\tlearn: 0.3998437\ttotal: 1.36ms\tremaining: 2.04ms\n",
      "4:\tlearn: 0.3797503\ttotal: 1.64ms\tremaining: 1.64ms\n",
      "5:\tlearn: 0.3237950\ttotal: 1.86ms\tremaining: 1.24ms\n",
      "6:\tlearn: 0.3038337\ttotal: 2.11ms\tremaining: 904us\n",
      "7:\tlearn: 0.2871755\ttotal: 2.34ms\tremaining: 585us\n",
      "8:\tlearn: 0.2835990\ttotal: 2.55ms\tremaining: 283us\n",
      "9:\tlearn: 0.2720704\ttotal: 2.8ms\tremaining: 0us\n",
      "[LightGBM] [Warning] boosting is set=gbdt, boosting_type=gbdt will be ignored. Current value: boosting=gbdt\n",
      "[LightGBM] [Warning] feature_fraction is set=0.5, colsample_bytree=1.0 will be ignored. Current value: feature_fraction=0.5\n"
     ]
    },
    {
     "name": "stderr",
     "output_type": "stream",
     "text": [
      "c:\\users\\kevin\\appdata\\local\\programs\\python\\python37\\lib\\site-packages\\sklearn\\linear_model\\_logistic.py:765: ConvergenceWarning: lbfgs failed to converge (status=1):\n",
      "STOP: TOTAL NO. of ITERATIONS REACHED LIMIT.\n",
      "\n",
      "Increase the number of iterations (max_iter) or scale the data as shown in:\n",
      "    https://scikit-learn.org/stable/modules/preprocessing.html\n",
      "Please also refer to the documentation for alternative solver options:\n",
      "    https://scikit-learn.org/stable/modules/linear_model.html#logistic-regression\n",
      "  extra_warning_msg=_LOGISTIC_SOLVER_CONVERGENCE_MSG)\n",
      "c:\\users\\kevin\\appdata\\local\\programs\\python\\python37\\lib\\site-packages\\xgboost\\sklearn.py:1146: UserWarning: The use of label encoder in XGBClassifier is deprecated and will be removed in a future release. To remove this warning, do the following: 1) Pass option use_label_encoder=False when constructing XGBClassifier object; and 2) Encode your labels (y) as integers starting with 0, i.e. 0, 1, 2, ..., [num_class - 1].\n",
      "  warnings.warn(label_encoder_deprecation_msg, UserWarning)\n"
     ]
    },
    {
     "name": "stdout",
     "output_type": "stream",
     "text": [
      "[00:11:03] WARNING: C:/Users/Administrator/workspace/xgboost-win64_release_1.4.0/src/learner.cc:1095: Starting in XGBoost 1.3.0, the default evaluation metric used with the objective 'binary:logistic' was changed from 'error' to 'logloss'. Explicitly set eval_metric if you'd like to restore the old behavior.\n",
      "0:\tlearn: 0.5932971\ttotal: 449us\tremaining: 4.04ms\n",
      "1:\tlearn: 0.4862540\ttotal: 813us\tremaining: 3.25ms\n",
      "2:\tlearn: 0.4383993\ttotal: 1.06ms\tremaining: 2.47ms\n",
      "3:\tlearn: 0.4265491\ttotal: 1.31ms\tremaining: 1.96ms\n",
      "4:\tlearn: 0.3621434\ttotal: 1.53ms\tremaining: 1.53ms\n",
      "5:\tlearn: 0.3424402\ttotal: 1.78ms\tremaining: 1.19ms\n",
      "6:\tlearn: 0.3187295\ttotal: 2ms\tremaining: 855us\n",
      "7:\tlearn: 0.2972598\ttotal: 2.23ms\tremaining: 556us\n",
      "8:\tlearn: 0.2664004\ttotal: 2.44ms\tremaining: 271us\n",
      "9:\tlearn: 0.2540088\ttotal: 2.67ms\tremaining: 0us\n",
      "[LightGBM] [Warning] boosting is set=gbdt, boosting_type=gbdt will be ignored. Current value: boosting=gbdt\n",
      "[LightGBM] [Warning] feature_fraction is set=0.5, colsample_bytree=1.0 will be ignored. Current value: feature_fraction=0.5\n"
     ]
    },
    {
     "name": "stderr",
     "output_type": "stream",
     "text": [
      "c:\\users\\kevin\\appdata\\local\\programs\\python\\python37\\lib\\site-packages\\sklearn\\linear_model\\_logistic.py:765: ConvergenceWarning: lbfgs failed to converge (status=1):\n",
      "STOP: TOTAL NO. of ITERATIONS REACHED LIMIT.\n",
      "\n",
      "Increase the number of iterations (max_iter) or scale the data as shown in:\n",
      "    https://scikit-learn.org/stable/modules/preprocessing.html\n",
      "Please also refer to the documentation for alternative solver options:\n",
      "    https://scikit-learn.org/stable/modules/linear_model.html#logistic-regression\n",
      "  extra_warning_msg=_LOGISTIC_SOLVER_CONVERGENCE_MSG)\n",
      "c:\\users\\kevin\\appdata\\local\\programs\\python\\python37\\lib\\site-packages\\sklearn\\neural_network\\_multilayer_perceptron.py:617: ConvergenceWarning: Stochastic Optimizer: Maximum iterations (200) reached and the optimization hasn't converged yet.\n",
      "  % self.max_iter, ConvergenceWarning)\n",
      "c:\\users\\kevin\\appdata\\local\\programs\\python\\python37\\lib\\site-packages\\xgboost\\sklearn.py:1146: UserWarning: The use of label encoder in XGBClassifier is deprecated and will be removed in a future release. To remove this warning, do the following: 1) Pass option use_label_encoder=False when constructing XGBClassifier object; and 2) Encode your labels (y) as integers starting with 0, i.e. 0, 1, 2, ..., [num_class - 1].\n",
      "  warnings.warn(label_encoder_deprecation_msg, UserWarning)\n"
     ]
    },
    {
     "name": "stdout",
     "output_type": "stream",
     "text": [
      "[00:11:03] WARNING: C:/Users/Administrator/workspace/xgboost-win64_release_1.4.0/src/learner.cc:1095: Starting in XGBoost 1.3.0, the default evaluation metric used with the objective 'binary:logistic' was changed from 'error' to 'logloss'. Explicitly set eval_metric if you'd like to restore the old behavior.\n",
      "0:\tlearn: 0.4392199\ttotal: 299us\tremaining: 2.7ms\n",
      "1:\tlearn: 0.3807426\ttotal: 646us\tremaining: 2.59ms\n",
      "2:\tlearn: 0.3077454\ttotal: 930us\tremaining: 2.17ms\n",
      "3:\tlearn: 0.2592390\ttotal: 1.16ms\tremaining: 1.74ms\n",
      "4:\tlearn: 0.2481582\ttotal: 1.5ms\tremaining: 1.5ms\n",
      "5:\tlearn: 0.2263895\ttotal: 1.72ms\tremaining: 1.15ms\n",
      "6:\tlearn: 0.2103155\ttotal: 1.94ms\tremaining: 829us\n",
      "7:\tlearn: 0.1730517\ttotal: 2.14ms\tremaining: 535us\n",
      "8:\tlearn: 0.1653310\ttotal: 2.38ms\tremaining: 264us\n",
      "9:\tlearn: 0.1561582\ttotal: 2.59ms\tremaining: 0us\n",
      "[LightGBM] [Warning] boosting is set=gbdt, boosting_type=gbdt will be ignored. Current value: boosting=gbdt\n",
      "[LightGBM] [Warning] feature_fraction is set=0.5, colsample_bytree=1.0 will be ignored. Current value: feature_fraction=0.5\n"
     ]
    },
    {
     "name": "stderr",
     "output_type": "stream",
     "text": [
      "c:\\users\\kevin\\appdata\\local\\programs\\python\\python37\\lib\\site-packages\\sklearn\\linear_model\\_logistic.py:765: ConvergenceWarning: lbfgs failed to converge (status=1):\n",
      "STOP: TOTAL NO. of ITERATIONS REACHED LIMIT.\n",
      "\n",
      "Increase the number of iterations (max_iter) or scale the data as shown in:\n",
      "    https://scikit-learn.org/stable/modules/preprocessing.html\n",
      "Please also refer to the documentation for alternative solver options:\n",
      "    https://scikit-learn.org/stable/modules/linear_model.html#logistic-regression\n",
      "  extra_warning_msg=_LOGISTIC_SOLVER_CONVERGENCE_MSG)\n",
      "c:\\users\\kevin\\appdata\\local\\programs\\python\\python37\\lib\\site-packages\\xgboost\\sklearn.py:1146: UserWarning: The use of label encoder in XGBClassifier is deprecated and will be removed in a future release. To remove this warning, do the following: 1) Pass option use_label_encoder=False when constructing XGBClassifier object; and 2) Encode your labels (y) as integers starting with 0, i.e. 0, 1, 2, ..., [num_class - 1].\n",
      "  warnings.warn(label_encoder_deprecation_msg, UserWarning)\n"
     ]
    },
    {
     "name": "stdout",
     "output_type": "stream",
     "text": [
      "[00:11:04] WARNING: C:/Users/Administrator/workspace/xgboost-win64_release_1.4.0/src/learner.cc:1095: Starting in XGBoost 1.3.0, the default evaluation metric used with the objective 'binary:logistic' was changed from 'error' to 'logloss'. Explicitly set eval_metric if you'd like to restore the old behavior.\n",
      "0:\tlearn: 0.5401615\ttotal: 343us\tremaining: 3.1ms\n",
      "1:\tlearn: 0.4476627\ttotal: 677us\tremaining: 2.71ms\n",
      "2:\tlearn: 0.4090605\ttotal: 971us\tremaining: 2.27ms\n",
      "3:\tlearn: 0.3831400\ttotal: 1.23ms\tremaining: 1.84ms\n",
      "4:\tlearn: 0.3753138\ttotal: 1.48ms\tremaining: 1.48ms\n",
      "5:\tlearn: 0.3326692\ttotal: 1.74ms\tremaining: 1.16ms\n",
      "6:\tlearn: 0.3116375\ttotal: 1.98ms\tremaining: 846us\n",
      "7:\tlearn: 0.3010649\ttotal: 2.23ms\tremaining: 557us\n",
      "8:\tlearn: 0.2866317\ttotal: 2.47ms\tremaining: 274us\n",
      "9:\tlearn: 0.2642646\ttotal: 2.7ms\tremaining: 0us\n",
      "[LightGBM] [Warning] boosting is set=gbdt, boosting_type=gbdt will be ignored. Current value: boosting=gbdt\n",
      "[LightGBM] [Warning] feature_fraction is set=0.5, colsample_bytree=1.0 will be ignored. Current value: feature_fraction=0.5\n"
     ]
    },
    {
     "name": "stderr",
     "output_type": "stream",
     "text": [
      "c:\\users\\kevin\\appdata\\local\\programs\\python\\python37\\lib\\site-packages\\sklearn\\linear_model\\_logistic.py:765: ConvergenceWarning: lbfgs failed to converge (status=1):\n",
      "STOP: TOTAL NO. of ITERATIONS REACHED LIMIT.\n",
      "\n",
      "Increase the number of iterations (max_iter) or scale the data as shown in:\n",
      "    https://scikit-learn.org/stable/modules/preprocessing.html\n",
      "Please also refer to the documentation for alternative solver options:\n",
      "    https://scikit-learn.org/stable/modules/linear_model.html#logistic-regression\n",
      "  extra_warning_msg=_LOGISTIC_SOLVER_CONVERGENCE_MSG)\n",
      "c:\\users\\kevin\\appdata\\local\\programs\\python\\python37\\lib\\site-packages\\xgboost\\sklearn.py:1146: UserWarning: The use of label encoder in XGBClassifier is deprecated and will be removed in a future release. To remove this warning, do the following: 1) Pass option use_label_encoder=False when constructing XGBClassifier object; and 2) Encode your labels (y) as integers starting with 0, i.e. 0, 1, 2, ..., [num_class - 1].\n",
      "  warnings.warn(label_encoder_deprecation_msg, UserWarning)\n"
     ]
    },
    {
     "name": "stdout",
     "output_type": "stream",
     "text": [
      "[00:11:04] WARNING: C:/Users/Administrator/workspace/xgboost-win64_release_1.4.0/src/learner.cc:1095: Starting in XGBoost 1.3.0, the default evaluation metric used with the objective 'binary:logistic' was changed from 'error' to 'logloss'. Explicitly set eval_metric if you'd like to restore the old behavior.\n",
      "0:\tlearn: 0.4962226\ttotal: 343us\tremaining: 3.09ms\n",
      "1:\tlearn: 0.4022295\ttotal: 684us\tremaining: 2.74ms\n",
      "2:\tlearn: 0.3429144\ttotal: 974us\tremaining: 2.27ms\n",
      "3:\tlearn: 0.3150862\ttotal: 1.23ms\tremaining: 1.85ms\n",
      "4:\tlearn: 0.2733679\ttotal: 1.45ms\tremaining: 1.45ms\n",
      "5:\tlearn: 0.2564844\ttotal: 1.75ms\tremaining: 1.16ms\n",
      "6:\tlearn: 0.2149146\ttotal: 2.03ms\tremaining: 870us\n",
      "7:\tlearn: 0.2013514\ttotal: 2.3ms\tremaining: 575us\n",
      "8:\tlearn: 0.1912803\ttotal: 2.53ms\tremaining: 280us\n",
      "9:\tlearn: 0.1724769\ttotal: 2.74ms\tremaining: 0us\n",
      "[LightGBM] [Warning] boosting is set=gbdt, boosting_type=gbdt will be ignored. Current value: boosting=gbdt\n",
      "[LightGBM] [Warning] feature_fraction is set=0.5, colsample_bytree=1.0 will be ignored. Current value: feature_fraction=0.5\n"
     ]
    },
    {
     "name": "stderr",
     "output_type": "stream",
     "text": [
      "c:\\users\\kevin\\appdata\\local\\programs\\python\\python37\\lib\\site-packages\\sklearn\\linear_model\\_logistic.py:765: ConvergenceWarning: lbfgs failed to converge (status=1):\n",
      "STOP: TOTAL NO. of ITERATIONS REACHED LIMIT.\n",
      "\n",
      "Increase the number of iterations (max_iter) or scale the data as shown in:\n",
      "    https://scikit-learn.org/stable/modules/preprocessing.html\n",
      "Please also refer to the documentation for alternative solver options:\n",
      "    https://scikit-learn.org/stable/modules/linear_model.html#logistic-regression\n",
      "  extra_warning_msg=_LOGISTIC_SOLVER_CONVERGENCE_MSG)\n",
      "c:\\users\\kevin\\appdata\\local\\programs\\python\\python37\\lib\\site-packages\\xgboost\\sklearn.py:1146: UserWarning: The use of label encoder in XGBClassifier is deprecated and will be removed in a future release. To remove this warning, do the following: 1) Pass option use_label_encoder=False when constructing XGBClassifier object; and 2) Encode your labels (y) as integers starting with 0, i.e. 0, 1, 2, ..., [num_class - 1].\n",
      "  warnings.warn(label_encoder_deprecation_msg, UserWarning)\n"
     ]
    },
    {
     "name": "stdout",
     "output_type": "stream",
     "text": [
      "[00:11:05] WARNING: C:/Users/Administrator/workspace/xgboost-win64_release_1.4.0/src/learner.cc:1095: Starting in XGBoost 1.3.0, the default evaluation metric used with the objective 'binary:logistic' was changed from 'error' to 'logloss'. Explicitly set eval_metric if you'd like to restore the old behavior.\n",
      "0:\tlearn: 0.4005966\ttotal: 312us\tremaining: 2.81ms\n",
      "1:\tlearn: 0.3333318\ttotal: 688us\tremaining: 2.75ms\n",
      "2:\tlearn: 0.2654010\ttotal: 958us\tremaining: 2.24ms\n",
      "3:\tlearn: 0.2101211\ttotal: 1.2ms\tremaining: 1.8ms\n",
      "4:\tlearn: 0.1811740\ttotal: 1.44ms\tremaining: 1.44ms\n",
      "5:\tlearn: 0.1610798\ttotal: 1.63ms\tremaining: 1.09ms\n",
      "6:\tlearn: 0.1337428\ttotal: 1.83ms\tremaining: 785us\n",
      "7:\tlearn: 0.1212270\ttotal: 2.03ms\tremaining: 507us\n",
      "8:\tlearn: 0.1058215\ttotal: 2.24ms\tremaining: 248us\n",
      "9:\tlearn: 0.0921531\ttotal: 2.45ms\tremaining: 0us\n",
      "[LightGBM] [Warning] boosting is set=gbdt, boosting_type=gbdt will be ignored. Current value: boosting=gbdt\n",
      "[LightGBM] [Warning] feature_fraction is set=0.5, colsample_bytree=1.0 will be ignored. Current value: feature_fraction=0.5\n"
     ]
    },
    {
     "name": "stderr",
     "output_type": "stream",
     "text": [
      "c:\\users\\kevin\\appdata\\local\\programs\\python\\python37\\lib\\site-packages\\sklearn\\linear_model\\_logistic.py:765: ConvergenceWarning: lbfgs failed to converge (status=1):\n",
      "STOP: TOTAL NO. of ITERATIONS REACHED LIMIT.\n",
      "\n",
      "Increase the number of iterations (max_iter) or scale the data as shown in:\n",
      "    https://scikit-learn.org/stable/modules/preprocessing.html\n",
      "Please also refer to the documentation for alternative solver options:\n",
      "    https://scikit-learn.org/stable/modules/linear_model.html#logistic-regression\n",
      "  extra_warning_msg=_LOGISTIC_SOLVER_CONVERGENCE_MSG)\n",
      "c:\\users\\kevin\\appdata\\local\\programs\\python\\python37\\lib\\site-packages\\sklearn\\neural_network\\_multilayer_perceptron.py:617: ConvergenceWarning: Stochastic Optimizer: Maximum iterations (200) reached and the optimization hasn't converged yet.\n",
      "  % self.max_iter, ConvergenceWarning)\n",
      "c:\\users\\kevin\\appdata\\local\\programs\\python\\python37\\lib\\site-packages\\xgboost\\sklearn.py:1146: UserWarning: The use of label encoder in XGBClassifier is deprecated and will be removed in a future release. To remove this warning, do the following: 1) Pass option use_label_encoder=False when constructing XGBClassifier object; and 2) Encode your labels (y) as integers starting with 0, i.e. 0, 1, 2, ..., [num_class - 1].\n",
      "  warnings.warn(label_encoder_deprecation_msg, UserWarning)\n"
     ]
    },
    {
     "name": "stdout",
     "output_type": "stream",
     "text": [
      "[00:11:06] WARNING: C:/Users/Administrator/workspace/xgboost-win64_release_1.4.0/src/learner.cc:1095: Starting in XGBoost 1.3.0, the default evaluation metric used with the objective 'binary:logistic' was changed from 'error' to 'logloss'. Explicitly set eval_metric if you'd like to restore the old behavior.\n",
      "0:\tlearn: 0.4237413\ttotal: 26.9ms\tremaining: 242ms\n",
      "1:\tlearn: 0.3182607\ttotal: 27.3ms\tremaining: 109ms\n",
      "2:\tlearn: 0.2682677\ttotal: 27.5ms\tremaining: 64.2ms\n",
      "3:\tlearn: 0.1914193\ttotal: 27.7ms\tremaining: 41.6ms\n",
      "4:\tlearn: 0.1634334\ttotal: 27.9ms\tremaining: 27.9ms\n",
      "5:\tlearn: 0.1289913\ttotal: 28.1ms\tremaining: 18.8ms\n",
      "6:\tlearn: 0.0993761\ttotal: 28.3ms\tremaining: 12.1ms\n",
      "7:\tlearn: 0.0939015\ttotal: 28.5ms\tremaining: 7.13ms\n",
      "8:\tlearn: 0.0885217\ttotal: 28.7ms\tremaining: 3.19ms\n",
      "9:\tlearn: 0.0845921\ttotal: 28.9ms\tremaining: 0us\n",
      "[LightGBM] [Warning] boosting is set=gbdt, boosting_type=gbdt will be ignored. Current value: boosting=gbdt\n",
      "[LightGBM] [Warning] feature_fraction is set=0.5, colsample_bytree=1.0 will be ignored. Current value: feature_fraction=0.5\n"
     ]
    },
    {
     "name": "stderr",
     "output_type": "stream",
     "text": [
      "c:\\users\\kevin\\appdata\\local\\programs\\python\\python37\\lib\\site-packages\\sklearn\\linear_model\\_logistic.py:765: ConvergenceWarning: lbfgs failed to converge (status=1):\n",
      "STOP: TOTAL NO. of ITERATIONS REACHED LIMIT.\n",
      "\n",
      "Increase the number of iterations (max_iter) or scale the data as shown in:\n",
      "    https://scikit-learn.org/stable/modules/preprocessing.html\n",
      "Please also refer to the documentation for alternative solver options:\n",
      "    https://scikit-learn.org/stable/modules/linear_model.html#logistic-regression\n",
      "  extra_warning_msg=_LOGISTIC_SOLVER_CONVERGENCE_MSG)\n",
      "c:\\users\\kevin\\appdata\\local\\programs\\python\\python37\\lib\\site-packages\\xgboost\\sklearn.py:1146: UserWarning: The use of label encoder in XGBClassifier is deprecated and will be removed in a future release. To remove this warning, do the following: 1) Pass option use_label_encoder=False when constructing XGBClassifier object; and 2) Encode your labels (y) as integers starting with 0, i.e. 0, 1, 2, ..., [num_class - 1].\n",
      "  warnings.warn(label_encoder_deprecation_msg, UserWarning)\n"
     ]
    },
    {
     "name": "stdout",
     "output_type": "stream",
     "text": [
      "[00:11:06] WARNING: C:/Users/Administrator/workspace/xgboost-win64_release_1.4.0/src/learner.cc:1095: Starting in XGBoost 1.3.0, the default evaluation metric used with the objective 'binary:logistic' was changed from 'error' to 'logloss'. Explicitly set eval_metric if you'd like to restore the old behavior.\n",
      "0:\tlearn: 0.3935788\ttotal: 292us\tremaining: 2.64ms\n",
      "1:\tlearn: 0.2979603\ttotal: 673us\tremaining: 2.69ms\n",
      "2:\tlearn: 0.2856268\ttotal: 916us\tremaining: 2.14ms\n",
      "3:\tlearn: 0.2021178\ttotal: 1.21ms\tremaining: 1.82ms\n",
      "4:\tlearn: 0.1450915\ttotal: 2.35ms\tremaining: 2.35ms\n",
      "5:\tlearn: 0.1300467\ttotal: 2.88ms\tremaining: 1.92ms\n",
      "6:\tlearn: 0.1088008\ttotal: 3.18ms\tremaining: 1.36ms\n",
      "7:\tlearn: 0.1019505\ttotal: 3.5ms\tremaining: 875us\n",
      "8:\tlearn: 0.0964385\ttotal: 3.76ms\tremaining: 417us\n",
      "9:\tlearn: 0.0891824\ttotal: 3.97ms\tremaining: 0us\n",
      "[LightGBM] [Warning] boosting is set=gbdt, boosting_type=gbdt will be ignored. Current value: boosting=gbdt\n",
      "[LightGBM] [Warning] feature_fraction is set=0.5, colsample_bytree=1.0 will be ignored. Current value: feature_fraction=0.5\n"
     ]
    },
    {
     "name": "stderr",
     "output_type": "stream",
     "text": [
      "c:\\users\\kevin\\appdata\\local\\programs\\python\\python37\\lib\\site-packages\\sklearn\\linear_model\\_logistic.py:765: ConvergenceWarning: lbfgs failed to converge (status=1):\n",
      "STOP: TOTAL NO. of ITERATIONS REACHED LIMIT.\n",
      "\n",
      "Increase the number of iterations (max_iter) or scale the data as shown in:\n",
      "    https://scikit-learn.org/stable/modules/preprocessing.html\n",
      "Please also refer to the documentation for alternative solver options:\n",
      "    https://scikit-learn.org/stable/modules/linear_model.html#logistic-regression\n",
      "  extra_warning_msg=_LOGISTIC_SOLVER_CONVERGENCE_MSG)\n",
      "c:\\users\\kevin\\appdata\\local\\programs\\python\\python37\\lib\\site-packages\\xgboost\\sklearn.py:1146: UserWarning: The use of label encoder in XGBClassifier is deprecated and will be removed in a future release. To remove this warning, do the following: 1) Pass option use_label_encoder=False when constructing XGBClassifier object; and 2) Encode your labels (y) as integers starting with 0, i.e. 0, 1, 2, ..., [num_class - 1].\n",
      "  warnings.warn(label_encoder_deprecation_msg, UserWarning)\n"
     ]
    },
    {
     "name": "stdout",
     "output_type": "stream",
     "text": [
      "[00:11:07] WARNING: C:/Users/Administrator/workspace/xgboost-win64_release_1.4.0/src/learner.cc:1095: Starting in XGBoost 1.3.0, the default evaluation metric used with the objective 'binary:logistic' was changed from 'error' to 'logloss'. Explicitly set eval_metric if you'd like to restore the old behavior.\n",
      "0:\tlearn: 0.2464542\ttotal: 325us\tremaining: 2.93ms\n",
      "1:\tlearn: 0.2197644\ttotal: 688us\tremaining: 2.75ms\n",
      "2:\tlearn: 0.1550091\ttotal: 957us\tremaining: 2.23ms\n",
      "3:\tlearn: 0.1127086\ttotal: 1.19ms\tremaining: 1.78ms\n",
      "4:\tlearn: 0.1121222\ttotal: 1.43ms\tremaining: 1.43ms\n",
      "5:\tlearn: 0.0985961\ttotal: 1.65ms\tremaining: 1.1ms\n",
      "6:\tlearn: 0.0816998\ttotal: 1.87ms\tremaining: 802us\n",
      "7:\tlearn: 0.0734780\ttotal: 2.1ms\tremaining: 524us\n",
      "8:\tlearn: 0.0591953\ttotal: 2.32ms\tremaining: 257us\n",
      "9:\tlearn: 0.0520594\ttotal: 2.53ms\tremaining: 0us\n",
      "[LightGBM] [Warning] boosting is set=gbdt, boosting_type=gbdt will be ignored. Current value: boosting=gbdt\n",
      "[LightGBM] [Warning] feature_fraction is set=0.5, colsample_bytree=1.0 will be ignored. Current value: feature_fraction=0.5\n"
     ]
    },
    {
     "name": "stderr",
     "output_type": "stream",
     "text": [
      "c:\\users\\kevin\\appdata\\local\\programs\\python\\python37\\lib\\site-packages\\sklearn\\linear_model\\_logistic.py:765: ConvergenceWarning: lbfgs failed to converge (status=1):\n",
      "STOP: TOTAL NO. of ITERATIONS REACHED LIMIT.\n",
      "\n",
      "Increase the number of iterations (max_iter) or scale the data as shown in:\n",
      "    https://scikit-learn.org/stable/modules/preprocessing.html\n",
      "Please also refer to the documentation for alternative solver options:\n",
      "    https://scikit-learn.org/stable/modules/linear_model.html#logistic-regression\n",
      "  extra_warning_msg=_LOGISTIC_SOLVER_CONVERGENCE_MSG)\n",
      "c:\\users\\kevin\\appdata\\local\\programs\\python\\python37\\lib\\site-packages\\xgboost\\sklearn.py:1146: UserWarning: The use of label encoder in XGBClassifier is deprecated and will be removed in a future release. To remove this warning, do the following: 1) Pass option use_label_encoder=False when constructing XGBClassifier object; and 2) Encode your labels (y) as integers starting with 0, i.e. 0, 1, 2, ..., [num_class - 1].\n",
      "  warnings.warn(label_encoder_deprecation_msg, UserWarning)\n"
     ]
    },
    {
     "name": "stdout",
     "output_type": "stream",
     "text": [
      "[00:11:07] WARNING: C:/Users/Administrator/workspace/xgboost-win64_release_1.4.0/src/learner.cc:1095: Starting in XGBoost 1.3.0, the default evaluation metric used with the objective 'binary:logistic' was changed from 'error' to 'logloss'. Explicitly set eval_metric if you'd like to restore the old behavior.\n",
      "0:\tlearn: 0.3752992\ttotal: 322us\tremaining: 2.91ms\n",
      "1:\tlearn: 0.3315776\ttotal: 651us\tremaining: 2.6ms\n",
      "2:\tlearn: 0.2848633\ttotal: 919us\tremaining: 2.15ms\n",
      "3:\tlearn: 0.2650628\ttotal: 1.21ms\tremaining: 1.81ms\n",
      "4:\tlearn: 0.2399432\ttotal: 1.44ms\tremaining: 1.44ms\n",
      "5:\tlearn: 0.2240723\ttotal: 1.66ms\tremaining: 1.11ms\n",
      "6:\tlearn: 0.2013782\ttotal: 1.89ms\tremaining: 810us\n",
      "7:\tlearn: 0.1914494\ttotal: 2.12ms\tremaining: 530us\n",
      "8:\tlearn: 0.1661204\ttotal: 2.35ms\tremaining: 261us\n",
      "9:\tlearn: 0.1348531\ttotal: 2.58ms\tremaining: 0us\n",
      "[LightGBM] [Warning] boosting is set=gbdt, boosting_type=gbdt will be ignored. Current value: boosting=gbdt\n",
      "[LightGBM] [Warning] feature_fraction is set=0.5, colsample_bytree=1.0 will be ignored. Current value: feature_fraction=0.5\n"
     ]
    },
    {
     "name": "stderr",
     "output_type": "stream",
     "text": [
      "c:\\users\\kevin\\appdata\\local\\programs\\python\\python37\\lib\\site-packages\\xgboost\\sklearn.py:1146: UserWarning: The use of label encoder in XGBClassifier is deprecated and will be removed in a future release. To remove this warning, do the following: 1) Pass option use_label_encoder=False when constructing XGBClassifier object; and 2) Encode your labels (y) as integers starting with 0, i.e. 0, 1, 2, ..., [num_class - 1].\n",
      "  warnings.warn(label_encoder_deprecation_msg, UserWarning)\n"
     ]
    },
    {
     "name": "stdout",
     "output_type": "stream",
     "text": [
      "[00:11:08] WARNING: C:/Users/Administrator/workspace/xgboost-win64_release_1.4.0/src/learner.cc:1095: Starting in XGBoost 1.3.0, the default evaluation metric used with the objective 'binary:logistic' was changed from 'error' to 'logloss'. Explicitly set eval_metric if you'd like to restore the old behavior.\n",
      "0:\tlearn: 0.4698532\ttotal: 317us\tremaining: 2.86ms\n",
      "1:\tlearn: 0.4093370\ttotal: 651us\tremaining: 2.6ms\n",
      "2:\tlearn: 0.3946029\ttotal: 923us\tremaining: 2.15ms\n",
      "3:\tlearn: 0.2415154\ttotal: 1.14ms\tremaining: 1.71ms\n",
      "4:\tlearn: 0.2171714\ttotal: 1.37ms\tremaining: 1.37ms\n",
      "5:\tlearn: 0.2067695\ttotal: 1.59ms\tremaining: 1.06ms\n",
      "6:\tlearn: 0.1736775\ttotal: 1.79ms\tremaining: 769us\n",
      "7:\tlearn: 0.1570599\ttotal: 1.99ms\tremaining: 496us\n",
      "8:\tlearn: 0.1431542\ttotal: 2.19ms\tremaining: 243us\n",
      "9:\tlearn: 0.1324258\ttotal: 2.4ms\tremaining: 0us\n",
      "[LightGBM] [Warning] boosting is set=gbdt, boosting_type=gbdt will be ignored. Current value: boosting=gbdt\n",
      "[LightGBM] [Warning] feature_fraction is set=0.5, colsample_bytree=1.0 will be ignored. Current value: feature_fraction=0.5\n"
     ]
    },
    {
     "name": "stderr",
     "output_type": "stream",
     "text": [
      "c:\\users\\kevin\\appdata\\local\\programs\\python\\python37\\lib\\site-packages\\xgboost\\sklearn.py:1146: UserWarning: The use of label encoder in XGBClassifier is deprecated and will be removed in a future release. To remove this warning, do the following: 1) Pass option use_label_encoder=False when constructing XGBClassifier object; and 2) Encode your labels (y) as integers starting with 0, i.e. 0, 1, 2, ..., [num_class - 1].\n",
      "  warnings.warn(label_encoder_deprecation_msg, UserWarning)\n"
     ]
    },
    {
     "name": "stdout",
     "output_type": "stream",
     "text": [
      "[00:11:08] WARNING: C:/Users/Administrator/workspace/xgboost-win64_release_1.4.0/src/learner.cc:1095: Starting in XGBoost 1.3.0, the default evaluation metric used with the objective 'binary:logistic' was changed from 'error' to 'logloss'. Explicitly set eval_metric if you'd like to restore the old behavior.\n",
      "0:\tlearn: 0.5153464\ttotal: 405us\tremaining: 3.65ms\n",
      "1:\tlearn: 0.4651804\ttotal: 680us\tremaining: 2.72ms\n",
      "2:\tlearn: 0.4001457\ttotal: 949us\tremaining: 2.21ms\n",
      "3:\tlearn: 0.3688738\ttotal: 1.17ms\tremaining: 1.75ms\n",
      "4:\tlearn: 0.2611025\ttotal: 1.39ms\tremaining: 1.39ms\n",
      "5:\tlearn: 0.2186993\ttotal: 1.62ms\tremaining: 1.08ms\n",
      "6:\tlearn: 0.1928124\ttotal: 1.85ms\tremaining: 794us\n",
      "7:\tlearn: 0.1743139\ttotal: 2.15ms\tremaining: 536us\n",
      "8:\tlearn: 0.1425418\ttotal: 2.4ms\tremaining: 266us\n",
      "9:\tlearn: 0.1347381\ttotal: 2.6ms\tremaining: 0us\n",
      "[LightGBM] [Warning] boosting is set=gbdt, boosting_type=gbdt will be ignored. Current value: boosting=gbdt\n",
      "[LightGBM] [Warning] feature_fraction is set=0.5, colsample_bytree=1.0 will be ignored. Current value: feature_fraction=0.5\n"
     ]
    },
    {
     "name": "stderr",
     "output_type": "stream",
     "text": [
      "c:\\users\\kevin\\appdata\\local\\programs\\python\\python37\\lib\\site-packages\\xgboost\\sklearn.py:1146: UserWarning: The use of label encoder in XGBClassifier is deprecated and will be removed in a future release. To remove this warning, do the following: 1) Pass option use_label_encoder=False when constructing XGBClassifier object; and 2) Encode your labels (y) as integers starting with 0, i.e. 0, 1, 2, ..., [num_class - 1].\n",
      "  warnings.warn(label_encoder_deprecation_msg, UserWarning)\n"
     ]
    },
    {
     "name": "stdout",
     "output_type": "stream",
     "text": [
      "[00:11:09] WARNING: C:/Users/Administrator/workspace/xgboost-win64_release_1.4.0/src/learner.cc:1095: Starting in XGBoost 1.3.0, the default evaluation metric used with the objective 'binary:logistic' was changed from 'error' to 'logloss'. Explicitly set eval_metric if you'd like to restore the old behavior.\n",
      "0:\tlearn: 0.3968626\ttotal: 307us\tremaining: 2.77ms\n",
      "1:\tlearn: 0.2913770\ttotal: 625us\tremaining: 2.5ms\n",
      "2:\tlearn: 0.2461577\ttotal: 883us\tremaining: 2.06ms\n",
      "3:\tlearn: 0.2145545\ttotal: 1.13ms\tremaining: 1.7ms\n",
      "4:\tlearn: 0.1988590\ttotal: 1.36ms\tremaining: 1.36ms\n",
      "5:\tlearn: 0.1733135\ttotal: 1.57ms\tremaining: 1.05ms\n",
      "6:\tlearn: 0.1616581\ttotal: 1.78ms\tremaining: 762us\n",
      "7:\tlearn: 0.1548784\ttotal: 2.01ms\tremaining: 503us\n",
      "8:\tlearn: 0.1423606\ttotal: 2.22ms\tremaining: 246us\n",
      "9:\tlearn: 0.1286170\ttotal: 2.42ms\tremaining: 0us\n",
      "[LightGBM] [Warning] boosting is set=gbdt, boosting_type=gbdt will be ignored. Current value: boosting=gbdt\n",
      "[LightGBM] [Warning] feature_fraction is set=0.5, colsample_bytree=1.0 will be ignored. Current value: feature_fraction=0.5\n"
     ]
    },
    {
     "name": "stderr",
     "output_type": "stream",
     "text": [
      "c:\\users\\kevin\\appdata\\local\\programs\\python\\python37\\lib\\site-packages\\xgboost\\sklearn.py:1146: UserWarning: The use of label encoder in XGBClassifier is deprecated and will be removed in a future release. To remove this warning, do the following: 1) Pass option use_label_encoder=False when constructing XGBClassifier object; and 2) Encode your labels (y) as integers starting with 0, i.e. 0, 1, 2, ..., [num_class - 1].\n",
      "  warnings.warn(label_encoder_deprecation_msg, UserWarning)\n"
     ]
    },
    {
     "name": "stdout",
     "output_type": "stream",
     "text": [
      "[00:11:09] WARNING: C:/Users/Administrator/workspace/xgboost-win64_release_1.4.0/src/learner.cc:1095: Starting in XGBoost 1.3.0, the default evaluation metric used with the objective 'binary:logistic' was changed from 'error' to 'logloss'. Explicitly set eval_metric if you'd like to restore the old behavior.\n",
      "0:\tlearn: 0.5291334\ttotal: 345us\tremaining: 3.11ms\n",
      "1:\tlearn: 0.4646265\ttotal: 693us\tremaining: 2.77ms\n",
      "2:\tlearn: 0.3597953\ttotal: 963us\tremaining: 2.25ms\n",
      "3:\tlearn: 0.3300045\ttotal: 1.19ms\tremaining: 1.78ms\n",
      "4:\tlearn: 0.2720470\ttotal: 1.41ms\tremaining: 1.41ms\n",
      "5:\tlearn: 0.2407459\ttotal: 1.61ms\tremaining: 1.07ms\n",
      "6:\tlearn: 0.2356295\ttotal: 1.83ms\tremaining: 784us\n",
      "7:\tlearn: 0.2285680\ttotal: 2.04ms\tremaining: 511us\n",
      "8:\tlearn: 0.2185825\ttotal: 2.25ms\tremaining: 249us\n",
      "9:\tlearn: 0.2039838\ttotal: 2.44ms\tremaining: 0us\n",
      "[LightGBM] [Warning] boosting is set=gbdt, boosting_type=gbdt will be ignored. Current value: boosting=gbdt\n",
      "[LightGBM] [Warning] feature_fraction is set=0.5, colsample_bytree=1.0 will be ignored. Current value: feature_fraction=0.5\n",
      "[00:11:10] WARNING: C:/Users/Administrator/workspace/xgboost-win64_release_1.4.0/src/learner.cc:1095: Starting in XGBoost 1.3.0, the default evaluation metric used with the objective 'binary:logistic' was changed from 'error' to 'logloss'. Explicitly set eval_metric if you'd like to restore the old behavior.\n",
      "0:\tlearn: 0.5201139\ttotal: 291us\tremaining: 2.62ms\n",
      "1:\tlearn: 0.4654042\ttotal: 635us\tremaining: 2.54ms\n",
      "2:\tlearn: 0.3880476\ttotal: 935us\tremaining: 2.18ms\n",
      "3:\tlearn: 0.3152147\ttotal: 1.18ms\tremaining: 1.77ms\n",
      "4:\tlearn: 0.2826762\ttotal: 1.41ms\tremaining: 1.41ms\n",
      "5:\tlearn: 0.2419670\ttotal: 1.65ms\tremaining: 1.1ms\n",
      "6:\tlearn: 0.2148921\ttotal: 1.87ms\tremaining: 802us\n",
      "7:\tlearn: 0.1944253\ttotal: 2.07ms\tremaining: 518us\n",
      "8:\tlearn: 0.1861416\ttotal: 2.29ms\tremaining: 254us\n",
      "9:\tlearn: 0.1711884\ttotal: 2.61ms\tremaining: 0us\n",
      "[LightGBM] [Warning] boosting is set=gbdt, boosting_type=gbdt will be ignored. Current value: boosting=gbdt\n",
      "[LightGBM] [Warning] feature_fraction is set=0.5, colsample_bytree=1.0 will be ignored. Current value: feature_fraction=0.5\n"
     ]
    },
    {
     "name": "stderr",
     "output_type": "stream",
     "text": [
      "c:\\users\\kevin\\appdata\\local\\programs\\python\\python37\\lib\\site-packages\\xgboost\\sklearn.py:1146: UserWarning: The use of label encoder in XGBClassifier is deprecated and will be removed in a future release. To remove this warning, do the following: 1) Pass option use_label_encoder=False when constructing XGBClassifier object; and 2) Encode your labels (y) as integers starting with 0, i.e. 0, 1, 2, ..., [num_class - 1].\n",
      "  warnings.warn(label_encoder_deprecation_msg, UserWarning)\n"
     ]
    }
   ],
   "source": [
    "data_1=data_type_change(data1)\n",
    "data_2=data2\n",
    "data_3=data_type_change(data3)\n",
    "data_4=data_type_change(data4)\n",
    "data_5=data_type_change(data5)\n",
    "data_6=data_type_change(data6)\n",
    "accuracy_table_all=pd.DataFrame()\n",
    "for one_data in [data_1,data_2,data_3,data_4,data_5,data_6]:\n",
    "    accuracy_table_in_dataset=pd.DataFrame()\n",
    "    for time in range(0,5) :\n",
    "        accuracy_table_in_dataset=pd.concat([accuracy_table_in_dataset,set_model_accuracy(one_data,False,0.9992)],axis=1)\n",
    "    accuracy_table_all=pd.concat([accuracy_table_all,accuracy_table_in_dataset.mean(axis=1)],axis=1)"
   ]
  },
  {
   "cell_type": "code",
   "execution_count": 107,
   "id": "3a4c2d65",
   "metadata": {},
   "outputs": [
    {
     "data": {
      "text/html": [
       "<div>\n",
       "<style scoped>\n",
       "    .dataframe tbody tr th:only-of-type {\n",
       "        vertical-align: middle;\n",
       "    }\n",
       "\n",
       "    .dataframe tbody tr th {\n",
       "        vertical-align: top;\n",
       "    }\n",
       "\n",
       "    .dataframe thead th {\n",
       "        text-align: right;\n",
       "    }\n",
       "</style>\n",
       "<table border=\"1\" class=\"dataframe\">\n",
       "  <thead>\n",
       "    <tr style=\"text-align: right;\">\n",
       "      <th></th>\n",
       "      <th>Income</th>\n",
       "      <th>Arcene</th>\n",
       "      <th>Bank</th>\n",
       "      <th>BlastChar</th>\n",
       "      <th>Shopper</th>\n",
       "      <th>SHrutime</th>\n",
       "    </tr>\n",
       "  </thead>\n",
       "  <tbody>\n",
       "    <tr>\n",
       "      <th>KNN</th>\n",
       "      <td>0.683430</td>\n",
       "      <td>0.672230</td>\n",
       "      <td>0.880649</td>\n",
       "      <td>0.724181</td>\n",
       "      <td>0.818795</td>\n",
       "      <td>0.767719</td>\n",
       "    </tr>\n",
       "    <tr>\n",
       "      <th>LM</th>\n",
       "      <td>0.749057</td>\n",
       "      <td>0.749959</td>\n",
       "      <td>0.851996</td>\n",
       "      <td>0.727699</td>\n",
       "      <td>0.833550</td>\n",
       "      <td>0.766372</td>\n",
       "    </tr>\n",
       "    <tr>\n",
       "      <th>RF</th>\n",
       "      <td>0.785789</td>\n",
       "      <td>0.665389</td>\n",
       "      <td>0.881460</td>\n",
       "      <td>0.742571</td>\n",
       "      <td>0.866743</td>\n",
       "      <td>0.793427</td>\n",
       "    </tr>\n",
       "    <tr>\n",
       "      <th>MLP</th>\n",
       "      <td>0.557799</td>\n",
       "      <td>0.566420</td>\n",
       "      <td>0.802081</td>\n",
       "      <td>0.708080</td>\n",
       "      <td>0.821792</td>\n",
       "      <td>0.796302</td>\n",
       "    </tr>\n",
       "    <tr>\n",
       "      <th>SVM</th>\n",
       "      <td>0.758937</td>\n",
       "      <td>0.626668</td>\n",
       "      <td>0.880175</td>\n",
       "      <td>0.734477</td>\n",
       "      <td>0.842378</td>\n",
       "      <td>0.796302</td>\n",
       "    </tr>\n",
       "    <tr>\n",
       "      <th>XGB</th>\n",
       "      <td>0.751186</td>\n",
       "      <td>0.657315</td>\n",
       "      <td>0.867656</td>\n",
       "      <td>0.711083</td>\n",
       "      <td>0.859511</td>\n",
       "      <td>0.772000</td>\n",
       "    </tr>\n",
       "    <tr>\n",
       "      <th>CAT</th>\n",
       "      <td>0.764763</td>\n",
       "      <td>0.623950</td>\n",
       "      <td>0.872935</td>\n",
       "      <td>0.715516</td>\n",
       "      <td>0.862182</td>\n",
       "      <td>0.782090</td>\n",
       "    </tr>\n",
       "    <tr>\n",
       "      <th>LGBM</th>\n",
       "      <td>0.753443</td>\n",
       "      <td>0.644537</td>\n",
       "      <td>0.865264</td>\n",
       "      <td>0.738367</td>\n",
       "      <td>0.814528</td>\n",
       "      <td>0.780161</td>\n",
       "    </tr>\n",
       "  </tbody>\n",
       "</table>\n",
       "</div>"
      ],
      "text/plain": [
       "        Income    Arcene      Bank  BlastChar   Shopper  SHrutime\n",
       "KNN   0.683430  0.672230  0.880649   0.724181  0.818795  0.767719\n",
       "LM    0.749057  0.749959  0.851996   0.727699  0.833550  0.766372\n",
       "RF    0.785789  0.665389  0.881460   0.742571  0.866743  0.793427\n",
       "MLP   0.557799  0.566420  0.802081   0.708080  0.821792  0.796302\n",
       "SVM   0.758937  0.626668  0.880175   0.734477  0.842378  0.796302\n",
       "XGB   0.751186  0.657315  0.867656   0.711083  0.859511  0.772000\n",
       "CAT   0.764763  0.623950  0.872935   0.715516  0.862182  0.782090\n",
       "LGBM  0.753443  0.644537  0.865264   0.738367  0.814528  0.780161"
      ]
     },
     "execution_count": 107,
     "metadata": {},
     "output_type": "execute_result"
    }
   ],
   "source": [
    "accuracy_table_all.columns=[\"Income\",\"Arcene\",\"Bank\",\"BlastChar\",\"Shopper\",\"SHrutime\"]\n",
    "accuracy_table_all"
   ]
  },
  {
   "cell_type": "code",
   "execution_count": 110,
   "id": "cc7e0982",
   "metadata": {},
   "outputs": [
    {
     "name": "stderr",
     "output_type": "stream",
     "text": [
      "c:\\users\\kevin\\appdata\\local\\programs\\python\\python37\\lib\\site-packages\\sklearn\\linear_model\\_logistic.py:765: ConvergenceWarning: lbfgs failed to converge (status=1):\n",
      "STOP: TOTAL NO. of ITERATIONS REACHED LIMIT.\n",
      "\n",
      "Increase the number of iterations (max_iter) or scale the data as shown in:\n",
      "    https://scikit-learn.org/stable/modules/preprocessing.html\n",
      "Please also refer to the documentation for alternative solver options:\n",
      "    https://scikit-learn.org/stable/modules/linear_model.html#logistic-regression\n",
      "  extra_warning_msg=_LOGISTIC_SOLVER_CONVERGENCE_MSG)\n",
      "c:\\users\\kevin\\appdata\\local\\programs\\python\\python37\\lib\\site-packages\\xgboost\\sklearn.py:1146: UserWarning: The use of label encoder in XGBClassifier is deprecated and will be removed in a future release. To remove this warning, do the following: 1) Pass option use_label_encoder=False when constructing XGBClassifier object; and 2) Encode your labels (y) as integers starting with 0, i.e. 0, 1, 2, ..., [num_class - 1].\n",
      "  warnings.warn(label_encoder_deprecation_msg, UserWarning)\n",
      "Custom logger is already specified. Specify more than one logger at same time is not thread safe."
     ]
    },
    {
     "name": "stdout",
     "output_type": "stream",
     "text": [
      "[00:11:37] WARNING: C:/Users/Administrator/workspace/xgboost-win64_release_1.4.0/src/learner.cc:1095: Starting in XGBoost 1.3.0, the default evaluation metric used with the objective 'binary:logistic' was changed from 'error' to 'logloss'. Explicitly set eval_metric if you'd like to restore the old behavior.\n",
      "0:\tlearn: 0.4159550\ttotal: 266us\tremaining: 2.4ms\n",
      "1:\tlearn: 0.3686011\ttotal: 521us\tremaining: 2.08ms\n",
      "2:\tlearn: 0.3553571\ttotal: 855us\tremaining: 2ms\n",
      "3:\tlearn: 0.2899142\ttotal: 1.09ms\tremaining: 1.64ms\n",
      "4:\tlearn: 0.2330745\ttotal: 1.26ms\tremaining: 1.26ms\n",
      "5:\tlearn: 0.2109643\ttotal: 1.48ms\tremaining: 987us\n",
      "6:\tlearn: 0.1946261\ttotal: 1.66ms\tremaining: 711us\n",
      "7:\tlearn: 0.1492867\ttotal: 1.84ms\tremaining: 460us\n",
      "8:\tlearn: 0.1387435\ttotal: 2.03ms\tremaining: 225us\n",
      "9:\tlearn: 0.1245562\ttotal: 2.21ms\tremaining: 0us\n",
      "[LightGBM] [Warning] boosting is set=gbdt, boosting_type=gbdt will be ignored. Current value: boosting=gbdt\n",
      "[LightGBM] [Warning] feature_fraction is set=0.5, colsample_bytree=1.0 will be ignored. Current value: feature_fraction=0.5\n"
     ]
    },
    {
     "name": "stderr",
     "output_type": "stream",
     "text": [
      "c:\\users\\kevin\\appdata\\local\\programs\\python\\python37\\lib\\site-packages\\xgboost\\sklearn.py:1146: UserWarning: The use of label encoder in XGBClassifier is deprecated and will be removed in a future release. To remove this warning, do the following: 1) Pass option use_label_encoder=False when constructing XGBClassifier object; and 2) Encode your labels (y) as integers starting with 0, i.e. 0, 1, 2, ..., [num_class - 1].\n",
      "  warnings.warn(label_encoder_deprecation_msg, UserWarning)\n"
     ]
    },
    {
     "name": "stdout",
     "output_type": "stream",
     "text": [
      "[00:11:38] WARNING: C:/Users/Administrator/workspace/xgboost-win64_release_1.4.0/src/learner.cc:1095: Starting in XGBoost 1.3.0, the default evaluation metric used with the objective 'binary:logistic' was changed from 'error' to 'logloss'. Explicitly set eval_metric if you'd like to restore the old behavior.\n",
      "0:\tlearn: 0.4559778\ttotal: 12.9ms\tremaining: 116ms\n",
      "1:\tlearn: 0.3993390\ttotal: 13.2ms\tremaining: 52.8ms\n",
      "2:\tlearn: 0.3841879\ttotal: 13.4ms\tremaining: 31.2ms\n",
      "3:\tlearn: 0.3721836\ttotal: 13.6ms\tremaining: 20.4ms\n",
      "4:\tlearn: 0.3465589\ttotal: 13.8ms\tremaining: 13.8ms\n",
      "5:\tlearn: 0.3258759\ttotal: 13.9ms\tremaining: 9.29ms\n",
      "6:\tlearn: 0.3217362\ttotal: 14.1ms\tremaining: 6.05ms\n",
      "7:\tlearn: 0.3049146\ttotal: 14.3ms\tremaining: 3.57ms\n",
      "8:\tlearn: 0.2862074\ttotal: 14.5ms\tremaining: 1.61ms\n",
      "9:\tlearn: 0.2656315\ttotal: 14.6ms\tremaining: 0us\n",
      "[LightGBM] [Warning] boosting is set=gbdt, boosting_type=gbdt will be ignored. Current value: boosting=gbdt\n",
      "[LightGBM] [Warning] feature_fraction is set=0.5, colsample_bytree=1.0 will be ignored. Current value: feature_fraction=0.5\n"
     ]
    },
    {
     "name": "stderr",
     "output_type": "stream",
     "text": [
      "c:\\users\\kevin\\appdata\\local\\programs\\python\\python37\\lib\\site-packages\\sklearn\\linear_model\\_logistic.py:765: ConvergenceWarning: lbfgs failed to converge (status=1):\n",
      "STOP: TOTAL NO. of ITERATIONS REACHED LIMIT.\n",
      "\n",
      "Increase the number of iterations (max_iter) or scale the data as shown in:\n",
      "    https://scikit-learn.org/stable/modules/preprocessing.html\n",
      "Please also refer to the documentation for alternative solver options:\n",
      "    https://scikit-learn.org/stable/modules/linear_model.html#logistic-regression\n",
      "  extra_warning_msg=_LOGISTIC_SOLVER_CONVERGENCE_MSG)\n",
      "c:\\users\\kevin\\appdata\\local\\programs\\python\\python37\\lib\\site-packages\\xgboost\\sklearn.py:1146: UserWarning: The use of label encoder in XGBClassifier is deprecated and will be removed in a future release. To remove this warning, do the following: 1) Pass option use_label_encoder=False when constructing XGBClassifier object; and 2) Encode your labels (y) as integers starting with 0, i.e. 0, 1, 2, ..., [num_class - 1].\n",
      "  warnings.warn(label_encoder_deprecation_msg, UserWarning)\n"
     ]
    },
    {
     "name": "stdout",
     "output_type": "stream",
     "text": [
      "[00:11:39] WARNING: C:/Users/Administrator/workspace/xgboost-win64_release_1.4.0/src/learner.cc:1095: Starting in XGBoost 1.3.0, the default evaluation metric used with the objective 'binary:logistic' was changed from 'error' to 'logloss'. Explicitly set eval_metric if you'd like to restore the old behavior.\n",
      "0:\tlearn: 0.4783277\ttotal: 290us\tremaining: 2.61ms\n",
      "1:\tlearn: 0.3781505\ttotal: 577us\tremaining: 2.31ms\n",
      "2:\tlearn: 0.3269927\ttotal: 782us\tremaining: 1.83ms\n",
      "3:\tlearn: 0.3118154\ttotal: 1ms\tremaining: 1.51ms\n",
      "4:\tlearn: 0.2675596\ttotal: 1.21ms\tremaining: 1.21ms\n",
      "5:\tlearn: 0.2610732\ttotal: 1.39ms\tremaining: 926us\n",
      "6:\tlearn: 0.2272579\ttotal: 1.59ms\tremaining: 680us\n",
      "7:\tlearn: 0.2219908\ttotal: 1.76ms\tremaining: 439us\n",
      "8:\tlearn: 0.1955057\ttotal: 1.96ms\tremaining: 217us\n",
      "9:\tlearn: 0.1877184\ttotal: 2.15ms\tremaining: 0us\n",
      "[LightGBM] [Warning] boosting is set=gbdt, boosting_type=gbdt will be ignored. Current value: boosting=gbdt\n",
      "[LightGBM] [Warning] feature_fraction is set=0.5, colsample_bytree=1.0 will be ignored. Current value: feature_fraction=0.5\n"
     ]
    },
    {
     "name": "stderr",
     "output_type": "stream",
     "text": [
      "c:\\users\\kevin\\appdata\\local\\programs\\python\\python37\\lib\\site-packages\\xgboost\\sklearn.py:1146: UserWarning: The use of label encoder in XGBClassifier is deprecated and will be removed in a future release. To remove this warning, do the following: 1) Pass option use_label_encoder=False when constructing XGBClassifier object; and 2) Encode your labels (y) as integers starting with 0, i.e. 0, 1, 2, ..., [num_class - 1].\n",
      "  warnings.warn(label_encoder_deprecation_msg, UserWarning)\n"
     ]
    },
    {
     "name": "stdout",
     "output_type": "stream",
     "text": [
      "[00:11:41] WARNING: C:/Users/Administrator/workspace/xgboost-win64_release_1.4.0/src/learner.cc:1095: Starting in XGBoost 1.3.0, the default evaluation metric used with the objective 'binary:logistic' was changed from 'error' to 'logloss'. Explicitly set eval_metric if you'd like to restore the old behavior.\n",
      "0:\tlearn: 0.5857573\ttotal: 294us\tremaining: 2.65ms\n",
      "1:\tlearn: 0.4786014\ttotal: 576us\tremaining: 2.31ms\n",
      "2:\tlearn: 0.4469935\ttotal: 747us\tremaining: 1.75ms\n",
      "3:\tlearn: 0.3808929\ttotal: 908us\tremaining: 1.36ms\n",
      "4:\tlearn: 0.3463193\ttotal: 1.07ms\tremaining: 1.07ms\n",
      "5:\tlearn: 0.3012938\ttotal: 1.23ms\tremaining: 819us\n",
      "6:\tlearn: 0.2605319\ttotal: 1.4ms\tremaining: 598us\n",
      "7:\tlearn: 0.2321757\ttotal: 1.57ms\tremaining: 392us\n",
      "8:\tlearn: 0.2182873\ttotal: 1.78ms\tremaining: 198us\n",
      "9:\tlearn: 0.2064457\ttotal: 1.95ms\tremaining: 0us\n",
      "[LightGBM] [Warning] boosting is set=gbdt, boosting_type=gbdt will be ignored. Current value: boosting=gbdt\n",
      "[LightGBM] [Warning] feature_fraction is set=0.5, colsample_bytree=1.0 will be ignored. Current value: feature_fraction=0.5\n"
     ]
    },
    {
     "name": "stderr",
     "output_type": "stream",
     "text": [
      "c:\\users\\kevin\\appdata\\local\\programs\\python\\python37\\lib\\site-packages\\xgboost\\sklearn.py:1146: UserWarning: The use of label encoder in XGBClassifier is deprecated and will be removed in a future release. To remove this warning, do the following: 1) Pass option use_label_encoder=False when constructing XGBClassifier object; and 2) Encode your labels (y) as integers starting with 0, i.e. 0, 1, 2, ..., [num_class - 1].\n",
      "  warnings.warn(label_encoder_deprecation_msg, UserWarning)\n"
     ]
    },
    {
     "name": "stdout",
     "output_type": "stream",
     "text": [
      "[00:11:42] WARNING: C:/Users/Administrator/workspace/xgboost-win64_release_1.4.0/src/learner.cc:1095: Starting in XGBoost 1.3.0, the default evaluation metric used with the objective 'binary:logistic' was changed from 'error' to 'logloss'. Explicitly set eval_metric if you'd like to restore the old behavior.\n",
      "0:\tlearn: 0.4714729\ttotal: 277us\tremaining: 2.5ms\n",
      "1:\tlearn: 0.3604091\ttotal: 551us\tremaining: 2.2ms\n",
      "2:\tlearn: 0.3417000\ttotal: 775us\tremaining: 1.81ms\n",
      "3:\tlearn: 0.3287717\ttotal: 970us\tremaining: 1.46ms\n",
      "4:\tlearn: 0.3157769\ttotal: 1.15ms\tremaining: 1.15ms\n",
      "5:\tlearn: 0.2930031\ttotal: 1.34ms\tremaining: 896us\n",
      "6:\tlearn: 0.2618038\ttotal: 1.54ms\tremaining: 658us\n",
      "7:\tlearn: 0.2519976\ttotal: 1.71ms\tremaining: 427us\n",
      "8:\tlearn: 0.2227558\ttotal: 1.91ms\tremaining: 212us\n",
      "9:\tlearn: 0.2016134\ttotal: 2.09ms\tremaining: 0us\n",
      "[LightGBM] [Warning] boosting is set=gbdt, boosting_type=gbdt will be ignored. Current value: boosting=gbdt\n",
      "[LightGBM] [Warning] feature_fraction is set=0.5, colsample_bytree=1.0 will be ignored. Current value: feature_fraction=0.5\n"
     ]
    },
    {
     "name": "stderr",
     "output_type": "stream",
     "text": [
      "c:\\users\\kevin\\appdata\\local\\programs\\python\\python37\\lib\\site-packages\\sklearn\\linear_model\\_logistic.py:765: ConvergenceWarning: lbfgs failed to converge (status=1):\n",
      "STOP: TOTAL NO. of ITERATIONS REACHED LIMIT.\n",
      "\n",
      "Increase the number of iterations (max_iter) or scale the data as shown in:\n",
      "    https://scikit-learn.org/stable/modules/preprocessing.html\n",
      "Please also refer to the documentation for alternative solver options:\n",
      "    https://scikit-learn.org/stable/modules/linear_model.html#logistic-regression\n",
      "  extra_warning_msg=_LOGISTIC_SOLVER_CONVERGENCE_MSG)\n",
      "c:\\users\\kevin\\appdata\\local\\programs\\python\\python37\\lib\\site-packages\\xgboost\\sklearn.py:1146: UserWarning: The use of label encoder in XGBClassifier is deprecated and will be removed in a future release. To remove this warning, do the following: 1) Pass option use_label_encoder=False when constructing XGBClassifier object; and 2) Encode your labels (y) as integers starting with 0, i.e. 0, 1, 2, ..., [num_class - 1].\n",
      "  warnings.warn(label_encoder_deprecation_msg, UserWarning)\n"
     ]
    },
    {
     "name": "stdout",
     "output_type": "stream",
     "text": [
      "[00:11:45] WARNING: C:/Users/Administrator/workspace/xgboost-win64_release_1.4.0/src/learner.cc:1095: Starting in XGBoost 1.3.0, the default evaluation metric used with the objective 'binary:logistic' was changed from 'error' to 'logloss'. Explicitly set eval_metric if you'd like to restore the old behavior.\n",
      "0:\tlearn: 0.5196870\ttotal: 75.5ms\tremaining: 680ms\n",
      "1:\tlearn: 0.4618445\ttotal: 100ms\tremaining: 402ms\n",
      "2:\tlearn: 0.4287199\ttotal: 125ms\tremaining: 292ms\n",
      "3:\tlearn: 0.4012341\ttotal: 148ms\tremaining: 222ms\n",
      "4:\tlearn: 0.3207960\ttotal: 172ms\tremaining: 172ms\n",
      "5:\tlearn: 0.2571247\ttotal: 195ms\tremaining: 130ms\n",
      "6:\tlearn: 0.2028276\ttotal: 219ms\tremaining: 94ms\n",
      "7:\tlearn: 0.1545209\ttotal: 243ms\tremaining: 60.7ms\n",
      "8:\tlearn: 0.1247204\ttotal: 269ms\tremaining: 29.9ms\n",
      "9:\tlearn: 0.1054017\ttotal: 302ms\tremaining: 0us\n",
      "[LightGBM] [Warning] boosting is set=gbdt, boosting_type=gbdt will be ignored. Current value: boosting=gbdt\n",
      "[LightGBM] [Warning] feature_fraction is set=0.5, colsample_bytree=1.0 will be ignored. Current value: feature_fraction=0.5\n"
     ]
    },
    {
     "name": "stderr",
     "output_type": "stream",
     "text": [
      "c:\\users\\kevin\\appdata\\local\\programs\\python\\python37\\lib\\site-packages\\sklearn\\linear_model\\_logistic.py:765: ConvergenceWarning: lbfgs failed to converge (status=1):\n",
      "STOP: TOTAL NO. of ITERATIONS REACHED LIMIT.\n",
      "\n",
      "Increase the number of iterations (max_iter) or scale the data as shown in:\n",
      "    https://scikit-learn.org/stable/modules/preprocessing.html\n",
      "Please also refer to the documentation for alternative solver options:\n",
      "    https://scikit-learn.org/stable/modules/linear_model.html#logistic-regression\n",
      "  extra_warning_msg=_LOGISTIC_SOLVER_CONVERGENCE_MSG)\n",
      "c:\\users\\kevin\\appdata\\local\\programs\\python\\python37\\lib\\site-packages\\xgboost\\sklearn.py:1146: UserWarning: The use of label encoder in XGBClassifier is deprecated and will be removed in a future release. To remove this warning, do the following: 1) Pass option use_label_encoder=False when constructing XGBClassifier object; and 2) Encode your labels (y) as integers starting with 0, i.e. 0, 1, 2, ..., [num_class - 1].\n",
      "  warnings.warn(label_encoder_deprecation_msg, UserWarning)\n"
     ]
    },
    {
     "name": "stdout",
     "output_type": "stream",
     "text": [
      "[00:11:52] WARNING: C:/Users/Administrator/workspace/xgboost-win64_release_1.4.0/src/learner.cc:1095: Starting in XGBoost 1.3.0, the default evaluation metric used with the objective 'binary:logistic' was changed from 'error' to 'logloss'. Explicitly set eval_metric if you'd like to restore the old behavior.\n",
      "0:\tlearn: 0.5928922\ttotal: 129ms\tremaining: 1.16s\n",
      "1:\tlearn: 0.5716779\ttotal: 155ms\tremaining: 622ms\n",
      "2:\tlearn: 0.4426736\ttotal: 182ms\tremaining: 424ms\n",
      "3:\tlearn: 0.3603463\ttotal: 217ms\tremaining: 326ms\n",
      "4:\tlearn: 0.3209690\ttotal: 243ms\tremaining: 243ms\n",
      "5:\tlearn: 0.2413377\ttotal: 272ms\tremaining: 181ms\n",
      "6:\tlearn: 0.1984471\ttotal: 311ms\tremaining: 133ms\n",
      "7:\tlearn: 0.1663059\ttotal: 338ms\tremaining: 84.5ms\n",
      "8:\tlearn: 0.1408907\ttotal: 389ms\tremaining: 43.2ms\n",
      "9:\tlearn: 0.1173044\ttotal: 420ms\tremaining: 0us\n",
      "[LightGBM] [Warning] boosting is set=gbdt, boosting_type=gbdt will be ignored. Current value: boosting=gbdt\n",
      "[LightGBM] [Warning] feature_fraction is set=0.5, colsample_bytree=1.0 will be ignored. Current value: feature_fraction=0.5\n"
     ]
    },
    {
     "name": "stderr",
     "output_type": "stream",
     "text": [
      "c:\\users\\kevin\\appdata\\local\\programs\\python\\python37\\lib\\site-packages\\sklearn\\linear_model\\_logistic.py:765: ConvergenceWarning: lbfgs failed to converge (status=1):\n",
      "STOP: TOTAL NO. of ITERATIONS REACHED LIMIT.\n",
      "\n",
      "Increase the number of iterations (max_iter) or scale the data as shown in:\n",
      "    https://scikit-learn.org/stable/modules/preprocessing.html\n",
      "Please also refer to the documentation for alternative solver options:\n",
      "    https://scikit-learn.org/stable/modules/linear_model.html#logistic-regression\n",
      "  extra_warning_msg=_LOGISTIC_SOLVER_CONVERGENCE_MSG)\n",
      "c:\\users\\kevin\\appdata\\local\\programs\\python\\python37\\lib\\site-packages\\xgboost\\sklearn.py:1146: UserWarning: The use of label encoder in XGBClassifier is deprecated and will be removed in a future release. To remove this warning, do the following: 1) Pass option use_label_encoder=False when constructing XGBClassifier object; and 2) Encode your labels (y) as integers starting with 0, i.e. 0, 1, 2, ..., [num_class - 1].\n",
      "  warnings.warn(label_encoder_deprecation_msg, UserWarning)\n"
     ]
    },
    {
     "name": "stdout",
     "output_type": "stream",
     "text": [
      "[00:12:01] WARNING: C:/Users/Administrator/workspace/xgboost-win64_release_1.4.0/src/learner.cc:1095: Starting in XGBoost 1.3.0, the default evaluation metric used with the objective 'binary:logistic' was changed from 'error' to 'logloss'. Explicitly set eval_metric if you'd like to restore the old behavior.\n",
      "0:\tlearn: 0.5819403\ttotal: 76.2ms\tremaining: 686ms\n",
      "1:\tlearn: 0.4746072\ttotal: 103ms\tremaining: 413ms\n",
      "2:\tlearn: 0.3866287\ttotal: 139ms\tremaining: 324ms\n",
      "3:\tlearn: 0.3697517\ttotal: 165ms\tremaining: 248ms\n",
      "4:\tlearn: 0.3434167\ttotal: 191ms\tremaining: 191ms\n",
      "5:\tlearn: 0.2789860\ttotal: 219ms\tremaining: 146ms\n",
      "6:\tlearn: 0.2320860\ttotal: 245ms\tremaining: 105ms\n",
      "7:\tlearn: 0.1829597\ttotal: 273ms\tremaining: 68.3ms\n",
      "8:\tlearn: 0.1374952\ttotal: 312ms\tremaining: 34.6ms\n",
      "9:\tlearn: 0.1059029\ttotal: 339ms\tremaining: 0us\n",
      "[LightGBM] [Warning] boosting is set=gbdt, boosting_type=gbdt will be ignored. Current value: boosting=gbdt\n",
      "[LightGBM] [Warning] feature_fraction is set=0.5, colsample_bytree=1.0 will be ignored. Current value: feature_fraction=0.5\n"
     ]
    },
    {
     "name": "stderr",
     "output_type": "stream",
     "text": [
      "c:\\users\\kevin\\appdata\\local\\programs\\python\\python37\\lib\\site-packages\\sklearn\\linear_model\\_logistic.py:765: ConvergenceWarning: lbfgs failed to converge (status=1):\n",
      "STOP: TOTAL NO. of ITERATIONS REACHED LIMIT.\n",
      "\n",
      "Increase the number of iterations (max_iter) or scale the data as shown in:\n",
      "    https://scikit-learn.org/stable/modules/preprocessing.html\n",
      "Please also refer to the documentation for alternative solver options:\n",
      "    https://scikit-learn.org/stable/modules/linear_model.html#logistic-regression\n",
      "  extra_warning_msg=_LOGISTIC_SOLVER_CONVERGENCE_MSG)\n",
      "c:\\users\\kevin\\appdata\\local\\programs\\python\\python37\\lib\\site-packages\\xgboost\\sklearn.py:1146: UserWarning: The use of label encoder in XGBClassifier is deprecated and will be removed in a future release. To remove this warning, do the following: 1) Pass option use_label_encoder=False when constructing XGBClassifier object; and 2) Encode your labels (y) as integers starting with 0, i.e. 0, 1, 2, ..., [num_class - 1].\n",
      "  warnings.warn(label_encoder_deprecation_msg, UserWarning)\n"
     ]
    },
    {
     "name": "stdout",
     "output_type": "stream",
     "text": [
      "[00:12:09] WARNING: C:/Users/Administrator/workspace/xgboost-win64_release_1.4.0/src/learner.cc:1095: Starting in XGBoost 1.3.0, the default evaluation metric used with the objective 'binary:logistic' was changed from 'error' to 'logloss'. Explicitly set eval_metric if you'd like to restore the old behavior.\n",
      "0:\tlearn: 0.6067904\ttotal: 78.1ms\tremaining: 703ms\n",
      "1:\tlearn: 0.4921653\ttotal: 107ms\tremaining: 427ms\n",
      "2:\tlearn: 0.4111409\ttotal: 139ms\tremaining: 325ms\n",
      "3:\tlearn: 0.3745304\ttotal: 168ms\tremaining: 252ms\n",
      "4:\tlearn: 0.3132051\ttotal: 198ms\tremaining: 198ms\n",
      "5:\tlearn: 0.2245769\ttotal: 228ms\tremaining: 152ms\n",
      "6:\tlearn: 0.1677411\ttotal: 259ms\tremaining: 111ms\n",
      "7:\tlearn: 0.1239117\ttotal: 291ms\tremaining: 72.7ms\n",
      "8:\tlearn: 0.1031079\ttotal: 319ms\tremaining: 35.5ms\n",
      "9:\tlearn: 0.0978807\ttotal: 349ms\tremaining: 0us\n",
      "[LightGBM] [Warning] boosting is set=gbdt, boosting_type=gbdt will be ignored. Current value: boosting=gbdt\n",
      "[LightGBM] [Warning] feature_fraction is set=0.5, colsample_bytree=1.0 will be ignored. Current value: feature_fraction=0.5\n"
     ]
    },
    {
     "name": "stderr",
     "output_type": "stream",
     "text": [
      "c:\\users\\kevin\\appdata\\local\\programs\\python\\python37\\lib\\site-packages\\xgboost\\sklearn.py:1146: UserWarning: The use of label encoder in XGBClassifier is deprecated and will be removed in a future release. To remove this warning, do the following: 1) Pass option use_label_encoder=False when constructing XGBClassifier object; and 2) Encode your labels (y) as integers starting with 0, i.e. 0, 1, 2, ..., [num_class - 1].\n",
      "  warnings.warn(label_encoder_deprecation_msg, UserWarning)\n"
     ]
    },
    {
     "name": "stdout",
     "output_type": "stream",
     "text": [
      "[00:12:19] WARNING: C:/Users/Administrator/workspace/xgboost-win64_release_1.4.0/src/learner.cc:1095: Starting in XGBoost 1.3.0, the default evaluation metric used with the objective 'binary:logistic' was changed from 'error' to 'logloss'. Explicitly set eval_metric if you'd like to restore the old behavior.\n",
      "0:\tlearn: 0.6094981\ttotal: 55.6ms\tremaining: 501ms\n",
      "1:\tlearn: 0.5397183\ttotal: 94.2ms\tremaining: 377ms\n",
      "2:\tlearn: 0.5265673\ttotal: 186ms\tremaining: 434ms\n",
      "3:\tlearn: 0.4431438\ttotal: 254ms\tremaining: 380ms\n",
      "4:\tlearn: 0.3811656\ttotal: 356ms\tremaining: 356ms\n",
      "5:\tlearn: 0.2922305\ttotal: 388ms\tremaining: 259ms\n",
      "6:\tlearn: 0.2095347\ttotal: 439ms\tremaining: 188ms\n",
      "7:\tlearn: 0.1543061\ttotal: 484ms\tremaining: 121ms\n",
      "8:\tlearn: 0.1152615\ttotal: 517ms\tremaining: 57.4ms\n",
      "9:\tlearn: 0.1059993\ttotal: 593ms\tremaining: 0us\n",
      "[LightGBM] [Warning] boosting is set=gbdt, boosting_type=gbdt will be ignored. Current value: boosting=gbdt\n",
      "[LightGBM] [Warning] feature_fraction is set=0.5, colsample_bytree=1.0 will be ignored. Current value: feature_fraction=0.5\n"
     ]
    },
    {
     "name": "stderr",
     "output_type": "stream",
     "text": [
      "c:\\users\\kevin\\appdata\\local\\programs\\python\\python37\\lib\\site-packages\\sklearn\\linear_model\\_logistic.py:765: ConvergenceWarning: lbfgs failed to converge (status=1):\n",
      "STOP: TOTAL NO. of ITERATIONS REACHED LIMIT.\n",
      "\n",
      "Increase the number of iterations (max_iter) or scale the data as shown in:\n",
      "    https://scikit-learn.org/stable/modules/preprocessing.html\n",
      "Please also refer to the documentation for alternative solver options:\n",
      "    https://scikit-learn.org/stable/modules/linear_model.html#logistic-regression\n",
      "  extra_warning_msg=_LOGISTIC_SOLVER_CONVERGENCE_MSG)\n",
      "c:\\users\\kevin\\appdata\\local\\programs\\python\\python37\\lib\\site-packages\\xgboost\\sklearn.py:1146: UserWarning: The use of label encoder in XGBClassifier is deprecated and will be removed in a future release. To remove this warning, do the following: 1) Pass option use_label_encoder=False when constructing XGBClassifier object; and 2) Encode your labels (y) as integers starting with 0, i.e. 0, 1, 2, ..., [num_class - 1].\n",
      "  warnings.warn(label_encoder_deprecation_msg, UserWarning)\n"
     ]
    },
    {
     "name": "stdout",
     "output_type": "stream",
     "text": [
      "[00:12:27] WARNING: C:/Users/Administrator/workspace/xgboost-win64_release_1.4.0/src/learner.cc:1095: Starting in XGBoost 1.3.0, the default evaluation metric used with the objective 'binary:logistic' was changed from 'error' to 'logloss'. Explicitly set eval_metric if you'd like to restore the old behavior.\n",
      "0:\tlearn: 0.4205922\ttotal: 418us\tremaining: 3.77ms\n",
      "1:\tlearn: 0.3012904\ttotal: 843us\tremaining: 3.38ms\n",
      "2:\tlearn: 0.2093218\ttotal: 1.17ms\tremaining: 2.73ms\n",
      "3:\tlearn: 0.1897729\ttotal: 1.43ms\tremaining: 2.14ms\n",
      "4:\tlearn: 0.1722234\ttotal: 1.69ms\tremaining: 1.69ms\n",
      "5:\tlearn: 0.1579422\ttotal: 1.99ms\tremaining: 1.32ms\n",
      "6:\tlearn: 0.1425026\ttotal: 2.26ms\tremaining: 969us\n",
      "7:\tlearn: 0.1331939\ttotal: 2.54ms\tremaining: 634us\n",
      "8:\tlearn: 0.1236273\ttotal: 2.79ms\tremaining: 310us\n",
      "9:\tlearn: 0.0967216\ttotal: 3.07ms\tremaining: 0us\n",
      "[LightGBM] [Warning] boosting is set=gbdt, boosting_type=gbdt will be ignored. Current value: boosting=gbdt\n",
      "[LightGBM] [Warning] feature_fraction is set=0.5, colsample_bytree=1.0 will be ignored. Current value: feature_fraction=0.5\n"
     ]
    },
    {
     "name": "stderr",
     "output_type": "stream",
     "text": [
      "c:\\users\\kevin\\appdata\\local\\programs\\python\\python37\\lib\\site-packages\\sklearn\\linear_model\\_logistic.py:765: ConvergenceWarning: lbfgs failed to converge (status=1):\n",
      "STOP: TOTAL NO. of ITERATIONS REACHED LIMIT.\n",
      "\n",
      "Increase the number of iterations (max_iter) or scale the data as shown in:\n",
      "    https://scikit-learn.org/stable/modules/preprocessing.html\n",
      "Please also refer to the documentation for alternative solver options:\n",
      "    https://scikit-learn.org/stable/modules/linear_model.html#logistic-regression\n",
      "  extra_warning_msg=_LOGISTIC_SOLVER_CONVERGENCE_MSG)\n",
      "c:\\users\\kevin\\appdata\\local\\programs\\python\\python37\\lib\\site-packages\\sklearn\\neural_network\\_multilayer_perceptron.py:617: ConvergenceWarning: Stochastic Optimizer: Maximum iterations (200) reached and the optimization hasn't converged yet.\n",
      "  % self.max_iter, ConvergenceWarning)\n",
      "c:\\users\\kevin\\appdata\\local\\programs\\python\\python37\\lib\\site-packages\\xgboost\\sklearn.py:1146: UserWarning: The use of label encoder in XGBClassifier is deprecated and will be removed in a future release. To remove this warning, do the following: 1) Pass option use_label_encoder=False when constructing XGBClassifier object; and 2) Encode your labels (y) as integers starting with 0, i.e. 0, 1, 2, ..., [num_class - 1].\n",
      "  warnings.warn(label_encoder_deprecation_msg, UserWarning)\n"
     ]
    },
    {
     "name": "stdout",
     "output_type": "stream",
     "text": [
      "[00:12:29] WARNING: C:/Users/Administrator/workspace/xgboost-win64_release_1.4.0/src/learner.cc:1095: Starting in XGBoost 1.3.0, the default evaluation metric used with the objective 'binary:logistic' was changed from 'error' to 'logloss'. Explicitly set eval_metric if you'd like to restore the old behavior.\n",
      "0:\tlearn: 0.3752432\ttotal: 373us\tremaining: 3.36ms\n",
      "1:\tlearn: 0.2219360\ttotal: 685us\tremaining: 2.74ms\n",
      "2:\tlearn: 0.1915062\ttotal: 1.18ms\tremaining: 2.75ms\n",
      "3:\tlearn: 0.1614565\ttotal: 2.1ms\tremaining: 3.14ms\n",
      "4:\tlearn: 0.1546673\ttotal: 2.75ms\tremaining: 2.75ms\n",
      "5:\tlearn: 0.1516716\ttotal: 3.23ms\tremaining: 2.15ms\n",
      "6:\tlearn: 0.1304396\ttotal: 3.9ms\tremaining: 1.67ms\n",
      "7:\tlearn: 0.1031848\ttotal: 4.24ms\tremaining: 1.06ms\n",
      "8:\tlearn: 0.0962985\ttotal: 4.58ms\tremaining: 508us\n",
      "9:\tlearn: 0.0815582\ttotal: 4.98ms\tremaining: 0us\n",
      "[LightGBM] [Warning] boosting is set=gbdt, boosting_type=gbdt will be ignored. Current value: boosting=gbdt\n",
      "[LightGBM] [Warning] feature_fraction is set=0.5, colsample_bytree=1.0 will be ignored. Current value: feature_fraction=0.5\n"
     ]
    },
    {
     "name": "stderr",
     "output_type": "stream",
     "text": [
      "c:\\users\\kevin\\appdata\\local\\programs\\python\\python37\\lib\\site-packages\\sklearn\\linear_model\\_logistic.py:765: ConvergenceWarning: lbfgs failed to converge (status=1):\n",
      "STOP: TOTAL NO. of ITERATIONS REACHED LIMIT.\n",
      "\n",
      "Increase the number of iterations (max_iter) or scale the data as shown in:\n",
      "    https://scikit-learn.org/stable/modules/preprocessing.html\n",
      "Please also refer to the documentation for alternative solver options:\n",
      "    https://scikit-learn.org/stable/modules/linear_model.html#logistic-regression\n",
      "  extra_warning_msg=_LOGISTIC_SOLVER_CONVERGENCE_MSG)\n",
      "c:\\users\\kevin\\appdata\\local\\programs\\python\\python37\\lib\\site-packages\\xgboost\\sklearn.py:1146: UserWarning: The use of label encoder in XGBClassifier is deprecated and will be removed in a future release. To remove this warning, do the following: 1) Pass option use_label_encoder=False when constructing XGBClassifier object; and 2) Encode your labels (y) as integers starting with 0, i.e. 0, 1, 2, ..., [num_class - 1].\n",
      "  warnings.warn(label_encoder_deprecation_msg, UserWarning)\n"
     ]
    },
    {
     "name": "stdout",
     "output_type": "stream",
     "text": [
      "[00:12:30] WARNING: C:/Users/Administrator/workspace/xgboost-win64_release_1.4.0/src/learner.cc:1095: Starting in XGBoost 1.3.0, the default evaluation metric used with the objective 'binary:logistic' was changed from 'error' to 'logloss'. Explicitly set eval_metric if you'd like to restore the old behavior.\n",
      "0:\tlearn: 0.4271644\ttotal: 550us\tremaining: 4.95ms\n",
      "1:\tlearn: 0.3367827\ttotal: 1.07ms\tremaining: 4.3ms\n",
      "2:\tlearn: 0.3019658\ttotal: 1.58ms\tremaining: 3.7ms\n",
      "3:\tlearn: 0.2516555\ttotal: 2.01ms\tremaining: 3.02ms\n",
      "4:\tlearn: 0.2440176\ttotal: 2.41ms\tremaining: 2.41ms\n",
      "5:\tlearn: 0.2333762\ttotal: 2.7ms\tremaining: 1.8ms\n",
      "6:\tlearn: 0.2230879\ttotal: 2.97ms\tremaining: 1.27ms\n",
      "7:\tlearn: 0.2170414\ttotal: 3.28ms\tremaining: 820us\n",
      "8:\tlearn: 0.1941530\ttotal: 3.72ms\tremaining: 412us\n",
      "9:\tlearn: 0.1843970\ttotal: 4.02ms\tremaining: 0us\n",
      "[LightGBM] [Warning] boosting is set=gbdt, boosting_type=gbdt will be ignored. Current value: boosting=gbdt\n",
      "[LightGBM] [Warning] feature_fraction is set=0.5, colsample_bytree=1.0 will be ignored. Current value: feature_fraction=0.5\n"
     ]
    },
    {
     "name": "stderr",
     "output_type": "stream",
     "text": [
      "c:\\users\\kevin\\appdata\\local\\programs\\python\\python37\\lib\\site-packages\\sklearn\\linear_model\\_logistic.py:765: ConvergenceWarning: lbfgs failed to converge (status=1):\n",
      "STOP: TOTAL NO. of ITERATIONS REACHED LIMIT.\n",
      "\n",
      "Increase the number of iterations (max_iter) or scale the data as shown in:\n",
      "    https://scikit-learn.org/stable/modules/preprocessing.html\n",
      "Please also refer to the documentation for alternative solver options:\n",
      "    https://scikit-learn.org/stable/modules/linear_model.html#logistic-regression\n",
      "  extra_warning_msg=_LOGISTIC_SOLVER_CONVERGENCE_MSG)\n",
      "c:\\users\\kevin\\appdata\\local\\programs\\python\\python37\\lib\\site-packages\\xgboost\\sklearn.py:1146: UserWarning: The use of label encoder in XGBClassifier is deprecated and will be removed in a future release. To remove this warning, do the following: 1) Pass option use_label_encoder=False when constructing XGBClassifier object; and 2) Encode your labels (y) as integers starting with 0, i.e. 0, 1, 2, ..., [num_class - 1].\n",
      "  warnings.warn(label_encoder_deprecation_msg, UserWarning)\n"
     ]
    },
    {
     "name": "stdout",
     "output_type": "stream",
     "text": [
      "[00:12:32] WARNING: C:/Users/Administrator/workspace/xgboost-win64_release_1.4.0/src/learner.cc:1095: Starting in XGBoost 1.3.0, the default evaluation metric used with the objective 'binary:logistic' was changed from 'error' to 'logloss'. Explicitly set eval_metric if you'd like to restore the old behavior.\n",
      "0:\tlearn: 0.3461675\ttotal: 323us\tremaining: 2.91ms\n",
      "1:\tlearn: 0.3027486\ttotal: 668us\tremaining: 2.67ms\n",
      "2:\tlearn: 0.2339115\ttotal: 1ms\tremaining: 2.33ms\n",
      "3:\tlearn: 0.2291501\ttotal: 1.25ms\tremaining: 1.88ms\n",
      "4:\tlearn: 0.1975730\ttotal: 1.5ms\tremaining: 1.5ms\n",
      "5:\tlearn: 0.1886685\ttotal: 1.76ms\tremaining: 1.18ms\n",
      "6:\tlearn: 0.1802583\ttotal: 1.98ms\tremaining: 848us\n",
      "7:\tlearn: 0.1571869\ttotal: 2.34ms\tremaining: 586us\n",
      "8:\tlearn: 0.1493965\ttotal: 2.58ms\tremaining: 286us\n",
      "9:\tlearn: 0.1409815\ttotal: 2.79ms\tremaining: 0us\n",
      "[LightGBM] [Warning] boosting is set=gbdt, boosting_type=gbdt will be ignored. Current value: boosting=gbdt\n",
      "[LightGBM] [Warning] feature_fraction is set=0.5, colsample_bytree=1.0 will be ignored. Current value: feature_fraction=0.5\n"
     ]
    },
    {
     "name": "stderr",
     "output_type": "stream",
     "text": [
      "c:\\users\\kevin\\appdata\\local\\programs\\python\\python37\\lib\\site-packages\\sklearn\\linear_model\\_logistic.py:765: ConvergenceWarning: lbfgs failed to converge (status=1):\n",
      "STOP: TOTAL NO. of ITERATIONS REACHED LIMIT.\n",
      "\n",
      "Increase the number of iterations (max_iter) or scale the data as shown in:\n",
      "    https://scikit-learn.org/stable/modules/preprocessing.html\n",
      "Please also refer to the documentation for alternative solver options:\n",
      "    https://scikit-learn.org/stable/modules/linear_model.html#logistic-regression\n",
      "  extra_warning_msg=_LOGISTIC_SOLVER_CONVERGENCE_MSG)\n"
     ]
    },
    {
     "name": "stdout",
     "output_type": "stream",
     "text": [
      "[00:12:33] WARNING: C:/Users/Administrator/workspace/xgboost-win64_release_1.4.0/src/learner.cc:1095: Starting in XGBoost 1.3.0, the default evaluation metric used with the objective 'binary:logistic' was changed from 'error' to 'logloss'. Explicitly set eval_metric if you'd like to restore the old behavior.\n"
     ]
    },
    {
     "name": "stderr",
     "output_type": "stream",
     "text": [
      "c:\\users\\kevin\\appdata\\local\\programs\\python\\python37\\lib\\site-packages\\xgboost\\sklearn.py:1146: UserWarning: The use of label encoder in XGBClassifier is deprecated and will be removed in a future release. To remove this warning, do the following: 1) Pass option use_label_encoder=False when constructing XGBClassifier object; and 2) Encode your labels (y) as integers starting with 0, i.e. 0, 1, 2, ..., [num_class - 1].\n",
      "  warnings.warn(label_encoder_deprecation_msg, UserWarning)\n"
     ]
    },
    {
     "ename": "CatBoostError",
     "evalue": "",
     "output_type": "error",
     "traceback": [
      "\u001b[1;31m---------------------------------------------------------------------------\u001b[0m",
      "\u001b[1;31mCatBoostError\u001b[0m                             Traceback (most recent call last)",
      "\u001b[1;32m~\\AppData\\Local\\Temp/ipykernel_30332/2501512093.py\u001b[0m in \u001b[0;36m<module>\u001b[1;34m\u001b[0m\n\u001b[0;32m      9\u001b[0m     \u001b[0mAUC_table_in_dataset\u001b[0m\u001b[1;33m=\u001b[0m\u001b[0mpd\u001b[0m\u001b[1;33m.\u001b[0m\u001b[0mDataFrame\u001b[0m\u001b[1;33m(\u001b[0m\u001b[1;33m)\u001b[0m\u001b[1;33m\u001b[0m\u001b[1;33m\u001b[0m\u001b[0m\n\u001b[0;32m     10\u001b[0m     \u001b[1;32mfor\u001b[0m \u001b[0mtime\u001b[0m \u001b[1;32min\u001b[0m \u001b[0mrange\u001b[0m\u001b[1;33m(\u001b[0m\u001b[1;36m0\u001b[0m\u001b[1;33m,\u001b[0m\u001b[1;36m5\u001b[0m\u001b[1;33m)\u001b[0m \u001b[1;33m:\u001b[0m\u001b[1;33m\u001b[0m\u001b[1;33m\u001b[0m\u001b[0m\n\u001b[1;32m---> 11\u001b[1;33m         \u001b[0mAUC_table_in_dataset\u001b[0m\u001b[1;33m=\u001b[0m\u001b[0mpd\u001b[0m\u001b[1;33m.\u001b[0m\u001b[0mconcat\u001b[0m\u001b[1;33m(\u001b[0m\u001b[1;33m[\u001b[0m\u001b[0mAUC_table_in_dataset\u001b[0m\u001b[1;33m,\u001b[0m\u001b[0mset_model_AUC\u001b[0m\u001b[1;33m(\u001b[0m\u001b[0mone_data\u001b[0m\u001b[1;33m,\u001b[0m\u001b[1;32mFalse\u001b[0m\u001b[1;33m,\u001b[0m\u001b[1;36m0\u001b[0m\u001b[1;33m)\u001b[0m\u001b[1;33m]\u001b[0m\u001b[1;33m,\u001b[0m\u001b[0maxis\u001b[0m\u001b[1;33m=\u001b[0m\u001b[1;36m1\u001b[0m\u001b[1;33m)\u001b[0m\u001b[1;33m\u001b[0m\u001b[1;33m\u001b[0m\u001b[0m\n\u001b[0m\u001b[0;32m     12\u001b[0m     \u001b[0mAUC_table_all\u001b[0m\u001b[1;33m=\u001b[0m\u001b[0mpd\u001b[0m\u001b[1;33m.\u001b[0m\u001b[0mconcat\u001b[0m\u001b[1;33m(\u001b[0m\u001b[1;33m[\u001b[0m\u001b[0mAUC_table_all\u001b[0m\u001b[1;33m,\u001b[0m\u001b[0mAUC_table_in_dataset\u001b[0m\u001b[1;33m.\u001b[0m\u001b[0mmean\u001b[0m\u001b[1;33m(\u001b[0m\u001b[0maxis\u001b[0m\u001b[1;33m=\u001b[0m\u001b[1;36m1\u001b[0m\u001b[1;33m)\u001b[0m\u001b[1;33m]\u001b[0m\u001b[1;33m,\u001b[0m\u001b[0maxis\u001b[0m\u001b[1;33m=\u001b[0m\u001b[1;36m1\u001b[0m\u001b[1;33m)\u001b[0m\u001b[1;33m\u001b[0m\u001b[1;33m\u001b[0m\u001b[0m\n",
      "\u001b[1;32m~\\AppData\\Local\\Temp/ipykernel_30332/142971675.py\u001b[0m in \u001b[0;36mset_model_AUC\u001b[1;34m(data, Supervised_or_not, test_ratio)\u001b[0m\n\u001b[0;32m     37\u001b[0m                   \u001b[0mdepth\u001b[0m\u001b[1;33m=\u001b[0m\u001b[1;36m2\u001b[0m\u001b[1;33m,\u001b[0m\u001b[1;33m\u001b[0m\u001b[1;33m\u001b[0m\u001b[0m\n\u001b[0;32m     38\u001b[0m                   loss_function='MultiClass')\n\u001b[1;32m---> 39\u001b[1;33m     \u001b[0mCAT\u001b[0m\u001b[1;33m.\u001b[0m\u001b[0mfit\u001b[0m\u001b[1;33m(\u001b[0m\u001b[0mtrain_data\u001b[0m\u001b[1;33m,\u001b[0m \u001b[0mtrain_labels\u001b[0m\u001b[1;33m)\u001b[0m\u001b[1;33m\u001b[0m\u001b[1;33m\u001b[0m\u001b[0m\n\u001b[0m\u001b[0;32m     40\u001b[0m     \u001b[0mfpr\u001b[0m\u001b[1;33m,\u001b[0m \u001b[0mtpr\u001b[0m\u001b[1;33m,\u001b[0m \u001b[0mthresholds\u001b[0m \u001b[1;33m=\u001b[0m \u001b[0mmetrics\u001b[0m\u001b[1;33m.\u001b[0m\u001b[0mroc_curve\u001b[0m\u001b[1;33m(\u001b[0m\u001b[0mtest_labels\u001b[0m\u001b[1;33m,\u001b[0m \u001b[0mCAT\u001b[0m\u001b[1;33m.\u001b[0m\u001b[0mpredict\u001b[0m\u001b[1;33m(\u001b[0m\u001b[0mtest_data\u001b[0m\u001b[1;33m)\u001b[0m\u001b[1;33m)\u001b[0m\u001b[1;33m\u001b[0m\u001b[1;33m\u001b[0m\u001b[0m\n\u001b[0;32m     41\u001b[0m     \u001b[0mauc\u001b[0m\u001b[1;33m.\u001b[0m\u001b[0mCAT\u001b[0m \u001b[1;33m=\u001b[0m\u001b[0mmetrics\u001b[0m\u001b[1;33m.\u001b[0m\u001b[0mauc\u001b[0m\u001b[1;33m(\u001b[0m\u001b[0mfpr\u001b[0m\u001b[1;33m,\u001b[0m \u001b[0mtpr\u001b[0m\u001b[1;33m)\u001b[0m\u001b[1;33m\u001b[0m\u001b[1;33m\u001b[0m\u001b[0m\n",
      "\u001b[1;32mc:\\users\\kevin\\appdata\\local\\programs\\python\\python37\\lib\\site-packages\\catboost\\core.py\u001b[0m in \u001b[0;36mfit\u001b[1;34m(self, X, y, cat_features, text_features, embedding_features, sample_weight, baseline, use_best_model, eval_set, verbose, logging_level, plot, column_description, verbose_eval, metric_period, silent, early_stopping_rounds, save_snapshot, snapshot_file, snapshot_interval, init_model, callbacks, log_cout, log_cerr)\u001b[0m\n\u001b[0;32m   4675\u001b[0m         self._fit(X, y, cat_features, text_features, embedding_features, None, sample_weight, None, None, None, None, baseline, use_best_model,\n\u001b[0;32m   4676\u001b[0m                   \u001b[0meval_set\u001b[0m\u001b[1;33m,\u001b[0m \u001b[0mverbose\u001b[0m\u001b[1;33m,\u001b[0m \u001b[0mlogging_level\u001b[0m\u001b[1;33m,\u001b[0m \u001b[0mplot\u001b[0m\u001b[1;33m,\u001b[0m \u001b[0mcolumn_description\u001b[0m\u001b[1;33m,\u001b[0m \u001b[0mverbose_eval\u001b[0m\u001b[1;33m,\u001b[0m \u001b[0mmetric_period\u001b[0m\u001b[1;33m,\u001b[0m\u001b[1;33m\u001b[0m\u001b[1;33m\u001b[0m\u001b[0m\n\u001b[1;32m-> 4677\u001b[1;33m                   silent, early_stopping_rounds, save_snapshot, snapshot_file, snapshot_interval, init_model, callbacks, log_cout, log_cerr)\n\u001b[0m\u001b[0;32m   4678\u001b[0m         \u001b[1;32mreturn\u001b[0m \u001b[0mself\u001b[0m\u001b[1;33m\u001b[0m\u001b[1;33m\u001b[0m\u001b[0m\n\u001b[0;32m   4679\u001b[0m \u001b[1;33m\u001b[0m\u001b[0m\n",
      "\u001b[1;32mc:\\users\\kevin\\appdata\\local\\programs\\python\\python37\\lib\\site-packages\\catboost\\core.py\u001b[0m in \u001b[0;36m_fit\u001b[1;34m(self, X, y, cat_features, text_features, embedding_features, pairs, sample_weight, group_id, group_weight, subgroup_id, pairs_weight, baseline, use_best_model, eval_set, verbose, logging_level, plot, column_description, verbose_eval, metric_period, silent, early_stopping_rounds, save_snapshot, snapshot_file, snapshot_interval, init_model, callbacks, log_cout, log_cerr)\u001b[0m\n\u001b[0;32m   2000\u001b[0m                 \u001b[0mparams\u001b[0m\u001b[1;33m,\u001b[0m\u001b[1;33m\u001b[0m\u001b[1;33m\u001b[0m\u001b[0m\n\u001b[0;32m   2001\u001b[0m                 \u001b[0mallow_clear_pool\u001b[0m\u001b[1;33m,\u001b[0m\u001b[1;33m\u001b[0m\u001b[1;33m\u001b[0m\u001b[0m\n\u001b[1;32m-> 2002\u001b[1;33m                 \u001b[0mtrain_params\u001b[0m\u001b[1;33m[\u001b[0m\u001b[1;34m\"init_model\"\u001b[0m\u001b[1;33m]\u001b[0m\u001b[1;33m\u001b[0m\u001b[1;33m\u001b[0m\u001b[0m\n\u001b[0m\u001b[0;32m   2003\u001b[0m             )\n\u001b[0;32m   2004\u001b[0m \u001b[1;33m\u001b[0m\u001b[0m\n",
      "\u001b[1;32mc:\\users\\kevin\\appdata\\local\\programs\\python\\python37\\lib\\site-packages\\catboost\\core.py\u001b[0m in \u001b[0;36m_train\u001b[1;34m(self, train_pool, test_pool, params, allow_clear_pool, init_model)\u001b[0m\n\u001b[0;32m   1426\u001b[0m \u001b[1;33m\u001b[0m\u001b[0m\n\u001b[0;32m   1427\u001b[0m     \u001b[1;32mdef\u001b[0m \u001b[0m_train\u001b[0m\u001b[1;33m(\u001b[0m\u001b[0mself\u001b[0m\u001b[1;33m,\u001b[0m \u001b[0mtrain_pool\u001b[0m\u001b[1;33m,\u001b[0m \u001b[0mtest_pool\u001b[0m\u001b[1;33m,\u001b[0m \u001b[0mparams\u001b[0m\u001b[1;33m,\u001b[0m \u001b[0mallow_clear_pool\u001b[0m\u001b[1;33m,\u001b[0m \u001b[0minit_model\u001b[0m\u001b[1;33m)\u001b[0m\u001b[1;33m:\u001b[0m\u001b[1;33m\u001b[0m\u001b[1;33m\u001b[0m\u001b[0m\n\u001b[1;32m-> 1428\u001b[1;33m         \u001b[0mself\u001b[0m\u001b[1;33m.\u001b[0m\u001b[0m_object\u001b[0m\u001b[1;33m.\u001b[0m\u001b[0m_train\u001b[0m\u001b[1;33m(\u001b[0m\u001b[0mtrain_pool\u001b[0m\u001b[1;33m,\u001b[0m \u001b[0mtest_pool\u001b[0m\u001b[1;33m,\u001b[0m \u001b[0mparams\u001b[0m\u001b[1;33m,\u001b[0m \u001b[0mallow_clear_pool\u001b[0m\u001b[1;33m,\u001b[0m \u001b[0minit_model\u001b[0m\u001b[1;33m.\u001b[0m\u001b[0m_object\u001b[0m \u001b[1;32mif\u001b[0m \u001b[0minit_model\u001b[0m \u001b[1;32melse\u001b[0m \u001b[1;32mNone\u001b[0m\u001b[1;33m)\u001b[0m\u001b[1;33m\u001b[0m\u001b[1;33m\u001b[0m\u001b[0m\n\u001b[0m\u001b[0;32m   1429\u001b[0m         \u001b[0mself\u001b[0m\u001b[1;33m.\u001b[0m\u001b[0m_set_trained_model_attributes\u001b[0m\u001b[1;33m(\u001b[0m\u001b[1;33m)\u001b[0m\u001b[1;33m\u001b[0m\u001b[1;33m\u001b[0m\u001b[0m\n\u001b[0;32m   1430\u001b[0m \u001b[1;33m\u001b[0m\u001b[0m\n",
      "\u001b[1;32m_catboost.pyx\u001b[0m in \u001b[0;36m_catboost._CatBoost._train\u001b[1;34m()\u001b[0m\n",
      "\u001b[1;32m_catboost.pyx\u001b[0m in \u001b[0;36m_catboost._CatBoost._train\u001b[1;34m()\u001b[0m\n",
      "\u001b[1;31mCatBoostError\u001b[0m: "
     ]
    }
   ],
   "source": [
    "data_1=data_type_change(data1)\n",
    "data_2=data2\n",
    "data_3=data_type_change(data3)\n",
    "data_4=data_type_change(data4)\n",
    "data_5=data_type_change(data5)\n",
    "data_6=data_type_change(data6)\n",
    "AUC_table_all=pd.DataFrame()\n",
    "for one_data in [data_1,data_2,data_3,data_4,data_5,data_6]:\n",
    "    AUC_table_in_dataset=pd.DataFrame()\n",
    "    for time in range(0,5) :\n",
    "        AUC_table_in_dataset=pd.concat([AUC_table_in_dataset,set_model_AUC(one_data,False,0)],axis=1)\n",
    "    AUC_table_all=pd.concat([AUC_table_all,AUC_table_in_dataset.mean(axis=1)],axis=1)"
   ]
  },
  {
   "cell_type": "code",
   "execution_count": null,
   "id": "967a43fb",
   "metadata": {},
   "outputs": [],
   "source": [
    "AUC_table_all.columns=[\"Income\",\"Arcene\",\"Bank\",\"BlastChar\",\"Shopper\",\"SHrutime\"]\n",
    "AUC_table_all"
   ]
  }
 ],
 "metadata": {
  "kernelspec": {
   "display_name": "Python 3 (ipykernel)",
   "language": "python",
   "name": "python3"
  },
  "language_info": {
   "codemirror_mode": {
    "name": "ipython",
    "version": 3
   },
   "file_extension": ".py",
   "mimetype": "text/x-python",
   "name": "python",
   "nbconvert_exporter": "python",
   "pygments_lexer": "ipython3",
   "version": "3.9.7"
  }
 },
 "nbformat": 4,
 "nbformat_minor": 5
}
