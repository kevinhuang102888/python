{
 "cells": [
  {
   "cell_type": "code",
   "execution_count": 1,
   "id": "c6f4409c",
   "metadata": {},
   "outputs": [],
   "source": [
    "import matplotlib.pyplot as plt\n",
    "import numpy as np\n",
    "import pandas as pd"
   ]
  },
  {
   "cell_type": "code",
   "execution_count": 2,
   "id": "9fe73640",
   "metadata": {},
   "outputs": [],
   "source": [
    "from pylab import mpl\n",
    "plt.rcParams['font.sans-serif'] = ['Microsoft JhengHei']"
   ]
  },
  {
   "cell_type": "code",
   "execution_count": 3,
   "id": "81ca5909",
   "metadata": {},
   "outputs": [],
   "source": [
    "#切資料/評估工具\n",
    "from sklearn.model_selection import train_test_split\n",
    "from sklearn.preprocessing import LabelEncoder\n",
    "from sklearn.metrics import roc_curve, auc\n",
    "from sklearn.model_selection import GridSearchCV\n",
    "from sklearn import metrics"
   ]
  },
  {
   "cell_type": "code",
   "execution_count": 4,
   "id": "b2191dae",
   "metadata": {},
   "outputs": [],
   "source": [
    "#方法集\n",
    "from sklearn.neighbors import KNeighborsRegressor\n",
    "from sklearn.tree import DecisionTreeRegressor\n",
    "from sklearn.neural_network import MLPClassifier\n",
    "from xgboost import XGBRegressor\n",
    "from catboost import CatBoostRegressor\n",
    "import lightgbm as lgb"
   ]
  },
  {
   "cell_type": "code",
   "execution_count": 25,
   "id": "e3e3e82c",
   "metadata": {},
   "outputs": [],
   "source": [
    "#data1=pd.read_csv(\".\\\\hw2_data\\\\data1\\\\train_forest.csv\",header=None)"
   ]
  },
  {
   "cell_type": "code",
   "execution_count": 178,
   "id": "aabc483c",
   "metadata": {},
   "outputs": [],
   "source": [
    "data1_true=pd.read_csv(\".\\\\hw2_data\\\\data7\\\\train.csv\",header=None)\n",
    "data1=pd.read_csv(\".\\\\hw2_data\\\\data7\\\\train_forest.csv\",header=None)\n",
    "data1=pd.concat([data1,data1_true.iloc[:,-1]],axis=1)"
   ]
  },
  {
   "cell_type": "code",
   "execution_count": 179,
   "id": "ed1c8b01",
   "metadata": {
    "scrolled": false
   },
   "outputs": [
    {
     "data": {
      "text/html": [
       "<div>\n",
       "<style scoped>\n",
       "    .dataframe tbody tr th:only-of-type {\n",
       "        vertical-align: middle;\n",
       "    }\n",
       "\n",
       "    .dataframe tbody tr th {\n",
       "        vertical-align: top;\n",
       "    }\n",
       "\n",
       "    .dataframe thead th {\n",
       "        text-align: right;\n",
       "    }\n",
       "</style>\n",
       "<table border=\"1\" class=\"dataframe\">\n",
       "  <thead>\n",
       "    <tr style=\"text-align: right;\">\n",
       "      <th></th>\n",
       "      <th>0</th>\n",
       "      <th>1</th>\n",
       "      <th>2</th>\n",
       "      <th>3</th>\n",
       "      <th>4</th>\n",
       "      <th>5</th>\n",
       "      <th>6</th>\n",
       "    </tr>\n",
       "  </thead>\n",
       "  <tbody>\n",
       "    <tr>\n",
       "      <th>0</th>\n",
       "      <td>-2.3</td>\n",
       "      <td>0.568</td>\n",
       "      <td>4.7986</td>\n",
       "      <td>3.9474</td>\n",
       "      <td>3.1700</td>\n",
       "      <td>0.150000</td>\n",
       "      <td>0.27</td>\n",
       "    </tr>\n",
       "    <tr>\n",
       "      <th>1</th>\n",
       "      <td>-2.3</td>\n",
       "      <td>0.568</td>\n",
       "      <td>4.7800</td>\n",
       "      <td>3.9900</td>\n",
       "      <td>3.1700</td>\n",
       "      <td>0.200000</td>\n",
       "      <td>0.78</td>\n",
       "    </tr>\n",
       "    <tr>\n",
       "      <th>2</th>\n",
       "      <td>-2.3</td>\n",
       "      <td>0.568</td>\n",
       "      <td>4.7800</td>\n",
       "      <td>4.0171</td>\n",
       "      <td>3.1700</td>\n",
       "      <td>0.225000</td>\n",
       "      <td>1.18</td>\n",
       "    </tr>\n",
       "    <tr>\n",
       "      <th>3</th>\n",
       "      <td>-2.3</td>\n",
       "      <td>0.568</td>\n",
       "      <td>4.7800</td>\n",
       "      <td>3.9985</td>\n",
       "      <td>3.1700</td>\n",
       "      <td>0.214771</td>\n",
       "      <td>1.82</td>\n",
       "    </tr>\n",
       "    <tr>\n",
       "      <th>4</th>\n",
       "      <td>-2.3</td>\n",
       "      <td>0.568</td>\n",
       "      <td>4.7800</td>\n",
       "      <td>3.9900</td>\n",
       "      <td>3.1688</td>\n",
       "      <td>0.212521</td>\n",
       "      <td>3.76</td>\n",
       "    </tr>\n",
       "  </tbody>\n",
       "</table>\n",
       "</div>"
      ],
      "text/plain": [
       "     0      1       2       3       4         5     6\n",
       "0 -2.3  0.568  4.7986  3.9474  3.1700  0.150000  0.27\n",
       "1 -2.3  0.568  4.7800  3.9900  3.1700  0.200000  0.78\n",
       "2 -2.3  0.568  4.7800  4.0171  3.1700  0.225000  1.18\n",
       "3 -2.3  0.568  4.7800  3.9985  3.1700  0.214771  1.82\n",
       "4 -2.3  0.568  4.7800  3.9900  3.1688  0.212521  3.76"
      ]
     },
     "execution_count": 179,
     "metadata": {},
     "output_type": "execute_result"
    }
   ],
   "source": [
    "data1.head()"
   ]
  },
  {
   "cell_type": "code",
   "execution_count": 180,
   "id": "7a95384d",
   "metadata": {},
   "outputs": [
    {
     "data": {
      "text/html": [
       "<div>\n",
       "<style scoped>\n",
       "    .dataframe tbody tr th:only-of-type {\n",
       "        vertical-align: middle;\n",
       "    }\n",
       "\n",
       "    .dataframe tbody tr th {\n",
       "        vertical-align: top;\n",
       "    }\n",
       "\n",
       "    .dataframe thead th {\n",
       "        text-align: right;\n",
       "    }\n",
       "</style>\n",
       "<table border=\"1\" class=\"dataframe\">\n",
       "  <thead>\n",
       "    <tr style=\"text-align: right;\">\n",
       "      <th></th>\n",
       "      <th>0</th>\n",
       "      <th>1</th>\n",
       "      <th>2</th>\n",
       "      <th>3</th>\n",
       "      <th>4</th>\n",
       "      <th>5</th>\n",
       "      <th>6</th>\n",
       "    </tr>\n",
       "  </thead>\n",
       "  <tbody>\n",
       "    <tr>\n",
       "      <th>0</th>\n",
       "      <td>-2.3</td>\n",
       "      <td>0.568</td>\n",
       "      <td>4.7986</td>\n",
       "      <td>3.9474</td>\n",
       "      <td>3.1700</td>\n",
       "      <td>0.150000</td>\n",
       "      <td>0.27</td>\n",
       "    </tr>\n",
       "    <tr>\n",
       "      <th>1</th>\n",
       "      <td>-2.3</td>\n",
       "      <td>0.568</td>\n",
       "      <td>4.7800</td>\n",
       "      <td>3.9900</td>\n",
       "      <td>3.1700</td>\n",
       "      <td>0.200000</td>\n",
       "      <td>0.78</td>\n",
       "    </tr>\n",
       "    <tr>\n",
       "      <th>2</th>\n",
       "      <td>-2.3</td>\n",
       "      <td>0.568</td>\n",
       "      <td>4.7800</td>\n",
       "      <td>4.0171</td>\n",
       "      <td>3.1700</td>\n",
       "      <td>0.225000</td>\n",
       "      <td>1.18</td>\n",
       "    </tr>\n",
       "    <tr>\n",
       "      <th>3</th>\n",
       "      <td>-2.3</td>\n",
       "      <td>0.568</td>\n",
       "      <td>4.7800</td>\n",
       "      <td>3.9985</td>\n",
       "      <td>3.1700</td>\n",
       "      <td>0.214771</td>\n",
       "      <td>1.82</td>\n",
       "    </tr>\n",
       "    <tr>\n",
       "      <th>4</th>\n",
       "      <td>-2.3</td>\n",
       "      <td>0.568</td>\n",
       "      <td>4.7800</td>\n",
       "      <td>3.9900</td>\n",
       "      <td>3.1688</td>\n",
       "      <td>0.212521</td>\n",
       "      <td>3.76</td>\n",
       "    </tr>\n",
       "  </tbody>\n",
       "</table>\n",
       "</div>"
      ],
      "text/plain": [
       "     0      1       2       3       4         5     6\n",
       "0 -2.3  0.568  4.7986  3.9474  3.1700  0.150000  0.27\n",
       "1 -2.3  0.568  4.7800  3.9900  3.1700  0.200000  0.78\n",
       "2 -2.3  0.568  4.7800  4.0171  3.1700  0.225000  1.18\n",
       "3 -2.3  0.568  4.7800  3.9985  3.1700  0.214771  1.82\n",
       "4 -2.3  0.568  4.7800  3.9900  3.1688  0.212521  3.76"
      ]
     },
     "execution_count": 180,
     "metadata": {},
     "output_type": "execute_result"
    }
   ],
   "source": [
    "from sklearn.impute import KNNImputer \n",
    "imputer = KNNImputer(n_neighbors=4,weights=\"distance\") \n",
    "imputed_data1 = imputer.fit_transform(data1) \n",
    "data1 = pd.DataFrame(imputed_data1) \n",
    "data1.head()"
   ]
  },
  {
   "cell_type": "code",
   "execution_count": 181,
   "id": "8e6dbbe1",
   "metadata": {},
   "outputs": [
    {
     "name": "stdout",
     "output_type": "stream",
     "text": [
      "Size of training dataset: (196, 6)\n",
      "Size of testing dataset: (35, 6)\n"
     ]
    }
   ],
   "source": [
    "#切割資料，train:test=0.75:0.25\n",
    "train_data,test_data,train_labels,test_labels=train_test_split(data1.iloc[:,0:6],data1.iloc[:,-1],test_size=0.15, random_state=69)\n",
    "print('Size of training dataset:', train_data.shape)\n",
    "print('Size of testing dataset:', test_data.shape)"
   ]
  },
  {
   "cell_type": "code",
   "execution_count": 182,
   "id": "161aaed8",
   "metadata": {},
   "outputs": [
    {
     "name": "stdout",
     "output_type": "stream",
     "text": [
      "[2021-10-25 13:58:34.869] Start to fit the model:\n",
      "[2021-10-25 13:58:34.870] Fitting cascade layer = 0 \n",
      "[2021-10-25 13:58:35.168] layer = 0  | Val MSE = 182.96552 | Elapsed = 0.298 s\n",
      "[2021-10-25 13:58:35.168] Fitting cascade layer = 1 \n",
      "[2021-10-25 13:58:35.471] layer = 1  | Val MSE = 132.50917 | Elapsed = 0.303 s\n",
      "[2021-10-25 13:58:35.471] Fitting cascade layer = 2 \n",
      "[2021-10-25 13:58:35.774] layer = 2  | Val MSE = 141.45011 | Elapsed = 0.303 s\n",
      "[2021-10-25 13:58:35.774] Early stopping counter: 1 out of 2\n",
      "[2021-10-25 13:58:35.774] Fitting cascade layer = 3 \n",
      "[2021-10-25 13:58:36.094] layer = 3  | Val MSE = 119.18216 | Elapsed = 0.319 s\n",
      "[2021-10-25 13:58:36.094] Fitting cascade layer = 4 \n",
      "[2021-10-25 13:58:36.440] layer = 4  | Val MSE = 141.57109 | Elapsed = 0.346 s\n",
      "[2021-10-25 13:58:36.440] Early stopping counter: 1 out of 2\n",
      "[2021-10-25 13:58:36.442] Fitting cascade layer = 5 \n",
      "[2021-10-25 13:58:36.769] layer = 5  | Val MSE = 134.72309 | Elapsed = 0.327 s\n",
      "[2021-10-25 13:58:36.769] Early stopping counter: 2 out of 2\n",
      "[2021-10-25 13:58:36.769] Handling early stopping\n",
      "[2021-10-25 13:58:36.770] The optimal number of layers: 4\n",
      "[2021-10-25 13:58:36.771] Start to evalute the model:\n",
      "[2021-10-25 13:58:36.771] Evaluating cascade layer = 0 \n",
      "[2021-10-25 13:58:36.786] Evaluating cascade layer = 1 \n",
      "[2021-10-25 13:58:36.802] Evaluating cascade layer = 2 \n",
      "[2021-10-25 13:58:36.817] Evaluating cascade layer = 3 \n",
      "Mean_squared_error of testing dataset:  119.35708938774995\n",
      "Mean_absolute_error of testing dataset:  6.594238571428572\n"
     ]
    }
   ],
   "source": [
    "from deepforest import CascadeForestRegressor\n",
    "# Create the model\n",
    "deepft = CascadeForestRegressor()\n",
    "\n",
    "# Learn the digits on the train subset\n",
    "deepft.fit(train_data.values, train_labels.values)\n",
    "\n",
    "# Predict the value of the digit on the testing subset\n",
    "predicted = deepft.predict(test_data.values)\n",
    "\n",
    "# Calculate MSE/MAE\n",
    "from sklearn.metrics import mean_squared_error\n",
    "from sklearn.metrics import mean_absolute_error\n",
    "MSE= mean_squared_error(test_labels, predicted)\n",
    "print('Mean_squared_error of testing dataset: ', MSE)\n",
    "MAE= mean_absolute_error(test_labels, predicted)\n",
    "print('Mean_absolute_error of testing dataset: ', MAE)\n",
    "predicted=predicted.reshape((predicted.shape[0]))"
   ]
  },
  {
   "cell_type": "code",
   "execution_count": 114,
   "id": "f952cec2",
   "metadata": {},
   "outputs": [
    {
     "data": {
      "image/png": "[encoded data removed]",
      "text/plain": [
       "<Figure size 432x288 with 1 Axes>"
      ]
     },
     "metadata": {
      "needs_background": "light"
     },
     "output_type": "display_data"
    }
   ],
   "source": [
    "compare=[predicted,test_labels]\n",
    "\n",
    "plt.boxplot(compare, labels= ['預測', '實際'])\n",
    "plt.title(\"預測與實際差異\",{\"fontsize\" : 20} )\n",
    "plt.show()"
   ]
  },
  {
   "cell_type": "code",
   "execution_count": 115,
   "id": "ab52f7f5",
   "metadata": {},
   "outputs": [
    {
     "name": "stderr",
     "output_type": "stream",
     "text": [
      "c:\\users\\kevin\\appdata\\local\\programs\\python\\python37\\lib\\site-packages\\matplotlib\\backends\\backend_agg.py:240: RuntimeWarning: Glyph 8722 missing from current font.\n",
      "  font.set_text(s, 0.0, flags=flags)\n",
      "c:\\users\\kevin\\appdata\\local\\programs\\python\\python37\\lib\\site-packages\\matplotlib\\backends\\backend_agg.py:203: RuntimeWarning: Glyph 8722 missing from current font.\n",
      "  font.set_text(s, 0, flags=flags)\n"
     ]
    },
    {
     "data": {
      "image/png": "[encoded data removed]",
      "text/plain": [
       "<Figure size 432x288 with 1 Axes>"
      ]
     },
     "metadata": {
      "needs_background": "light"
     },
     "output_type": "display_data"
    }
   ],
   "source": [
    "plt.plot([x for x in range(0,len(predicted-test_labels))],predicted-test_labels)\n",
    "plt.ylabel(\"預測誤差\")\n",
    "plt.title(\"殘差圖\",{\"fontsize\" : 20} )\n",
    "plt.show()"
   ]
  },
  {
   "cell_type": "code",
   "execution_count": 116,
   "id": "569a2189",
   "metadata": {},
   "outputs": [],
   "source": [
    "data1_test=pd.read_csv(\".\\\\hw2_data\\\\data1\\\\test_cart.csv\",header=None)"
   ]
  },
  {
   "cell_type": "code",
   "execution_count": 117,
   "id": "16f180e7",
   "metadata": {},
   "outputs": [
    {
     "data": {
      "text/html": [
       "<div>\n",
       "<style scoped>\n",
       "    .dataframe tbody tr th:only-of-type {\n",
       "        vertical-align: middle;\n",
       "    }\n",
       "\n",
       "    .dataframe tbody tr th {\n",
       "        vertical-align: top;\n",
       "    }\n",
       "\n",
       "    .dataframe thead th {\n",
       "        text-align: right;\n",
       "    }\n",
       "</style>\n",
       "<table border=\"1\" class=\"dataframe\">\n",
       "  <thead>\n",
       "    <tr style=\"text-align: right;\">\n",
       "      <th></th>\n",
       "      <th>0</th>\n",
       "      <th>1</th>\n",
       "      <th>2</th>\n",
       "      <th>3</th>\n",
       "      <th>4</th>\n",
       "      <th>5</th>\n",
       "      <th>6</th>\n",
       "      <th>7</th>\n",
       "    </tr>\n",
       "  </thead>\n",
       "  <tbody>\n",
       "    <tr>\n",
       "      <th>0</th>\n",
       "      <td>239.98</td>\n",
       "      <td>74.59</td>\n",
       "      <td>85.27</td>\n",
       "      <td>180.59</td>\n",
       "      <td>9.00</td>\n",
       "      <td>825.00</td>\n",
       "      <td>805.00</td>\n",
       "      <td>28.0</td>\n",
       "    </tr>\n",
       "    <tr>\n",
       "      <th>1</th>\n",
       "      <td>525.00</td>\n",
       "      <td>0.00</td>\n",
       "      <td>0.00</td>\n",
       "      <td>189.00</td>\n",
       "      <td>0.00</td>\n",
       "      <td>1107.33</td>\n",
       "      <td>613.00</td>\n",
       "      <td>48.9</td>\n",
       "    </tr>\n",
       "    <tr>\n",
       "      <th>2</th>\n",
       "      <td>339.42</td>\n",
       "      <td>66.01</td>\n",
       "      <td>38.90</td>\n",
       "      <td>185.46</td>\n",
       "      <td>9.00</td>\n",
       "      <td>825.00</td>\n",
       "      <td>805.00</td>\n",
       "      <td>28.0</td>\n",
       "    </tr>\n",
       "    <tr>\n",
       "      <th>3</th>\n",
       "      <td>230.00</td>\n",
       "      <td>0.00</td>\n",
       "      <td>129.64</td>\n",
       "      <td>195.50</td>\n",
       "      <td>4.60</td>\n",
       "      <td>1029.40</td>\n",
       "      <td>758.60</td>\n",
       "      <td>56.0</td>\n",
       "    </tr>\n",
       "    <tr>\n",
       "      <th>4</th>\n",
       "      <td>184.00</td>\n",
       "      <td>112.09</td>\n",
       "      <td>190.00</td>\n",
       "      <td>179.83</td>\n",
       "      <td>6.00</td>\n",
       "      <td>1021.29</td>\n",
       "      <td>623.00</td>\n",
       "      <td>35.2</td>\n",
       "    </tr>\n",
       "    <tr>\n",
       "      <th>...</th>\n",
       "      <td>...</td>\n",
       "      <td>...</td>\n",
       "      <td>...</td>\n",
       "      <td>...</td>\n",
       "      <td>...</td>\n",
       "      <td>...</td>\n",
       "      <td>...</td>\n",
       "      <td>...</td>\n",
       "    </tr>\n",
       "    <tr>\n",
       "      <th>304</th>\n",
       "      <td>332.50</td>\n",
       "      <td>142.50</td>\n",
       "      <td>0.00</td>\n",
       "      <td>228.00</td>\n",
       "      <td>0.00</td>\n",
       "      <td>932.00</td>\n",
       "      <td>594.00</td>\n",
       "      <td>180.0</td>\n",
       "    </tr>\n",
       "    <tr>\n",
       "      <th>305</th>\n",
       "      <td>276.00</td>\n",
       "      <td>116.00</td>\n",
       "      <td>90.00</td>\n",
       "      <td>180.00</td>\n",
       "      <td>9.00</td>\n",
       "      <td>870.00</td>\n",
       "      <td>768.00</td>\n",
       "      <td>28.0</td>\n",
       "    </tr>\n",
       "    <tr>\n",
       "      <th>306</th>\n",
       "      <td>443.87</td>\n",
       "      <td>0.00</td>\n",
       "      <td>0.00</td>\n",
       "      <td>196.65</td>\n",
       "      <td>0.00</td>\n",
       "      <td>1125.00</td>\n",
       "      <td>613.00</td>\n",
       "      <td>180.0</td>\n",
       "    </tr>\n",
       "    <tr>\n",
       "      <th>307</th>\n",
       "      <td>116.00</td>\n",
       "      <td>173.00</td>\n",
       "      <td>14.30</td>\n",
       "      <td>192.00</td>\n",
       "      <td>2.82</td>\n",
       "      <td>1026.87</td>\n",
       "      <td>732.44</td>\n",
       "      <td>26.0</td>\n",
       "    </tr>\n",
       "    <tr>\n",
       "      <th>308</th>\n",
       "      <td>288.00</td>\n",
       "      <td>192.00</td>\n",
       "      <td>0.00</td>\n",
       "      <td>192.00</td>\n",
       "      <td>0.00</td>\n",
       "      <td>932.00</td>\n",
       "      <td>717.80</td>\n",
       "      <td>32.8</td>\n",
       "    </tr>\n",
       "  </tbody>\n",
       "</table>\n",
       "<p>309 rows × 8 columns</p>\n",
       "</div>"
      ],
      "text/plain": [
       "          0       1       2       3     4        5       6      7\n",
       "0    239.98   74.59   85.27  180.59  9.00   825.00  805.00   28.0\n",
       "1    525.00    0.00    0.00  189.00  0.00  1107.33  613.00   48.9\n",
       "2    339.42   66.01   38.90  185.46  9.00   825.00  805.00   28.0\n",
       "3    230.00    0.00  129.64  195.50  4.60  1029.40  758.60   56.0\n",
       "4    184.00  112.09  190.00  179.83  6.00  1021.29  623.00   35.2\n",
       "..      ...     ...     ...     ...   ...      ...     ...    ...\n",
       "304  332.50  142.50    0.00  228.00  0.00   932.00  594.00  180.0\n",
       "305  276.00  116.00   90.00  180.00  9.00   870.00  768.00   28.0\n",
       "306  443.87    0.00    0.00  196.65  0.00  1125.00  613.00  180.0\n",
       "307  116.00  173.00   14.30  192.00  2.82  1026.87  732.44   26.0\n",
       "308  288.00  192.00    0.00  192.00  0.00   932.00  717.80   32.8\n",
       "\n",
       "[309 rows x 8 columns]"
      ]
     },
     "execution_count": 117,
     "metadata": {},
     "output_type": "execute_result"
    }
   ],
   "source": [
    "data1_test"
   ]
  },
  {
   "cell_type": "code",
   "execution_count": 118,
   "id": "7bc09b20",
   "metadata": {},
   "outputs": [
    {
     "name": "stdout",
     "output_type": "stream",
     "text": [
      "[2021-10-20 14:45:46.819] Start to evalute the model:\n",
      "[2021-10-20 14:45:46.824] Evaluating cascade layer = 0 \n",
      "[2021-10-20 14:45:46.951] Evaluating cascade layer = 1 \n"
     ]
    }
   ],
   "source": [
    "predicted = deepft.predict(data1_test)\n",
    "predicted=predicted.reshape((predicted.shape[0]))"
   ]
  },
  {
   "cell_type": "code",
   "execution_count": 119,
   "id": "78e6b385",
   "metadata": {},
   "outputs": [],
   "source": [
    "one=pd.concat([data1_test,pd.DataFrame(predicted)],axis=1)"
   ]
  },
  {
   "cell_type": "code",
   "execution_count": 120,
   "id": "f5f4d7fa",
   "metadata": {},
   "outputs": [
    {
     "data": {
      "text/html": [
       "<div>\n",
       "<style scoped>\n",
       "    .dataframe tbody tr th:only-of-type {\n",
       "        vertical-align: middle;\n",
       "    }\n",
       "\n",
       "    .dataframe tbody tr th {\n",
       "        vertical-align: top;\n",
       "    }\n",
       "\n",
       "    .dataframe thead th {\n",
       "        text-align: right;\n",
       "    }\n",
       "</style>\n",
       "<table border=\"1\" class=\"dataframe\">\n",
       "  <thead>\n",
       "    <tr style=\"text-align: right;\">\n",
       "      <th></th>\n",
       "      <th>0</th>\n",
       "      <th>1</th>\n",
       "      <th>2</th>\n",
       "      <th>3</th>\n",
       "      <th>4</th>\n",
       "      <th>5</th>\n",
       "      <th>6</th>\n",
       "      <th>7</th>\n",
       "      <th>0</th>\n",
       "    </tr>\n",
       "  </thead>\n",
       "  <tbody>\n",
       "    <tr>\n",
       "      <th>0</th>\n",
       "      <td>239.98</td>\n",
       "      <td>74.59</td>\n",
       "      <td>85.27</td>\n",
       "      <td>180.59</td>\n",
       "      <td>9.0</td>\n",
       "      <td>825.00</td>\n",
       "      <td>805.0</td>\n",
       "      <td>28.0</td>\n",
       "      <td>36.884675</td>\n",
       "    </tr>\n",
       "    <tr>\n",
       "      <th>1</th>\n",
       "      <td>525.00</td>\n",
       "      <td>0.00</td>\n",
       "      <td>0.00</td>\n",
       "      <td>189.00</td>\n",
       "      <td>0.0</td>\n",
       "      <td>1107.33</td>\n",
       "      <td>613.0</td>\n",
       "      <td>48.9</td>\n",
       "      <td>49.047425</td>\n",
       "    </tr>\n",
       "    <tr>\n",
       "      <th>2</th>\n",
       "      <td>339.42</td>\n",
       "      <td>66.01</td>\n",
       "      <td>38.90</td>\n",
       "      <td>185.46</td>\n",
       "      <td>9.0</td>\n",
       "      <td>825.00</td>\n",
       "      <td>805.0</td>\n",
       "      <td>28.0</td>\n",
       "      <td>47.890325</td>\n",
       "    </tr>\n",
       "    <tr>\n",
       "      <th>3</th>\n",
       "      <td>230.00</td>\n",
       "      <td>0.00</td>\n",
       "      <td>129.64</td>\n",
       "      <td>195.50</td>\n",
       "      <td>4.6</td>\n",
       "      <td>1029.40</td>\n",
       "      <td>758.6</td>\n",
       "      <td>56.0</td>\n",
       "      <td>32.746500</td>\n",
       "    </tr>\n",
       "    <tr>\n",
       "      <th>4</th>\n",
       "      <td>184.00</td>\n",
       "      <td>112.09</td>\n",
       "      <td>190.00</td>\n",
       "      <td>179.83</td>\n",
       "      <td>6.0</td>\n",
       "      <td>1021.29</td>\n",
       "      <td>623.0</td>\n",
       "      <td>35.2</td>\n",
       "      <td>33.084100</td>\n",
       "    </tr>\n",
       "  </tbody>\n",
       "</table>\n",
       "</div>"
      ],
      "text/plain": [
       "        0       1       2       3    4        5      6     7          0\n",
       "0  239.98   74.59   85.27  180.59  9.0   825.00  805.0  28.0  36.884675\n",
       "1  525.00    0.00    0.00  189.00  0.0  1107.33  613.0  48.9  49.047425\n",
       "2  339.42   66.01   38.90  185.46  9.0   825.00  805.0  28.0  47.890325\n",
       "3  230.00    0.00  129.64  195.50  4.6  1029.40  758.6  56.0  32.746500\n",
       "4  184.00  112.09  190.00  179.83  6.0  1021.29  623.0  35.2  33.084100"
      ]
     },
     "execution_count": 120,
     "metadata": {},
     "output_type": "execute_result"
    }
   ],
   "source": [
    "one.head()"
   ]
  },
  {
   "cell_type": "code",
   "execution_count": 121,
   "id": "f0d41a1c",
   "metadata": {},
   "outputs": [
    {
     "data": {
      "image/png": "[encoded data removed]",
      "text/plain": [
       "<Figure size 432x288 with 1 Axes>"
      ]
     },
     "metadata": {
      "needs_background": "light"
     },
     "output_type": "display_data"
    }
   ],
   "source": [
    "plt.hist(one.iloc[:,-1],bins=25,color=\"#A2D2FF\")\n",
    "plt.show()"
   ]
  },
  {
   "cell_type": "code",
   "execution_count": 122,
   "id": "df28aea3",
   "metadata": {},
   "outputs": [],
   "source": [
    "one.to_csv(\".\\\\xgboost\\\\cart_deepforest_data1.csv\",header=False, index=False)"
   ]
  }
 ],
 "metadata": {
  "kernelspec": {
   "display_name": "Python 3 (ipykernel)",
   "language": "python",
   "name": "python3"
  },
  "language_info": {
   "codemirror_mode": {
    "name": "ipython",
    "version": 3
   },
   "file_extension": ".py",
   "mimetype": "text/x-python",
   "name": "python",
   "nbconvert_exporter": "python",
   "pygments_lexer": "ipython3",
   "version": "3.7.8"
  }
 },
 "nbformat": 4,
 "nbformat_minor": 5
}
