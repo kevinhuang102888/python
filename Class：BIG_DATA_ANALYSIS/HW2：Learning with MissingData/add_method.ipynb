{
 "cells": [
  {
   "cell_type": "code",
   "execution_count": null,
   "id": "9d63f1b4",
   "metadata": {},
   "outputs": [],
   "source": [
    "# Create the model\n",
    "knn = KNeighborsRegressor(n_neighbors=5)\n",
    "\n",
    "# Learn on the train subset\n",
    "knn.fit(train_data, train_labels)\n",
    "\n",
    "# Predict on the testing subset\n",
    "predicted = knn.predict(test_data)\n",
    "\n",
    "# Calculate MSE/MAE\n",
    "from sklearn.metrics import mean_squared_error\n",
    "from sklearn.metrics import mean_absolute_error\n",
    "MSE= mean_squared_error(test_labels, predicted)\n",
    "print('Mean_squared_error of testing dataset: ', MSE)\n",
    "MAE= mean_absolute_error(test_labels, predicted)\n",
    "print('Mean_squared_error of testing dataset: ', MAE)"
   ]
  },
  {
   "cell_type": "code",
   "execution_count": null,
   "id": "e68bdb78",
   "metadata": {},
   "outputs": [],
   "source": [
    "# Create the model\n",
    "RF = DecisionTreeRegressor()\n",
    "\n",
    "# Learn on the train subset\n",
    "RF.fit(train_data, train_labels)\n",
    "\n",
    "# Predict on the testing subset\n",
    "predicted =RF.predict(test_data)\n",
    "\n",
    "# Calculate MSE/MAE\n",
    "from sklearn.metrics import mean_squared_error\n",
    "from sklearn.metrics import mean_absolute_error\n",
    "MSE= mean_squared_error(test_labels, predicted)\n",
    "print('Mean_squared_error of testing dataset: ', MSE)\n",
    "MAE= mean_absolute_error(test_labels, predicted)\n",
    "print('Mean_squared_error of testing dataset: ', MAE)"
   ]
  },
  {
   "cell_type": "code",
   "execution_count": null,
   "id": "ba861049",
   "metadata": {},
   "outputs": [],
   "source": [
    "from sklearn.neural_network import MLPRegressor\n",
    "# Create the model\n",
    "MLP = MLPRegressor(activation='relu', alpha=0.0001, batch_size='auto', beta_1=0.9,\n",
    "       beta_2=0.999, early_stopping=False, epsilon=1e-08,\n",
    "       hidden_layer_sizes=(100,), learning_rate='constant',\n",
    "       learning_rate_init=0.001, max_iter=200, momentum=0.9,\n",
    "       n_iter_no_change=10, nesterovs_momentum=True, power_t=0.5,\n",
    "       random_state=None, shuffle=True, solver='adam', tol=0.0001,\n",
    "       validation_fraction=0.1, verbose=False, warm_start=False)\n",
    "\n",
    "# Learn the digits on the train subset\n",
    "MLP.fit(train_data, train_labels)\n",
    "\n",
    "# Predict the value of the digit on the testing subset\n",
    "predicted = MLP.predict(test_data)\n",
    "\n",
    "# Calculate MSE/MAE\n",
    "from sklearn.metrics import mean_squared_error\n",
    "from sklearn.metrics import mean_absolute_error\n",
    "MSE= mean_squared_error(test_labels, predicted)\n",
    "print('Mean_squared_error of testing dataset: ', MSE)\n",
    "MAE= mean_absolute_error(test_labels, predicted)\n",
    "print('Mean_squared_error of testing dataset: ', MAE)"
   ]
  },
  {
   "cell_type": "code",
   "execution_count": null,
   "id": "089ecbfa",
   "metadata": {},
   "outputs": [],
   "source": [
    "# Create the model\n",
    "CAT = CatBoostRegressor(iterations=40,\n",
    "              learning_rate=0.23,\n",
    "              depth=4)\n",
    "\n",
    "# Learn the digits on the train subset\n",
    "CAT.fit(train_data, train_labels)\n",
    "\n",
    "# Predict the value of the digit on the testing subset\n",
    "predicted = CAT.predict(test_data)\n",
    "\n",
    "# Calculate MSE/MAE\n",
    "from sklearn.metrics import mean_squared_error\n",
    "from sklearn.metrics import mean_absolute_error\n",
    "MSE= mean_squared_error(test_labels, predicted)\n",
    "print('Mean_squared_error of testing dataset: ', MSE)\n",
    "MAE= mean_absolute_error(test_labels, predicted)\n",
    "print('Mean_squared_error of testing dataset: ', MAE)"
   ]
  },
  {
   "cell_type": "code",
   "execution_count": null,
   "id": "38444763",
   "metadata": {},
   "outputs": [],
   "source": [
    "import lightgbm as lgb\n",
    "# Create the model\n",
    "LGBM = lgb.LGBMRegressor(application='regression', boosting='gbdt', learning_rate=0.27, max_depth=3, feature_fraction=0.99, random_state=42)\n",
    "\n",
    "# Learn the digits on the train subset\n",
    "LGBM.fit(train_data, train_labels)\n",
    "\n",
    "# Predict the value of the digit on the testing subset\n",
    "predicted = LGBM.predict(test_data)\n",
    "\n",
    "# Calculate MSE/MAE\n",
    "from sklearn.metrics import mean_squared_error\n",
    "from sklearn.metrics import mean_absolute_error\n",
    "MSE= mean_squared_error(test_labels, predicted)\n",
    "print('Mean_squared_error of testing dataset: ', MSE)\n",
    "MAE= mean_absolute_error(test_labels, predicted)\n",
    "print('Mean_squared_error of testing dataset: ', MAE)"
   ]
  }
 ],
 "metadata": {
  "kernelspec": {
   "display_name": "Python 3 (ipykernel)",
   "language": "python",
   "name": "python3"
  },
  "language_info": {
   "codemirror_mode": {
    "name": "ipython",
    "version": 3
   },
   "file_extension": ".py",
   "mimetype": "text/x-python",
   "name": "python",
   "nbconvert_exporter": "python",
   "pygments_lexer": "ipython3",
   "version": "3.7.2"
  }
 },
 "nbformat": 4,
 "nbformat_minor": 5
}
