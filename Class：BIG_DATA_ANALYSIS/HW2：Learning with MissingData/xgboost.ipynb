{
 "cells": [
  {
   "cell_type": "code",
   "execution_count": 2,
   "id": "15f93051",
   "metadata": {},
   "outputs": [],
   "source": [
    "import matplotlib.pyplot as plt\n",
    "import numpy as np\n",
    "import pandas as pd"
   ]
  },
  {
   "cell_type": "code",
   "execution_count": 3,
   "id": "c4f627f5",
   "metadata": {},
   "outputs": [],
   "source": [
    "from pylab import mpl\n",
    "plt.rcParams['font.sans-serif'] = ['Microsoft JhengHei']"
   ]
  },
  {
   "cell_type": "code",
   "execution_count": 4,
   "id": "3ae220d3",
   "metadata": {},
   "outputs": [],
   "source": [
    "#切資料/評估工具\n",
    "from sklearn.model_selection import train_test_split\n",
    "from sklearn.preprocessing import LabelEncoder\n",
    "from sklearn.metrics import roc_curve, auc\n",
    "from sklearn.model_selection import GridSearchCV\n",
    "from sklearn import metrics"
   ]
  },
  {
   "cell_type": "code",
   "execution_count": 5,
   "id": "32376ba3",
   "metadata": {},
   "outputs": [],
   "source": [
    "#方法集\n",
    "from sklearn.neighbors import KNeighborsRegressor\n",
    "from sklearn.tree import DecisionTreeRegressor\n",
    "from sklearn.neural_network import MLPClassifier\n",
    "from xgboost import XGBRegressor\n",
    "from catboost import CatBoostRegressor\n",
    "import lightgbm as lgb"
   ]
  },
  {
   "cell_type": "code",
   "execution_count": 6,
   "id": "b70c865e",
   "metadata": {},
   "outputs": [],
   "source": [
    "data1=pd.read_csv(\".\\\\hw2_data\\\\data1\\\\train.csv\",header=None)"
   ]
  },
  {
   "cell_type": "code",
   "execution_count": 7,
   "id": "bf9bb205",
   "metadata": {
    "scrolled": true
   },
   "outputs": [
    {
     "name": "stdout",
     "output_type": "stream",
     "text": [
      "<class 'pandas.core.frame.DataFrame'>\n",
      "RangeIndex: 765 entries, 0 to 764\n",
      "Data columns (total 9 columns):\n",
      " #   Column  Non-Null Count  Dtype  \n",
      "---  ------  --------------  -----  \n",
      " 0   0       531 non-null    float64\n",
      " 1   1       545 non-null    float64\n",
      " 2   2       547 non-null    float64\n",
      " 3   3       540 non-null    float64\n",
      " 4   4       546 non-null    float64\n",
      " 5   5       526 non-null    float64\n",
      " 6   6       516 non-null    float64\n",
      " 7   7       528 non-null    float64\n",
      " 8   8       765 non-null    float64\n",
      "dtypes: float64(9)\n",
      "memory usage: 53.9 KB\n"
     ]
    }
   ],
   "source": [
    "data1.info()"
   ]
  },
  {
   "cell_type": "code",
   "execution_count": 8,
   "id": "f5d4a5d7",
   "metadata": {},
   "outputs": [
    {
     "data": {
      "text/html": [
       "<div>\n",
       "<style scoped>\n",
       "    .dataframe tbody tr th:only-of-type {\n",
       "        vertical-align: middle;\n",
       "    }\n",
       "\n",
       "    .dataframe tbody tr th {\n",
       "        vertical-align: top;\n",
       "    }\n",
       "\n",
       "    .dataframe thead th {\n",
       "        text-align: right;\n",
       "    }\n",
       "</style>\n",
       "<table border=\"1\" class=\"dataframe\">\n",
       "  <thead>\n",
       "    <tr style=\"text-align: right;\">\n",
       "      <th></th>\n",
       "      <th>0</th>\n",
       "      <th>1</th>\n",
       "      <th>2</th>\n",
       "      <th>3</th>\n",
       "      <th>4</th>\n",
       "      <th>5</th>\n",
       "      <th>6</th>\n",
       "      <th>7</th>\n",
       "      <th>8</th>\n",
       "    </tr>\n",
       "  </thead>\n",
       "  <tbody>\n",
       "    <tr>\n",
       "      <th>count</th>\n",
       "      <td>531.000000</td>\n",
       "      <td>545.000000</td>\n",
       "      <td>547.000000</td>\n",
       "      <td>540.000000</td>\n",
       "      <td>546.000000</td>\n",
       "      <td>526.000000</td>\n",
       "      <td>516.000000</td>\n",
       "      <td>528.000000</td>\n",
       "      <td>765.000000</td>\n",
       "    </tr>\n",
       "    <tr>\n",
       "      <th>mean</th>\n",
       "      <td>278.636723</td>\n",
       "      <td>73.485872</td>\n",
       "      <td>54.272761</td>\n",
       "      <td>181.377778</td>\n",
       "      <td>6.064103</td>\n",
       "      <td>971.024525</td>\n",
       "      <td>774.913372</td>\n",
       "      <td>47.710227</td>\n",
       "      <td>35.506967</td>\n",
       "    </tr>\n",
       "    <tr>\n",
       "      <th>std</th>\n",
       "      <td>104.520929</td>\n",
       "      <td>84.979766</td>\n",
       "      <td>63.748166</td>\n",
       "      <td>20.626869</td>\n",
       "      <td>5.880766</td>\n",
       "      <td>77.044012</td>\n",
       "      <td>76.439383</td>\n",
       "      <td>66.853243</td>\n",
       "      <td>16.508134</td>\n",
       "    </tr>\n",
       "    <tr>\n",
       "      <th>min</th>\n",
       "      <td>102.000000</td>\n",
       "      <td>0.000000</td>\n",
       "      <td>0.000000</td>\n",
       "      <td>121.800000</td>\n",
       "      <td>0.000000</td>\n",
       "      <td>801.000000</td>\n",
       "      <td>594.000000</td>\n",
       "      <td>1.000000</td>\n",
       "      <td>2.330000</td>\n",
       "    </tr>\n",
       "    <tr>\n",
       "      <th>25%</th>\n",
       "      <td>188.100000</td>\n",
       "      <td>0.000000</td>\n",
       "      <td>0.000000</td>\n",
       "      <td>164.900000</td>\n",
       "      <td>0.000000</td>\n",
       "      <td>932.000000</td>\n",
       "      <td>736.450000</td>\n",
       "      <td>7.000000</td>\n",
       "      <td>23.520000</td>\n",
       "    </tr>\n",
       "    <tr>\n",
       "      <th>50%</th>\n",
       "      <td>272.600000</td>\n",
       "      <td>22.000000</td>\n",
       "      <td>0.000000</td>\n",
       "      <td>185.000000</td>\n",
       "      <td>6.000000</td>\n",
       "      <td>967.000000</td>\n",
       "      <td>778.450000</td>\n",
       "      <td>28.000000</td>\n",
       "      <td>33.960000</td>\n",
       "    </tr>\n",
       "    <tr>\n",
       "      <th>75%</th>\n",
       "      <td>352.450000</td>\n",
       "      <td>145.000000</td>\n",
       "      <td>118.300000</td>\n",
       "      <td>192.000000</td>\n",
       "      <td>10.000000</td>\n",
       "      <td>1027.725000</td>\n",
       "      <td>824.250000</td>\n",
       "      <td>56.000000</td>\n",
       "      <td>45.080000</td>\n",
       "    </tr>\n",
       "    <tr>\n",
       "      <th>max</th>\n",
       "      <td>540.000000</td>\n",
       "      <td>359.400000</td>\n",
       "      <td>200.100000</td>\n",
       "      <td>228.000000</td>\n",
       "      <td>32.200000</td>\n",
       "      <td>1130.000000</td>\n",
       "      <td>992.600000</td>\n",
       "      <td>365.000000</td>\n",
       "      <td>82.600000</td>\n",
       "    </tr>\n",
       "  </tbody>\n",
       "</table>\n",
       "</div>"
      ],
      "text/plain": [
       "                0           1           2           3           4  \\\n",
       "count  531.000000  545.000000  547.000000  540.000000  546.000000   \n",
       "mean   278.636723   73.485872   54.272761  181.377778    6.064103   \n",
       "std    104.520929   84.979766   63.748166   20.626869    5.880766   \n",
       "min    102.000000    0.000000    0.000000  121.800000    0.000000   \n",
       "25%    188.100000    0.000000    0.000000  164.900000    0.000000   \n",
       "50%    272.600000   22.000000    0.000000  185.000000    6.000000   \n",
       "75%    352.450000  145.000000  118.300000  192.000000   10.000000   \n",
       "max    540.000000  359.400000  200.100000  228.000000   32.200000   \n",
       "\n",
       "                 5           6           7           8  \n",
       "count   526.000000  516.000000  528.000000  765.000000  \n",
       "mean    971.024525  774.913372   47.710227   35.506967  \n",
       "std      77.044012   76.439383   66.853243   16.508134  \n",
       "min     801.000000  594.000000    1.000000    2.330000  \n",
       "25%     932.000000  736.450000    7.000000   23.520000  \n",
       "50%     967.000000  778.450000   28.000000   33.960000  \n",
       "75%    1027.725000  824.250000   56.000000   45.080000  \n",
       "max    1130.000000  992.600000  365.000000   82.600000  "
      ]
     },
     "execution_count": 8,
     "metadata": {},
     "output_type": "execute_result"
    }
   ],
   "source": [
    "data1.describe()"
   ]
  },
  {
   "cell_type": "code",
   "execution_count": 9,
   "id": "032bfa3c",
   "metadata": {
    "scrolled": false
   },
   "outputs": [
    {
     "data": {
      "text/html": [
       "<div>\n",
       "<style scoped>\n",
       "    .dataframe tbody tr th:only-of-type {\n",
       "        vertical-align: middle;\n",
       "    }\n",
       "\n",
       "    .dataframe tbody tr th {\n",
       "        vertical-align: top;\n",
       "    }\n",
       "\n",
       "    .dataframe thead th {\n",
       "        text-align: right;\n",
       "    }\n",
       "</style>\n",
       "<table border=\"1\" class=\"dataframe\">\n",
       "  <thead>\n",
       "    <tr style=\"text-align: right;\">\n",
       "      <th></th>\n",
       "      <th>0</th>\n",
       "      <th>1</th>\n",
       "      <th>2</th>\n",
       "      <th>3</th>\n",
       "      <th>4</th>\n",
       "      <th>5</th>\n",
       "      <th>6</th>\n",
       "      <th>7</th>\n",
       "      <th>8</th>\n",
       "    </tr>\n",
       "  </thead>\n",
       "  <tbody>\n",
       "    <tr>\n",
       "      <th>0</th>\n",
       "      <td>NaN</td>\n",
       "      <td>0.0</td>\n",
       "      <td>0.0</td>\n",
       "      <td>NaN</td>\n",
       "      <td>2.5</td>\n",
       "      <td>1055.0</td>\n",
       "      <td>676.0</td>\n",
       "      <td>28.0</td>\n",
       "      <td>61.89</td>\n",
       "    </tr>\n",
       "    <tr>\n",
       "      <th>1</th>\n",
       "      <td>NaN</td>\n",
       "      <td>142.5</td>\n",
       "      <td>0.0</td>\n",
       "      <td>NaN</td>\n",
       "      <td>0.0</td>\n",
       "      <td>932.0</td>\n",
       "      <td>594.0</td>\n",
       "      <td>270.0</td>\n",
       "      <td>40.27</td>\n",
       "    </tr>\n",
       "    <tr>\n",
       "      <th>2</th>\n",
       "      <td>332.5</td>\n",
       "      <td>142.5</td>\n",
       "      <td>0.0</td>\n",
       "      <td>NaN</td>\n",
       "      <td>0.0</td>\n",
       "      <td>932.0</td>\n",
       "      <td>594.0</td>\n",
       "      <td>365.0</td>\n",
       "      <td>41.05</td>\n",
       "    </tr>\n",
       "    <tr>\n",
       "      <th>3</th>\n",
       "      <td>NaN</td>\n",
       "      <td>132.4</td>\n",
       "      <td>0.0</td>\n",
       "      <td>NaN</td>\n",
       "      <td>0.0</td>\n",
       "      <td>978.4</td>\n",
       "      <td>825.5</td>\n",
       "      <td>360.0</td>\n",
       "      <td>44.30</td>\n",
       "    </tr>\n",
       "    <tr>\n",
       "      <th>4</th>\n",
       "      <td>NaN</td>\n",
       "      <td>95.0</td>\n",
       "      <td>NaN</td>\n",
       "      <td>NaN</td>\n",
       "      <td>0.0</td>\n",
       "      <td>NaN</td>\n",
       "      <td>594.0</td>\n",
       "      <td>365.0</td>\n",
       "      <td>43.70</td>\n",
       "    </tr>\n",
       "  </tbody>\n",
       "</table>\n",
       "</div>"
      ],
      "text/plain": [
       "       0      1    2   3    4       5      6      7      8\n",
       "0    NaN    0.0  0.0 NaN  2.5  1055.0  676.0   28.0  61.89\n",
       "1    NaN  142.5  0.0 NaN  0.0   932.0  594.0  270.0  40.27\n",
       "2  332.5  142.5  0.0 NaN  0.0   932.0  594.0  365.0  41.05\n",
       "3    NaN  132.4  0.0 NaN  0.0   978.4  825.5  360.0  44.30\n",
       "4    NaN   95.0  NaN NaN  0.0     NaN  594.0  365.0  43.70"
      ]
     },
     "execution_count": 9,
     "metadata": {},
     "output_type": "execute_result"
    }
   ],
   "source": [
    "data1.head()"
   ]
  },
  {
   "cell_type": "code",
   "execution_count": 10,
   "id": "9a74d915",
   "metadata": {
    "scrolled": false
   },
   "outputs": [
    {
     "data": {
      "text/plain": [
       "0    216\n",
       "1    141\n",
       "2    104\n",
       "3    151\n",
       "4     89\n",
       "5    204\n",
       "6    224\n",
       "7     14\n",
       "8    646\n",
       "dtype: int64"
      ]
     },
     "execution_count": 10,
     "metadata": {},
     "output_type": "execute_result"
    }
   ],
   "source": [
    "data1.nunique()"
   ]
  },
  {
   "cell_type": "code",
   "execution_count": 11,
   "id": "02585e41",
   "metadata": {},
   "outputs": [
    {
     "data": {
      "image/png": "[encoded data removed]",
      "text/plain": [
       "<Figure size 432x288 with 1 Axes>"
      ]
     },
     "metadata": {
      "needs_background": "light"
     },
     "output_type": "display_data"
    }
   ],
   "source": [
    "plt.hist(data1.iloc[:,-1],bins=25,color=\"#A2D2FF\")\n",
    "plt.show()"
   ]
  },
  {
   "cell_type": "code",
   "execution_count": 12,
   "id": "97b08704",
   "metadata": {},
   "outputs": [
    {
     "data": {
      "text/plain": [
       "<AxesSubplot:>"
      ]
     },
     "execution_count": 12,
     "metadata": {},
     "output_type": "execute_result"
    },
    {
     "data": {
      "image/png": "[encoded data removed]",
      "text/plain": [
       "<Figure size 1800x720 with 2 Axes>"
      ]
     },
     "metadata": {
      "needs_background": "light"
     },
     "output_type": "display_data"
    }
   ],
   "source": [
    "import missingno as msno\n",
    "%matplotlib inline\n",
    "msno.matrix(data1)"
   ]
  },
  {
   "cell_type": "code",
   "execution_count": 12,
   "id": "e3c22022",
   "metadata": {
    "scrolled": true
   },
   "outputs": [
    {
     "data": {
      "text/plain": [
       "<AxesSubplot:>"
      ]
     },
     "execution_count": 12,
     "metadata": {},
     "output_type": "execute_result"
    },
    {
     "data": {
      "image/png": "[encoded data removed]",
      "text/plain": [
       "<Figure size 1800x720 with 3 Axes>"
      ]
     },
     "metadata": {
      "needs_background": "light"
     },
     "output_type": "display_data"
    }
   ],
   "source": [
    "msno.bar(data1)"
   ]
  },
  {
   "cell_type": "code",
   "execution_count": 13,
   "id": "c68d720b",
   "metadata": {},
   "outputs": [
    {
     "name": "stderr",
     "output_type": "stream",
     "text": [
      "c:\\users\\kevin\\appdata\\local\\programs\\python\\python37\\lib\\site-packages\\seaborn\\matrix.py:301: UserWarning: Attempting to set identical left == right == 0 results in singular transformations; automatically expanding.\n",
      "  ax.set(xlim=(0, self.data.shape[1]), ylim=(0, self.data.shape[0]))\n",
      "c:\\users\\kevin\\appdata\\local\\programs\\python\\python37\\lib\\site-packages\\seaborn\\matrix.py:301: UserWarning: Attempting to set identical bottom == top == 0 results in singular transformations; automatically expanding.\n",
      "  ax.set(xlim=(0, self.data.shape[1]), ylim=(0, self.data.shape[0]))\n",
      "c:\\users\\kevin\\appdata\\local\\programs\\python\\python37\\lib\\site-packages\\matplotlib\\backends\\backend_agg.py:240: RuntimeWarning: Glyph 8722 missing from current font.\n",
      "  font.set_text(s, 0.0, flags=flags)\n",
      "c:\\users\\kevin\\appdata\\local\\programs\\python\\python37\\lib\\site-packages\\matplotlib\\backends\\backend_agg.py:203: RuntimeWarning: Glyph 8722 missing from current font.\n",
      "  font.set_text(s, 0, flags=flags)\n"
     ]
    },
    {
     "data": {
      "text/plain": [
       "<AxesSubplot:>"
      ]
     },
     "execution_count": 13,
     "metadata": {},
     "output_type": "execute_result"
    },
    {
     "data": {
      "image/png": "[encoded data removed]",
      "text/plain": [
       "<Figure size 1440x864 with 2 Axes>"
      ]
     },
     "metadata": {
      "needs_background": "light"
     },
     "output_type": "display_data"
    }
   ],
   "source": [
    "msno.heatmap(data1)"
   ]
  },
  {
   "cell_type": "code",
   "execution_count": 14,
   "id": "4255f1c5",
   "metadata": {},
   "outputs": [
    {
     "name": "stderr",
     "output_type": "stream",
     "text": [
      "c:\\users\\kevin\\appdata\\local\\programs\\python\\python37\\lib\\site-packages\\scipy\\cluster\\hierarchy.py:2844: UserWarning: Attempting to set identical bottom == top == 0.0 results in singular transformations; automatically expanding.\n",
      "  ax.set_ylim([dvw, 0])\n"
     ]
    },
    {
     "data": {
      "text/plain": [
       "<AxesSubplot:>"
      ]
     },
     "execution_count": 14,
     "metadata": {},
     "output_type": "execute_result"
    },
    {
     "data": {
      "image/png": "[encoded data removed]",
      "text/plain": [
       "<Figure size 1800x720 with 1 Axes>"
      ]
     },
     "metadata": {
      "needs_background": "light"
     },
     "output_type": "display_data"
    }
   ],
   "source": [
    "msno.dendrogram(data1)"
   ]
  },
  {
   "cell_type": "code",
   "execution_count": 233,
   "id": "0b80b1d1",
   "metadata": {},
   "outputs": [],
   "source": [
    "data1=pd.read_csv(\".\\\\hw2_data\\\\data1\\\\train_mid.csv\",header=None)"
   ]
  },
  {
   "cell_type": "code",
   "execution_count": 272,
   "id": "2384dda1",
   "metadata": {},
   "outputs": [],
   "source": [
    "data1_true=pd.read_csv(\".\\\\hw2_data\\\\data7\\\\train.csv\",header=None)\n",
    "data1=pd.read_csv(\".\\\\hw2_data\\\\data7\\\\train_forest.csv\",header=None)\n",
    "data1=pd.concat([data1,data1_true.iloc[:,-1]],axis=1)"
   ]
  },
  {
   "cell_type": "code",
   "execution_count": 273,
   "id": "2c23fcd3",
   "metadata": {},
   "outputs": [
    {
     "data": {
      "text/html": [
       "<div>\n",
       "<style scoped>\n",
       "    .dataframe tbody tr th:only-of-type {\n",
       "        vertical-align: middle;\n",
       "    }\n",
       "\n",
       "    .dataframe tbody tr th {\n",
       "        vertical-align: top;\n",
       "    }\n",
       "\n",
       "    .dataframe thead th {\n",
       "        text-align: right;\n",
       "    }\n",
       "</style>\n",
       "<table border=\"1\" class=\"dataframe\">\n",
       "  <thead>\n",
       "    <tr style=\"text-align: right;\">\n",
       "      <th></th>\n",
       "      <th>0</th>\n",
       "      <th>1</th>\n",
       "      <th>2</th>\n",
       "      <th>3</th>\n",
       "      <th>4</th>\n",
       "      <th>5</th>\n",
       "      <th>6</th>\n",
       "    </tr>\n",
       "  </thead>\n",
       "  <tbody>\n",
       "    <tr>\n",
       "      <th>0</th>\n",
       "      <td>-2.3</td>\n",
       "      <td>0.568</td>\n",
       "      <td>4.7986</td>\n",
       "      <td>3.9474</td>\n",
       "      <td>3.1700</td>\n",
       "      <td>0.150000</td>\n",
       "      <td>0.27</td>\n",
       "    </tr>\n",
       "    <tr>\n",
       "      <th>1</th>\n",
       "      <td>-2.3</td>\n",
       "      <td>0.568</td>\n",
       "      <td>4.7800</td>\n",
       "      <td>3.9900</td>\n",
       "      <td>3.1700</td>\n",
       "      <td>0.200000</td>\n",
       "      <td>0.78</td>\n",
       "    </tr>\n",
       "    <tr>\n",
       "      <th>2</th>\n",
       "      <td>-2.3</td>\n",
       "      <td>0.568</td>\n",
       "      <td>4.7800</td>\n",
       "      <td>4.0171</td>\n",
       "      <td>3.1700</td>\n",
       "      <td>0.225000</td>\n",
       "      <td>1.18</td>\n",
       "    </tr>\n",
       "    <tr>\n",
       "      <th>3</th>\n",
       "      <td>-2.3</td>\n",
       "      <td>0.568</td>\n",
       "      <td>4.7800</td>\n",
       "      <td>3.9985</td>\n",
       "      <td>3.1700</td>\n",
       "      <td>0.214771</td>\n",
       "      <td>1.82</td>\n",
       "    </tr>\n",
       "    <tr>\n",
       "      <th>4</th>\n",
       "      <td>-2.3</td>\n",
       "      <td>0.568</td>\n",
       "      <td>4.7800</td>\n",
       "      <td>3.9900</td>\n",
       "      <td>3.1688</td>\n",
       "      <td>0.212521</td>\n",
       "      <td>3.76</td>\n",
       "    </tr>\n",
       "  </tbody>\n",
       "</table>\n",
       "</div>"
      ],
      "text/plain": [
       "     0      1       2       3       4         5     6\n",
       "0 -2.3  0.568  4.7986  3.9474  3.1700  0.150000  0.27\n",
       "1 -2.3  0.568  4.7800  3.9900  3.1700  0.200000  0.78\n",
       "2 -2.3  0.568  4.7800  4.0171  3.1700  0.225000  1.18\n",
       "3 -2.3  0.568  4.7800  3.9985  3.1700  0.214771  1.82\n",
       "4 -2.3  0.568  4.7800  3.9900  3.1688  0.212521  3.76"
      ]
     },
     "execution_count": 273,
     "metadata": {},
     "output_type": "execute_result"
    }
   ],
   "source": [
    "from sklearn.impute import KNNImputer \n",
    "imputer = KNNImputer(n_neighbors=4,weights=\"distance\") \n",
    "imputed_data1 = imputer.fit_transform(data1) \n",
    "data1 = pd.DataFrame(imputed_data1) \n",
    "data1.head()"
   ]
  },
  {
   "cell_type": "code",
   "execution_count": 274,
   "id": "eccf9335",
   "metadata": {
    "scrolled": true
   },
   "outputs": [
    {
     "data": {
      "text/html": [
       "<div>\n",
       "<style scoped>\n",
       "    .dataframe tbody tr th:only-of-type {\n",
       "        vertical-align: middle;\n",
       "    }\n",
       "\n",
       "    .dataframe tbody tr th {\n",
       "        vertical-align: top;\n",
       "    }\n",
       "\n",
       "    .dataframe thead th {\n",
       "        text-align: right;\n",
       "    }\n",
       "</style>\n",
       "<table border=\"1\" class=\"dataframe\">\n",
       "  <thead>\n",
       "    <tr style=\"text-align: right;\">\n",
       "      <th></th>\n",
       "      <th>0</th>\n",
       "      <th>1</th>\n",
       "      <th>2</th>\n",
       "      <th>3</th>\n",
       "      <th>4</th>\n",
       "      <th>5</th>\n",
       "      <th>6</th>\n",
       "    </tr>\n",
       "  </thead>\n",
       "  <tbody>\n",
       "    <tr>\n",
       "      <th>0</th>\n",
       "      <td>-2.3</td>\n",
       "      <td>0.568</td>\n",
       "      <td>4.7986</td>\n",
       "      <td>3.9474</td>\n",
       "      <td>3.1700</td>\n",
       "      <td>0.150000</td>\n",
       "      <td>0.27</td>\n",
       "    </tr>\n",
       "    <tr>\n",
       "      <th>1</th>\n",
       "      <td>-2.3</td>\n",
       "      <td>0.568</td>\n",
       "      <td>4.7800</td>\n",
       "      <td>3.9900</td>\n",
       "      <td>3.1700</td>\n",
       "      <td>0.200000</td>\n",
       "      <td>0.78</td>\n",
       "    </tr>\n",
       "    <tr>\n",
       "      <th>2</th>\n",
       "      <td>-2.3</td>\n",
       "      <td>0.568</td>\n",
       "      <td>4.7800</td>\n",
       "      <td>4.0171</td>\n",
       "      <td>3.1700</td>\n",
       "      <td>0.225000</td>\n",
       "      <td>1.18</td>\n",
       "    </tr>\n",
       "    <tr>\n",
       "      <th>3</th>\n",
       "      <td>-2.3</td>\n",
       "      <td>0.568</td>\n",
       "      <td>4.7800</td>\n",
       "      <td>3.9985</td>\n",
       "      <td>3.1700</td>\n",
       "      <td>0.214771</td>\n",
       "      <td>1.82</td>\n",
       "    </tr>\n",
       "    <tr>\n",
       "      <th>4</th>\n",
       "      <td>-2.3</td>\n",
       "      <td>0.568</td>\n",
       "      <td>4.7800</td>\n",
       "      <td>3.9900</td>\n",
       "      <td>3.1688</td>\n",
       "      <td>0.212521</td>\n",
       "      <td>3.76</td>\n",
       "    </tr>\n",
       "  </tbody>\n",
       "</table>\n",
       "</div>"
      ],
      "text/plain": [
       "     0      1       2       3       4         5     6\n",
       "0 -2.3  0.568  4.7986  3.9474  3.1700  0.150000  0.27\n",
       "1 -2.3  0.568  4.7800  3.9900  3.1700  0.200000  0.78\n",
       "2 -2.3  0.568  4.7800  4.0171  3.1700  0.225000  1.18\n",
       "3 -2.3  0.568  4.7800  3.9985  3.1700  0.214771  1.82\n",
       "4 -2.3  0.568  4.7800  3.9900  3.1688  0.212521  3.76"
      ]
     },
     "execution_count": 274,
     "metadata": {},
     "output_type": "execute_result"
    }
   ],
   "source": [
    "from sklearn.experimental import enable_iterative_imputer\n",
    "from sklearn.impute import IterativeImputer\n",
    "imputer = IterativeImputer(initial_strategy=\"most_frequent\",estimator=KNeighborsRegressor(n_neighbors=3),max_iter=40)\n",
    "imputed_data1 = imputer.fit_transform(data1) \n",
    "data1 = pd.DataFrame(imputed_data1) \n",
    "data1.head()"
   ]
  },
  {
   "cell_type": "code",
   "execution_count": 275,
   "id": "7f42d1f3",
   "metadata": {},
   "outputs": [],
   "source": [
    "from sklearn.impute import SimpleImputer"
   ]
  },
  {
   "cell_type": "markdown",
   "id": "514e653a",
   "metadata": {},
   "source": [
    "# 模型建立"
   ]
  },
  {
   "cell_type": "code",
   "execution_count": 276,
   "id": "5a45db20",
   "metadata": {},
   "outputs": [
    {
     "name": "stdout",
     "output_type": "stream",
     "text": [
      "Size of training dataset: (196, 6)\n",
      "Size of testing dataset: (35, 6)\n"
     ]
    }
   ],
   "source": [
    "#切割資料，train:test=0.85:0.15\n",
    "train_data,test_data,train_labels,test_labels=train_test_split(data1.iloc[:,0:6],data1.iloc[:,-1],test_size=0.15, random_state=69)\n",
    "print('Size of training dataset:', train_data.shape)\n",
    "print('Size of testing dataset:', test_data.shape)"
   ]
  },
  {
   "cell_type": "code",
   "execution_count": 277,
   "id": "05fe3c36",
   "metadata": {
    "scrolled": true
   },
   "outputs": [
    {
     "data": {
      "text/html": [
       "<div>\n",
       "<style scoped>\n",
       "    .dataframe tbody tr th:only-of-type {\n",
       "        vertical-align: middle;\n",
       "    }\n",
       "\n",
       "    .dataframe tbody tr th {\n",
       "        vertical-align: top;\n",
       "    }\n",
       "\n",
       "    .dataframe thead th {\n",
       "        text-align: right;\n",
       "    }\n",
       "</style>\n",
       "<table border=\"1\" class=\"dataframe\">\n",
       "  <thead>\n",
       "    <tr style=\"text-align: right;\">\n",
       "      <th></th>\n",
       "      <th>0</th>\n",
       "      <th>1</th>\n",
       "      <th>2</th>\n",
       "      <th>3</th>\n",
       "      <th>4</th>\n",
       "      <th>5</th>\n",
       "    </tr>\n",
       "  </thead>\n",
       "  <tbody>\n",
       "    <tr>\n",
       "      <th>109</th>\n",
       "      <td>-5.000000</td>\n",
       "      <td>0.565000</td>\n",
       "      <td>4.7704</td>\n",
       "      <td>3.9900</td>\n",
       "      <td>3.1500</td>\n",
       "      <td>0.400000</td>\n",
       "    </tr>\n",
       "    <tr>\n",
       "      <th>204</th>\n",
       "      <td>-5.000000</td>\n",
       "      <td>0.530000</td>\n",
       "      <td>4.7821</td>\n",
       "      <td>3.7500</td>\n",
       "      <td>3.1500</td>\n",
       "      <td>0.425000</td>\n",
       "    </tr>\n",
       "    <tr>\n",
       "      <th>112</th>\n",
       "      <td>-1.431655</td>\n",
       "      <td>0.565000</td>\n",
       "      <td>5.1000</td>\n",
       "      <td>3.8711</td>\n",
       "      <td>3.5100</td>\n",
       "      <td>0.125000</td>\n",
       "    </tr>\n",
       "    <tr>\n",
       "      <th>180</th>\n",
       "      <td>-5.000000</td>\n",
       "      <td>0.565559</td>\n",
       "      <td>4.7800</td>\n",
       "      <td>3.9837</td>\n",
       "      <td>3.1500</td>\n",
       "      <td>0.321400</td>\n",
       "    </tr>\n",
       "    <tr>\n",
       "      <th>209</th>\n",
       "      <td>-2.300000</td>\n",
       "      <td>0.600000</td>\n",
       "      <td>4.8694</td>\n",
       "      <td>4.1700</td>\n",
       "      <td>3.3190</td>\n",
       "      <td>0.225000</td>\n",
       "    </tr>\n",
       "    <tr>\n",
       "      <th>...</th>\n",
       "      <td>...</td>\n",
       "      <td>...</td>\n",
       "      <td>...</td>\n",
       "      <td>...</td>\n",
       "      <td>...</td>\n",
       "      <td>...</td>\n",
       "    </tr>\n",
       "    <tr>\n",
       "      <th>90</th>\n",
       "      <td>-1.955000</td>\n",
       "      <td>0.573500</td>\n",
       "      <td>4.7800</td>\n",
       "      <td>4.1300</td>\n",
       "      <td>3.1109</td>\n",
       "      <td>0.282265</td>\n",
       "    </tr>\n",
       "    <tr>\n",
       "      <th>107</th>\n",
       "      <td>-4.333667</td>\n",
       "      <td>0.565890</td>\n",
       "      <td>4.7700</td>\n",
       "      <td>3.9900</td>\n",
       "      <td>3.1526</td>\n",
       "      <td>0.325000</td>\n",
       "    </tr>\n",
       "    <tr>\n",
       "      <th>201</th>\n",
       "      <td>-5.000000</td>\n",
       "      <td>0.542010</td>\n",
       "      <td>4.7800</td>\n",
       "      <td>3.7500</td>\n",
       "      <td>3.1554</td>\n",
       "      <td>0.325000</td>\n",
       "    </tr>\n",
       "    <tr>\n",
       "      <th>203</th>\n",
       "      <td>-5.000000</td>\n",
       "      <td>0.533900</td>\n",
       "      <td>4.7864</td>\n",
       "      <td>3.7500</td>\n",
       "      <td>3.1500</td>\n",
       "      <td>0.400000</td>\n",
       "    </tr>\n",
       "    <tr>\n",
       "      <th>54</th>\n",
       "      <td>-2.400000</td>\n",
       "      <td>0.568000</td>\n",
       "      <td>4.3400</td>\n",
       "      <td>2.9800</td>\n",
       "      <td>3.1500</td>\n",
       "      <td>0.250000</td>\n",
       "    </tr>\n",
       "  </tbody>\n",
       "</table>\n",
       "<p>196 rows × 6 columns</p>\n",
       "</div>"
      ],
      "text/plain": [
       "            0         1       2       3       4         5\n",
       "109 -5.000000  0.565000  4.7704  3.9900  3.1500  0.400000\n",
       "204 -5.000000  0.530000  4.7821  3.7500  3.1500  0.425000\n",
       "112 -1.431655  0.565000  5.1000  3.8711  3.5100  0.125000\n",
       "180 -5.000000  0.565559  4.7800  3.9837  3.1500  0.321400\n",
       "209 -2.300000  0.600000  4.8694  4.1700  3.3190  0.225000\n",
       "..        ...       ...     ...     ...     ...       ...\n",
       "90  -1.955000  0.573500  4.7800  4.1300  3.1109  0.282265\n",
       "107 -4.333667  0.565890  4.7700  3.9900  3.1526  0.325000\n",
       "201 -5.000000  0.542010  4.7800  3.7500  3.1554  0.325000\n",
       "203 -5.000000  0.533900  4.7864  3.7500  3.1500  0.400000\n",
       "54  -2.400000  0.568000  4.3400  2.9800  3.1500  0.250000\n",
       "\n",
       "[196 rows x 6 columns]"
      ]
     },
     "execution_count": 277,
     "metadata": {},
     "output_type": "execute_result"
    }
   ],
   "source": [
    "train_data"
   ]
  },
  {
   "cell_type": "code",
   "execution_count": 278,
   "id": "c19d4bdb",
   "metadata": {},
   "outputs": [],
   "source": [
    "#from xgboost.sklearn import XGBClassifier"
   ]
  },
  {
   "cell_type": "code",
   "execution_count": 279,
   "id": "899fa1e1",
   "metadata": {},
   "outputs": [
    {
     "name": "stdout",
     "output_type": "stream",
     "text": [
      "Mean_squared_error of testing dataset:  102.69547317934129\n",
      "Mean_absolute_error of testing dataset:  5.4666346055609845\n"
     ]
    }
   ],
   "source": [
    "# Create the model\n",
    "XGB = XGBRegressor(n_estimators=18,min_child_weight=5,subsample=0.88)\n",
    "\n",
    "# Learn the digits on the train subset\n",
    "XGB.fit(train_data, train_labels)\n",
    "\n",
    "# Predict the value of the digit on the testing subset\n",
    "predicted = XGB.predict(test_data)\n",
    "\n",
    "# Calculate MSE/MAE\n",
    "from sklearn.metrics import mean_squared_error\n",
    "from sklearn.metrics import mean_absolute_error\n",
    "MSE= mean_squared_error(test_labels, predicted)\n",
    "print('Mean_squared_error of testing dataset: ', MSE)\n",
    "MAE= mean_absolute_error(test_labels, predicted)\n",
    "print('Mean_absolute_error of testing dataset: ', MAE)"
   ]
  },
  {
   "cell_type": "code",
   "execution_count": 79,
   "id": "85300693",
   "metadata": {
    "scrolled": true
   },
   "outputs": [
    {
     "data": {
      "image/png": "[encoded data removed]",
      "text/plain": [
       "<Figure size 432x288 with 1 Axes>"
      ]
     },
     "metadata": {
      "needs_background": "light"
     },
     "output_type": "display_data"
    }
   ],
   "source": [
    "from xgboost import plot_importance\n",
    "plot_importance(XGB)\n",
    "plt.show()"
   ]
  },
  {
   "cell_type": "code",
   "execution_count": 81,
   "id": "c002d0b8",
   "metadata": {
    "scrolled": true
   },
   "outputs": [
    {
     "data": {
      "image/png": "[encoded data removed]",
      "text/plain": [
       "<Figure size 432x288 with 1 Axes>"
      ]
     },
     "metadata": {
      "needs_background": "light"
     },
     "output_type": "display_data"
    }
   ],
   "source": [
    "compare=[predicted,test_labels]\n",
    "\n",
    "plt.boxplot(compare, labels= ['預測', '實際'])\n",
    "plt.title(\"預測與實際差異\",{\"fontsize\" : 20} )\n",
    "plt.show()"
   ]
  },
  {
   "cell_type": "code",
   "execution_count": 82,
   "id": "83004a00",
   "metadata": {},
   "outputs": [
    {
     "name": "stderr",
     "output_type": "stream",
     "text": [
      "c:\\users\\kevin\\appdata\\local\\programs\\python\\python37\\lib\\site-packages\\matplotlib\\backends\\backend_agg.py:240: RuntimeWarning: Glyph 8722 missing from current font.\n",
      "  font.set_text(s, 0.0, flags=flags)\n",
      "c:\\users\\kevin\\appdata\\local\\programs\\python\\python37\\lib\\site-packages\\matplotlib\\backends\\backend_agg.py:203: RuntimeWarning: Glyph 8722 missing from current font.\n",
      "  font.set_text(s, 0, flags=flags)\n"
     ]
    },
    {
     "data": {
      "image/png": "[encoded data removed]",
      "text/plain": [
       "<Figure size 432x288 with 1 Axes>"
      ]
     },
     "metadata": {
      "needs_background": "light"
     },
     "output_type": "display_data"
    }
   ],
   "source": [
    "plt.plot([x for x in range(0,len(predicted-test_labels))],predicted-test_labels)\n",
    "plt.ylabel(\"預測誤差\")\n",
    "plt.title(\"殘差圖\",{\"fontsize\" : 20} )\n",
    "plt.show()"
   ]
  },
  {
   "cell_type": "code",
   "execution_count": 84,
   "id": "3a5873a1",
   "metadata": {},
   "outputs": [],
   "source": [
    "data1_test=pd.read_csv(\".\\\\hw2_data\\\\data7\\\\test_mid.csv\",header=None)\n",
    "#imputed_data1_test = imputer.fit_transform(data1_test) \n",
    "#data1_test = pd.DataFrame(imputed_data1_test) \n",
    "#data1_test = data1_test.drop(data1_test.columns[[11]], axis=1) "
   ]
  },
  {
   "cell_type": "code",
   "execution_count": 85,
   "id": "8ce293cc",
   "metadata": {},
   "outputs": [
    {
     "data": {
      "text/html": [
       "<div>\n",
       "<style scoped>\n",
       "    .dataframe tbody tr th:only-of-type {\n",
       "        vertical-align: middle;\n",
       "    }\n",
       "\n",
       "    .dataframe tbody tr th {\n",
       "        vertical-align: top;\n",
       "    }\n",
       "\n",
       "    .dataframe thead th {\n",
       "        text-align: right;\n",
       "    }\n",
       "</style>\n",
       "<table border=\"1\" class=\"dataframe\">\n",
       "  <thead>\n",
       "    <tr style=\"text-align: right;\">\n",
       "      <th></th>\n",
       "      <th>0</th>\n",
       "      <th>1</th>\n",
       "      <th>2</th>\n",
       "      <th>3</th>\n",
       "      <th>4</th>\n",
       "      <th>5</th>\n",
       "    </tr>\n",
       "  </thead>\n",
       "  <tbody>\n",
       "    <tr>\n",
       "      <th>0</th>\n",
       "      <td>-2.30</td>\n",
       "      <td>0.5300</td>\n",
       "      <td>5.11</td>\n",
       "      <td>3.69</td>\n",
       "      <td>3.510</td>\n",
       "      <td>0.250</td>\n",
       "    </tr>\n",
       "    <tr>\n",
       "      <th>1</th>\n",
       "      <td>-1.82</td>\n",
       "      <td>0.5504</td>\n",
       "      <td>4.34</td>\n",
       "      <td>2.81</td>\n",
       "      <td>3.150</td>\n",
       "      <td>0.300</td>\n",
       "    </tr>\n",
       "    <tr>\n",
       "      <th>2</th>\n",
       "      <td>0.00</td>\n",
       "      <td>0.6000</td>\n",
       "      <td>4.78</td>\n",
       "      <td>4.24</td>\n",
       "      <td>3.150</td>\n",
       "      <td>0.275</td>\n",
       "    </tr>\n",
       "    <tr>\n",
       "      <th>3</th>\n",
       "      <td>-2.40</td>\n",
       "      <td>0.5740</td>\n",
       "      <td>4.36</td>\n",
       "      <td>3.96</td>\n",
       "      <td>2.760</td>\n",
       "      <td>0.325</td>\n",
       "    </tr>\n",
       "    <tr>\n",
       "      <th>4</th>\n",
       "      <td>-2.30</td>\n",
       "      <td>0.5300</td>\n",
       "      <td>4.76</td>\n",
       "      <td>3.68</td>\n",
       "      <td>3.186</td>\n",
       "      <td>0.360</td>\n",
       "    </tr>\n",
       "  </tbody>\n",
       "</table>\n",
       "</div>"
      ],
      "text/plain": [
       "      0       1     2     3      4      5\n",
       "0 -2.30  0.5300  5.11  3.69  3.510  0.250\n",
       "1 -1.82  0.5504  4.34  2.81  3.150  0.300\n",
       "2  0.00  0.6000  4.78  4.24  3.150  0.275\n",
       "3 -2.40  0.5740  4.36  3.96  2.760  0.325\n",
       "4 -2.30  0.5300  4.76  3.68  3.186  0.360"
      ]
     },
     "execution_count": 85,
     "metadata": {},
     "output_type": "execute_result"
    }
   ],
   "source": [
    "data1_test.head()"
   ]
  },
  {
   "cell_type": "code",
   "execution_count": 86,
   "id": "a455a01a",
   "metadata": {},
   "outputs": [],
   "source": [
    "predicted = XGB.predict(data1_test)"
   ]
  },
  {
   "cell_type": "code",
   "execution_count": 87,
   "id": "f0d0ca55",
   "metadata": {},
   "outputs": [],
   "source": [
    "one=pd.concat([data1_test,pd.DataFrame(predicted)],axis=1)"
   ]
  },
  {
   "cell_type": "code",
   "execution_count": 88,
   "id": "b06f160c",
   "metadata": {
    "scrolled": false
   },
   "outputs": [
    {
     "data": {
      "text/html": [
       "<div>\n",
       "<style scoped>\n",
       "    .dataframe tbody tr th:only-of-type {\n",
       "        vertical-align: middle;\n",
       "    }\n",
       "\n",
       "    .dataframe tbody tr th {\n",
       "        vertical-align: top;\n",
       "    }\n",
       "\n",
       "    .dataframe thead th {\n",
       "        text-align: right;\n",
       "    }\n",
       "</style>\n",
       "<table border=\"1\" class=\"dataframe\">\n",
       "  <thead>\n",
       "    <tr style=\"text-align: right;\">\n",
       "      <th></th>\n",
       "      <th>0</th>\n",
       "      <th>1</th>\n",
       "      <th>2</th>\n",
       "      <th>3</th>\n",
       "      <th>4</th>\n",
       "      <th>5</th>\n",
       "      <th>0</th>\n",
       "    </tr>\n",
       "  </thead>\n",
       "  <tbody>\n",
       "    <tr>\n",
       "      <th>0</th>\n",
       "      <td>-2.30</td>\n",
       "      <td>0.5300</td>\n",
       "      <td>5.11</td>\n",
       "      <td>3.69</td>\n",
       "      <td>3.510</td>\n",
       "      <td>0.250</td>\n",
       "      <td>2.058580</td>\n",
       "    </tr>\n",
       "    <tr>\n",
       "      <th>1</th>\n",
       "      <td>-1.82</td>\n",
       "      <td>0.5504</td>\n",
       "      <td>4.34</td>\n",
       "      <td>2.81</td>\n",
       "      <td>3.150</td>\n",
       "      <td>0.300</td>\n",
       "      <td>3.484516</td>\n",
       "    </tr>\n",
       "    <tr>\n",
       "      <th>2</th>\n",
       "      <td>0.00</td>\n",
       "      <td>0.6000</td>\n",
       "      <td>4.78</td>\n",
       "      <td>4.24</td>\n",
       "      <td>3.150</td>\n",
       "      <td>0.275</td>\n",
       "      <td>3.072097</td>\n",
       "    </tr>\n",
       "    <tr>\n",
       "      <th>3</th>\n",
       "      <td>-2.40</td>\n",
       "      <td>0.5740</td>\n",
       "      <td>4.36</td>\n",
       "      <td>3.96</td>\n",
       "      <td>2.760</td>\n",
       "      <td>0.325</td>\n",
       "      <td>5.834279</td>\n",
       "    </tr>\n",
       "    <tr>\n",
       "      <th>4</th>\n",
       "      <td>-2.30</td>\n",
       "      <td>0.5300</td>\n",
       "      <td>4.76</td>\n",
       "      <td>3.68</td>\n",
       "      <td>3.186</td>\n",
       "      <td>0.360</td>\n",
       "      <td>11.440763</td>\n",
       "    </tr>\n",
       "  </tbody>\n",
       "</table>\n",
       "</div>"
      ],
      "text/plain": [
       "      0       1     2     3      4      5          0\n",
       "0 -2.30  0.5300  5.11  3.69  3.510  0.250   2.058580\n",
       "1 -1.82  0.5504  4.34  2.81  3.150  0.300   3.484516\n",
       "2  0.00  0.6000  4.78  4.24  3.150  0.275   3.072097\n",
       "3 -2.40  0.5740  4.36  3.96  2.760  0.325   5.834279\n",
       "4 -2.30  0.5300  4.76  3.68  3.186  0.360  11.440763"
      ]
     },
     "execution_count": 88,
     "metadata": {},
     "output_type": "execute_result"
    }
   ],
   "source": [
    "one.head()"
   ]
  },
  {
   "cell_type": "code",
   "execution_count": 89,
   "id": "e7c3eaed",
   "metadata": {},
   "outputs": [
    {
     "data": {
      "image/png": "[encoded data removed]",
      "text/plain": [
       "<Figure size 432x288 with 1 Axes>"
      ]
     },
     "metadata": {
      "needs_background": "light"
     },
     "output_type": "display_data"
    }
   ],
   "source": [
    "plt.hist(one.iloc[:,-1],bins=25,color=\"#A2D2FF\")\n",
    "plt.show()"
   ]
  },
  {
   "cell_type": "code",
   "execution_count": 90,
   "id": "af2648aa",
   "metadata": {},
   "outputs": [],
   "source": [
    "one.to_csv(\".\\\\xgboost\\\\mid_xgb_data7.csv\",header=False, index=False)"
   ]
  }
 ],
 "metadata": {
  "kernelspec": {
   "display_name": "Python 3 (ipykernel)",
   "language": "python",
   "name": "python3"
  },
  "language_info": {
   "codemirror_mode": {
    "name": "ipython",
    "version": 3
   },
   "file_extension": ".py",
   "mimetype": "text/x-python",
   "name": "python",
   "nbconvert_exporter": "python",
   "pygments_lexer": "ipython3",
   "version": "3.7.8"
  }
 },
 "nbformat": 4,
 "nbformat_minor": 5
}
