{
 "cells": [
  {
   "cell_type": "code",
   "execution_count": 1,
   "id": "493c9b6a",
   "metadata": {},
   "outputs": [],
   "source": [
    "import pandas as pd\n",
    "import matplotlib.pyplot as plt"
   ]
  },
  {
   "cell_type": "code",
   "execution_count": 2,
   "id": "75d19e77",
   "metadata": {},
   "outputs": [],
   "source": [
    "from pylab import mpl\n",
    "plt.rcParams['font.sans-serif'] = ['Microsoft JhengHei']"
   ]
  },
  {
   "cell_type": "code",
   "execution_count": 3,
   "id": "d5b2feac",
   "metadata": {
    "scrolled": false
   },
   "outputs": [
    {
     "data": {
      "text/plain": [
       "0        10128239\n",
       "1        10077943\n",
       "2        10277876\n",
       "3        10364842\n",
       "4        10392717\n",
       "           ...   \n",
       "19995    10175982\n",
       "19996    10070831\n",
       "19997    10453189\n",
       "19998    10331052\n",
       "19999    10458671\n",
       "Name: chid, Length: 20000, dtype: int64"
      ]
     },
     "execution_count": 3,
     "metadata": {},
     "output_type": "execute_result"
    }
   ],
   "source": [
    "demo= pd.read_csv(\"demo.csv\")\n",
    "user_gruop1=demo.chid[0:20000]\n",
    "user_gruop1"
   ]
  },
  {
   "cell_type": "markdown",
   "id": "a3eb0660",
   "metadata": {},
   "source": [
    "# Spark"
   ]
  },
  {
   "cell_type": "code",
   "execution_count": 1,
   "id": "09bd0ec1",
   "metadata": {},
   "outputs": [],
   "source": [
    "import os\n",
    "os.environ[\"JAVA_HOME\"]='C:\\Java\\jdk1.8.0_311'\n",
    "os.environ[\"SPARK_HOME\"]='C:\\spark\\spark-3.1.2-bin-hadoop3.2'"
   ]
  },
  {
   "cell_type": "code",
   "execution_count": 2,
   "id": "cffcae89",
   "metadata": {},
   "outputs": [],
   "source": [
    "import pyspark\n",
    "import findspark\n",
    "findspark.init()"
   ]
  },
  {
   "cell_type": "code",
   "execution_count": 3,
   "id": "dfda4456",
   "metadata": {},
   "outputs": [
    {
     "data": {
      "text/html": [
       "\n",
       "            <div>\n",
       "                <p><b>SparkSession - in-memory</b></p>\n",
       "                \n",
       "        <div>\n",
       "            <p><b>SparkContext</b></p>\n",
       "\n",
       "            <p><a href=\"http://LAPTOP-FJTBRQAF:4040\">Spark UI</a></p>\n",
       "\n",
       "            <dl>\n",
       "              <dt>Version</dt>\n",
       "                <dd><code>v3.1.2</code></dd>\n",
       "              <dt>Master</dt>\n",
       "                <dd><code>local[*]</code></dd>\n",
       "              <dt>AppName</dt>\n",
       "                <dd><code>Operations</code></dd>\n",
       "            </dl>\n",
       "        </div>\n",
       "        \n",
       "            </div>\n",
       "        "
      ],
      "text/plain": [
       "<pyspark.sql.session.SparkSession at 0x1db610b1208>"
      ]
     },
     "execution_count": 3,
     "metadata": {},
     "output_type": "execute_result"
    }
   ],
   "source": [
    "from pyspark.sql import SparkSession\n",
    "spark = SparkSession.builder.appName(\"Operations\").getOrCreate()\n",
    "spark"
   ]
  },
  {
   "cell_type": "markdown",
   "id": "1169721b",
   "metadata": {},
   "source": [
    "# 匯入資料"
   ]
  },
  {
   "cell_type": "code",
   "execution_count": 4,
   "id": "94a41f6e",
   "metadata": {},
   "outputs": [
    {
     "name": "stdout",
     "output_type": "stream",
     "text": [
      "Run time:  0:02:46.954793\n"
     ]
    }
   ],
   "source": [
    "# Using pyspark\n",
    "from datetime import datetime\n",
    "start=datetime.now()\n",
    "data = (spark.read.format(\"csv\")\n",
    "            .options(header = True, inferSchema = True)\n",
    "            .load(\"C:\\\\Users\\\\kevin\\\\OneDrive\\\\桌面\\\\巨量\\\\HW4\\\\\" + 'tbrain_cc_training_48tags_hash_final.csv')\n",
    "            .cache()) # Keep the dataframe in memory for faster processing \n",
    "print('Run time: ', datetime.now() - start)"
   ]
  },
  {
   "cell_type": "code",
   "execution_count": 5,
   "id": "ae6d2e67",
   "metadata": {
    "scrolled": false
   },
   "outputs": [
    {
     "name": "stdout",
     "output_type": "stream",
     "text": [
      "root\n",
      " |-- dt: integer (nullable = true)\n",
      " |-- chid: integer (nullable = true)\n",
      " |-- shop_tag: string (nullable = true)\n",
      " |-- txn_cnt: integer (nullable = true)\n",
      " |-- txn_amt: double (nullable = true)\n",
      " |-- domestic_offline_cnt: integer (nullable = true)\n",
      " |-- domestic_online_cnt: integer (nullable = true)\n",
      " |-- overseas_offline_cnt: integer (nullable = true)\n",
      " |-- overseas_online_cnt: integer (nullable = true)\n",
      " |-- domestic_offline_amt_pct: double (nullable = true)\n",
      " |-- domestic_online_amt_pct: double (nullable = true)\n",
      " |-- overseas_offline_amt_pct: double (nullable = true)\n",
      " |-- overseas_online_amt_pct: double (nullable = true)\n",
      " |-- card_1_txn_cnt: integer (nullable = true)\n",
      " |-- card_2_txn_cnt: integer (nullable = true)\n",
      " |-- card_3_txn_cnt: integer (nullable = true)\n",
      " |-- card_4_txn_cnt: integer (nullable = true)\n",
      " |-- card_5_txn_cnt: integer (nullable = true)\n",
      " |-- card_6_txn_cnt: integer (nullable = true)\n",
      " |-- card_7_txn_cnt: integer (nullable = true)\n",
      " |-- card_8_txn_cnt: integer (nullable = true)\n",
      " |-- card_9_txn_cnt: integer (nullable = true)\n",
      " |-- card_10_txn_cnt: integer (nullable = true)\n",
      " |-- card_11_txn_cnt: integer (nullable = true)\n",
      " |-- card_12_txn_cnt: integer (nullable = true)\n",
      " |-- card_13_txn_cnt: integer (nullable = true)\n",
      " |-- card_14_txn_cnt: integer (nullable = true)\n",
      " |-- card_other_txn_cnt: integer (nullable = true)\n",
      " |-- card_1_txn_amt_pct: double (nullable = true)\n",
      " |-- card_2_txn_amt_pct: double (nullable = true)\n",
      " |-- card_3_txn_amt_pct: double (nullable = true)\n",
      " |-- card_4_txn_amt_pct: double (nullable = true)\n",
      " |-- card_5_txn_amt_pct: double (nullable = true)\n",
      " |-- card_6_txn_amt_pct: double (nullable = true)\n",
      " |-- card_7_txn_amt_pct: double (nullable = true)\n",
      " |-- card_8_txn_amt_pct: double (nullable = true)\n",
      " |-- card_9_txn_amt_pct: double (nullable = true)\n",
      " |-- card_10_txn_amt_pct: double (nullable = true)\n",
      " |-- card_11_txn_amt_pct: double (nullable = true)\n",
      " |-- card_12_txn_amt_pct: double (nullable = true)\n",
      " |-- card_13_txn_amt_pct: double (nullable = true)\n",
      " |-- card_14_txn_amt_pct: double (nullable = true)\n",
      " |-- card_other_txn_amt_pct: double (nullable = true)\n",
      " |-- masts: integer (nullable = true)\n",
      " |-- educd: integer (nullable = true)\n",
      " |-- trdtp: integer (nullable = true)\n",
      " |-- naty: integer (nullable = true)\n",
      " |-- poscd: integer (nullable = true)\n",
      " |-- cuorg: integer (nullable = true)\n",
      " |-- slam: double (nullable = true)\n",
      " |-- gender_code: integer (nullable = true)\n",
      " |-- age: integer (nullable = true)\n",
      " |-- primary_card: integer (nullable = true)\n",
      "\n"
     ]
    }
   ],
   "source": [
    "data.printSchema()"
   ]
  },
  {
   "cell_type": "code",
   "execution_count": 6,
   "id": "76a35e42",
   "metadata": {
    "scrolled": true
   },
   "outputs": [
    {
     "name": "stdout",
     "output_type": "stream",
     "text": [
      "-RECORD 0--------------------------------------\n",
      " dt                       | 1                  \n",
      " chid                     | 10321418           \n",
      " shop_tag                 | 45                 \n",
      " txn_cnt                  | 3                  \n",
      " txn_amt                  | 3891.9652832822144 \n",
      " domestic_offline_cnt     | 3                  \n",
      " domestic_online_cnt      | 0                  \n",
      " overseas_offline_cnt     | 0                  \n",
      " overseas_online_cnt      | 0                  \n",
      " domestic_offline_amt_pct | 1.0                \n",
      " domestic_online_amt_pct  | 0.0                \n",
      " overseas_offline_amt_pct | 0.0                \n",
      " overseas_online_amt_pct  | 0.0                \n",
      " card_1_txn_cnt           | 0                  \n",
      " card_2_txn_cnt           | 0                  \n",
      " card_3_txn_cnt           | 0                  \n",
      " card_4_txn_cnt           | 3                  \n",
      " card_5_txn_cnt           | 0                  \n",
      " card_6_txn_cnt           | 0                  \n",
      " card_7_txn_cnt           | 0                  \n",
      " card_8_txn_cnt           | 0                  \n",
      " card_9_txn_cnt           | 0                  \n",
      " card_10_txn_cnt          | 0                  \n",
      " card_11_txn_cnt          | 0                  \n",
      " card_12_txn_cnt          | 0                  \n",
      " card_13_txn_cnt          | 0                  \n",
      " card_14_txn_cnt          | 0                  \n",
      " card_other_txn_cnt       | 0                  \n",
      " card_1_txn_amt_pct       | 0.0                \n",
      " card_2_txn_amt_pct       | 0.0                \n",
      " card_3_txn_amt_pct       | 0.0                \n",
      " card_4_txn_amt_pct       | 1.0                \n",
      " card_5_txn_amt_pct       | 0.0                \n",
      " card_6_txn_amt_pct       | 0.0                \n",
      " card_7_txn_amt_pct       | 0.0                \n",
      " card_8_txn_amt_pct       | 0.0                \n",
      " card_9_txn_amt_pct       | 0.0                \n",
      " card_10_txn_amt_pct      | 0.0                \n",
      " card_11_txn_amt_pct      | 0.0                \n",
      " card_12_txn_amt_pct      | 0.0                \n",
      " card_13_txn_amt_pct      | 0.0                \n",
      " card_14_txn_amt_pct      | 0.0                \n",
      " card_other_txn_amt_pct   | 0.0                \n",
      " masts                    | 1                  \n",
      " educd                    | 4                  \n",
      " trdtp                    | 5                  \n",
      " naty                     | 1                  \n",
      " poscd                    | 99                 \n",
      " cuorg                    | 30                 \n",
      " slam                     | 95982.82296681378  \n",
      " gender_code              | 1                  \n",
      " age                      | 4                  \n",
      " primary_card             | 1                  \n",
      "-RECORD 1--------------------------------------\n",
      " dt                       | 1                  \n",
      " chid                     | 10414574           \n",
      " shop_tag                 | 15                 \n",
      " txn_cnt                  | 2                  \n",
      " txn_amt                  | 10616.561548583439 \n",
      " domestic_offline_cnt     | 2                  \n",
      " domestic_online_cnt      | 0                  \n",
      " overseas_offline_cnt     | 0                  \n",
      " overseas_online_cnt      | 0                  \n",
      " domestic_offline_amt_pct | 1.0                \n",
      " domestic_online_amt_pct  | 0.0                \n",
      " overseas_offline_amt_pct | 0.0                \n",
      " overseas_online_amt_pct  | 0.0                \n",
      " card_1_txn_cnt           | 0                  \n",
      " card_2_txn_cnt           | 0                  \n",
      " card_3_txn_cnt           | 0                  \n",
      " card_4_txn_cnt           | 0                  \n",
      " card_5_txn_cnt           | 0                  \n",
      " card_6_txn_cnt           | 0                  \n",
      " card_7_txn_cnt           | 0                  \n",
      " card_8_txn_cnt           | 2                  \n",
      " card_9_txn_cnt           | 0                  \n",
      " card_10_txn_cnt          | 0                  \n",
      " card_11_txn_cnt          | 0                  \n",
      " card_12_txn_cnt          | 0                  \n",
      " card_13_txn_cnt          | 0                  \n",
      " card_14_txn_cnt          | 0                  \n",
      " card_other_txn_cnt       | 0                  \n",
      " card_1_txn_amt_pct       | 0.0                \n",
      " card_2_txn_amt_pct       | 0.0                \n",
      " card_3_txn_amt_pct       | 0.0                \n",
      " card_4_txn_amt_pct       | 0.0                \n",
      " card_5_txn_amt_pct       | 0.0                \n",
      " card_6_txn_amt_pct       | 0.0                \n",
      " card_7_txn_amt_pct       | 0.0                \n",
      " card_8_txn_amt_pct       | 1.0                \n",
      " card_9_txn_amt_pct       | 0.0                \n",
      " card_10_txn_amt_pct      | 0.0                \n",
      " card_11_txn_amt_pct      | 0.0                \n",
      " card_12_txn_amt_pct      | 0.0                \n",
      " card_13_txn_amt_pct      | 0.0                \n",
      " card_14_txn_amt_pct      | 0.0                \n",
      " card_other_txn_amt_pct   | 0.0                \n",
      " masts                    | 2                  \n",
      " educd                    | 2                  \n",
      " trdtp                    | 15                 \n",
      " naty                     | 1                  \n",
      " poscd                    | 2                  \n",
      " cuorg                    | 30                 \n",
      " slam                     | 130702.35136831453 \n",
      " gender_code              | 1                  \n",
      " age                      | 3                  \n",
      " primary_card             | 1                  \n",
      "only showing top 2 rows\n",
      "\n"
     ]
    }
   ],
   "source": [
    "data.show(2, vertical=True)"
   ]
  },
  {
   "cell_type": "code",
   "execution_count": 15,
   "id": "a8bde110",
   "metadata": {},
   "outputs": [
    {
     "name": "stderr",
     "output_type": "stream",
     "text": [
      "ERROR:root:Exception while sending command.\n",
      "Traceback (most recent call last):\n",
      "  File \"c:\\users\\kevin\\appdata\\local\\programs\\python\\python37\\lib\\site-packages\\IPython\\core\\interactiveshell.py\", line 3444, in run_code\n",
      "    exec(code_obj, self.user_global_ns, self.user_ns)\n",
      "  File \"C:\\Users\\kevin\\AppData\\Local\\Temp/ipykernel_11572/3999952440.py\", line 1, in <module>\n",
      "    data.filter(data[\"chid\"]==10321418).show()\n",
      "  File \"c:\\users\\kevin\\appdata\\local\\programs\\python\\python37\\lib\\site-packages\\pyspark\\sql\\dataframe.py\", line 494, in show\n",
      "    print(self._jdf.showString(n, 20, vertical))\n",
      "  File \"c:\\users\\kevin\\appdata\\local\\programs\\python\\python37\\lib\\site-packages\\py4j\\java_gateway.py\", line 1310, in __call__\n",
      "    answer, self.gateway_client, self.target_id, self.name)\n",
      "  File \"c:\\users\\kevin\\appdata\\local\\programs\\python\\python37\\lib\\site-packages\\pyspark\\sql\\utils.py\", line 111, in deco\n",
      "    return f(*a, **kw)\n",
      "  File \"c:\\users\\kevin\\appdata\\local\\programs\\python\\python37\\lib\\site-packages\\py4j\\protocol.py\", line 328, in get_return_value\n",
      "    format(target_id, \".\", name), value)\n",
      "py4j.protocol.Py4JJavaError: <unprintable Py4JJavaError object>\n",
      "\n",
      "During handling of the above exception, another exception occurred:\n",
      "\n",
      "Traceback (most recent call last):\n",
      "  File \"c:\\users\\kevin\\appdata\\local\\programs\\python\\python37\\lib\\site-packages\\py4j\\clientserver.py\", line 475, in send_command\n",
      "    answer = smart_decode(self.stream.readline()[:-1])\n",
      "  File \"c:\\users\\kevin\\appdata\\local\\programs\\python\\python37\\lib\\socket.py\", line 589, in readinto\n",
      "    return self._sock.recv_into(b)\n",
      "ConnectionResetError: [WinError 10054] 遠端主機已強制關閉一個現存的連線。\n",
      "\n",
      "During handling of the above exception, another exception occurred:\n",
      "\n",
      "Traceback (most recent call last):\n",
      "  File \"c:\\users\\kevin\\appdata\\local\\programs\\python\\python37\\lib\\site-packages\\py4j\\java_gateway.py\", line 1038, in send_command\n",
      "    response = connection.send_command(command)\n",
      "  File \"c:\\users\\kevin\\appdata\\local\\programs\\python\\python37\\lib\\site-packages\\py4j\\clientserver.py\", line 504, in send_command\n",
      "    \"Error while sending or receiving\", e, proto.ERROR_ON_RECEIVE)\n",
      "py4j.protocol.Py4JNetworkError: Error while sending or receiving\n"
     ]
    },
    {
     "ename": "Py4JError",
     "evalue": "An error occurred while calling None.None",
     "output_type": "error",
     "traceback": [
      "\u001b[1;31m---------------------------------------------------------------------------\u001b[0m",
      "\u001b[1;31mPy4JJavaError\u001b[0m                             Traceback (most recent call last)",
      "    \u001b[1;31m[... skipping hidden 1 frame]\u001b[0m\n",
      "\u001b[1;32m~\\AppData\\Local\\Temp/ipykernel_11572/3999952440.py\u001b[0m in \u001b[0;36m<module>\u001b[1;34m\u001b[0m\n\u001b[1;32m----> 1\u001b[1;33m \u001b[0mdata\u001b[0m\u001b[1;33m.\u001b[0m\u001b[0mfilter\u001b[0m\u001b[1;33m(\u001b[0m\u001b[0mdata\u001b[0m\u001b[1;33m[\u001b[0m\u001b[1;34m\"chid\"\u001b[0m\u001b[1;33m]\u001b[0m\u001b[1;33m==\u001b[0m\u001b[1;36m10321418\u001b[0m\u001b[1;33m)\u001b[0m\u001b[1;33m.\u001b[0m\u001b[0mshow\u001b[0m\u001b[1;33m(\u001b[0m\u001b[1;33m)\u001b[0m\u001b[1;33m\u001b[0m\u001b[1;33m\u001b[0m\u001b[0m\n\u001b[0m",
      "\u001b[1;32mc:\\users\\kevin\\appdata\\local\\programs\\python\\python37\\lib\\site-packages\\pyspark\\sql\\dataframe.py\u001b[0m in \u001b[0;36mshow\u001b[1;34m(self, n, truncate, vertical)\u001b[0m\n\u001b[0;32m    493\u001b[0m         \u001b[1;32mif\u001b[0m \u001b[0misinstance\u001b[0m\u001b[1;33m(\u001b[0m\u001b[0mtruncate\u001b[0m\u001b[1;33m,\u001b[0m \u001b[0mbool\u001b[0m\u001b[1;33m)\u001b[0m \u001b[1;32mand\u001b[0m \u001b[0mtruncate\u001b[0m\u001b[1;33m:\u001b[0m\u001b[1;33m\u001b[0m\u001b[1;33m\u001b[0m\u001b[0m\n\u001b[1;32m--> 494\u001b[1;33m             \u001b[0mprint\u001b[0m\u001b[1;33m(\u001b[0m\u001b[0mself\u001b[0m\u001b[1;33m.\u001b[0m\u001b[0m_jdf\u001b[0m\u001b[1;33m.\u001b[0m\u001b[0mshowString\u001b[0m\u001b[1;33m(\u001b[0m\u001b[0mn\u001b[0m\u001b[1;33m,\u001b[0m \u001b[1;36m20\u001b[0m\u001b[1;33m,\u001b[0m \u001b[0mvertical\u001b[0m\u001b[1;33m)\u001b[0m\u001b[1;33m)\u001b[0m\u001b[1;33m\u001b[0m\u001b[1;33m\u001b[0m\u001b[0m\n\u001b[0m\u001b[0;32m    495\u001b[0m         \u001b[1;32melse\u001b[0m\u001b[1;33m:\u001b[0m\u001b[1;33m\u001b[0m\u001b[1;33m\u001b[0m\u001b[0m\n",
      "\u001b[1;32mc:\\users\\kevin\\appdata\\local\\programs\\python\\python37\\lib\\site-packages\\py4j\\java_gateway.py\u001b[0m in \u001b[0;36m__call__\u001b[1;34m(self, *args)\u001b[0m\n\u001b[0;32m   1309\u001b[0m         return_value = get_return_value(\n\u001b[1;32m-> 1310\u001b[1;33m             answer, self.gateway_client, self.target_id, self.name)\n\u001b[0m\u001b[0;32m   1311\u001b[0m \u001b[1;33m\u001b[0m\u001b[0m\n",
      "\u001b[1;32mc:\\users\\kevin\\appdata\\local\\programs\\python\\python37\\lib\\site-packages\\pyspark\\sql\\utils.py\u001b[0m in \u001b[0;36mdeco\u001b[1;34m(*a, **kw)\u001b[0m\n\u001b[0;32m    110\u001b[0m         \u001b[1;32mtry\u001b[0m\u001b[1;33m:\u001b[0m\u001b[1;33m\u001b[0m\u001b[1;33m\u001b[0m\u001b[0m\n\u001b[1;32m--> 111\u001b[1;33m             \u001b[1;32mreturn\u001b[0m \u001b[0mf\u001b[0m\u001b[1;33m(\u001b[0m\u001b[1;33m*\u001b[0m\u001b[0ma\u001b[0m\u001b[1;33m,\u001b[0m \u001b[1;33m**\u001b[0m\u001b[0mkw\u001b[0m\u001b[1;33m)\u001b[0m\u001b[1;33m\u001b[0m\u001b[1;33m\u001b[0m\u001b[0m\n\u001b[0m\u001b[0;32m    112\u001b[0m         \u001b[1;32mexcept\u001b[0m \u001b[0mpy4j\u001b[0m\u001b[1;33m.\u001b[0m\u001b[0mprotocol\u001b[0m\u001b[1;33m.\u001b[0m\u001b[0mPy4JJavaError\u001b[0m \u001b[1;32mas\u001b[0m \u001b[0me\u001b[0m\u001b[1;33m:\u001b[0m\u001b[1;33m\u001b[0m\u001b[1;33m\u001b[0m\u001b[0m\n",
      "\u001b[1;32mc:\\users\\kevin\\appdata\\local\\programs\\python\\python37\\lib\\site-packages\\py4j\\protocol.py\u001b[0m in \u001b[0;36mget_return_value\u001b[1;34m(answer, gateway_client, target_id, name)\u001b[0m\n\u001b[0;32m    327\u001b[0m                     \u001b[1;34m\"An error occurred while calling {0}{1}{2}.\\n\"\u001b[0m\u001b[1;33m.\u001b[0m\u001b[1;33m\u001b[0m\u001b[1;33m\u001b[0m\u001b[0m\n\u001b[1;32m--> 328\u001b[1;33m                     format(target_id, \".\", name), value)\n\u001b[0m\u001b[0;32m    329\u001b[0m             \u001b[1;32melse\u001b[0m\u001b[1;33m:\u001b[0m\u001b[1;33m\u001b[0m\u001b[1;33m\u001b[0m\u001b[0m\n",
      "\u001b[1;31m<class 'str'>\u001b[0m: (<class 'ConnectionRefusedError'>, ConnectionRefusedError(10061, '無法連線，因為目標電腦拒絕連線。', None, 10061, None))",
      "\nDuring handling of the above exception, another exception occurred:\n",
      "\u001b[1;31mPy4JError\u001b[0m                                 Traceback (most recent call last)",
      "    \u001b[1;31m[... skipping hidden 1 frame]\u001b[0m\n",
      "\u001b[1;32mc:\\users\\kevin\\appdata\\local\\programs\\python\\python37\\lib\\site-packages\\IPython\\core\\interactiveshell.py\u001b[0m in \u001b[0;36mshowtraceback\u001b[1;34m(self, exc_tuple, filename, tb_offset, exception_only, running_compiled_code)\u001b[0m\n\u001b[0;32m   2067\u001b[0m                                             value, tb, tb_offset=tb_offset)\n\u001b[0;32m   2068\u001b[0m \u001b[1;33m\u001b[0m\u001b[0m\n\u001b[1;32m-> 2069\u001b[1;33m                     \u001b[0mself\u001b[0m\u001b[1;33m.\u001b[0m\u001b[0m_showtraceback\u001b[0m\u001b[1;33m(\u001b[0m\u001b[0metype\u001b[0m\u001b[1;33m,\u001b[0m \u001b[0mvalue\u001b[0m\u001b[1;33m,\u001b[0m \u001b[0mstb\u001b[0m\u001b[1;33m)\u001b[0m\u001b[1;33m\u001b[0m\u001b[1;33m\u001b[0m\u001b[0m\n\u001b[0m\u001b[0;32m   2070\u001b[0m                     \u001b[1;32mif\u001b[0m \u001b[0mself\u001b[0m\u001b[1;33m.\u001b[0m\u001b[0mcall_pdb\u001b[0m\u001b[1;33m:\u001b[0m\u001b[1;33m\u001b[0m\u001b[1;33m\u001b[0m\u001b[0m\n\u001b[0;32m   2071\u001b[0m                         \u001b[1;31m# drop into debugger\u001b[0m\u001b[1;33m\u001b[0m\u001b[1;33m\u001b[0m\u001b[1;33m\u001b[0m\u001b[0m\n",
      "\u001b[1;32mc:\\users\\kevin\\appdata\\local\\programs\\python\\python37\\lib\\site-packages\\ipykernel\\zmqshell.py\u001b[0m in \u001b[0;36m_showtraceback\u001b[1;34m(self, etype, evalue, stb)\u001b[0m\n\u001b[0;32m    541\u001b[0m             \u001b[1;34m'traceback'\u001b[0m \u001b[1;33m:\u001b[0m \u001b[0mstb\u001b[0m\u001b[1;33m,\u001b[0m\u001b[1;33m\u001b[0m\u001b[1;33m\u001b[0m\u001b[0m\n\u001b[0;32m    542\u001b[0m             \u001b[1;34m'ename'\u001b[0m \u001b[1;33m:\u001b[0m \u001b[0mstr\u001b[0m\u001b[1;33m(\u001b[0m\u001b[0metype\u001b[0m\u001b[1;33m.\u001b[0m\u001b[0m__name__\u001b[0m\u001b[1;33m)\u001b[0m\u001b[1;33m,\u001b[0m\u001b[1;33m\u001b[0m\u001b[1;33m\u001b[0m\u001b[0m\n\u001b[1;32m--> 543\u001b[1;33m             \u001b[1;34m'evalue'\u001b[0m \u001b[1;33m:\u001b[0m \u001b[0mstr\u001b[0m\u001b[1;33m(\u001b[0m\u001b[0mevalue\u001b[0m\u001b[1;33m)\u001b[0m\u001b[1;33m,\u001b[0m\u001b[1;33m\u001b[0m\u001b[1;33m\u001b[0m\u001b[0m\n\u001b[0m\u001b[0;32m    544\u001b[0m         }\n\u001b[0;32m    545\u001b[0m \u001b[1;33m\u001b[0m\u001b[0m\n",
      "\u001b[1;32mc:\\users\\kevin\\appdata\\local\\programs\\python\\python37\\lib\\site-packages\\py4j\\protocol.py\u001b[0m in \u001b[0;36m__str__\u001b[1;34m(self)\u001b[0m\n\u001b[0;32m    470\u001b[0m         \u001b[0mgateway_client\u001b[0m \u001b[1;33m=\u001b[0m \u001b[0mself\u001b[0m\u001b[1;33m.\u001b[0m\u001b[0mjava_exception\u001b[0m\u001b[1;33m.\u001b[0m\u001b[0m_gateway_client\u001b[0m\u001b[1;33m\u001b[0m\u001b[1;33m\u001b[0m\u001b[0m\n\u001b[0;32m    471\u001b[0m         \u001b[0manswer\u001b[0m \u001b[1;33m=\u001b[0m \u001b[0mgateway_client\u001b[0m\u001b[1;33m.\u001b[0m\u001b[0msend_command\u001b[0m\u001b[1;33m(\u001b[0m\u001b[0mself\u001b[0m\u001b[1;33m.\u001b[0m\u001b[0mexception_cmd\u001b[0m\u001b[1;33m)\u001b[0m\u001b[1;33m\u001b[0m\u001b[1;33m\u001b[0m\u001b[0m\n\u001b[1;32m--> 472\u001b[1;33m         \u001b[0mreturn_value\u001b[0m \u001b[1;33m=\u001b[0m \u001b[0mget_return_value\u001b[0m\u001b[1;33m(\u001b[0m\u001b[0manswer\u001b[0m\u001b[1;33m,\u001b[0m \u001b[0mgateway_client\u001b[0m\u001b[1;33m,\u001b[0m \u001b[1;32mNone\u001b[0m\u001b[1;33m,\u001b[0m \u001b[1;32mNone\u001b[0m\u001b[1;33m)\u001b[0m\u001b[1;33m\u001b[0m\u001b[1;33m\u001b[0m\u001b[0m\n\u001b[0m\u001b[0;32m    473\u001b[0m         \u001b[1;31m# Note: technically this should return a bytestring 'str' rather than\u001b[0m\u001b[1;33m\u001b[0m\u001b[1;33m\u001b[0m\u001b[1;33m\u001b[0m\u001b[0m\n\u001b[0;32m    474\u001b[0m         \u001b[1;31m# unicodes in Python 2; however, it can return unicodes for now.\u001b[0m\u001b[1;33m\u001b[0m\u001b[1;33m\u001b[0m\u001b[1;33m\u001b[0m\u001b[0m\n",
      "\u001b[1;32mc:\\users\\kevin\\appdata\\local\\programs\\python\\python37\\lib\\site-packages\\py4j\\protocol.py\u001b[0m in \u001b[0;36mget_return_value\u001b[1;34m(answer, gateway_client, target_id, name)\u001b[0m\n\u001b[0;32m    334\u001b[0m             raise Py4JError(\n\u001b[0;32m    335\u001b[0m                 \u001b[1;34m\"An error occurred while calling {0}{1}{2}\"\u001b[0m\u001b[1;33m.\u001b[0m\u001b[1;33m\u001b[0m\u001b[1;33m\u001b[0m\u001b[0m\n\u001b[1;32m--> 336\u001b[1;33m                 format(target_id, \".\", name))\n\u001b[0m\u001b[0;32m    337\u001b[0m     \u001b[1;32melse\u001b[0m\u001b[1;33m:\u001b[0m\u001b[1;33m\u001b[0m\u001b[1;33m\u001b[0m\u001b[0m\n\u001b[0;32m    338\u001b[0m         \u001b[0mtype\u001b[0m \u001b[1;33m=\u001b[0m \u001b[0manswer\u001b[0m\u001b[1;33m[\u001b[0m\u001b[1;36m1\u001b[0m\u001b[1;33m]\u001b[0m\u001b[1;33m\u001b[0m\u001b[1;33m\u001b[0m\u001b[0m\n",
      "\u001b[1;31mPy4JError\u001b[0m: An error occurred while calling None.None"
     ]
    }
   ],
   "source": [
    "data.filter(data[\"chid\"]==10321418).show()"
   ]
  },
  {
   "cell_type": "code",
   "execution_count": 11,
   "id": "326c5c47",
   "metadata": {
    "scrolled": true
   },
   "outputs": [
    {
     "name": "stdout",
     "output_type": "stream",
     "text": [
      "+--------+-----+-----+-----+----+-----+-----+------------------+-----------+---+------------+\n",
      "|    chid|masts|educd|trdtp|naty|poscd|cuorg|              slam|gender_code|age|primary_card|\n",
      "+--------+-----+-----+-----+----+-----+-----+------------------+-----------+---+------------+\n",
      "|10321418|    1|    4|    5|   1|   99|   30| 95982.82296681378|          1|  4|           1|\n",
      "|10414574|    2|    2|   15|   1|    2|   30|130702.35136831453|          1|  3|           1|\n",
      "+--------+-----+-----+-----+----+-----+-----+------------------+-----------+---+------------+\n",
      "only showing top 2 rows\n",
      "\n"
     ]
    }
   ],
   "source": [
    "user_data=data.select('chid', 'masts',\"educd\",\"trdtp\",\"naty\",\"poscd\",\"cuorg\",\"slam\",\"gender_code\",\"age\",\"primary_card\")\n",
    "user_data.show(2)"
   ]
  },
  {
   "cell_type": "code",
   "execution_count": 14,
   "id": "79bcb5de",
   "metadata": {},
   "outputs": [
    {
     "ename": "AttributeError",
     "evalue": "'GroupedData' object has no attribute 'show'",
     "output_type": "error",
     "traceback": [
      "\u001b[1;31m---------------------------------------------------------------------------\u001b[0m",
      "\u001b[1;31mAttributeError\u001b[0m                            Traceback (most recent call last)",
      "\u001b[1;32m~\\AppData\\Local\\Temp/ipykernel_11572/2909767394.py\u001b[0m in \u001b[0;36m<module>\u001b[1;34m\u001b[0m\n\u001b[1;32m----> 1\u001b[1;33m \u001b[0mdata\u001b[0m\u001b[1;33m.\u001b[0m\u001b[0mgroupBy\u001b[0m\u001b[1;33m(\u001b[0m\u001b[1;34m\"chid\"\u001b[0m\u001b[1;33m,\u001b[0m\u001b[1;34m\"shop_tag\"\u001b[0m\u001b[1;33m)\u001b[0m\u001b[1;33m.\u001b[0m\u001b[0mshow\u001b[0m\u001b[1;33m(\u001b[0m\u001b[1;33m)\u001b[0m\u001b[1;33m\u001b[0m\u001b[1;33m\u001b[0m\u001b[0m\n\u001b[0m",
      "\u001b[1;31mAttributeError\u001b[0m: 'GroupedData' object has no attribute 'show'"
     ]
    }
   ],
   "source": [
    "data.groupBy(\"chid\",\"shop_tag\").show()"
   ]
  }
 ],
 "metadata": {
  "kernelspec": {
   "display_name": "Python 3 (ipykernel)",
   "language": "python",
   "name": "python3"
  },
  "language_info": {
   "codemirror_mode": {
    "name": "ipython",
    "version": 3
   },
   "file_extension": ".py",
   "mimetype": "text/x-python",
   "name": "python",
   "nbconvert_exporter": "python",
   "pygments_lexer": "ipython3",
   "version": "3.7.8"
  }
 },
 "nbformat": 4,
 "nbformat_minor": 5
}
