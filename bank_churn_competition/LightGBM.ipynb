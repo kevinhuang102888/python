{
 "cells": [
  {
   "cell_type": "code",
   "execution_count": 1,
   "metadata": {},
   "outputs": [],
   "source": [
    "from sklearn.model_selection import train_test_split\n",
    "import matplotlib.pyplot as plt\n",
    "import numpy as np\n",
    "import pandas as pd"
   ]
  },
  {
   "cell_type": "code",
   "execution_count": 2,
   "metadata": {},
   "outputs": [],
   "source": [
    "train=pd.read_csv(\"./churn_prediction_data/train.csv\")\n",
    "test=pd.read_csv(\"./churn_prediction_data/test.csv\")"
   ]
  },
  {
   "cell_type": "code",
   "execution_count": 3,
   "metadata": {},
   "outputs": [
    {
     "data": {
      "text/plain": [
       "0    6368\n",
       "1    1632\n",
       "Name: Exited, dtype: int64"
      ]
     },
     "execution_count": 3,
     "metadata": {},
     "output_type": "execute_result"
    }
   ],
   "source": [
    "train[\"Exited\"].value_counts()"
   ]
  },
  {
   "cell_type": "markdown",
   "metadata": {},
   "source": [
    "## 資料前處理"
   ]
  },
  {
   "cell_type": "code",
   "execution_count": 78,
   "metadata": {},
   "outputs": [],
   "source": [
    "#ID取前四個數字\n",
    "train[\"ID\"]=train['CustomerId'].astype(str).str[:5].astype(int)\n",
    "#將財務商品整合成兩類，大於2個、少於等於2個\n",
    "train[\"is_4\"]=train['NumOfProducts'].apply(lambda x: 1 if x >2  else 0)\n",
    "#性別數值化(男生0、女生1)\n",
    "train['Gender']=train['Gender'].apply(lambda x: 1 if x ==\"male\"  else 0)\n",
    "train[\"greater than 70000\"]=train[\"Balance\"].apply(lambda x: 1 if x >70000  else 0)"
   ]
  },
  {
   "cell_type": "code",
   "execution_count": 141,
   "metadata": {},
   "outputs": [],
   "source": [
    "#將名字數值化\n",
    "from sklearn import preprocessing\n",
    "le = preprocessing.LabelEncoder()\n",
    "le.fit(train['Surname'].append(test['Surname']))\n",
    "train[\"NAME_ID\"]=pd.Series(le.transform(train['Surname']))"
   ]
  },
  {
   "cell_type": "code",
   "execution_count": 255,
   "metadata": {},
   "outputs": [
    {
     "data": {
      "text/plain": [
       "PCA(n_components=1)"
      ]
     },
     "execution_count": 255,
     "metadata": {},
     "output_type": "execute_result"
    }
   ],
   "source": [
    "from sklearn.decomposition import PCA\n",
    "pca = PCA(n_components=1)\n",
    "pca.fit(train[[\"Balance\",\"EstimatedSalary\"]])\n",
    "#train[\"money\"] = pca.transform(train[[\"Balance\",\"EstimatedSalary\"]])"
   ]
  },
  {
   "cell_type": "code",
   "execution_count": 256,
   "metadata": {
    "scrolled": true
   },
   "outputs": [],
   "source": [
    "moneys=pd.DataFrame(pca.transform(train[[\"Balance\",\"EstimatedSalary\"]]),columns=['money1'])"
   ]
  },
  {
   "cell_type": "code",
   "execution_count": 257,
   "metadata": {},
   "outputs": [
    {
     "data": {
      "text/plain": [
       "array([0.62226845])"
      ]
     },
     "execution_count": 257,
     "metadata": {},
     "output_type": "execute_result"
    }
   ],
   "source": [
    "pca.explained_variance_ratio_"
   ]
  },
  {
   "cell_type": "code",
   "execution_count": 258,
   "metadata": {},
   "outputs": [
    {
     "data": {
      "text/plain": [
       "1"
      ]
     },
     "execution_count": 258,
     "metadata": {},
     "output_type": "execute_result"
    }
   ],
   "source": [
    "pca.n_components_"
   ]
  },
  {
   "cell_type": "code",
   "execution_count": 259,
   "metadata": {},
   "outputs": [],
   "source": [
    "from pylab import mpl\n",
    "plt.rcParams['font.sans-serif'] = ['Microsoft JhengHei']"
   ]
  },
  {
   "cell_type": "code",
   "execution_count": 260,
   "metadata": {
    "scrolled": false
   },
   "outputs": [
    {
     "data": {
      "image/png": "[encoded data removed]",
      "text/plain": [
       "<Figure size 432x288 with 1 Axes>"
      ]
     },
     "metadata": {
      "needs_background": "light"
     },
     "output_type": "display_data"
    }
   ],
   "source": [
    "kwargs = dict(histtype='stepfilled', alpha=0.3, density=True, bins=40) \n",
    "plt.hist(train[train[\"Exited\"]==0][\"NAME_ID\"], **kwargs,label=\"留下\") \n",
    "plt.hist(train[train[\"Exited\"]==1][\"NAME_ID\"], **kwargs,label=\"離開\") \n",
    "plt.legend(bbox_to_anchor=(1,1), loc='upper left')\n",
    "plt.show()"
   ]
  },
  {
   "cell_type": "code",
   "execution_count": 261,
   "metadata": {},
   "outputs": [],
   "source": [
    "#train[\"is_less_35000\"]=train[\"money\"].apply(lambda x: 1 if x <-35000  else 0)"
   ]
  },
  {
   "cell_type": "code",
   "execution_count": 262,
   "metadata": {},
   "outputs": [],
   "source": [
    "#選擇重要的特徵\n",
    "select_data=train[[\"CreditScore\",\"Tenure\",\"Gender\",\"IsActiveMember\",'Age','NumOfProducts']]"
   ]
  },
  {
   "cell_type": "code",
   "execution_count": 263,
   "metadata": {},
   "outputs": [],
   "source": [
    "#國家dummy variable\n",
    "features_dummies=pd.get_dummies(train[\"Geography\"])"
   ]
  },
  {
   "cell_type": "code",
   "execution_count": 264,
   "metadata": {},
   "outputs": [],
   "source": [
    "#合併資料\n",
    "#data=select_data\n",
    "data=pd.concat([select_data, features_dummies,moneys],axis=1)"
   ]
  },
  {
   "cell_type": "code",
   "execution_count": 265,
   "metadata": {},
   "outputs": [],
   "source": [
    "#標準化\n",
    "from sklearn.preprocessing import StandardScaler\n",
    "\n",
    "ss = StandardScaler()\n",
    "\n",
    "data = ss.fit_transform(data)\n",
    "data = pd.DataFrame(data)"
   ]
  },
  {
   "cell_type": "code",
   "execution_count": 266,
   "metadata": {
    "scrolled": true
   },
   "outputs": [
    {
     "data": {
      "text/html": [
       "<div>\n",
       "<style scoped>\n",
       "    .dataframe tbody tr th:only-of-type {\n",
       "        vertical-align: middle;\n",
       "    }\n",
       "\n",
       "    .dataframe tbody tr th {\n",
       "        vertical-align: top;\n",
       "    }\n",
       "\n",
       "    .dataframe thead th {\n",
       "        text-align: right;\n",
       "    }\n",
       "</style>\n",
       "<table border=\"1\" class=\"dataframe\">\n",
       "  <thead>\n",
       "    <tr style=\"text-align: right;\">\n",
       "      <th></th>\n",
       "      <th>0</th>\n",
       "      <th>1</th>\n",
       "      <th>2</th>\n",
       "      <th>3</th>\n",
       "      <th>4</th>\n",
       "      <th>5</th>\n",
       "      <th>6</th>\n",
       "      <th>7</th>\n",
       "      <th>8</th>\n",
       "      <th>9</th>\n",
       "    </tr>\n",
       "  </thead>\n",
       "  <tbody>\n",
       "    <tr>\n",
       "      <th>0</th>\n",
       "      <td>1.509906</td>\n",
       "      <td>0.339933</td>\n",
       "      <td>0.0</td>\n",
       "      <td>0.966801</td>\n",
       "      <td>-0.663721</td>\n",
       "      <td>0.799546</td>\n",
       "      <td>-1.001501</td>\n",
       "      <td>-0.580814</td>\n",
       "      <td>1.746019</td>\n",
       "      <td>0.438425</td>\n",
       "    </tr>\n",
       "    <tr>\n",
       "      <th>1</th>\n",
       "      <td>0.866637</td>\n",
       "      <td>-0.445812</td>\n",
       "      <td>0.0</td>\n",
       "      <td>-1.034339</td>\n",
       "      <td>1.465241</td>\n",
       "      <td>-0.917139</td>\n",
       "      <td>0.998501</td>\n",
       "      <td>-0.580814</td>\n",
       "      <td>-0.572731</td>\n",
       "      <td>-1.195695</td>\n",
       "    </tr>\n",
       "    <tr>\n",
       "      <th>2</th>\n",
       "      <td>0.697356</td>\n",
       "      <td>0.339933</td>\n",
       "      <td>0.0</td>\n",
       "      <td>0.966801</td>\n",
       "      <td>-1.595141</td>\n",
       "      <td>-0.917139</td>\n",
       "      <td>0.998501</td>\n",
       "      <td>-0.580814</td>\n",
       "      <td>-0.572731</td>\n",
       "      <td>0.658206</td>\n",
       "    </tr>\n",
       "    <tr>\n",
       "      <th>3</th>\n",
       "      <td>-0.656894</td>\n",
       "      <td>-0.445812</td>\n",
       "      <td>0.0</td>\n",
       "      <td>-1.034339</td>\n",
       "      <td>-0.397600</td>\n",
       "      <td>-0.917139</td>\n",
       "      <td>-1.001501</td>\n",
       "      <td>-0.580814</td>\n",
       "      <td>1.746019</td>\n",
       "      <td>0.131566</td>\n",
       "    </tr>\n",
       "    <tr>\n",
       "      <th>4</th>\n",
       "      <td>2.068534</td>\n",
       "      <td>0.339933</td>\n",
       "      <td>0.0</td>\n",
       "      <td>0.966801</td>\n",
       "      <td>-0.131480</td>\n",
       "      <td>-0.917139</td>\n",
       "      <td>-1.001501</td>\n",
       "      <td>-0.580814</td>\n",
       "      <td>1.746019</td>\n",
       "      <td>0.664852</td>\n",
       "    </tr>\n",
       "    <tr>\n",
       "      <th>...</th>\n",
       "      <td>...</td>\n",
       "      <td>...</td>\n",
       "      <td>...</td>\n",
       "      <td>...</td>\n",
       "      <td>...</td>\n",
       "      <td>...</td>\n",
       "      <td>...</td>\n",
       "      <td>...</td>\n",
       "      <td>...</td>\n",
       "      <td>...</td>\n",
       "    </tr>\n",
       "    <tr>\n",
       "      <th>7995</th>\n",
       "      <td>-1.063169</td>\n",
       "      <td>1.125677</td>\n",
       "      <td>0.0</td>\n",
       "      <td>0.966801</td>\n",
       "      <td>-1.062901</td>\n",
       "      <td>0.799546</td>\n",
       "      <td>0.998501</td>\n",
       "      <td>-0.580814</td>\n",
       "      <td>-0.572731</td>\n",
       "      <td>0.684852</td>\n",
       "    </tr>\n",
       "    <tr>\n",
       "      <th>7996</th>\n",
       "      <td>-0.487612</td>\n",
       "      <td>1.911421</td>\n",
       "      <td>0.0</td>\n",
       "      <td>-1.034339</td>\n",
       "      <td>0.267700</td>\n",
       "      <td>-0.917139</td>\n",
       "      <td>-1.001501</td>\n",
       "      <td>1.721720</td>\n",
       "      <td>-0.572731</td>\n",
       "      <td>1.437698</td>\n",
       "    </tr>\n",
       "    <tr>\n",
       "      <th>7997</th>\n",
       "      <td>0.815853</td>\n",
       "      <td>0.339933</td>\n",
       "      <td>0.0</td>\n",
       "      <td>-1.034339</td>\n",
       "      <td>0.001580</td>\n",
       "      <td>-0.917139</td>\n",
       "      <td>-1.001501</td>\n",
       "      <td>-0.580814</td>\n",
       "      <td>1.746019</td>\n",
       "      <td>1.065481</td>\n",
       "    </tr>\n",
       "    <tr>\n",
       "      <th>7998</th>\n",
       "      <td>1.425266</td>\n",
       "      <td>-0.445812</td>\n",
       "      <td>0.0</td>\n",
       "      <td>-1.034339</td>\n",
       "      <td>-0.663721</td>\n",
       "      <td>-0.917139</td>\n",
       "      <td>0.998501</td>\n",
       "      <td>-0.580814</td>\n",
       "      <td>-0.572731</td>\n",
       "      <td>0.570928</td>\n",
       "    </tr>\n",
       "    <tr>\n",
       "      <th>7999</th>\n",
       "      <td>-0.521469</td>\n",
       "      <td>0.339933</td>\n",
       "      <td>0.0</td>\n",
       "      <td>-1.034339</td>\n",
       "      <td>-0.131480</td>\n",
       "      <td>-0.917139</td>\n",
       "      <td>0.998501</td>\n",
       "      <td>-0.580814</td>\n",
       "      <td>-0.572731</td>\n",
       "      <td>-1.258112</td>\n",
       "    </tr>\n",
       "  </tbody>\n",
       "</table>\n",
       "<p>8000 rows × 10 columns</p>\n",
       "</div>"
      ],
      "text/plain": [
       "             0         1    2         3         4         5         6  \\\n",
       "0     1.509906  0.339933  0.0  0.966801 -0.663721  0.799546 -1.001501   \n",
       "1     0.866637 -0.445812  0.0 -1.034339  1.465241 -0.917139  0.998501   \n",
       "2     0.697356  0.339933  0.0  0.966801 -1.595141 -0.917139  0.998501   \n",
       "3    -0.656894 -0.445812  0.0 -1.034339 -0.397600 -0.917139 -1.001501   \n",
       "4     2.068534  0.339933  0.0  0.966801 -0.131480 -0.917139 -1.001501   \n",
       "...        ...       ...  ...       ...       ...       ...       ...   \n",
       "7995 -1.063169  1.125677  0.0  0.966801 -1.062901  0.799546  0.998501   \n",
       "7996 -0.487612  1.911421  0.0 -1.034339  0.267700 -0.917139 -1.001501   \n",
       "7997  0.815853  0.339933  0.0 -1.034339  0.001580 -0.917139 -1.001501   \n",
       "7998  1.425266 -0.445812  0.0 -1.034339 -0.663721 -0.917139  0.998501   \n",
       "7999 -0.521469  0.339933  0.0 -1.034339 -0.131480 -0.917139  0.998501   \n",
       "\n",
       "             7         8         9  \n",
       "0    -0.580814  1.746019  0.438425  \n",
       "1    -0.580814 -0.572731 -1.195695  \n",
       "2    -0.580814 -0.572731  0.658206  \n",
       "3    -0.580814  1.746019  0.131566  \n",
       "4    -0.580814  1.746019  0.664852  \n",
       "...        ...       ...       ...  \n",
       "7995 -0.580814 -0.572731  0.684852  \n",
       "7996  1.721720 -0.572731  1.437698  \n",
       "7997 -0.580814  1.746019  1.065481  \n",
       "7998 -0.580814 -0.572731  0.570928  \n",
       "7999 -0.580814 -0.572731 -1.258112  \n",
       "\n",
       "[8000 rows x 10 columns]"
      ]
     },
     "execution_count": 266,
     "metadata": {},
     "output_type": "execute_result"
    }
   ],
   "source": [
    "data"
   ]
  },
  {
   "cell_type": "markdown",
   "metadata": {},
   "source": [
    "## 切訓練集/測試集"
   ]
  },
  {
   "cell_type": "code",
   "execution_count": 562,
   "metadata": {},
   "outputs": [],
   "source": [
    "#切割資料\n",
    "train_data,test_data,train_labels,test_labels=train_test_split(data,train[\"Exited\"],test_size=0.01,stratify=train[\"Exited\"])"
   ]
  },
  {
   "cell_type": "code",
   "execution_count": 563,
   "metadata": {},
   "outputs": [],
   "source": [
    "train_labels = np.array(train_labels)\n",
    "train_data =  np.array(train_data)\n",
    "test_labels= np.array(test_labels)\n",
    "test_data = np.array(test_data)"
   ]
  },
  {
   "cell_type": "markdown",
   "metadata": {},
   "source": [
    "## 處理資料不平衡(但效果不好，可以跳過"
   ]
  },
  {
   "cell_type": "code",
   "execution_count": 116,
   "metadata": {},
   "outputs": [],
   "source": [
    "from imblearn.over_sampling import SMOTE\n",
    "sm = SMOTE()\n",
    "train_data, train_labels = sm.fit_resample(train_data, train_labels)"
   ]
  },
  {
   "cell_type": "code",
   "execution_count": 1175,
   "metadata": {},
   "outputs": [],
   "source": [
    "#unique, counts = np.unique(train_labels, return_counts=True)\n",
    "#dict(zip(unique, counts))"
   ]
  },
  {
   "cell_type": "markdown",
   "metadata": {},
   "source": [
    "# SVM"
   ]
  },
  {
   "cell_type": "code",
   "execution_count": 564,
   "metadata": {},
   "outputs": [
    {
     "data": {
      "text/plain": [
       "SVC(C=1, degree=6, kernel='poly')"
      ]
     },
     "execution_count": 564,
     "metadata": {},
     "output_type": "execute_result"
    }
   ],
   "source": [
    "from sklearn import svm\n",
    "clf=svm.SVC(kernel='poly',C=1,gamma='scale',degree=6)\n",
    "clf.fit(train_data,train_labels)"
   ]
  },
  {
   "cell_type": "code",
   "execution_count": 565,
   "metadata": {},
   "outputs": [
    {
     "data": {
      "text/plain": [
       "0.8763888888888889"
      ]
     },
     "execution_count": 565,
     "metadata": {},
     "output_type": "execute_result"
    }
   ],
   "source": [
    "clf.score(train_data,train_labels)"
   ]
  },
  {
   "cell_type": "code",
   "execution_count": 566,
   "metadata": {},
   "outputs": [
    {
     "data": {
      "text/plain": [
       "0.925"
      ]
     },
     "execution_count": 566,
     "metadata": {},
     "output_type": "execute_result"
    }
   ],
   "source": [
    "clf.score(test_data,test_labels)"
   ]
  },
  {
   "cell_type": "code",
   "execution_count": 567,
   "metadata": {},
   "outputs": [
    {
     "data": {
      "text/plain": [
       "<Figure size 432x288 with 0 Axes>"
      ]
     },
     "metadata": {},
     "output_type": "display_data"
    },
    {
     "data": {
      "image/png": "[encoded data removed]",
      "text/plain": [
       "<Figure size 720x720 with 1 Axes>"
      ]
     },
     "metadata": {
      "needs_background": "light"
     },
     "output_type": "display_data"
    }
   ],
   "source": [
    "from sklearn.metrics import roc_curve, auc\n",
    "import matplotlib.pyplot as plt\n",
    "fpr,tpr,threshold =roc_curve(test_labels, clf.predict(test_data))\n",
    "roc_auc = auc(fpr,tpr) ###計算auc的值 \n",
    "plt.figure()\n",
    "lw = 2\n",
    "plt.figure(figsize=(10,10))\n",
    "plt.plot(fpr, tpr, color='darkorange',\n",
    "lw=lw, label='ROC curve (area = %0.2f)' % roc_auc) ###假正率為橫座標，真正率為縱座標做曲線\n",
    "plt.plot([0, 1], [0, 1], color='navy', lw=lw, linestyle='--')\n",
    "plt.show()"
   ]
  },
  {
   "cell_type": "code",
   "execution_count": 568,
   "metadata": {},
   "outputs": [
    {
     "data": {
      "text/plain": [
       "0.8828125"
      ]
     },
     "execution_count": 568,
     "metadata": {},
     "output_type": "execute_result"
    }
   ],
   "source": [
    "roc_auc"
   ]
  },
  {
   "cell_type": "markdown",
   "metadata": {},
   "source": [
    "## 利用LightLGB"
   ]
  },
  {
   "cell_type": "code",
   "execution_count": 341,
   "metadata": {
    "scrolled": false
   },
   "outputs": [
    {
     "data": {
      "text/plain": [
       "LGBMClassifier()"
      ]
     },
     "execution_count": 341,
     "metadata": {},
     "output_type": "execute_result"
    }
   ],
   "source": [
    "import lightgbm as lgb\n",
    "LGB=lgb.LGBMClassifier()\n",
    "LGB.fit(train_data,train_labels)"
   ]
  },
  {
   "cell_type": "code",
   "execution_count": 342,
   "metadata": {},
   "outputs": [
    {
     "data": {
      "text/plain": [
       "0.9040404040404041"
      ]
     },
     "execution_count": 342,
     "metadata": {},
     "output_type": "execute_result"
    }
   ],
   "source": [
    "LGB.score(train_data,train_labels)"
   ]
  },
  {
   "cell_type": "code",
   "execution_count": 343,
   "metadata": {
    "scrolled": true
   },
   "outputs": [
    {
     "data": {
      "text/plain": [
       "0.875"
      ]
     },
     "execution_count": 343,
     "metadata": {},
     "output_type": "execute_result"
    }
   ],
   "source": [
    "LGB.score(test_data,test_labels)"
   ]
  },
  {
   "cell_type": "code",
   "execution_count": 344,
   "metadata": {},
   "outputs": [
    {
     "data": {
      "text/plain": [
       "<Figure size 432x288 with 0 Axes>"
      ]
     },
     "metadata": {},
     "output_type": "display_data"
    },
    {
     "data": {
      "image/png": "[encoded data removed]",
      "text/plain": [
       "<Figure size 720x720 with 1 Axes>"
      ]
     },
     "metadata": {
      "needs_background": "light"
     },
     "output_type": "display_data"
    }
   ],
   "source": [
    "from sklearn.metrics import roc_curve, auc\n",
    "import matplotlib.pyplot as plt\n",
    "fpr,tpr,threshold =roc_curve(test_labels, LGB.predict(test_data))\n",
    "roc_auc = auc(fpr,tpr) ###計算auc的值 \n",
    "plt.figure()\n",
    "lw = 2\n",
    "plt.figure(figsize=(10,10))\n",
    "plt.plot(fpr, tpr, color='darkorange',\n",
    "lw=lw, label='ROC curve (area = %0.2f)' % roc_auc) ###假正率為橫座標，真正率為縱座標做曲線\n",
    "plt.plot([0, 1], [0, 1], color='navy', lw=lw, linestyle='--')\n",
    "plt.show()"
   ]
  },
  {
   "cell_type": "code",
   "execution_count": 345,
   "metadata": {
    "scrolled": true
   },
   "outputs": [
    {
     "data": {
      "text/plain": [
       "0.734375"
      ]
     },
     "execution_count": 345,
     "metadata": {},
     "output_type": "execute_result"
    }
   ],
   "source": [
    "roc_auc"
   ]
  },
  {
   "cell_type": "markdown",
   "metadata": {},
   "source": [
    "## 交叉應證+選參數"
   ]
  },
  {
   "cell_type": "code",
   "execution_count": 26,
   "metadata": {},
   "outputs": [],
   "source": [
    "from sklearn.model_selection import KFold,StratifiedKFold,ShuffleSplit\n",
    "cv=StratifiedKFold(n_splits=5)\n",
    "cv1=KFold(n_splits=5)\n",
    "cv2=ShuffleSplit(n_splits=5,test_size=0.1)"
   ]
  },
  {
   "cell_type": "code",
   "execution_count": 27,
   "metadata": {},
   "outputs": [
    {
     "name": "stdout",
     "output_type": "stream",
     "text": [
      "[0.87875 0.86125 0.8525  0.86    0.85375]\n"
     ]
    }
   ],
   "source": [
    "from sklearn.model_selection import cross_val_score\n",
    "scores =cross_val_score(LGB,data,train[\"Exited\"],cv=cv2,scoring='accuracy')\n",
    "print(scores)"
   ]
  },
  {
   "cell_type": "code",
   "execution_count": 28,
   "metadata": {
    "scrolled": true
   },
   "outputs": [],
   "source": [
    "fixed_params={'objective': 'binary','metric': 'auc','is_unbalance':True,\n",
    "              \"boosting\":'gbdt','num_boost_round':300,'early_stopping_rounds':30}"
   ]
  },
  {
   "cell_type": "code",
   "execution_count": 20,
   "metadata": {},
   "outputs": [],
   "source": [
    "search_params={\"learning_rate\":[0.01,0.1,0.3,0.5],'max_depth':[5,10,15,20],\n",
    "            'num_leaves':[10,20,30,40,50],'feature_fraction':[0.2,0.4,0.6,0.8]}"
   ]
  },
  {
   "cell_type": "code",
   "execution_count": 21,
   "metadata": {},
   "outputs": [],
   "source": [
    "from sklearn.model_selection import GridSearchCV\n",
    "#grid=GridSearchCV(lgb.LGBMClassifier(),param_grid=search_params,cv=cv)\n",
    "#grid.fit(data,train[\"Exited\"])"
   ]
  },
  {
   "cell_type": "code",
   "execution_count": 22,
   "metadata": {
    "scrolled": true
   },
   "outputs": [],
   "source": [
    "#grid.score(test_data,test_labels)"
   ]
  },
  {
   "cell_type": "code",
   "execution_count": 23,
   "metadata": {},
   "outputs": [],
   "source": [
    "#grid.best_params_"
   ]
  },
  {
   "cell_type": "code",
   "execution_count": 24,
   "metadata": {},
   "outputs": [],
   "source": [
    "#\"learning_rate\"\n",
    "from sklearn.model_selection import validation_curve\n",
    "param=[0.01,0.1,0.3,0.5]\n",
    "train_scores, test_scores = validation_curve(lgb.LGBMClassifier(), X=data, y=train[\"Exited\"], \n",
    "                                             param_name=\"learning_rate\", param_range=param,\n",
    "                                             cv=cv2)\n",
    "train_mean = np.mean(train_scores, axis = 1)\n",
    "train_std = np.std(train_scores, axis=1)\n",
    "test_mean = np.mean(test_scores, axis=1)\n",
    "test_std = np.std(test_scores, axis=1)"
   ]
  },
  {
   "cell_type": "code",
   "execution_count": 25,
   "metadata": {},
   "outputs": [
    {
     "data": {
      "text/plain": [
       "<matplotlib.legend.Legend at 0x228a07d09e8>"
      ]
     },
     "execution_count": 25,
     "metadata": {},
     "output_type": "execute_result"
    },
    {
     "data": {
      "image/png": "[encoded data removed]",
      "text/plain": [
       "<Figure size 432x288 with 1 Axes>"
      ]
     },
     "metadata": {
      "needs_background": "light"
     },
     "output_type": "display_data"
    }
   ],
   "source": [
    "plt.plot(param,train_mean,label=\"train_scores\")\n",
    "plt.plot(param,test_mean,label=\"test_scores\")\n",
    "plt.legend(loc=\"best\")"
   ]
  },
  {
   "cell_type": "code",
   "execution_count": 26,
   "metadata": {},
   "outputs": [],
   "source": [
    "#'max_depth'\n",
    "from sklearn.model_selection import validation_curve\n",
    "param=[5,8,10,12,15,20,25]\n",
    "train_scores, test_scores = validation_curve(lgb.LGBMClassifier(), X=data, y=train[\"Exited\"], \n",
    "                                             param_name='max_depth', param_range=param,\n",
    "                                             cv=cv2)\n",
    "train_mean = np.mean(train_scores, axis = 1)\n",
    "train_std = np.std(train_scores, axis=1)\n",
    "test_mean = np.mean(test_scores, axis=1)\n",
    "test_std = np.std(test_scores, axis=1)"
   ]
  },
  {
   "cell_type": "code",
   "execution_count": 27,
   "metadata": {
    "scrolled": true
   },
   "outputs": [
    {
     "data": {
      "text/plain": [
       "<matplotlib.legend.Legend at 0x228a0864ac8>"
      ]
     },
     "execution_count": 27,
     "metadata": {},
     "output_type": "execute_result"
    },
    {
     "data": {
      "image/png": "[encoded data removed]",
      "text/plain": [
       "<Figure size 432x288 with 1 Axes>"
      ]
     },
     "metadata": {
      "needs_background": "light"
     },
     "output_type": "display_data"
    }
   ],
   "source": [
    "plt.plot(param,train_mean,label=\"train_scores\")\n",
    "plt.plot(param,test_mean,label=\"test_scores\")\n",
    "plt.legend(loc=\"best\")"
   ]
  },
  {
   "cell_type": "code",
   "execution_count": 28,
   "metadata": {},
   "outputs": [],
   "source": [
    "#'num_leaves'\n",
    "from sklearn.model_selection import validation_curve\n",
    "param=[5,8,10,12,15,18,20]\n",
    "train_scores, test_scores = validation_curve(lgb.LGBMClassifier(), X=data, y=train[\"Exited\"], \n",
    "                                             param_name='num_leaves', param_range=param,\n",
    "                                             cv=cv2)\n",
    "train_mean = np.mean(train_scores, axis = 1)\n",
    "train_std = np.std(train_scores, axis=1)\n",
    "test_mean = np.mean(test_scores, axis=1)\n",
    "test_std = np.std(test_scores, axis=1)"
   ]
  },
  {
   "cell_type": "code",
   "execution_count": 29,
   "metadata": {
    "scrolled": true
   },
   "outputs": [
    {
     "data": {
      "text/plain": [
       "<matplotlib.legend.Legend at 0x228a08eed68>"
      ]
     },
     "execution_count": 29,
     "metadata": {},
     "output_type": "execute_result"
    },
    {
     "data": {
      "image/png": "[encoded data removed]",
      "text/plain": [
       "<Figure size 432x288 with 1 Axes>"
      ]
     },
     "metadata": {
      "needs_background": "light"
     },
     "output_type": "display_data"
    }
   ],
   "source": [
    "plt.plot(param,train_mean,label=\"train_scores\")\n",
    "plt.plot(param,test_mean,label=\"test_scores\")\n",
    "plt.legend(loc=\"best\")"
   ]
  },
  {
   "cell_type": "code",
   "execution_count": 30,
   "metadata": {},
   "outputs": [
    {
     "name": "stdout",
     "output_type": "stream",
     "text": [
      "[LightGBM] [Warning] feature_fraction is set=0.1, colsample_bytree=1.0 will be ignored. Current value: feature_fraction=0.1\n",
      "[LightGBM] [Warning] feature_fraction is set=0.3, colsample_bytree=1.0 will be ignored. Current value: feature_fraction=0.3\n",
      "[LightGBM] [Warning] feature_fraction is set=0.5, colsample_bytree=1.0 will be ignored. Current value: feature_fraction=0.5\n",
      "[LightGBM] [Warning] feature_fraction is set=0.7, colsample_bytree=1.0 will be ignored. Current value: feature_fraction=0.7\n",
      "[LightGBM] [Warning] feature_fraction is set=0.9, colsample_bytree=1.0 will be ignored. Current value: feature_fraction=0.9\n",
      "[LightGBM] [Warning] feature_fraction is set=0.1, colsample_bytree=1.0 will be ignored. Current value: feature_fraction=0.1\n",
      "[LightGBM] [Warning] feature_fraction is set=0.3, colsample_bytree=1.0 will be ignored. Current value: feature_fraction=0.3\n",
      "[LightGBM] [Warning] feature_fraction is set=0.5, colsample_bytree=1.0 will be ignored. Current value: feature_fraction=0.5\n",
      "[LightGBM] [Warning] feature_fraction is set=0.7, colsample_bytree=1.0 will be ignored. Current value: feature_fraction=0.7\n",
      "[LightGBM] [Warning] feature_fraction is set=0.9, colsample_bytree=1.0 will be ignored. Current value: feature_fraction=0.9\n",
      "[LightGBM] [Warning] feature_fraction is set=0.1, colsample_bytree=1.0 will be ignored. Current value: feature_fraction=0.1\n",
      "[LightGBM] [Warning] feature_fraction is set=0.3, colsample_bytree=1.0 will be ignored. Current value: feature_fraction=0.3\n",
      "[LightGBM] [Warning] feature_fraction is set=0.5, colsample_bytree=1.0 will be ignored. Current value: feature_fraction=0.5\n",
      "[LightGBM] [Warning] feature_fraction is set=0.7, colsample_bytree=1.0 will be ignored. Current value: feature_fraction=0.7\n",
      "[LightGBM] [Warning] feature_fraction is set=0.9, colsample_bytree=1.0 will be ignored. Current value: feature_fraction=0.9\n",
      "[LightGBM] [Warning] feature_fraction is set=0.1, colsample_bytree=1.0 will be ignored. Current value: feature_fraction=0.1\n",
      "[LightGBM] [Warning] feature_fraction is set=0.3, colsample_bytree=1.0 will be ignored. Current value: feature_fraction=0.3\n",
      "[LightGBM] [Warning] feature_fraction is set=0.5, colsample_bytree=1.0 will be ignored. Current value: feature_fraction=0.5\n",
      "[LightGBM] [Warning] feature_fraction is set=0.7, colsample_bytree=1.0 will be ignored. Current value: feature_fraction=0.7\n",
      "[LightGBM] [Warning] feature_fraction is set=0.9, colsample_bytree=1.0 will be ignored. Current value: feature_fraction=0.9\n",
      "[LightGBM] [Warning] feature_fraction is set=0.1, colsample_bytree=1.0 will be ignored. Current value: feature_fraction=0.1\n",
      "[LightGBM] [Warning] feature_fraction is set=0.3, colsample_bytree=1.0 will be ignored. Current value: feature_fraction=0.3\n",
      "[LightGBM] [Warning] feature_fraction is set=0.5, colsample_bytree=1.0 will be ignored. Current value: feature_fraction=0.5\n",
      "[LightGBM] [Warning] feature_fraction is set=0.7, colsample_bytree=1.0 will be ignored. Current value: feature_fraction=0.7\n",
      "[LightGBM] [Warning] feature_fraction is set=0.9, colsample_bytree=1.0 will be ignored. Current value: feature_fraction=0.9\n"
     ]
    }
   ],
   "source": [
    "#'feature_fraction'\n",
    "from sklearn.model_selection import validation_curve\n",
    "param=[0.1,0.3,0.5,0.7,0.9]\n",
    "train_scores, test_scores = validation_curve(lgb.LGBMClassifier(), X=data, y=train[\"Exited\"], \n",
    "                                             param_name='feature_fraction', param_range=param,\n",
    "                                             cv=cv2)\n",
    "train_mean = np.mean(train_scores, axis = 1)\n",
    "train_std = np.std(train_scores, axis=1)\n",
    "test_mean = np.mean(test_scores, axis=1)\n",
    "test_std = np.std(test_scores, axis=1)"
   ]
  },
  {
   "cell_type": "code",
   "execution_count": 31,
   "metadata": {},
   "outputs": [
    {
     "data": {
      "text/plain": [
       "<matplotlib.legend.Legend at 0x228a0964cf8>"
      ]
     },
     "execution_count": 31,
     "metadata": {},
     "output_type": "execute_result"
    },
    {
     "data": {
      "image/png": "[encoded data removed]",
      "text/plain": [
       "<Figure size 432x288 with 1 Axes>"
      ]
     },
     "metadata": {
      "needs_background": "light"
     },
     "output_type": "display_data"
    }
   ],
   "source": [
    "plt.plot(param,train_mean,label=\"train_scores\")\n",
    "plt.plot(param,test_mean,label=\"test_scores\")\n",
    "plt.legend(loc=\"best\")"
   ]
  },
  {
   "cell_type": "code",
   "execution_count": 32,
   "metadata": {},
   "outputs": [],
   "source": [
    "#'subsample'\n",
    "from sklearn.model_selection import validation_curve\n",
    "param=[0.1,0.3,0.5,0.7,0.9]\n",
    "train_scores, test_scores = validation_curve(lgb.LGBMClassifier(), X=data, y=train[\"Exited\"], \n",
    "                                             param_name='subsample', param_range=param,\n",
    "                                             cv=cv2)\n",
    "train_mean = np.mean(train_scores, axis = 1)\n",
    "train_std = np.std(train_scores, axis=1)\n",
    "test_mean = np.mean(test_scores, axis=1)\n",
    "test_std = np.std(test_scores, axis=1)"
   ]
  },
  {
   "cell_type": "code",
   "execution_count": 33,
   "metadata": {},
   "outputs": [
    {
     "data": {
      "text/plain": [
       "<matplotlib.legend.Legend at 0x228a0b8fa58>"
      ]
     },
     "execution_count": 33,
     "metadata": {},
     "output_type": "execute_result"
    },
    {
     "data": {
      "image/png": "[encoded data removed]",
      "text/plain": [
       "<Figure size 432x288 with 1 Axes>"
      ]
     },
     "metadata": {
      "needs_background": "light"
     },
     "output_type": "display_data"
    }
   ],
   "source": [
    "plt.plot(param,train_mean,label=\"train_scores\")\n",
    "plt.plot(param,test_mean,label=\"test_scores\")\n",
    "plt.legend(loc=\"best\")"
   ]
  },
  {
   "cell_type": "markdown",
   "metadata": {},
   "source": [
    "## 利用MLPClassifier"
   ]
  },
  {
   "cell_type": "code",
   "execution_count": 34,
   "metadata": {},
   "outputs": [
    {
     "data": {
      "text/plain": [
       "MLPClassifier(activation='relu', alpha=0.0001, batch_size='auto', beta_1=0.9,\n",
       "              beta_2=0.999, early_stopping=False, epsilon=1e-08,\n",
       "              hidden_layer_sizes=(100,), learning_rate='constant',\n",
       "              learning_rate_init=0.001, max_fun=15000, max_iter=100,\n",
       "              momentum=0.9, n_iter_no_change=10, nesterovs_momentum=True,\n",
       "              power_t=0.5, random_state=None, shuffle=True, solver='adam',\n",
       "              tol=0.0001, validation_fraction=0.1, verbose=False,\n",
       "              warm_start=False)"
      ]
     },
     "execution_count": 34,
     "metadata": {},
     "output_type": "execute_result"
    }
   ],
   "source": [
    "from sklearn.neural_network import MLPClassifier\n",
    "MLP= MLPClassifier(max_iter=100, activation='relu', solver='adam')\n",
    "MLP.fit(train_data,train_labels)"
   ]
  },
  {
   "cell_type": "code",
   "execution_count": 35,
   "metadata": {},
   "outputs": [
    {
     "data": {
      "text/plain": [
       "0.80890625"
      ]
     },
     "execution_count": 35,
     "metadata": {},
     "output_type": "execute_result"
    }
   ],
   "source": [
    "MLP.score(train_data,train_labels)"
   ]
  },
  {
   "cell_type": "code",
   "execution_count": 36,
   "metadata": {},
   "outputs": [
    {
     "data": {
      "text/plain": [
       "0.80625"
      ]
     },
     "execution_count": 36,
     "metadata": {},
     "output_type": "execute_result"
    }
   ],
   "source": [
    "MLP.score(test_data,test_labels)"
   ]
  },
  {
   "cell_type": "code",
   "execution_count": 37,
   "metadata": {},
   "outputs": [
    {
     "data": {
      "text/plain": [
       "<Figure size 432x288 with 0 Axes>"
      ]
     },
     "metadata": {},
     "output_type": "display_data"
    },
    {
     "data": {
      "image/png": "[encoded data removed]",
      "text/plain": [
       "<Figure size 720x720 with 1 Axes>"
      ]
     },
     "metadata": {
      "needs_background": "light"
     },
     "output_type": "display_data"
    }
   ],
   "source": [
    "from sklearn.metrics import roc_curve, auc\n",
    "import matplotlib.pyplot as plt\n",
    "fpr,tpr,threshold =roc_curve(test_labels, MLP.predict(test_data))\n",
    "roc_auc = auc(fpr,tpr) ###計算auc的值 \n",
    "plt.figure()\n",
    "lw = 2\n",
    "plt.figure(figsize=(10,10))\n",
    "plt.plot(fpr, tpr, color='darkorange',\n",
    "lw=lw, label='ROC curve (area = %0.2f)' % roc_auc) ###假正率為橫座標，真正率為縱座標做曲線\n",
    "plt.plot([0, 1], [0, 1], color='navy', lw=lw, linestyle='--')\n",
    "plt.show()"
   ]
  },
  {
   "cell_type": "code",
   "execution_count": 38,
   "metadata": {},
   "outputs": [
    {
     "data": {
      "text/plain": [
       "0.562202039853223"
      ]
     },
     "execution_count": 38,
     "metadata": {},
     "output_type": "execute_result"
    }
   ],
   "source": [
    "roc_auc"
   ]
  },
  {
   "cell_type": "markdown",
   "metadata": {},
   "source": [
    "## test資料預測"
   ]
  },
  {
   "cell_type": "code",
   "execution_count": 569,
   "metadata": {},
   "outputs": [],
   "source": [
    "#test資料前處理\n",
    "test[\"ID\"]=test['CustomerId'].astype(str).str[:4].astype(int)\n",
    "test[\"is_4\"]=test['NumOfProducts'].apply(lambda x: 1 if x >2  else 0)\n",
    "test[\"NAME_ID\"]=pd.Series(le.transform(test['Surname']))\n",
    "test['Gender']=test['Gender'].apply(lambda x: 1 if x ==\"male\"  else 0)\n",
    "test[\"greater than 70000\"]=test[\"Balance\"].apply(lambda x: 1 if x >70000  else 0)"
   ]
  },
  {
   "cell_type": "code",
   "execution_count": 570,
   "metadata": {},
   "outputs": [],
   "source": [
    "#PCA轉換\n",
    "moneys1=pd.DataFrame(pca.transform(test[[\"Balance\",\"EstimatedSalary\"]]),columns=['money1'])"
   ]
  },
  {
   "cell_type": "code",
   "execution_count": 348,
   "metadata": {},
   "outputs": [],
   "source": [
    "#test[\"is_less_35000\"]=test[\"money\"].apply(lambda x: 1 if x <-35000  else 0)"
   ]
  },
  {
   "cell_type": "code",
   "execution_count": 571,
   "metadata": {},
   "outputs": [],
   "source": [
    "#特徵選擇\n",
    "select_data=test[[\"CreditScore\",\"Tenure\",\"Gender\",\"IsActiveMember\",'Age','NumOfProducts']]"
   ]
  },
  {
   "cell_type": "code",
   "execution_count": 572,
   "metadata": {},
   "outputs": [],
   "source": [
    "#特徵dummy\n",
    "features_dummies=pd.get_dummies(test[\"Geography\"])"
   ]
  },
  {
   "cell_type": "code",
   "execution_count": 573,
   "metadata": {},
   "outputs": [],
   "source": [
    "#合併資料\n",
    "data1=pd.concat([select_data, features_dummies,moneys1],axis=1)"
   ]
  },
  {
   "cell_type": "code",
   "execution_count": 574,
   "metadata": {},
   "outputs": [],
   "source": [
    "#標準化\n",
    "data1 = ss.fit_transform(data1)\n",
    "data1 = pd.DataFrame(data1)"
   ]
  },
  {
   "cell_type": "code",
   "execution_count": 575,
   "metadata": {},
   "outputs": [
    {
     "data": {
      "text/html": [
       "<div>\n",
       "<style scoped>\n",
       "    .dataframe tbody tr th:only-of-type {\n",
       "        vertical-align: middle;\n",
       "    }\n",
       "\n",
       "    .dataframe tbody tr th {\n",
       "        vertical-align: top;\n",
       "    }\n",
       "\n",
       "    .dataframe thead th {\n",
       "        text-align: right;\n",
       "    }\n",
       "</style>\n",
       "<table border=\"1\" class=\"dataframe\">\n",
       "  <thead>\n",
       "    <tr style=\"text-align: right;\">\n",
       "      <th></th>\n",
       "      <th>0</th>\n",
       "      <th>1</th>\n",
       "      <th>2</th>\n",
       "      <th>3</th>\n",
       "      <th>4</th>\n",
       "      <th>5</th>\n",
       "      <th>6</th>\n",
       "      <th>7</th>\n",
       "      <th>8</th>\n",
       "      <th>9</th>\n",
       "    </tr>\n",
       "  </thead>\n",
       "  <tbody>\n",
       "    <tr>\n",
       "      <th>0</th>\n",
       "      <td>1.609183</td>\n",
       "      <td>-1.222346</td>\n",
       "      <td>0.0</td>\n",
       "      <td>-1.016130</td>\n",
       "      <td>-0.508456</td>\n",
       "      <td>-0.889646</td>\n",
       "      <td>0.992032</td>\n",
       "      <td>-0.570422</td>\n",
       "      <td>-0.578120</td>\n",
       "      <td>-1.264331</td>\n",
       "    </tr>\n",
       "    <tr>\n",
       "      <th>1</th>\n",
       "      <td>0.528128</td>\n",
       "      <td>-1.222346</td>\n",
       "      <td>0.0</td>\n",
       "      <td>-1.016130</td>\n",
       "      <td>-0.112514</td>\n",
       "      <td>-0.889646</td>\n",
       "      <td>0.992032</td>\n",
       "      <td>-0.570422</td>\n",
       "      <td>-0.578120</td>\n",
       "      <td>0.950381</td>\n",
       "    </tr>\n",
       "    <tr>\n",
       "      <th>2</th>\n",
       "      <td>-1.401138</td>\n",
       "      <td>1.184637</td>\n",
       "      <td>0.0</td>\n",
       "      <td>0.984126</td>\n",
       "      <td>-1.168361</td>\n",
       "      <td>0.841183</td>\n",
       "      <td>0.992032</td>\n",
       "      <td>-0.570422</td>\n",
       "      <td>-0.578120</td>\n",
       "      <td>-1.301884</td>\n",
       "    </tr>\n",
       "    <tr>\n",
       "      <th>3</th>\n",
       "      <td>1.692341</td>\n",
       "      <td>-1.222346</td>\n",
       "      <td>0.0</td>\n",
       "      <td>-1.016130</td>\n",
       "      <td>-0.112514</td>\n",
       "      <td>-0.889646</td>\n",
       "      <td>-1.008032</td>\n",
       "      <td>-0.570422</td>\n",
       "      <td>1.729744</td>\n",
       "      <td>-0.440669</td>\n",
       "    </tr>\n",
       "    <tr>\n",
       "      <th>4</th>\n",
       "      <td>-1.600717</td>\n",
       "      <td>1.184637</td>\n",
       "      <td>0.0</td>\n",
       "      <td>0.984126</td>\n",
       "      <td>0.943333</td>\n",
       "      <td>-0.889646</td>\n",
       "      <td>0.992032</td>\n",
       "      <td>-0.570422</td>\n",
       "      <td>-0.578120</td>\n",
       "      <td>-1.225020</td>\n",
       "    </tr>\n",
       "    <tr>\n",
       "      <th>...</th>\n",
       "      <td>...</td>\n",
       "      <td>...</td>\n",
       "      <td>...</td>\n",
       "      <td>...</td>\n",
       "      <td>...</td>\n",
       "      <td>...</td>\n",
       "      <td>...</td>\n",
       "      <td>...</td>\n",
       "      <td>...</td>\n",
       "      <td>...</td>\n",
       "    </tr>\n",
       "    <tr>\n",
       "      <th>1995</th>\n",
       "      <td>-0.020715</td>\n",
       "      <td>1.184637</td>\n",
       "      <td>0.0</td>\n",
       "      <td>0.984126</td>\n",
       "      <td>-1.036380</td>\n",
       "      <td>0.841183</td>\n",
       "      <td>0.992032</td>\n",
       "      <td>-0.570422</td>\n",
       "      <td>-0.578120</td>\n",
       "      <td>-1.277772</td>\n",
       "    </tr>\n",
       "    <tr>\n",
       "      <th>1996</th>\n",
       "      <td>0.162233</td>\n",
       "      <td>0.382309</td>\n",
       "      <td>0.0</td>\n",
       "      <td>-1.016130</td>\n",
       "      <td>-0.244495</td>\n",
       "      <td>0.841183</td>\n",
       "      <td>-1.008032</td>\n",
       "      <td>1.753089</td>\n",
       "      <td>-0.578120</td>\n",
       "      <td>-0.108153</td>\n",
       "    </tr>\n",
       "    <tr>\n",
       "      <th>1997</th>\n",
       "      <td>-1.351243</td>\n",
       "      <td>-1.222346</td>\n",
       "      <td>0.0</td>\n",
       "      <td>0.984126</td>\n",
       "      <td>0.415410</td>\n",
       "      <td>0.841183</td>\n",
       "      <td>0.992032</td>\n",
       "      <td>-0.570422</td>\n",
       "      <td>-0.578120</td>\n",
       "      <td>0.575458</td>\n",
       "    </tr>\n",
       "    <tr>\n",
       "      <th>1998</th>\n",
       "      <td>-0.453136</td>\n",
       "      <td>1.986964</td>\n",
       "      <td>0.0</td>\n",
       "      <td>0.984126</td>\n",
       "      <td>0.151448</td>\n",
       "      <td>0.841183</td>\n",
       "      <td>-1.008032</td>\n",
       "      <td>-0.570422</td>\n",
       "      <td>1.729744</td>\n",
       "      <td>-1.234582</td>\n",
       "    </tr>\n",
       "    <tr>\n",
       "      <th>1999</th>\n",
       "      <td>-0.236926</td>\n",
       "      <td>0.382309</td>\n",
       "      <td>0.0</td>\n",
       "      <td>-1.016130</td>\n",
       "      <td>-1.432322</td>\n",
       "      <td>-0.889646</td>\n",
       "      <td>-1.008032</td>\n",
       "      <td>1.753089</td>\n",
       "      <td>-0.578120</td>\n",
       "      <td>0.123398</td>\n",
       "    </tr>\n",
       "  </tbody>\n",
       "</table>\n",
       "<p>2000 rows × 10 columns</p>\n",
       "</div>"
      ],
      "text/plain": [
       "             0         1    2         3         4         5         6  \\\n",
       "0     1.609183 -1.222346  0.0 -1.016130 -0.508456 -0.889646  0.992032   \n",
       "1     0.528128 -1.222346  0.0 -1.016130 -0.112514 -0.889646  0.992032   \n",
       "2    -1.401138  1.184637  0.0  0.984126 -1.168361  0.841183  0.992032   \n",
       "3     1.692341 -1.222346  0.0 -1.016130 -0.112514 -0.889646 -1.008032   \n",
       "4    -1.600717  1.184637  0.0  0.984126  0.943333 -0.889646  0.992032   \n",
       "...        ...       ...  ...       ...       ...       ...       ...   \n",
       "1995 -0.020715  1.184637  0.0  0.984126 -1.036380  0.841183  0.992032   \n",
       "1996  0.162233  0.382309  0.0 -1.016130 -0.244495  0.841183 -1.008032   \n",
       "1997 -1.351243 -1.222346  0.0  0.984126  0.415410  0.841183  0.992032   \n",
       "1998 -0.453136  1.986964  0.0  0.984126  0.151448  0.841183 -1.008032   \n",
       "1999 -0.236926  0.382309  0.0 -1.016130 -1.432322 -0.889646 -1.008032   \n",
       "\n",
       "             7         8         9  \n",
       "0    -0.570422 -0.578120 -1.264331  \n",
       "1    -0.570422 -0.578120  0.950381  \n",
       "2    -0.570422 -0.578120 -1.301884  \n",
       "3    -0.570422  1.729744 -0.440669  \n",
       "4    -0.570422 -0.578120 -1.225020  \n",
       "...        ...       ...       ...  \n",
       "1995 -0.570422 -0.578120 -1.277772  \n",
       "1996  1.753089 -0.578120 -0.108153  \n",
       "1997 -0.570422 -0.578120  0.575458  \n",
       "1998 -0.570422  1.729744 -1.234582  \n",
       "1999  1.753089 -0.578120  0.123398  \n",
       "\n",
       "[2000 rows x 10 columns]"
      ]
     },
     "execution_count": 575,
     "metadata": {},
     "output_type": "execute_result"
    }
   ],
   "source": [
    "data1"
   ]
  },
  {
   "cell_type": "code",
   "execution_count": 576,
   "metadata": {},
   "outputs": [
    {
     "data": {
      "text/plain": [
       "array([0, 0, 0, ..., 0, 0, 0], dtype=int64)"
      ]
     },
     "execution_count": 576,
     "metadata": {},
     "output_type": "execute_result"
    }
   ],
   "source": [
    "#預測結果\n",
    "clf.predict(data1)"
   ]
  },
  {
   "cell_type": "code",
   "execution_count": 577,
   "metadata": {},
   "outputs": [
    {
     "data": {
      "text/plain": [
       "0.1115"
      ]
     },
     "execution_count": 577,
     "metadata": {},
     "output_type": "execute_result"
    }
   ],
   "source": [
    "sum(clf.predict(data1))/2000"
   ]
  },
  {
   "cell_type": "code",
   "execution_count": 330,
   "metadata": {
    "scrolled": true
   },
   "outputs": [
    {
     "data": {
      "text/plain": [
       "array([0, 0, 0, ..., 0, 0, 0], dtype=int64)"
      ]
     },
     "execution_count": 330,
     "metadata": {},
     "output_type": "execute_result"
    }
   ],
   "source": [
    "#預測結果\n",
    "LGB.predict(data1)"
   ]
  },
  {
   "cell_type": "code",
   "execution_count": 331,
   "metadata": {},
   "outputs": [
    {
     "data": {
      "text/plain": [
       "0.138"
      ]
     },
     "execution_count": 331,
     "metadata": {},
     "output_type": "execute_result"
    }
   ],
   "source": [
    "#預測為1的比例\n",
    "sum(LGB.predict(data1))/2000"
   ]
  },
  {
   "cell_type": "markdown",
   "metadata": {},
   "source": [
    "## 匯出資料"
   ]
  },
  {
   "cell_type": "code",
   "execution_count": 578,
   "metadata": {},
   "outputs": [],
   "source": [
    "#lgb\n",
    "d = {\"RowNumber\":test.RowNumber,\"Exited\":clf.predict(data1)}\n",
    "df = pd.DataFrame(d)\n",
    "df.to_csv(\"./output/svm7.csv\")"
   ]
  },
  {
   "cell_type": "code",
   "execution_count": 680,
   "metadata": {},
   "outputs": [
    {
     "data": {
      "text/plain": [
       "0    1796\n",
       "1     204\n",
       "dtype: int64"
      ]
     },
     "execution_count": 680,
     "metadata": {},
     "output_type": "execute_result"
    }
   ],
   "source": [
    "pd.Series(clf.predict(data1)).value_counts()"
   ]
  },
  {
   "cell_type": "code",
   "execution_count": 333,
   "metadata": {},
   "outputs": [],
   "source": [
    "#lgb\n",
    "d = {\"RowNumber\":test.RowNumber,\"Exited\":LGB.predict(data1)}\n",
    "df = pd.DataFrame(d)\n",
    "df.to_csv(\"./output/LightLGB25.csv\")"
   ]
  },
  {
   "cell_type": "code",
   "execution_count": 1338,
   "metadata": {
    "scrolled": true
   },
   "outputs": [
    {
     "data": {
      "text/plain": [
       "0    1714\n",
       "1     286\n",
       "dtype: int64"
      ]
     },
     "execution_count": 1338,
     "metadata": {},
     "output_type": "execute_result"
    }
   ],
   "source": [
    "pd.Series(LGB.predict(data1)).value_counts()"
   ]
  },
  {
   "cell_type": "code",
   "execution_count": 54,
   "metadata": {},
   "outputs": [],
   "source": [
    "#結果解讀\n",
    "f1=0.6061\n",
    "precise=0.7018\n",
    "recall=f1*precise/(2*precise-f1)"
   ]
  },
  {
   "cell_type": "code",
   "execution_count": 55,
   "metadata": {},
   "outputs": [
    {
     "name": "stdout",
     "output_type": "stream",
     "text": [
      "預估正的,真正為正的機率 0.7018\n",
      "真正為正的，預估正的確率 0.533368\n"
     ]
    }
   ],
   "source": [
    "print(\"預估正的,真正為正的機率\",precise)\n",
    "print(\"真正為正的，預估正的確率\",recall)"
   ]
  },
  {
   "cell_type": "code",
   "execution_count": 56,
   "metadata": {},
   "outputs": [
    {
     "data": {
      "text/plain": [
       "185.27519999999998"
      ]
     },
     "execution_count": 56,
     "metadata": {},
     "output_type": "execute_result"
    }
   ],
   "source": [
    "264*precise #預估跟真正都是正的"
   ]
  },
  {
   "cell_type": "code",
   "execution_count": 58,
   "metadata": {},
   "outputs": [
    {
     "data": {
      "text/plain": [
       "347.36842105263156"
      ]
     },
     "execution_count": 58,
     "metadata": {},
     "output_type": "execute_result"
    }
   ],
   "source": [
    "264*precise/recall #全部正的"
   ]
  },
  {
   "cell_type": "code",
   "execution_count": 59,
   "metadata": {},
   "outputs": [
    {
     "data": {
      "text/plain": [
       "0.17368421052631577"
      ]
     },
     "execution_count": 59,
     "metadata": {},
     "output_type": "execute_result"
    }
   ],
   "source": [
    "(264*precise/recall)/2000"
   ]
  },
  {
   "cell_type": "code",
   "execution_count": 706,
   "metadata": {},
   "outputs": [],
   "source": [
    "#拿過去資料預測的資料，來投票\n",
    "data_1=pd.read_csv(\"./output/LightLGB18.csv\")\n",
    "data_2=pd.read_csv(\"./output/LightLGB23.csv\")\n",
    "data_3=pd.read_csv(\"./output/svm5.csv\")\n",
    "data_4=pd.read_csv(\"./output/LightLGB17.csv\")\n",
    "data_5=pd.read_csv(\"./output/LightLGB16.csv\")\n",
    "data_6=pd.read_csv(\"./output/combine34.csv\")\n",
    "data_7=pd.read_csv(\"./output/LightLGB22.csv\")\n",
    "data_8=pd.read_csv(\"./output/LightLGB25.csv\")\n"
   ]
  },
  {
   "cell_type": "code",
   "execution_count": 707,
   "metadata": {},
   "outputs": [],
   "source": [
    "a=data_1[\"Exited\"]+data_2[\"Exited\"]+data_3[\"Exited\"]+data_4[\"Exited\"]+data_5[\"Exited\"]+data_6[\"Exited\"]+data_7[\"Exited\"]+data_8[\"Exited\"]"
   ]
  },
  {
   "cell_type": "code",
   "execution_count": 708,
   "metadata": {
    "scrolled": true
   },
   "outputs": [
    {
     "data": {
      "text/plain": [
       "0    1622\n",
       "8     184\n",
       "1      45\n",
       "2      36\n",
       "3      28\n",
       "7      26\n",
       "4      22\n",
       "6      22\n",
       "5      15\n",
       "Name: Exited, dtype: int64"
      ]
     },
     "execution_count": 708,
     "metadata": {},
     "output_type": "execute_result"
    }
   ],
   "source": [
    "a.value_counts()"
   ]
  },
  {
   "cell_type": "code",
   "execution_count": 709,
   "metadata": {},
   "outputs": [],
   "source": [
    "a[a<8]=0\n",
    "a[a>7]=1"
   ]
  },
  {
   "cell_type": "code",
   "execution_count": 710,
   "metadata": {},
   "outputs": [
    {
     "data": {
      "text/plain": [
       "0.092"
      ]
     },
     "execution_count": 710,
     "metadata": {},
     "output_type": "execute_result"
    }
   ],
   "source": [
    "sum(a)/2000"
   ]
  },
  {
   "cell_type": "code",
   "execution_count": 711,
   "metadata": {},
   "outputs": [],
   "source": [
    "d = {\"RowNumber\":test.RowNumber,\"Exited\":a}\n",
    "df = pd.DataFrame(d)\n",
    "df.to_csv(\"./output/combine37.csv\")"
   ]
  }
 ],
 "metadata": {
  "kernelspec": {
   "display_name": "Python 3",
   "language": "python",
   "name": "python3"
  },
  "language_info": {
   "codemirror_mode": {
    "name": "ipython",
    "version": 3
   },
   "file_extension": ".py",
   "mimetype": "text/x-python",
   "name": "python",
   "nbconvert_exporter": "python",
   "pygments_lexer": "ipython3",
   "version": "3.7.2"
  }
 },
 "nbformat": 4,
 "nbformat_minor": 2
}
