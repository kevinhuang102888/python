{
 "cells": [
  {
   "cell_type": "code",
   "execution_count": 6,
   "metadata": {},
   "outputs": [
    {
     "name": "stderr",
     "output_type": "stream",
     "text": [
      "No handles with labels found to put in legend.\n"
     ]
    },
    {
     "data": {
      "text/plain": [
       "<matplotlib.legend.Legend at 0x2800a74e358>"
      ]
     },
     "execution_count": 6,
     "metadata": {},
     "output_type": "execute_result"
    },
    {
     "data": {
      "image/png": "[encoded data removed]",
      "text/plain": [
       "<Figure size 432x288 with 1 Axes>"
      ]
     },
     "metadata": {
      "needs_background": "light"
     },
     "output_type": "display_data"
    }
   ],
   "source": [
    "import matplotlib.pyplot as plt \n",
    "import numpy as np\n",
    "import random\n",
    "def opening():\n",
    "    with open('cdata.csv','r') as c:\n",
    "        x=[]\n",
    "        y=[]\n",
    "        c.readline()\n",
    "        for h in c.readlines():\n",
    "            h=h.strip()\n",
    "            p=h.split(',')\n",
    "            x.append(float(p[0]))\n",
    "            y.append(float(p[1]))\n",
    "        return x,y\n",
    "def ks(no):\n",
    "    x,y=opening()\n",
    "    r=random.sample(range(len(x)), 10)\n",
    "    total=0\n",
    "    for n in range(0,len(x)):\n",
    "        if n in r:\n",
    "            continue\n",
    "        else:\n",
    "            distance=[(x[s]-x[n])**2+(y[s]-y[n])**2 for s in r ]\n",
    "            m=distance.index(min(distance))\n",
    "            total=total+distance[m]\n",
    "    return total\n",
    "sseb=[]\n",
    "time=[0,1,2,3,4,5,6,7,8,9]\n",
    "def data2():\n",
    "    for q in range(0,10):\n",
    "        total=0\n",
    "        sseb.append(ks(10))\n",
    "        q=q+1\n",
    "data2()\n",
    "plt.bar(time,sseb)"
   ]
  },
  {
   "cell_type": "code",
   "execution_count": null,
   "metadata": {},
   "outputs": [],
   "source": []
  }
 ],
 "metadata": {
  "kernelspec": {
   "display_name": "Python 3",
   "language": "python",
   "name": "python3"
  },
  "language_info": {
   "codemirror_mode": {
    "name": "ipython",
    "version": 3
   },
   "file_extension": ".py",
   "mimetype": "text/x-python",
   "name": "python",
   "nbconvert_exporter": "python",
   "pygments_lexer": "ipython3",
   "version": "3.7.2"
  }
 },
 "nbformat": 4,
 "nbformat_minor": 2
}
